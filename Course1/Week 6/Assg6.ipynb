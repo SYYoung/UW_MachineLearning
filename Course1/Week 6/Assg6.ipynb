{
 "cells": [
  {
   "cell_type": "code",
   "execution_count": 1,
   "metadata": {
    "collapsed": true
   },
   "outputs": [],
   "source": [
    "import graphlab"
   ]
  },
  {
   "cell_type": "code",
   "execution_count": 2,
   "metadata": {
    "collapsed": false
   },
   "outputs": [
    {
     "name": "stderr",
     "output_type": "stream",
     "text": [
      "[INFO] graphlab.cython.cy_server: GraphLab Create v2.1 started. Logging: /tmp/graphlab_server_1537798229.log\n"
     ]
    },
    {
     "name": "stdout",
     "output_type": "stream",
     "text": [
      "This non-commercial license of GraphLab Create for academic use is assigned to r38411@yahoo.com and will expire on August 31, 2019.\n"
     ]
    }
   ],
   "source": [
    "image_train = graphlab.SFrame('image_train_data/')\n",
    "image_test = graphlab.SFrame('image_test_data/')\n",
    "graphlab.canvas.set_target('ipynb')"
   ]
  },
  {
   "cell_type": "code",
   "execution_count": 3,
   "metadata": {
    "collapsed": false
   },
   "outputs": [
    {
     "data": {
      "text/html": [
       "<div style=\"max-height:1000px;max-width:1500px;overflow:auto;\"><table frame=\"box\" rules=\"cols\">\n",
       "    <tr>\n",
       "        <th style=\"padding-left: 1em; padding-right: 1em; text-align: center\">id</th>\n",
       "        <th style=\"padding-left: 1em; padding-right: 1em; text-align: center\">image</th>\n",
       "        <th style=\"padding-left: 1em; padding-right: 1em; text-align: center\">label</th>\n",
       "        <th style=\"padding-left: 1em; padding-right: 1em; text-align: center\">deep_features</th>\n",
       "        <th style=\"padding-left: 1em; padding-right: 1em; text-align: center\">image_array</th>\n",
       "    </tr>\n",
       "    <tr>\n",
       "        <td style=\"padding-left: 1em; padding-right: 1em; text-align: center; vertical-align: top\">24</td>\n",
       "        <td style=\"padding-left: 1em; padding-right: 1em; text-align: center; vertical-align: top\">Height: 32 Width: 32</td>\n",
       "        <td style=\"padding-left: 1em; padding-right: 1em; text-align: center; vertical-align: top\">bird</td>\n",
       "        <td style=\"padding-left: 1em; padding-right: 1em; text-align: center; vertical-align: top\">[0.242871761322,<br>1.09545373917, 0.0, ...</td>\n",
       "        <td style=\"padding-left: 1em; padding-right: 1em; text-align: center; vertical-align: top\">[73.0, 77.0, 58.0, 71.0,<br>68.0, 50.0, 77.0, 69.0, ...</td>\n",
       "    </tr>\n",
       "    <tr>\n",
       "        <td style=\"padding-left: 1em; padding-right: 1em; text-align: center; vertical-align: top\">33</td>\n",
       "        <td style=\"padding-left: 1em; padding-right: 1em; text-align: center; vertical-align: top\">Height: 32 Width: 32</td>\n",
       "        <td style=\"padding-left: 1em; padding-right: 1em; text-align: center; vertical-align: top\">cat</td>\n",
       "        <td style=\"padding-left: 1em; padding-right: 1em; text-align: center; vertical-align: top\">[0.525087952614, 0.0,<br>0.0, 0.0, 0.0, 0.0, ...</td>\n",
       "        <td style=\"padding-left: 1em; padding-right: 1em; text-align: center; vertical-align: top\">[7.0, 5.0, 8.0, 7.0, 5.0,<br>8.0, 5.0, 4.0, 6.0, 7.0, ...</td>\n",
       "    </tr>\n",
       "    <tr>\n",
       "        <td style=\"padding-left: 1em; padding-right: 1em; text-align: center; vertical-align: top\">36</td>\n",
       "        <td style=\"padding-left: 1em; padding-right: 1em; text-align: center; vertical-align: top\">Height: 32 Width: 32</td>\n",
       "        <td style=\"padding-left: 1em; padding-right: 1em; text-align: center; vertical-align: top\">cat</td>\n",
       "        <td style=\"padding-left: 1em; padding-right: 1em; text-align: center; vertical-align: top\">[0.566015958786, 0.0,<br>0.0, 0.0, 0.0, 0.0, ...</td>\n",
       "        <td style=\"padding-left: 1em; padding-right: 1em; text-align: center; vertical-align: top\">[169.0, 122.0, 65.0,<br>131.0, 108.0, 75.0, ...</td>\n",
       "    </tr>\n",
       "    <tr>\n",
       "        <td style=\"padding-left: 1em; padding-right: 1em; text-align: center; vertical-align: top\">70</td>\n",
       "        <td style=\"padding-left: 1em; padding-right: 1em; text-align: center; vertical-align: top\">Height: 32 Width: 32</td>\n",
       "        <td style=\"padding-left: 1em; padding-right: 1em; text-align: center; vertical-align: top\">dog</td>\n",
       "        <td style=\"padding-left: 1em; padding-right: 1em; text-align: center; vertical-align: top\">[1.12979578972, 0.0, 0.0,<br>0.778194487095, 0.0, ...</td>\n",
       "        <td style=\"padding-left: 1em; padding-right: 1em; text-align: center; vertical-align: top\">[154.0, 179.0, 152.0,<br>159.0, 183.0, 157.0, ...</td>\n",
       "    </tr>\n",
       "    <tr>\n",
       "        <td style=\"padding-left: 1em; padding-right: 1em; text-align: center; vertical-align: top\">90</td>\n",
       "        <td style=\"padding-left: 1em; padding-right: 1em; text-align: center; vertical-align: top\">Height: 32 Width: 32</td>\n",
       "        <td style=\"padding-left: 1em; padding-right: 1em; text-align: center; vertical-align: top\">bird</td>\n",
       "        <td style=\"padding-left: 1em; padding-right: 1em; text-align: center; vertical-align: top\">[1.71786928177, 0.0, 0.0,<br>0.0, 0.0, 0.0, ...</td>\n",
       "        <td style=\"padding-left: 1em; padding-right: 1em; text-align: center; vertical-align: top\">[216.0, 195.0, 180.0,<br>201.0, 178.0, 160.0, ...</td>\n",
       "    </tr>\n",
       "    <tr>\n",
       "        <td style=\"padding-left: 1em; padding-right: 1em; text-align: center; vertical-align: top\">97</td>\n",
       "        <td style=\"padding-left: 1em; padding-right: 1em; text-align: center; vertical-align: top\">Height: 32 Width: 32</td>\n",
       "        <td style=\"padding-left: 1em; padding-right: 1em; text-align: center; vertical-align: top\">automobile</td>\n",
       "        <td style=\"padding-left: 1em; padding-right: 1em; text-align: center; vertical-align: top\">[1.57818555832, 0.0, 0.0,<br>0.0, 0.0, 0.0, ...</td>\n",
       "        <td style=\"padding-left: 1em; padding-right: 1em; text-align: center; vertical-align: top\">[33.0, 44.0, 27.0, 29.0,<br>44.0, 31.0, 32.0, 45.0, ...</td>\n",
       "    </tr>\n",
       "    <tr>\n",
       "        <td style=\"padding-left: 1em; padding-right: 1em; text-align: center; vertical-align: top\">107</td>\n",
       "        <td style=\"padding-left: 1em; padding-right: 1em; text-align: center; vertical-align: top\">Height: 32 Width: 32</td>\n",
       "        <td style=\"padding-left: 1em; padding-right: 1em; text-align: center; vertical-align: top\">dog</td>\n",
       "        <td style=\"padding-left: 1em; padding-right: 1em; text-align: center; vertical-align: top\">[0.0, 0.0,<br>0.220677852631, 0.0,  ...</td>\n",
       "        <td style=\"padding-left: 1em; padding-right: 1em; text-align: center; vertical-align: top\">[97.0, 51.0, 31.0, 104.0,<br>58.0, 38.0, 107.0, 61.0, ...</td>\n",
       "    </tr>\n",
       "    <tr>\n",
       "        <td style=\"padding-left: 1em; padding-right: 1em; text-align: center; vertical-align: top\">121</td>\n",
       "        <td style=\"padding-left: 1em; padding-right: 1em; text-align: center; vertical-align: top\">Height: 32 Width: 32</td>\n",
       "        <td style=\"padding-left: 1em; padding-right: 1em; text-align: center; vertical-align: top\">bird</td>\n",
       "        <td style=\"padding-left: 1em; padding-right: 1em; text-align: center; vertical-align: top\">[0.0, 0.23753464222, 0.0,<br>0.0, 0.0, 0.0, ...</td>\n",
       "        <td style=\"padding-left: 1em; padding-right: 1em; text-align: center; vertical-align: top\">[93.0, 96.0, 88.0, 102.0,<br>106.0, 97.0, 117.0, ...</td>\n",
       "    </tr>\n",
       "    <tr>\n",
       "        <td style=\"padding-left: 1em; padding-right: 1em; text-align: center; vertical-align: top\">136</td>\n",
       "        <td style=\"padding-left: 1em; padding-right: 1em; text-align: center; vertical-align: top\">Height: 32 Width: 32</td>\n",
       "        <td style=\"padding-left: 1em; padding-right: 1em; text-align: center; vertical-align: top\">automobile</td>\n",
       "        <td style=\"padding-left: 1em; padding-right: 1em; text-align: center; vertical-align: top\">[0.0, 0.0, 0.0, 0.0, 0.0,<br>0.0, 7.5737862587, 0.0, ...</td>\n",
       "        <td style=\"padding-left: 1em; padding-right: 1em; text-align: center; vertical-align: top\">[35.0, 59.0, 53.0, 36.0,<br>56.0, 56.0, 42.0, 62.0, ...</td>\n",
       "    </tr>\n",
       "    <tr>\n",
       "        <td style=\"padding-left: 1em; padding-right: 1em; text-align: center; vertical-align: top\">138</td>\n",
       "        <td style=\"padding-left: 1em; padding-right: 1em; text-align: center; vertical-align: top\">Height: 32 Width: 32</td>\n",
       "        <td style=\"padding-left: 1em; padding-right: 1em; text-align: center; vertical-align: top\">bird</td>\n",
       "        <td style=\"padding-left: 1em; padding-right: 1em; text-align: center; vertical-align: top\">[0.658935725689, 0.0,<br>0.0, 0.0, 0.0, 0.0, ...</td>\n",
       "        <td style=\"padding-left: 1em; padding-right: 1em; text-align: center; vertical-align: top\">[205.0, 193.0, 195.0,<br>200.0, 187.0, 193.0, ...</td>\n",
       "    </tr>\n",
       "</table>\n",
       "[10 rows x 5 columns]<br/>\n",
       "</div>"
      ],
      "text/plain": [
       "Columns:\n",
       "\tid\tint\n",
       "\timage\tImage\n",
       "\tlabel\tstr\n",
       "\tdeep_features\tarray\n",
       "\timage_array\tarray\n",
       "\n",
       "Rows: 10\n",
       "\n",
       "Data:\n",
       "+-----+----------------------+------------+-------------------------------+\n",
       "|  id |        image         |   label    |         deep_features         |\n",
       "+-----+----------------------+------------+-------------------------------+\n",
       "|  24 | Height: 32 Width: 32 |    bird    | [0.242871761322, 1.0954537... |\n",
       "|  33 | Height: 32 Width: 32 |    cat     | [0.525087952614, 0.0, 0.0,... |\n",
       "|  36 | Height: 32 Width: 32 |    cat     | [0.566015958786, 0.0, 0.0,... |\n",
       "|  70 | Height: 32 Width: 32 |    dog     | [1.12979578972, 0.0, 0.0, ... |\n",
       "|  90 | Height: 32 Width: 32 |    bird    | [1.71786928177, 0.0, 0.0, ... |\n",
       "|  97 | Height: 32 Width: 32 | automobile | [1.57818555832, 0.0, 0.0, ... |\n",
       "| 107 | Height: 32 Width: 32 |    dog     | [0.0, 0.0, 0.220677852631,... |\n",
       "| 121 | Height: 32 Width: 32 |    bird    | [0.0, 0.23753464222, 0.0, ... |\n",
       "| 136 | Height: 32 Width: 32 | automobile | [0.0, 0.0, 0.0, 0.0, 0.0, ... |\n",
       "| 138 | Height: 32 Width: 32 |    bird    | [0.658935725689, 0.0, 0.0,... |\n",
       "+-----+----------------------+------------+-------------------------------+\n",
       "+-------------------------------+\n",
       "|          image_array          |\n",
       "+-------------------------------+\n",
       "| [73.0, 77.0, 58.0, 71.0, 6... |\n",
       "| [7.0, 5.0, 8.0, 7.0, 5.0, ... |\n",
       "| [169.0, 122.0, 65.0, 131.0... |\n",
       "| [154.0, 179.0, 152.0, 159.... |\n",
       "| [216.0, 195.0, 180.0, 201.... |\n",
       "| [33.0, 44.0, 27.0, 29.0, 4... |\n",
       "| [97.0, 51.0, 31.0, 104.0, ... |\n",
       "| [93.0, 96.0, 88.0, 102.0, ... |\n",
       "| [35.0, 59.0, 53.0, 36.0, 5... |\n",
       "| [205.0, 193.0, 195.0, 200.... |\n",
       "+-------------------------------+\n",
       "[10 rows x 5 columns]"
      ]
     },
     "execution_count": 3,
     "metadata": {},
     "output_type": "execute_result"
    }
   ],
   "source": [
    "image_train.head()"
   ]
  },
  {
   "cell_type": "code",
   "execution_count": 4,
   "metadata": {
    "collapsed": false
   },
   "outputs": [
    {
     "data": {
      "text/plain": [
       "\n",
       "+------------------+-------+----------+\n",
       "|       item       | value | is exact |\n",
       "+------------------+-------+----------+\n",
       "|      Length      |  2005 |   Yes    |\n",
       "| # Missing Values |   0   |   Yes    |\n",
       "| # unique values  |   4   |    No    |\n",
       "+------------------+-------+----------+\n",
       "\n",
       "Most frequent items:\n",
       "+-------+------------+-----+-----+------+\n",
       "| value | automobile | cat | dog | bird |\n",
       "+-------+------------+-----+-----+------+\n",
       "| count |    509     | 509 | 509 | 478  |\n",
       "+-------+------------+-----+-----+------+\n"
      ]
     },
     "execution_count": 4,
     "metadata": {},
     "output_type": "execute_result"
    }
   ],
   "source": [
    "image_train['label'].sketch_summary()"
   ]
  },
  {
   "cell_type": "markdown",
   "metadata": {},
   "source": [
    "# Question 1: there are 4 unique labels: automobile, cat, dog and bird in image_train"
   ]
  },
  {
   "cell_type": "markdown",
   "metadata": {},
   "source": [
    "## Question 2: split the data into 4 groups based on the label"
   ]
  },
  {
   "cell_type": "code",
   "execution_count": 5,
   "metadata": {
    "collapsed": false
   },
   "outputs": [
    {
     "data": {
      "text/html": [
       "<pre>Starting brute force nearest neighbors model training.</pre>"
      ],
      "text/plain": [
       "Starting brute force nearest neighbors model training."
      ]
     },
     "metadata": {},
     "output_type": "display_data"
    },
    {
     "data": {
      "text/html": [
       "<pre>Starting brute force nearest neighbors model training.</pre>"
      ],
      "text/plain": [
       "Starting brute force nearest neighbors model training."
      ]
     },
     "metadata": {},
     "output_type": "display_data"
    },
    {
     "data": {
      "text/html": [
       "<pre>Starting brute force nearest neighbors model training.</pre>"
      ],
      "text/plain": [
       "Starting brute force nearest neighbors model training."
      ]
     },
     "metadata": {},
     "output_type": "display_data"
    },
    {
     "data": {
      "text/html": [
       "<pre>Starting brute force nearest neighbors model training.</pre>"
      ],
      "text/plain": [
       "Starting brute force nearest neighbors model training."
      ]
     },
     "metadata": {},
     "output_type": "display_data"
    }
   ],
   "source": [
    "data_list = {}\n",
    "data_model = {}\n",
    "i_label = image_train['label'].unique()\n",
    "for i in range(len(i_label)):\n",
    "    data_list[i_label[i]] = image_train.filter_by(i_label[i], 'label')\n",
    "    data_model[i_label[i]] = graphlab.nearest_neighbors.create(data_list[i_label[i]],\n",
    "                                                                features = ['deep_features'],\n",
    "                                                                label = 'id')"
   ]
  },
  {
   "cell_type": "code",
   "execution_count": 6,
   "metadata": {
    "collapsed": false
   },
   "outputs": [
    {
     "data": {
      "application/javascript": [
       "$(\"head\").append($(\"<link/>\").attr({\n",
       "  rel:  \"stylesheet\",\n",
       "  type: \"text/css\",\n",
       "  href: \"//cdnjs.cloudflare.com/ajax/libs/font-awesome/4.1.0/css/font-awesome.min.css\"\n",
       "}));\n",
       "$(\"head\").append($(\"<link/>\").attr({\n",
       "  rel:  \"stylesheet\",\n",
       "  type: \"text/css\",\n",
       "  href: \"https://static.turi.com/products/graphlab-create/2.1/canvas/css/canvas.css\"\n",
       "}));\n",
       "\n",
       "            (function(){\n",
       "\n",
       "                var e = null;\n",
       "                if (typeof element == 'undefined') {\n",
       "                    var scripts = document.getElementsByTagName('script');\n",
       "                    var thisScriptTag = scripts[scripts.length-1];\n",
       "                    var parentDiv = thisScriptTag.parentNode;\n",
       "                    e = document.createElement('div');\n",
       "                    parentDiv.appendChild(e);\n",
       "                } else {\n",
       "                    e = element[0];\n",
       "                }\n",
       "\n",
       "                if (typeof requirejs !== 'undefined') {\n",
       "                    // disable load timeout; ipython_app.js is large and can take a while to load.\n",
       "                    requirejs.config({waitSeconds: 0});\n",
       "                }\n",
       "\n",
       "                require(['https://static.turi.com/products/graphlab-create/2.1/canvas/js/ipython_app.js'], function(IPythonApp){\n",
       "                    var app = new IPythonApp();\n",
       "                    app.attachView('sarray','Images', {\"ipython\": true, \"rows\": [{\"format\": \"raw\", \"value\": [158, 112, 49, 159, 111, 47, 165, 116, 51, 166, 118, 53, 160, 112, 46, 156, 109, 41, 162, 115, 47, 159, 113, 45, 158, 111, 44, 159, 113, 41, 161, 116, 41, 160, 111, 52, 161, 111, 49, 166, 117, 41, 169, 117, 45, 170, 119, 44, 167, 117, 40, 162, 113, 38, 160, 111, 39, 160, 112, 43, 156, 109, 44, 149, 107, 45, 150, 107, 45, 148, 106, 43, 149, 107, 44, 143, 101, 39, 140, 98, 43, 141, 97, 41, 143, 97, 38, 137, 95, 36, 126, 91, 36, 116, 85, 33, 152, 112, 51, 151, 110, 40, 159, 114, 45, 166, 116, 56, 162, 112, 49, 160, 113, 43, 164, 117, 47, 162, 114, 45, 163, 116, 46, 156, 110, 38, 155, 111, 41, 159, 110, 54, 163, 113, 52, 170, 119, 41, 171, 117, 40, 171, 115, 33, 169, 115, 30, 160, 111, 33, 154, 112, 41, 151, 115, 50, 145, 110, 53, 139, 104, 55, 140, 102, 52, 141, 100, 48, 149, 105, 50, 147, 102, 46, 145, 102, 45, 142, 97, 38, 143, 98, 34, 136, 95, 31, 125, 91, 32, 119, 88, 34, 151, 110, 47, 151, 109, 33, 158, 111, 36, 167, 111, 48, 160, 106, 42, 163, 115, 44, 165, 117, 45, 165, 117, 45, 163, 115, 43, 162, 115, 43, 158, 114, 48, 157, 109, 57, 161, 111, 51, 166, 115, 38, 167, 114, 37, 169, 113, 35, 170, 116, 39, 159, 114, 47, 145, 111, 54, 121, 96, 49, 110, 90, 52, 98, 78, 50, 101, 77, 47, 114, 85, 50, 120, 86, 48, 134, 96, 55, 143, 103, 51, 140, 99, 39, 142, 99, 35, 139, 98, 34, 130, 95, 34, 120, 89, 33, 155, 107, 40, 155, 110, 32, 160, 109, 31, 174, 112, 44, 167, 110, 43, 167, 117, 46, 169, 120, 48, 169, 119, 48, 165, 115, 44, 165, 117, 45, 167, 123, 57, 191, 146, 95, 177, 130, 75, 157, 111, 41, 162, 115, 47, 164, 114, 54, 158, 112, 58, 149, 111, 67, 104, 80, 47, 103, 87, 65, 98, 90, 76, 92, 90, 84, 80, 75, 66, 74, 63, 50, 86, 70, 52, 83, 62, 39, 113, 85, 45, 132, 98, 46, 140, 102, 43, 140, 101, 39, 136, 99, 39, 127, 94, 36, 155, 107, 41, 156, 114, 48, 161, 115, 49, 170, 114, 47, 169, 114, 43, 163, 113, 40, 169, 120, 47, 166, 116, 44, 164, 113, 41, 164, 116, 42, 173, 128, 59, 246, 214, 164, 195, 156, 107, 151, 114, 56, 146, 111, 60, 142, 108, 71, 111, 80, 50, 78, 53, 31, 85, 69, 56, 113, 103, 98, 112, 110, 111, 106, 114, 118, 97, 102, 105, 93, 94, 93, 74, 72, 67, 84, 78, 70, 85, 73, 47, 105, 83, 45, 128, 96, 48, 138, 101, 46, 133, 94, 36, 129, 93, 36, 148, 109, 54, 133, 104, 64, 130, 100, 57, 147, 112, 53, 161, 115, 44, 165, 113, 39, 167, 116, 41, 167, 115, 41, 163, 111, 37, 165, 116, 39, 163, 118, 42, 180, 138, 85, 157, 122, 78, 128, 102, 58, 97, 75, 43, 66, 50, 31, 69, 58, 43, 66, 56, 45, 89, 83, 76, 118, 113, 110, 122, 121, 120, 119, 122, 122, 114, 116, 116, 94, 96, 96, 99, 100, 97, 91, 91, 86, 58, 58, 47, 67, 58, 37, 108, 84, 49, 140, 105, 58, 138, 98, 44, 134, 95, 40, 127, 100, 57, 109, 95, 80, 47, 37, 17, 88, 74, 28, 153, 117, 48, 170, 118, 43, 168, 115, 40, 170, 118, 43, 169, 117, 42, 166, 116, 37, 164, 120, 39, 147, 107, 52, 129, 98, 59, 127, 108, 75, 100, 87, 70, 68, 67, 57, 78, 83, 72, 72, 75, 64, 83, 84, 74, 132, 130, 121, 146, 142, 132, 124, 118, 108, 105, 99, 90, 107, 102, 94, 115, 111, 103, 85, 83, 77, 63, 71, 69, 46, 47, 39, 79, 61, 36, 132, 98, 58, 141, 99, 48, 134, 93, 39, 131, 115, 90, 99, 96, 92, 42, 43, 38, 70, 64, 41, 143, 111, 56, 167, 117, 42, 165, 114, 36, 168, 116, 39, 171, 119, 49, 161, 113, 51, 140, 109, 51, 120, 94, 49, 130, 110, 77, 144, 131, 107, 116, 106, 93, 88, 87, 79, 91, 95, 88, 85, 88, 82, 77, 77, 69, 124, 118, 107, 163, 153, 140, 136, 124, 112, 102, 93, 81, 106, 98, 88, 100, 93, 84, 85, 81, 74, 54, 60, 58, 49, 53, 49, 57, 47, 32, 107, 83, 50, 138, 103, 51, 136, 97, 39, 170, 161, 144, 103, 105, 105, 54, 58, 59, 124, 121, 113, 153, 124, 82, 161, 113, 43, 163, 117, 41, 166, 122, 50, 165, 121, 66, 174, 135, 95, 113, 89, 59, 125, 105, 78, 157, 141, 121, 156, 143, 128, 121, 111, 101, 86, 80, 74, 82, 81, 77, 84, 85, 82, 80, 78, 73, 81, 71, 61, 138, 125, 112, 146, 135, 123, 113, 103, 93, 87, 79, 70, 83, 77, 69, 86, 82, 76, 71, 73, 67, 56, 57, 53, 40, 35, 27, 74, 59, 35, 133, 106, 59, 137, 103, 45, 180, 176, 163, 134, 139, 143, 94, 100, 105, 154, 154, 149, 174, 149, 112, 158, 116, 51, 156, 116, 47, 153, 118, 60, 207, 180, 146, 237, 214, 198, 207, 180, 166, 156, 131, 119, 174, 153, 145, 148, 131, 125, 125, 110, 107, 93, 85, 79, 86, 84, 79, 74, 74, 71, 59, 57, 53, 76, 68, 58, 137, 125, 112, 143, 133, 122, 133, 124, 114, 106, 98, 89, 86, 81, 74, 87, 85, 78, 84, 85, 78, 75, 76, 71, 50, 49, 43, 40, 30, 15, 95, 75, 44, 132, 103, 57, 183, 183, 175, 108, 116, 122, 142, 151, 158, 165, 169, 168, 177, 156, 122, 155, 112, 50, 159, 118, 51, 122, 89, 47, 213, 197, 179, 237, 224, 226, 220, 191, 188, 164, 135, 131, 183, 159, 155, 156, 137, 132, 125, 108, 104, 120, 111, 104, 78, 76, 69, 80, 80, 77, 45, 44, 40, 91, 85, 77, 175, 165, 154, 157, 147, 137, 155, 147, 138, 107, 100, 92, 87, 83, 77, 103, 102, 96, 88, 88, 79, 78, 79, 73, 59, 59, 59, 41, 36, 33, 59, 46, 31, 104, 81, 46, 188, 191, 189, 100, 108, 116, 135, 144, 153, 170, 175, 178, 187, 167, 136, 166, 120, 59, 173, 123, 55, 134, 93, 44, 117, 95, 80, 194, 182, 188, 199, 171, 164, 170, 142, 133, 185, 161, 151, 189, 171, 159, 134, 119, 106, 117, 107, 95, 102, 98, 89, 84, 84, 79, 38, 38, 34, 125, 121, 113, 210, 201, 192, 160, 152, 142, 146, 139, 130, 93, 89, 82, 83, 80, 75, 94, 93, 88, 104, 104, 94, 85, 87, 81, 73, 75, 78, 55, 53, 55, 62, 55, 48, 76, 56, 26, 189, 194, 194, 90, 96, 105, 127, 134, 144, 175, 180, 185, 174, 156, 133, 166, 123, 68, 178, 123, 53, 159, 109, 47, 97, 68, 44, 168, 154, 152, 168, 144, 126, 137, 114, 94, 186, 166, 148, 216, 202, 183, 160, 149, 129, 123, 113, 98, 120, 114, 105, 115, 114, 109, 50, 50, 47, 150, 147, 140, 194, 187, 178, 155, 149, 140, 123, 118, 111, 91, 88, 83, 84, 83, 79, 84, 84, 80, 95, 95, 85, 86, 87, 81, 84, 87, 89, 73, 73, 73, 79, 74, 64, 73, 55, 24, 189, 192, 193, 93, 95, 103, 152, 154, 163, 185, 188, 192, 119, 110, 98, 136, 106, 66, 173, 124, 58, 167, 116, 50, 103, 72, 39, 147, 132, 120, 145, 125, 103, 167, 149, 127, 189, 174, 155, 226, 216, 200, 180, 172, 157, 141, 131, 117, 126, 117, 107, 117, 114, 109, 71, 71, 68, 154, 152, 147, 186, 181, 174, 149, 144, 136, 114, 110, 104, 87, 85, 80, 80, 80, 76, 72, 73, 70, 80, 80, 72, 99, 100, 94, 100, 101, 99, 90, 88, 81, 97, 89, 69, 94, 73, 34, 194, 196, 196, 108, 107, 112, 168, 167, 172, 186, 186, 188, 105, 109, 109, 99, 89, 67, 156, 119, 62, 167, 122, 55, 100, 74, 34, 115, 106, 88, 138, 123, 103, 198, 185, 169, 190, 180, 169, 172, 165, 159, 145, 140, 140, 154, 143, 134, 146, 136, 125, 103, 100, 95, 71, 71, 70, 152, 152, 149, 179, 175, 170, 137, 133, 127, 130, 128, 122, 110, 109, 105, 85, 86, 83, 91, 93, 91, 95, 96, 90, 109, 110, 104, 115, 116, 111, 100, 96, 80, 97, 85, 53, 117, 95, 47, 197, 197, 197, 132, 129, 136, 172, 167, 174, 184, 178, 181, 130, 137, 142, 78, 83, 77, 140, 120, 88, 155, 125, 77, 115, 94, 52, 130, 120, 93, 143, 131, 116, 230, 221, 211, 242, 236, 230, 145, 138, 137, 135, 130, 130, 131, 121, 112, 121, 112, 101, 108, 104, 95, 95, 88, 75, 144, 134, 118, 168, 159, 146, 152, 147, 138, 112, 108, 101, 87, 85, 80, 71, 72, 68, 87, 88, 87, 105, 104, 99, 112, 109, 99, 120, 110, 93, 103, 86, 54, 121, 96, 48, 136, 104, 48, 203, 203, 204, 146, 146, 160, 168, 164, 178, 191, 182, 188, 168, 170, 172, 78, 86, 90, 126, 125, 126, 138, 126, 113, 138, 121, 82, 96, 80, 37, 154, 143, 133, 173, 163, 155, 162, 152, 141, 140, 132, 117, 113, 106, 88, 113, 106, 90, 101, 101, 92, 105, 101, 87, 112, 90, 58, 171, 143, 104, 156, 138, 109, 148, 141, 126, 135, 130, 118, 109, 105, 97, 78, 76, 72, 79, 79, 77, 94, 93, 94, 101, 91, 82, 107, 83, 55, 125, 88, 45, 151, 108, 55, 144, 104, 46, 214, 215, 215, 163, 166, 180, 164, 167, 184, 183, 184, 194, 176, 182, 186, 94, 102, 105, 96, 96, 102, 156, 149, 145, 148, 137, 111, 106, 93, 61, 129, 116, 105, 118, 105, 95, 114, 102, 89, 116, 105, 89, 102, 91, 73, 115, 110, 98, 86, 91, 88, 101, 103, 95, 144, 128, 102, 118, 96, 64, 68, 56, 32, 128, 120, 105, 133, 126, 115, 75, 69, 61, 60, 56, 51, 58, 56, 53, 71, 70, 65, 102, 93, 78, 116, 94, 64, 143, 112, 68, 150, 116, 64, 140, 110, 54, 212, 211, 205, 178, 184, 192, 167, 175, 189, 173, 181, 193, 176, 184, 188, 124, 131, 133, 86, 88, 96, 141, 139, 143, 153, 148, 141, 135, 128, 111, 104, 90, 80, 77, 64, 55, 134, 121, 108, 124, 111, 96, 129, 117, 100, 147, 143, 133, 85, 92, 93, 92, 96, 93, 150, 139, 120, 132, 117, 93, 117, 109, 92, 107, 99, 86, 75, 68, 58, 64, 59, 52, 44, 41, 39, 65, 62, 60, 86, 69, 40, 133, 105, 59, 155, 119, 62, 160, 120, 54, 154, 115, 45, 151, 111, 46, 199, 192, 180, 187, 189, 187, 171, 176, 181, 174, 179, 185, 177, 182, 184, 144, 149, 152, 86, 90, 99, 119, 121, 132, 122, 124, 130, 137, 136, 135, 144, 134, 126, 70, 59, 51, 129, 118, 108, 108, 97, 86, 145, 134, 123, 184, 176, 168, 116, 118, 118, 73, 75, 73, 131, 119, 103, 137, 124, 105, 134, 129, 118, 89, 86, 78, 51, 49, 44, 52, 51, 50, 47, 49, 52, 90, 90, 93, 121, 91, 60, 163, 118, 68, 171, 121, 64, 164, 113, 52, 158, 111, 50, 149, 107, 46, 165, 156, 146, 195, 193, 187, 179, 178, 175, 177, 173, 172, 181, 181, 180, 152, 157, 160, 99, 103, 111, 131, 135, 146, 171, 175, 185, 103, 105, 111, 93, 90, 87, 80, 77, 73, 93, 90, 86, 122, 118, 116, 178, 173, 173, 191, 182, 177, 150, 148, 148, 100, 100, 101, 89, 78, 66, 87, 77, 63, 60, 61, 57, 46, 52, 54, 38, 46, 51, 24, 33, 41, 46, 57, 69, 60, 71, 83, 108, 100, 75, 144, 125, 82, 144, 123, 76, 128, 109, 61, 127, 113, 69, 120, 105, 63, 117, 120, 124, 195, 200, 200, 177, 178, 176, 178, 169, 168, 181, 179, 179, 138, 144, 147, 83, 87, 91, 150, 153, 159, 245, 247, 250, 219, 222, 225, 133, 140, 144, 134, 141, 147, 149, 156, 164, 176, 182, 192, 190, 196, 208, 194, 192, 197, 168, 172, 181, 125, 133, 143, 110, 109, 109, 61, 62, 62, 35, 49, 58, 34, 54, 68, 49, 70, 87, 58, 81, 102, 61, 85, 110, 58, 84, 111, 69, 99, 122, 72, 101, 119, 78, 104, 120, 69, 96, 112, 59, 92, 112, 55, 90, 115, 79, 105, 133, 175, 197, 213, 174, 183, 192, 176, 172, 177, 177, 177, 182, 140, 146, 150, 109, 112, 113, 211, 211, 209, 253, 252, 247, 252, 253, 252, 208, 224, 232, 124, 143, 157, 114, 132, 149, 124, 141, 162, 116, 133, 156, 122, 133, 152, 104, 124, 148, 68, 93, 119, 68, 87, 104, 60, 82, 101, 52, 84, 111, 50, 84, 110, 51, 85, 115, 56, 93, 125, 56, 94, 131, 51, 91, 130, 43, 96, 135, 51, 104, 141, 59, 108, 142, 48, 97, 132, 43, 97, 137, 42, 95, 132, 41, 89, 135, 96, 137, 168, 144, 168, 188, 168, 174, 188, 178, 182, 192, 165, 170, 174, 165, 166, 164, 246, 245, 237, 253, 251, 241, 227, 231, 228, 110, 136, 153, 60, 88, 111, 53, 80, 105, 49, 76, 105, 49, 75, 107, 48, 72, 101, 45, 79, 115, 42, 81, 120, 46, 81, 113, 42, 82, 116, 38, 86, 125, 46, 90, 125, 46, 89, 126, 43, 87, 128, 42, 89, 132, 46, 93, 139, 46, 94, 137, 50, 96, 137, 55, 96, 135, 53, 94, 134, 51, 95, 139, 45, 90, 133, 29, 91, 141, 29, 87, 130, 59, 102, 134, 131, 153, 176, 166, 179, 191, 132, 136, 137, 194, 189, 181, 254, 250, 242, 241, 245, 245, 141, 159, 175, 61, 94, 127, 50, 84, 118, 50, 84, 119, 51, 85, 121, 49, 83, 120, 50, 84, 116, 47, 86, 117, 42, 84, 117, 39, 82, 115, 34, 79, 113, 35, 83, 120, 39, 86, 125, 38, 85, 125, 42, 89, 130, 45, 92, 134, 56, 103, 145, 62, 103, 142, 59, 101, 142, 56, 102, 146, 50, 99, 144, 46, 94, 140, 51, 103, 149, 48, 111, 162, 30, 94, 140, 34, 85, 124, 73, 106, 136, 128, 148, 167, 128, 136, 143, 215, 213, 209, 255, 253, 249, 187, 198, 205, 66, 93, 118, 54, 91, 128, 50, 88, 125, 52, 90, 127, 52, 90, 127, 46, 83, 121, 45, 82, 115, 43, 82, 113, 41, 81, 112, 36, 80, 113, 39, 83, 117, 40, 86, 123, 40, 89, 131, 43, 92, 134, 46, 95, 138, 59, 108, 150, 62, 110, 152, 64, 109, 147, 59, 108, 149, 54, 108, 154, 50, 105, 152, 70, 123, 167, 83, 137, 182, 52, 114, 165, 35, 99, 147, 31, 86, 130, 41, 83, 122, 66, 95, 126, 128, 145, 164, 224, 229, 234, 240, 245, 247, 124, 143, 153, 58, 92, 114, 49, 87, 123, 56, 94, 131, 54, 92, 129, 44, 82, 119, 44, 82, 119, 47, 83, 119, 46, 84, 119, 43, 83, 119, 43, 86, 123, 44, 88, 127, 44, 90, 131, 45, 97, 141, 54, 106, 150, 58, 110, 154, 54, 105, 150, 46, 97, 141, 43, 95, 140, 36, 91, 138, 51, 108, 158, 73, 130, 178, 85, 138, 182, 76, 125, 169, 50, 110, 162, 35, 98, 149, 29, 89, 138, 35, 86, 133, 44, 83, 126, 78, 106, 138, 202, 219, 233, 211, 228, 234, 97, 126, 140, 65, 104, 126, 54, 94, 129, 48, 87, 124, 58, 97, 133, 48, 87, 123, 40, 80, 116, 45, 82, 119, 47, 84, 122, 48, 87, 126, 47, 89, 130, 46, 89, 132, 51, 97, 140, 39, 92, 138, 39, 93, 139, 48, 102, 148, 47, 101, 147, 39, 93, 139, 28, 85, 133, 40, 101, 153, 67, 129, 182, 67, 126, 176, 46, 98, 142, 51, 96, 139, 50, 108, 161, 35, 97, 147, 32, 92, 143, 33, 88, 141, 41, 88, 138, 46, 84, 125, 104, 133, 159, 170, 197, 211, 64, 100, 119, 54, 97, 121, 52, 94, 128, 53, 95, 130, 61, 103, 139, 58, 100, 135, 54, 96, 131, 45, 83, 120, 42, 79, 118, 41, 80, 120, 46, 88, 130, 49, 92, 135, 46, 92, 136, 42, 95, 139, 40, 93, 138, 39, 92, 136, 37, 90, 135, 40, 93, 138, 44, 102, 151, 63, 125, 178, 47, 110, 164, 31, 90, 140, 15, 60, 103, 51, 93, 136, 68, 124, 177, 42, 100, 148, 31, 88, 137, 38, 91, 146, 37, 87, 139, 43, 89, 132, 42, 79, 113, 71, 107, 133, 49, 89, 114, 31, 77, 105, 27, 71, 105, 38, 82, 117, 49, 93, 128, 56, 100, 135, 58, 102, 137, 53, 92, 128, 56, 94, 131, 60, 99, 137, 57, 99, 139, 53, 97, 138, 50, 95, 137, 45, 94, 136, 39, 88, 131, 33, 83, 125, 42, 91, 133, 62, 112, 154, 79, 132, 179, 73, 131, 181, 56, 116, 168, 38, 97, 146, 13, 64, 108, 40, 85, 127, 61, 116, 168, 49, 102, 148, 35, 85, 132, 43, 91, 143, 39, 90, 139, 42, 92, 134, 44, 88, 125, 40, 81, 112, 42, 85, 115, 27, 72, 104, 23, 67, 102, 30, 74, 109, 27, 71, 106, 29, 73, 108, 36, 80, 115, 47, 86, 120, 56, 95, 128, 62, 101, 135, 66, 109, 144, 75, 119, 156, 69, 113, 152, 49, 95, 134, 43, 88, 127, 43, 88, 127, 60, 105, 144, 85, 130, 170, 109, 156, 197, 93, 145, 190, 60, 115, 164, 26, 82, 130, 29, 82, 126, 20, 64, 107, 54, 107, 160, 56, 105, 149, 45, 89, 132, 43, 86, 134, 40, 89, 134, 40, 92, 132, 40, 87, 123, 38, 81, 115, 36, 79, 114, 26, 69, 105, 22, 66, 101, 29, 73, 108, 25, 69, 104, 29, 73, 108, 19, 63, 98, 18, 58, 89, 32, 70, 100, 47, 87, 118, 61, 104, 137, 74, 119, 152, 66, 111, 145, 53, 96, 131, 52, 95, 130, 45, 87, 123, 67, 109, 145, 89, 131, 167, 105, 146, 182, 89, 135, 175, 48, 99, 145, 24, 77, 124, 34, 84, 129, 21, 67, 110], \"height\": 32, \"channels\": 3, \"width\": 32, \"type\": \"image\", \"id\": 4787650640}], \"selected_variable\": {\"name\": [\"<SArray>\"], \"dtype\": \"Image\", \"view_component\": \"Images\", \"view_file\": \"sarray\", \"descriptives\": {\"rows\": 1}, \"type\": \"SArray\", \"view_components\": [\"Images\"]}}, e);\n",
       "                });\n",
       "            })();\n",
       "        "
      ]
     },
     "metadata": {},
     "output_type": "display_data"
    }
   ],
   "source": [
    "the_cat = image_test[0:1]\n",
    "the_cat['image'].show()"
   ]
  },
  {
   "cell_type": "code",
   "execution_count": 7,
   "metadata": {
    "collapsed": false
   },
   "outputs": [
    {
     "data": {
      "text/html": [
       "<pre>Starting pairwise querying.</pre>"
      ],
      "text/plain": [
       "Starting pairwise querying."
      ]
     },
     "metadata": {},
     "output_type": "display_data"
    },
    {
     "data": {
      "text/html": [
       "<pre>+--------------+---------+-------------+--------------+</pre>"
      ],
      "text/plain": [
       "+--------------+---------+-------------+--------------+"
      ]
     },
     "metadata": {},
     "output_type": "display_data"
    },
    {
     "data": {
      "text/html": [
       "<pre>| Query points | # Pairs | % Complete. | Elapsed Time |</pre>"
      ],
      "text/plain": [
       "| Query points | # Pairs | % Complete. | Elapsed Time |"
      ]
     },
     "metadata": {},
     "output_type": "display_data"
    },
    {
     "data": {
      "text/html": [
       "<pre>+--------------+---------+-------------+--------------+</pre>"
      ],
      "text/plain": [
       "+--------------+---------+-------------+--------------+"
      ]
     },
     "metadata": {},
     "output_type": "display_data"
    },
    {
     "data": {
      "text/html": [
       "<pre>| 0            | 1       | 0.209205    | 10.913ms     |</pre>"
      ],
      "text/plain": [
       "| 0            | 1       | 0.209205    | 10.913ms     |"
      ]
     },
     "metadata": {},
     "output_type": "display_data"
    },
    {
     "data": {
      "text/html": [
       "<pre>| Done         |         | 100         | 52.265ms     |</pre>"
      ],
      "text/plain": [
       "| Done         |         | 100         | 52.265ms     |"
      ]
     },
     "metadata": {},
     "output_type": "display_data"
    },
    {
     "data": {
      "text/html": [
       "<pre>+--------------+---------+-------------+--------------+</pre>"
      ],
      "text/plain": [
       "+--------------+---------+-------------+--------------+"
      ]
     },
     "metadata": {},
     "output_type": "display_data"
    },
    {
     "data": {
      "text/html": [
       "<pre>Starting pairwise querying.</pre>"
      ],
      "text/plain": [
       "Starting pairwise querying."
      ]
     },
     "metadata": {},
     "output_type": "display_data"
    },
    {
     "data": {
      "text/html": [
       "<pre>+--------------+---------+-------------+--------------+</pre>"
      ],
      "text/plain": [
       "+--------------+---------+-------------+--------------+"
      ]
     },
     "metadata": {},
     "output_type": "display_data"
    },
    {
     "data": {
      "text/html": [
       "<pre>| Query points | # Pairs | % Complete. | Elapsed Time |</pre>"
      ],
      "text/plain": [
       "| Query points | # Pairs | % Complete. | Elapsed Time |"
      ]
     },
     "metadata": {},
     "output_type": "display_data"
    },
    {
     "data": {
      "text/html": [
       "<pre>+--------------+---------+-------------+--------------+</pre>"
      ],
      "text/plain": [
       "+--------------+---------+-------------+--------------+"
      ]
     },
     "metadata": {},
     "output_type": "display_data"
    },
    {
     "data": {
      "text/html": [
       "<pre>| 0            | 1       | 0.196464    | 11.434ms     |</pre>"
      ],
      "text/plain": [
       "| 0            | 1       | 0.196464    | 11.434ms     |"
      ]
     },
     "metadata": {},
     "output_type": "display_data"
    },
    {
     "data": {
      "text/html": [
       "<pre>| Done         |         | 100         | 63.265ms     |</pre>"
      ],
      "text/plain": [
       "| Done         |         | 100         | 63.265ms     |"
      ]
     },
     "metadata": {},
     "output_type": "display_data"
    },
    {
     "data": {
      "text/html": [
       "<pre>+--------------+---------+-------------+--------------+</pre>"
      ],
      "text/plain": [
       "+--------------+---------+-------------+--------------+"
      ]
     },
     "metadata": {},
     "output_type": "display_data"
    },
    {
     "data": {
      "text/html": [
       "<pre>Starting pairwise querying.</pre>"
      ],
      "text/plain": [
       "Starting pairwise querying."
      ]
     },
     "metadata": {},
     "output_type": "display_data"
    },
    {
     "data": {
      "text/html": [
       "<pre>+--------------+---------+-------------+--------------+</pre>"
      ],
      "text/plain": [
       "+--------------+---------+-------------+--------------+"
      ]
     },
     "metadata": {},
     "output_type": "display_data"
    },
    {
     "data": {
      "text/html": [
       "<pre>| Query points | # Pairs | % Complete. | Elapsed Time |</pre>"
      ],
      "text/plain": [
       "| Query points | # Pairs | % Complete. | Elapsed Time |"
      ]
     },
     "metadata": {},
     "output_type": "display_data"
    },
    {
     "data": {
      "text/html": [
       "<pre>+--------------+---------+-------------+--------------+</pre>"
      ],
      "text/plain": [
       "+--------------+---------+-------------+--------------+"
      ]
     },
     "metadata": {},
     "output_type": "display_data"
    },
    {
     "data": {
      "text/html": [
       "<pre>| 0            | 1       | 0.196464    | 12.253ms     |</pre>"
      ],
      "text/plain": [
       "| 0            | 1       | 0.196464    | 12.253ms     |"
      ]
     },
     "metadata": {},
     "output_type": "display_data"
    },
    {
     "data": {
      "text/html": [
       "<pre>| Done         |         | 100         | 87.963ms     |</pre>"
      ],
      "text/plain": [
       "| Done         |         | 100         | 87.963ms     |"
      ]
     },
     "metadata": {},
     "output_type": "display_data"
    },
    {
     "data": {
      "text/html": [
       "<pre>+--------------+---------+-------------+--------------+</pre>"
      ],
      "text/plain": [
       "+--------------+---------+-------------+--------------+"
      ]
     },
     "metadata": {},
     "output_type": "display_data"
    },
    {
     "data": {
      "text/html": [
       "<pre>Starting pairwise querying.</pre>"
      ],
      "text/plain": [
       "Starting pairwise querying."
      ]
     },
     "metadata": {},
     "output_type": "display_data"
    },
    {
     "data": {
      "text/html": [
       "<pre>+--------------+---------+-------------+--------------+</pre>"
      ],
      "text/plain": [
       "+--------------+---------+-------------+--------------+"
      ]
     },
     "metadata": {},
     "output_type": "display_data"
    },
    {
     "data": {
      "text/html": [
       "<pre>| Query points | # Pairs | % Complete. | Elapsed Time |</pre>"
      ],
      "text/plain": [
       "| Query points | # Pairs | % Complete. | Elapsed Time |"
      ]
     },
     "metadata": {},
     "output_type": "display_data"
    },
    {
     "data": {
      "text/html": [
       "<pre>+--------------+---------+-------------+--------------+</pre>"
      ],
      "text/plain": [
       "+--------------+---------+-------------+--------------+"
      ]
     },
     "metadata": {},
     "output_type": "display_data"
    },
    {
     "data": {
      "text/html": [
       "<pre>| 0            | 1       | 0.196464    | 11.135ms     |</pre>"
      ],
      "text/plain": [
       "| 0            | 1       | 0.196464    | 11.135ms     |"
      ]
     },
     "metadata": {},
     "output_type": "display_data"
    },
    {
     "data": {
      "text/html": [
       "<pre>| Done         |         | 100         | 66.671ms     |</pre>"
      ],
      "text/plain": [
       "| Done         |         | 100         | 66.671ms     |"
      ]
     },
     "metadata": {},
     "output_type": "display_data"
    },
    {
     "data": {
      "text/html": [
       "<pre>+--------------+---------+-------------+--------------+</pre>"
      ],
      "text/plain": [
       "+--------------+---------+-------------+--------------+"
      ]
     },
     "metadata": {},
     "output_type": "display_data"
    },
    {
     "data": {
      "text/plain": [
       "{'automobile': 49314, 'bird': 49573, 'cat': 16289, 'dog': 16976}"
      ]
     },
     "execution_count": 7,
     "metadata": {},
     "output_type": "execute_result"
    }
   ],
   "source": [
    "q2_nearest = {}\n",
    "q2_nearest_1 = {}\n",
    "for i in range(len(i_label)):\n",
    "    q2_nearest[i_label[i]] = data_model[i_label[i]].query(the_cat)\n",
    "    q2_nearest_1[i_label[i]] = q2_nearest[i_label[i]][0]['reference_label']\n",
    "q2_nearest_1"
   ]
  },
  {
   "cell_type": "code",
   "execution_count": 9,
   "metadata": {
    "collapsed": false
   },
   "outputs": [
    {
     "data": {
      "application/javascript": [
       "$(\"head\").append($(\"<link/>\").attr({\n",
       "  rel:  \"stylesheet\",\n",
       "  type: \"text/css\",\n",
       "  href: \"//cdnjs.cloudflare.com/ajax/libs/font-awesome/4.1.0/css/font-awesome.min.css\"\n",
       "}));\n",
       "$(\"head\").append($(\"<link/>\").attr({\n",
       "  rel:  \"stylesheet\",\n",
       "  type: \"text/css\",\n",
       "  href: \"https://static.turi.com/products/graphlab-create/2.1/canvas/css/canvas.css\"\n",
       "}));\n",
       "\n",
       "            (function(){\n",
       "\n",
       "                var e = null;\n",
       "                if (typeof element == 'undefined') {\n",
       "                    var scripts = document.getElementsByTagName('script');\n",
       "                    var thisScriptTag = scripts[scripts.length-1];\n",
       "                    var parentDiv = thisScriptTag.parentNode;\n",
       "                    e = document.createElement('div');\n",
       "                    parentDiv.appendChild(e);\n",
       "                } else {\n",
       "                    e = element[0];\n",
       "                }\n",
       "\n",
       "                if (typeof requirejs !== 'undefined') {\n",
       "                    // disable load timeout; ipython_app.js is large and can take a while to load.\n",
       "                    requirejs.config({waitSeconds: 0});\n",
       "                }\n",
       "\n",
       "                require(['https://static.turi.com/products/graphlab-create/2.1/canvas/js/ipython_app.js'], function(IPythonApp){\n",
       "                    var app = new IPythonApp();\n",
       "                    app.attachView('sframe','Summary', {\"ipython\": true, \"sketch\": {\"deep_features\": {\"std\": 0.8677774421786077, \"complete\": true, \"min\": 0.0, \"max\": 9.460389137268066, \"quantile\": [0.0, 0.0, 0.0, 0.0, 0.0, 0.0, 0.0, 0.0, 0.0, 0.0, 0.0, 0.0, 0.0, 0.0, 0.0, 0.0, 0.0, 0.0, 0.0, 0.0, 0.0, 0.0, 0.0, 0.0, 0.0, 0.0, 0.0, 0.0, 0.0, 0.0, 0.0, 0.0, 0.0, 0.0, 0.0, 0.0, 0.0, 0.0, 0.0, 0.0, 0.0, 0.0, 0.0, 0.0, 0.0, 0.0, 0.0, 0.0, 0.0, 0.0, 0.0, 0.0, 0.0, 0.0, 0.0, 0.0, 0.0, 0.0, 0.0, 0.0, 0.0, 0.0, 0.0, 0.0, 0.0, 0.0, 0.0, 0.0, 0.0, 0.0, 0.0, 0.0, 0.0, 0.0, 0.007211506366729736, 0.073844313621521, 0.13468235731124878, 0.19375461339950562, 0.26476651430130005, 0.3360426425933838, 0.413979172706604, 0.46914181113243103, 0.5305964946746826, 0.6070141792297363, 0.6820772886276245, 0.7774839401245117, 0.8625633716583252, 0.9271959662437439, 1.0232850313186646, 1.1388945579528809, 1.2443454265594482, 1.3613674640655518, 1.4997572898864746, 1.6414861679077148, 1.8007075786590576, 1.9881701469421387, 2.276679515838623, 2.6546435356140137, 3.224149227142334, 4.196030139923096, 9.460389137268066], \"median\": 0.0, \"numeric\": true, \"num_unique\": 1074, \"num_undefined\": 0, \"var\": 0.753037689154047, \"progress\": 1.0, \"size\": 4096, \"frequent_items\": {\"0.0\": {\"frequency\": 3026, \"value\": 0.0}, \"0.06540036201477051\": {\"frequency\": 1, \"value\": 0.06540036201477051}, \"1.6131819486618042\": {\"frequency\": 1, \"value\": 1.6131819486618042}, \"0.29731476306915283\": {\"frequency\": 1, \"value\": 0.29731476306915283}, \"0.8529052734375\": {\"frequency\": 1, \"value\": 0.8529052734375}, \"0.3088712692260742\": {\"frequency\": 1, \"value\": 0.3088712692260742}, \"1.6118013858795166\": {\"frequency\": 1, \"value\": 1.6118013858795166}, \"1.956984043121338\": {\"frequency\": 1, \"value\": 1.956984043121338}, \"1.2807544469833374\": {\"frequency\": 1, \"value\": 1.2807544469833374}, \"1.203655481338501\": {\"frequency\": 1, \"value\": 1.203655481338501}, \"0.9581366777420044\": {\"frequency\": 1, \"value\": 0.9581366777420044}, \"0.17991262674331665\": {\"frequency\": 1, \"value\": 0.17991262674331665}, \"1.9834315776824951\": {\"frequency\": 1, \"value\": 1.9834315776824951}, \"1.330723524093628\": {\"frequency\": 1, \"value\": 1.330723524093628}, \"1.369630217552185\": {\"frequency\": 1, \"value\": 1.369630217552185}, \"0.46864718198776245\": {\"frequency\": 1, \"value\": 0.46864718198776245}, \"1.795722246170044\": {\"frequency\": 1, \"value\": 1.795722246170044}, \"0.09528166055679321\": {\"frequency\": 1, \"value\": 0.09528166055679321}, \"2.359771251678467\": {\"frequency\": 1, \"value\": 2.359771251678467}, \"2.5774874687194824\": {\"frequency\": 1, \"value\": 2.5774874687194824}, \"1.471109390258789\": {\"frequency\": 1, \"value\": 1.471109390258789}, \"1.5154811143875122\": {\"frequency\": 1, \"value\": 1.5154811143875122}, \"1.3827426433563232\": {\"frequency\": 1, \"value\": 1.3827426433563232}, \"0.48881179094314575\": {\"frequency\": 1, \"value\": 0.48881179094314575}, \"0.48829004168510437\": {\"frequency\": 1, \"value\": 0.48829004168510437}, \"2.161386489868164\": {\"frequency\": 1, \"value\": 2.161386489868164}, \"1.4997572898864746\": {\"frequency\": 1, \"value\": 1.4997572898864746}, \"4.266326904296875\": {\"frequency\": 1, \"value\": 4.266326904296875}, \"0.9215286374092102\": {\"frequency\": 1, \"value\": 0.9215286374092102}, \"1.0504930019378662\": {\"frequency\": 1, \"value\": 1.0504930019378662}, \"0.5966546535491943\": {\"frequency\": 1, \"value\": 0.5966546535491943}, \"0.975979745388031\": {\"frequency\": 1, \"value\": 0.975979745388031}, \"0.8988333940505981\": {\"frequency\": 1, \"value\": 0.8988333940505981}, \"0.9742746353149414\": {\"frequency\": 1, \"value\": 0.9742746353149414}, \"0.023223042488098145\": {\"frequency\": 1, \"value\": 0.023223042488098145}, \"0.7393403649330139\": {\"frequency\": 1, \"value\": 0.7393403649330139}, \"2.490147113800049\": {\"frequency\": 1, \"value\": 2.490147113800049}, \"0.46276652812957764\": {\"frequency\": 1, \"value\": 0.46276652812957764}, \"2.1367690563201904\": {\"frequency\": 1, \"value\": 2.1367690563201904}, \"1.764747977256775\": {\"frequency\": 1, \"value\": 1.764747977256775}, \"2.573918342590332\": {\"frequency\": 1, \"value\": 2.573918342590332}, \"1.0891342163085938\": {\"frequency\": 1, \"value\": 1.0891342163085938}, \"0.26409584283828735\": {\"frequency\": 1, \"value\": 0.26409584283828735}, \"1.2651468515396118\": {\"frequency\": 1, \"value\": 1.2651468515396118}, \"1.710514783859253\": {\"frequency\": 1, \"value\": 1.710514783859253}, \"6.724353790283203\": {\"frequency\": 1, \"value\": 6.724353790283203}, \"1.1797664165496826\": {\"frequency\": 1, \"value\": 1.1797664165496826}, \"0.0008060336112976074\": {\"frequency\": 1, \"value\": 0.0008060336112976074}, \"1.1808117628097534\": {\"frequency\": 1, \"value\": 1.1808117628097534}, \"0.09819620847702026\": {\"frequency\": 1, \"value\": 0.09819620847702026}, \"1.4488186836242676\": {\"frequency\": 1, \"value\": 1.4488186836242676}, \"1.2597568035125732\": {\"frequency\": 1, \"value\": 1.2597568035125732}, \"1.6270020008087158\": {\"frequency\": 1, \"value\": 1.6270020008087158}, \"0.5237060189247131\": {\"frequency\": 1, \"value\": 0.5237060189247131}, \"1.367830753326416\": {\"frequency\": 1, \"value\": 1.367830753326416}, \"0.2256072759628296\": {\"frequency\": 1, \"value\": 0.2256072759628296}, \"1.854405403137207\": {\"frequency\": 1, \"value\": 1.854405403137207}, \"0.31848227977752686\": {\"frequency\": 1, \"value\": 0.31848227977752686}, \"1.0692650079727173\": {\"frequency\": 1, \"value\": 1.0692650079727173}, \"1.2550770044326782\": {\"frequency\": 1, \"value\": 1.2550770044326782}, \"1.750934362411499\": {\"frequency\": 1, \"value\": 1.750934362411499}, \"1.7118943929672241\": {\"frequency\": 1, \"value\": 1.7118943929672241}, \"3.4290010929107666\": {\"frequency\": 1, \"value\": 3.4290010929107666}, \"2.7164227962493896\": {\"frequency\": 1, \"value\": 2.7164227962493896}, \"0.10854554176330566\": {\"frequency\": 1, \"value\": 0.10854554176330566}, \"0.4903793931007385\": {\"frequency\": 1, \"value\": 0.4903793931007385}, \"0.8555073142051697\": {\"frequency\": 1, \"value\": 0.8555073142051697}, \"2.411400079727173\": {\"frequency\": 1, \"value\": 2.411400079727173}, \"2.4210591316223145\": {\"frequency\": 1, \"value\": 2.4210591316223145}, \"1.1069886684417725\": {\"frequency\": 1, \"value\": 1.1069886684417725}, \"0.09348863363265991\": {\"frequency\": 1, \"value\": 0.09348863363265991}, \"0.930463969707489\": {\"frequency\": 1, \"value\": 0.930463969707489}, \"3.2857937812805176\": {\"frequency\": 1, \"value\": 3.2857937812805176}, \"0.25868332386016846\": {\"frequency\": 1, \"value\": 0.25868332386016846}, \"1.8450546264648438\": {\"frequency\": 1, \"value\": 1.8450546264648438}, \"0.49721968173980713\": {\"frequency\": 1, \"value\": 0.49721968173980713}, \"0.44131770730018616\": {\"frequency\": 1, \"value\": 0.44131770730018616}, \"2.451075553894043\": {\"frequency\": 1, \"value\": 2.451075553894043}, \"1.8343093395233154\": {\"frequency\": 1, \"value\": 1.8343093395233154}, \"0.34038519859313965\": {\"frequency\": 1, \"value\": 0.34038519859313965}, \"1.500889778137207\": {\"frequency\": 1, \"value\": 1.500889778137207}, \"2.6546435356140137\": {\"frequency\": 1, \"value\": 2.6546435356140137}, \"1.5807392597198486\": {\"frequency\": 1, \"value\": 1.5807392597198486}, \"1.3878567218780518\": {\"frequency\": 1, \"value\": 1.3878567218780518}, \"2.72629714012146\": {\"frequency\": 1, \"value\": 2.72629714012146}, \"0.5922686457633972\": {\"frequency\": 1, \"value\": 0.5922686457633972}, \"1.2816510200500488\": {\"frequency\": 1, \"value\": 1.2816510200500488}, \"0.12170153856277466\": {\"frequency\": 1, \"value\": 0.12170153856277466}, \"0.04690045118331909\": {\"frequency\": 1, \"value\": 0.04690045118331909}, \"2.2140607833862305\": {\"frequency\": 1, \"value\": 2.2140607833862305}, \"0.7356823682785034\": {\"frequency\": 1, \"value\": 0.7356823682785034}, \"1.6356639862060547\": {\"frequency\": 1, \"value\": 1.6356639862060547}, \"8.19521713256836\": {\"frequency\": 1, \"value\": 8.19521713256836}, \"0.3255072236061096\": {\"frequency\": 1, \"value\": 0.3255072236061096}, \"1.8640341758728027\": {\"frequency\": 1, \"value\": 1.8640341758728027}, \"0.1825721263885498\": {\"frequency\": 1, \"value\": 0.1825721263885498}, \"2.2593483924865723\": {\"frequency\": 1, \"value\": 2.2593483924865723}, \"3.76786470413208\": {\"frequency\": 1, \"value\": 3.76786470413208}, \"0.3623402714729309\": {\"frequency\": 1, \"value\": 0.3623402714729309}, \"1.7320611476898193\": {\"frequency\": 1, \"value\": 1.7320611476898193}, \"0.6495040655136108\": {\"frequency\": 1, \"value\": 0.6495040655136108}, \"1.5796570777893066\": {\"frequency\": 1, \"value\": 1.5796570777893066}, \"1.2286516427993774\": {\"frequency\": 1, \"value\": 1.2286516427993774}, \"1.1705853939056396\": {\"frequency\": 1, \"value\": 1.1705853939056396}, \"1.2443454265594482\": {\"frequency\": 1, \"value\": 1.2443454265594482}, \"0.6808208227157593\": {\"frequency\": 1, \"value\": 0.6808208227157593}, \"1.876250147819519\": {\"frequency\": 1, \"value\": 1.876250147819519}, \"0.31386661529541016\": {\"frequency\": 1, \"value\": 0.31386661529541016}, \"3.5183894634246826\": {\"frequency\": 1, \"value\": 3.5183894634246826}, \"0.09248960018157959\": {\"frequency\": 1, \"value\": 0.09248960018157959}, \"0.32938551902770996\": {\"frequency\": 1, \"value\": 0.32938551902770996}, \"3.0612165927886963\": {\"frequency\": 1, \"value\": 3.0612165927886963}, \"0.9897533059120178\": {\"frequency\": 1, \"value\": 0.9897533059120178}, \"0.6974842548370361\": {\"frequency\": 1, \"value\": 0.6974842548370361}, \"5.098355293273926\": {\"frequency\": 1, \"value\": 5.098355293273926}, \"0.6717088222503662\": {\"frequency\": 1, \"value\": 0.6717088222503662}, \"0.2249743938446045\": {\"frequency\": 1, \"value\": 0.2249743938446045}, \"2.849040985107422\": {\"frequency\": 1, \"value\": 2.849040985107422}, \"0.40814387798309326\": {\"frequency\": 1, \"value\": 0.40814387798309326}, \"0.7331246137619019\": {\"frequency\": 1, \"value\": 0.7331246137619019}, \"0.8935889005661011\": {\"frequency\": 1, \"value\": 0.8935889005661011}, \"1.3503566980361938\": {\"frequency\": 1, \"value\": 1.3503566980361938}, \"0.1995866894721985\": {\"frequency\": 1, \"value\": 0.1995866894721985}, \"1.6104612350463867\": {\"frequency\": 1, \"value\": 1.6104612350463867}, \"0.37748008966445923\": {\"frequency\": 1, \"value\": 0.37748008966445923}, \"2.7126128673553467\": {\"frequency\": 1, \"value\": 2.7126128673553467}, \"0.19375461339950562\": {\"frequency\": 1, \"value\": 0.19375461339950562}, \"0.7774839401245117\": {\"frequency\": 1, \"value\": 0.7774839401245117}, \"3.4057769775390625\": {\"frequency\": 1, \"value\": 3.4057769775390625}, \"1.468429684638977\": {\"frequency\": 1, \"value\": 1.468429684638977}, \"0.6013002395629883\": {\"frequency\": 1, \"value\": 0.6013002395629883}, \"1.7810394763946533\": {\"frequency\": 1, \"value\": 1.7810394763946533}, \"0.25376707315444946\": {\"frequency\": 1, \"value\": 0.25376707315444946}, \"1.2860753536224365\": {\"frequency\": 1, \"value\": 1.2860753536224365}, \"1.5941333770751953\": {\"frequency\": 1, \"value\": 1.5941333770751953}, \"0.5778047442436218\": {\"frequency\": 1, \"value\": 0.5778047442436218}, \"1.0258619785308838\": {\"frequency\": 1, \"value\": 1.0258619785308838}, \"0.44421589374542236\": {\"frequency\": 1, \"value\": 0.44421589374542236}, \"0.6734937429428101\": {\"frequency\": 1, \"value\": 0.6734937429428101}, \"0.7330554127693176\": {\"frequency\": 1, \"value\": 0.7330554127693176}, \"3.171719551086426\": {\"frequency\": 1, \"value\": 3.171719551086426}, \"2.078355312347412\": {\"frequency\": 1, \"value\": 2.078355312347412}, \"0.45766469836235046\": {\"frequency\": 1, \"value\": 0.45766469836235046}, \"0.23881638050079346\": {\"frequency\": 1, \"value\": 0.23881638050079346}, \"0.30859798192977905\": {\"frequency\": 1, \"value\": 0.30859798192977905}, \"1.0894633531570435\": {\"frequency\": 1, \"value\": 1.0894633531570435}, \"0.7344774007797241\": {\"frequency\": 1, \"value\": 0.7344774007797241}, \"0.19201457500457764\": {\"frequency\": 1, \"value\": 0.19201457500457764}, \"0.19465720653533936\": {\"frequency\": 1, \"value\": 0.19465720653533936}, \"0.894058883190155\": {\"frequency\": 1, \"value\": 0.894058883190155}, \"2.7958016395568848\": {\"frequency\": 1, \"value\": 2.7958016395568848}, \"1.6650481224060059\": {\"frequency\": 1, \"value\": 1.6650481224060059}, \"1.3043007850646973\": {\"frequency\": 1, \"value\": 1.3043007850646973}, \"0.9361808896064758\": {\"frequency\": 1, \"value\": 0.9361808896064758}, \"0.9325695037841797\": {\"frequency\": 1, \"value\": 0.9325695037841797}, \"1.8629395961761475\": {\"frequency\": 1, \"value\": 1.8629395961761475}, \"0.15265774726867676\": {\"frequency\": 1, \"value\": 0.15265774726867676}, \"0.5059656500816345\": {\"frequency\": 1, \"value\": 0.5059656500816345}, \"0.8030176758766174\": {\"frequency\": 1, \"value\": 0.8030176758766174}, \"6.032953262329102\": {\"frequency\": 1, \"value\": 6.032953262329102}, \"0.9632998704910278\": {\"frequency\": 1, \"value\": 0.9632998704910278}, \"1.0306419134140015\": {\"frequency\": 1, \"value\": 1.0306419134140015}, \"0.23136597871780396\": {\"frequency\": 1, \"value\": 0.23136597871780396}, \"1.7298073768615723\": {\"frequency\": 1, \"value\": 1.7298073768615723}, \"0.5082463622093201\": {\"frequency\": 1, \"value\": 0.5082463622093201}, \"1.0318703651428223\": {\"frequency\": 1, \"value\": 1.0318703651428223}, \"0.5844402313232422\": {\"frequency\": 1, \"value\": 0.5844402313232422}, \"5.4019575119018555\": {\"frequency\": 1, \"value\": 5.4019575119018555}, \"0.003003239631652832\": {\"frequency\": 1, \"value\": 0.003003239631652832}, \"0.9329542517662048\": {\"frequency\": 1, \"value\": 0.9329542517662048}, \"1.5315351486206055\": {\"frequency\": 1, \"value\": 1.5315351486206055}, \"1.0604735612869263\": {\"frequency\": 1, \"value\": 1.0604735612869263}, \"2.624020576477051\": {\"frequency\": 1, \"value\": 2.624020576477051}, \"0.40852242708206177\": {\"frequency\": 1, \"value\": 0.40852242708206177}, \"0.29983556270599365\": {\"frequency\": 1, \"value\": 0.29983556270599365}, \"4.260786056518555\": {\"frequency\": 1, \"value\": 4.260786056518555}, \"1.6949039697647095\": {\"frequency\": 1, \"value\": 1.6949039697647095}, \"0.5851916670799255\": {\"frequency\": 1, \"value\": 0.5851916670799255}, \"1.1451070308685303\": {\"frequency\": 1, \"value\": 1.1451070308685303}, \"0.005354166030883789\": {\"frequency\": 1, \"value\": 0.005354166030883789}, \"0.9694482684135437\": {\"frequency\": 1, \"value\": 0.9694482684135437}, \"0.7991364598274231\": {\"frequency\": 1, \"value\": 0.7991364598274231}, \"0.42592209577560425\": {\"frequency\": 1, \"value\": 0.42592209577560425}, \"0.01930016279220581\": {\"frequency\": 1, \"value\": 0.01930016279220581}, \"1.7693978548049927\": {\"frequency\": 1, \"value\": 1.7693978548049927}, \"0.27680283784866333\": {\"frequency\": 1, \"value\": 0.27680283784866333}, \"0.7024016976356506\": {\"frequency\": 1, \"value\": 0.7024016976356506}, \"0.39177578687667847\": {\"frequency\": 1, \"value\": 0.39177578687667847}, \"1.9335979223251343\": {\"frequency\": 1, \"value\": 1.9335979223251343}, \"0.570364236831665\": {\"frequency\": 1, \"value\": 0.570364236831665}, \"0.10543215274810791\": {\"frequency\": 1, \"value\": 0.10543215274810791}, \"1.5200392007827759\": {\"frequency\": 1, \"value\": 1.5200392007827759}, \"0.43146437406539917\": {\"frequency\": 1, \"value\": 0.43146437406539917}, \"1.2064995765686035\": {\"frequency\": 1, \"value\": 1.2064995765686035}, \"7.17225980758667\": {\"frequency\": 1, \"value\": 7.17225980758667}, \"0.29552769660949707\": {\"frequency\": 1, \"value\": 0.29552769660949707}, \"0.8212780952453613\": {\"frequency\": 1, \"value\": 0.8212780952453613}, \"0.6690647602081299\": {\"frequency\": 1, \"value\": 0.6690647602081299}, \"1.695119023323059\": {\"frequency\": 1, \"value\": 1.695119023323059}, \"3.486729383468628\": {\"frequency\": 1, \"value\": 3.486729383468628}, \"2.9783272743225098\": {\"frequency\": 1, \"value\": 2.9783272743225098}, \"1.2586305141448975\": {\"frequency\": 1, \"value\": 1.2586305141448975}, \"0.7033298015594482\": {\"frequency\": 1, \"value\": 0.7033298015594482}, \"1.7527672052383423\": {\"frequency\": 1, \"value\": 1.7527672052383423}, \"1.2195711135864258\": {\"frequency\": 1, \"value\": 1.2195711135864258}, \"1.855314016342163\": {\"frequency\": 1, \"value\": 1.855314016342163}, \"0.8963994979858398\": {\"frequency\": 1, \"value\": 0.8963994979858398}, \"0.03692561388015747\": {\"frequency\": 1, \"value\": 0.03692561388015747}, \"0.4487675428390503\": {\"frequency\": 1, \"value\": 0.4487675428390503}, \"5.115597248077393\": {\"frequency\": 1, \"value\": 5.115597248077393}, \"0.7857505083084106\": {\"frequency\": 1, \"value\": 0.7857505083084106}, \"2.6985292434692383\": {\"frequency\": 1, \"value\": 2.6985292434692383}, \"4.807583808898926\": {\"frequency\": 1, \"value\": 4.807583808898926}, \"1.9036927223205566\": {\"frequency\": 1, \"value\": 1.9036927223205566}, \"3.038540840148926\": {\"frequency\": 1, \"value\": 3.038540840148926}, \"2.9581942558288574\": {\"frequency\": 1, \"value\": 2.9581942558288574}, \"0.49741220474243164\": {\"frequency\": 1, \"value\": 0.49741220474243164}, \"0.5371354222297668\": {\"frequency\": 1, \"value\": 0.5371354222297668}, \"1.9086862802505493\": {\"frequency\": 1, \"value\": 1.9086862802505493}, \"1.1570379734039307\": {\"frequency\": 1, \"value\": 1.1570379734039307}, \"2.1157357692718506\": {\"frequency\": 1, \"value\": 2.1157357692718506}, \"2.3415346145629883\": {\"frequency\": 1, \"value\": 2.3415346145629883}, \"0.644477367401123\": {\"frequency\": 1, \"value\": 0.644477367401123}, \"0.7846769094467163\": {\"frequency\": 1, \"value\": 0.7846769094467163}, \"2.640235424041748\": {\"frequency\": 1, \"value\": 2.640235424041748}, \"1.1444599628448486\": {\"frequency\": 1, \"value\": 1.1444599628448486}, \"3.9401230812072754\": {\"frequency\": 1, \"value\": 3.9401230812072754}, \"1.1337779760360718\": {\"frequency\": 1, \"value\": 1.1337779760360718}, \"0.6945022344589233\": {\"frequency\": 1, \"value\": 0.6945022344589233}, \"0.7666878700256348\": {\"frequency\": 1, \"value\": 0.7666878700256348}, \"1.8455348014831543\": {\"frequency\": 1, \"value\": 1.8455348014831543}, \"1.343719244003296\": {\"frequency\": 1, \"value\": 1.343719244003296}, \"0.18937093019485474\": {\"frequency\": 1, \"value\": 0.18937093019485474}, \"1.2000367641448975\": {\"frequency\": 1, \"value\": 1.2000367641448975}, \"1.2512587308883667\": {\"frequency\": 1, \"value\": 1.2512587308883667}, \"0.008292794227600098\": {\"frequency\": 1, \"value\": 0.008292794227600098}, \"0.7057316303253174\": {\"frequency\": 1, \"value\": 0.7057316303253174}, \"0.686782956123352\": {\"frequency\": 1, \"value\": 0.686782956123352}, \"0.19055747985839844\": {\"frequency\": 1, \"value\": 0.19055747985839844}, \"1.3327716588974\": {\"frequency\": 1, \"value\": 1.3327716588974}, \"8.178104400634766\": {\"frequency\": 1, \"value\": 8.178104400634766}, \"0.38579636812210083\": {\"frequency\": 1, \"value\": 0.38579636812210083}, \"2.297553539276123\": {\"frequency\": 1, \"value\": 2.297553539276123}, \"0.8207082748413086\": {\"frequency\": 1, \"value\": 0.8207082748413086}, \"1.887134075164795\": {\"frequency\": 1, \"value\": 1.887134075164795}, \"1.7215876579284668\": {\"frequency\": 1, \"value\": 1.7215876579284668}, \"1.444687843322754\": {\"frequency\": 1, \"value\": 1.444687843322754}, \"1.5071876049041748\": {\"frequency\": 1, \"value\": 1.5071876049041748}, \"0.2393810749053955\": {\"frequency\": 1, \"value\": 0.2393810749053955}, \"4.542210102081299\": {\"frequency\": 1, \"value\": 4.542210102081299}, \"0.13544237613677979\": {\"frequency\": 1, \"value\": 0.13544237613677979}, \"0.3827822804450989\": {\"frequency\": 1, \"value\": 0.3827822804450989}, \"0.6003004908561707\": {\"frequency\": 1, \"value\": 0.6003004908561707}, \"0.2991330027580261\": {\"frequency\": 1, \"value\": 0.2991330027580261}, \"0.684624433517456\": {\"frequency\": 1, \"value\": 0.684624433517456}, \"0.21780097484588623\": {\"frequency\": 1, \"value\": 0.21780097484588623}, \"0.8229693174362183\": {\"frequency\": 1, \"value\": 0.8229693174362183}, \"1.2191483974456787\": {\"frequency\": 1, \"value\": 1.2191483974456787}, \"4.888587474822998\": {\"frequency\": 1, \"value\": 4.888587474822998}, \"0.13498902320861816\": {\"frequency\": 1, \"value\": 0.13498902320861816}, \"0.9045032262802124\": {\"frequency\": 1, \"value\": 0.9045032262802124}, \"0.07873976230621338\": {\"frequency\": 1, \"value\": 0.07873976230621338}, \"0.34945207834243774\": {\"frequency\": 1, \"value\": 0.34945207834243774}, \"4.368302345275879\": {\"frequency\": 1, \"value\": 4.368302345275879}, \"0.582614541053772\": {\"frequency\": 1, \"value\": 0.582614541053772}, \"2.353703022003174\": {\"frequency\": 1, \"value\": 2.353703022003174}, \"0.8787881135940552\": {\"frequency\": 1, \"value\": 0.8787881135940552}, \"0.395977258682251\": {\"frequency\": 1, \"value\": 0.395977258682251}, \"0.3879438638687134\": {\"frequency\": 1, \"value\": 0.3879438638687134}, \"0.44592374563217163\": {\"frequency\": 1, \"value\": 0.44592374563217163}, \"0.11165022850036621\": {\"frequency\": 1, \"value\": 0.11165022850036621}, \"0.24927866458892822\": {\"frequency\": 1, \"value\": 0.24927866458892822}, \"2.3295950889587402\": {\"frequency\": 1, \"value\": 2.3295950889587402}, \"0.026011943817138672\": {\"frequency\": 1, \"value\": 0.026011943817138672}, \"2.3751091957092285\": {\"frequency\": 1, \"value\": 2.3751091957092285}, \"0.6599441766738892\": {\"frequency\": 1, \"value\": 0.6599441766738892}, \"0.8075613379478455\": {\"frequency\": 1, \"value\": 0.8075613379478455}, \"2.095163345336914\": {\"frequency\": 1, \"value\": 2.095163345336914}, \"1.8126707077026367\": {\"frequency\": 1, \"value\": 1.8126707077026367}, \"0.9286323189735413\": {\"frequency\": 1, \"value\": 0.9286323189735413}, \"9.460389137268066\": {\"frequency\": 1, \"value\": 9.460389137268066}, \"2.5918641090393066\": {\"frequency\": 1, \"value\": 2.5918641090393066}, \"0.4469776749610901\": {\"frequency\": 1, \"value\": 0.4469776749610901}, \"0.595374584197998\": {\"frequency\": 1, \"value\": 0.595374584197998}, \"1.9994615316390991\": {\"frequency\": 1, \"value\": 1.9994615316390991}, \"0.34862220287323\": {\"frequency\": 1, \"value\": 0.34862220287323}, \"1.3000051975250244\": {\"frequency\": 1, \"value\": 1.3000051975250244}, \"0.9048135876655579\": {\"frequency\": 1, \"value\": 0.9048135876655579}, \"0.2936181426048279\": {\"frequency\": 1, \"value\": 0.2936181426048279}, \"8.499622344970703e-05\": {\"frequency\": 1, \"value\": 8.499622344970703e-05}, \"0.8635981678962708\": {\"frequency\": 1, \"value\": 0.8635981678962708}, \"0.2798566222190857\": {\"frequency\": 1, \"value\": 0.2798566222190857}, \"0.8750351667404175\": {\"frequency\": 1, \"value\": 0.8750351667404175}, \"0.3436555862426758\": {\"frequency\": 1, \"value\": 0.3436555862426758}, \"2.409853458404541\": {\"frequency\": 1, \"value\": 2.409853458404541}, \"4.196030139923096\": {\"frequency\": 1, \"value\": 4.196030139923096}, \"0.14722412824630737\": {\"frequency\": 1, \"value\": 0.14722412824630737}, \"0.5160390138626099\": {\"frequency\": 1, \"value\": 0.5160390138626099}, \"0.21132469177246094\": {\"frequency\": 1, \"value\": 0.21132469177246094}, \"1.4679073095321655\": {\"frequency\": 1, \"value\": 1.4679073095321655}, \"0.14680522680282593\": {\"frequency\": 1, \"value\": 0.14680522680282593}, \"0.932942807674408\": {\"frequency\": 1, \"value\": 0.932942807674408}, \"0.13368088006973267\": {\"frequency\": 1, \"value\": 0.13368088006973267}, \"1.542212963104248\": {\"frequency\": 1, \"value\": 1.542212963104248}, \"1.032078504562378\": {\"frequency\": 1, \"value\": 1.032078504562378}, \"0.3558501601219177\": {\"frequency\": 1, \"value\": 0.3558501601219177}, \"0.7290710806846619\": {\"frequency\": 1, \"value\": 0.7290710806846619}, \"4.613239288330078\": {\"frequency\": 1, \"value\": 4.613239288330078}, \"1.1929293870925903\": {\"frequency\": 1, \"value\": 1.1929293870925903}, \"0.017622649669647217\": {\"frequency\": 1, \"value\": 0.017622649669647217}, \"1.667907476425171\": {\"frequency\": 1, \"value\": 1.667907476425171}, \"2.2832741737365723\": {\"frequency\": 1, \"value\": 2.2832741737365723}, \"0.5914098620414734\": {\"frequency\": 1, \"value\": 0.5914098620414734}, \"1.0232850313186646\": {\"frequency\": 1, \"value\": 1.0232850313186646}, \"2.6105756759643555\": {\"frequency\": 1, \"value\": 2.6105756759643555}, \"0.054352521896362305\": {\"frequency\": 1, \"value\": 0.054352521896362305}, \"0.7764576077461243\": {\"frequency\": 1, \"value\": 0.7764576077461243}, \"2.580021619796753\": {\"frequency\": 1, \"value\": 2.580021619796753}, \"0.4402403235435486\": {\"frequency\": 1, \"value\": 0.4402403235435486}, \"0.10698676109313965\": {\"frequency\": 1, \"value\": 0.10698676109313965}, \"1.6040476560592651\": {\"frequency\": 1, \"value\": 1.6040476560592651}, \"0.3360426425933838\": {\"frequency\": 1, \"value\": 0.3360426425933838}, \"1.170522689819336\": {\"frequency\": 1, \"value\": 1.170522689819336}, \"0.5559314489364624\": {\"frequency\": 1, \"value\": 0.5559314489364624}, \"0.6521750092506409\": {\"frequency\": 1, \"value\": 0.6521750092506409}, \"1.8007075786590576\": {\"frequency\": 1, \"value\": 1.8007075786590576}, \"0.5707885026931763\": {\"frequency\": 1, \"value\": 0.5707885026931763}, \"1.125786304473877\": {\"frequency\": 1, \"value\": 1.125786304473877}, \"2.3338286876678467\": {\"frequency\": 1, \"value\": 2.3338286876678467}, \"0.16670113801956177\": {\"frequency\": 1, \"value\": 0.16670113801956177}, \"0.09999263286590576\": {\"frequency\": 1, \"value\": 0.09999263286590576}, \"0.9467976093292236\": {\"frequency\": 1, \"value\": 0.9467976093292236}, \"0.5026238560676575\": {\"frequency\": 1, \"value\": 0.5026238560676575}, \"0.22348552942276\": {\"frequency\": 1, \"value\": 0.22348552942276}, \"1.509451150894165\": {\"frequency\": 1, \"value\": 1.509451150894165}, \"3.9084601402282715\": {\"frequency\": 1, \"value\": 3.9084601402282715}, \"1.3450853824615479\": {\"frequency\": 1, \"value\": 1.3450853824615479}, \"1.9790486097335815\": {\"frequency\": 1, \"value\": 1.9790486097335815}, \"0.09444767236709595\": {\"frequency\": 1, \"value\": 0.09444767236709595}, \"0.8634486794471741\": {\"frequency\": 1, \"value\": 0.8634486794471741}, \"0.34290647506713867\": {\"frequency\": 1, \"value\": 0.34290647506713867}, \"0.6203800439834595\": {\"frequency\": 1, \"value\": 0.6203800439834595}, \"0.12910455465316772\": {\"frequency\": 1, \"value\": 0.12910455465316772}, \"1.9275659322738647\": {\"frequency\": 1, \"value\": 1.9275659322738647}, \"0.115073561668396\": {\"frequency\": 1, \"value\": 0.115073561668396}, \"0.7144124507904053\": {\"frequency\": 1, \"value\": 0.7144124507904053}, \"0.5271948575973511\": {\"frequency\": 1, \"value\": 0.5271948575973511}, \"2.5475926399230957\": {\"frequency\": 1, \"value\": 2.5475926399230957}, \"0.8903459310531616\": {\"frequency\": 1, \"value\": 0.8903459310531616}, \"0.60794597864151\": {\"frequency\": 1, \"value\": 0.60794597864151}, \"1.762472152709961\": {\"frequency\": 1, \"value\": 1.762472152709961}, \"2.398531913757324\": {\"frequency\": 1, \"value\": 2.398531913757324}, \"0.6437332630157471\": {\"frequency\": 1, \"value\": 0.6437332630157471}, \"0.012546718120574951\": {\"frequency\": 1, \"value\": 0.012546718120574951}, \"1.5825995206832886\": {\"frequency\": 1, \"value\": 1.5825995206832886}, \"0.4263828992843628\": {\"frequency\": 1, \"value\": 0.4263828992843628}, \"0.6174813508987427\": {\"frequency\": 1, \"value\": 0.6174813508987427}, \"1.557903528213501\": {\"frequency\": 1, \"value\": 1.557903528213501}, \"0.15130865573883057\": {\"frequency\": 1, \"value\": 0.15130865573883057}, \"0.20188051462173462\": {\"frequency\": 1, \"value\": 0.20188051462173462}, \"0.4054800868034363\": {\"frequency\": 1, \"value\": 0.4054800868034363}, \"3.6529552936553955\": {\"frequency\": 1, \"value\": 3.6529552936553955}, \"2.5963058471679688\": {\"frequency\": 1, \"value\": 2.5963058471679688}, \"0.2767583727836609\": {\"frequency\": 1, \"value\": 0.2767583727836609}, \"0.9788818359375\": {\"frequency\": 1, \"value\": 0.9788818359375}, \"1.0309303998947144\": {\"frequency\": 1, \"value\": 1.0309303998947144}, \"1.3189324140548706\": {\"frequency\": 1, \"value\": 1.3189324140548706}, \"7.074792861938477\": {\"frequency\": 1, \"value\": 7.074792861938477}, \"2.7075672149658203\": {\"frequency\": 1, \"value\": 2.7075672149658203}, \"1.3384652137756348\": {\"frequency\": 1, \"value\": 1.3384652137756348}, \"1.505860447883606\": {\"frequency\": 1, \"value\": 1.505860447883606}, \"1.766982078552246\": {\"frequency\": 1, \"value\": 1.766982078552246}, \"0.15091896057128906\": {\"frequency\": 1, \"value\": 0.15091896057128906}, \"0.7550091743469238\": {\"frequency\": 1, \"value\": 0.7550091743469238}, \"2.502901792526245\": {\"frequency\": 1, \"value\": 2.502901792526245}, \"1.5622527599334717\": {\"frequency\": 1, \"value\": 1.5622527599334717}, \"0.6579431295394897\": {\"frequency\": 1, \"value\": 0.6579431295394897}, \"1.3256653547286987\": {\"frequency\": 1, \"value\": 1.3256653547286987}, \"0.8448732495307922\": {\"frequency\": 1, \"value\": 0.8448732495307922}, \"1.032740592956543\": {\"frequency\": 1, \"value\": 1.032740592956543}, \"0.7835299968719482\": {\"frequency\": 1, \"value\": 0.7835299968719482}, \"0.4721779227256775\": {\"frequency\": 1, \"value\": 0.4721779227256775}, \"1.8364758491516113\": {\"frequency\": 1, \"value\": 1.8364758491516113}, \"0.00783449411392212\": {\"frequency\": 1, \"value\": 0.00783449411392212}, \"0.15430760383605957\": {\"frequency\": 1, \"value\": 0.15430760383605957}, \"1.431355595588684\": {\"frequency\": 1, \"value\": 1.431355595588684}, \"0.13284802436828613\": {\"frequency\": 1, \"value\": 0.13284802436828613}, \"1.6599152088165283\": {\"frequency\": 1, \"value\": 1.6599152088165283}, \"0.1237800121307373\": {\"frequency\": 1, \"value\": 0.1237800121307373}, \"0.4299951195716858\": {\"frequency\": 1, \"value\": 0.4299951195716858}, \"0.1863025426864624\": {\"frequency\": 1, \"value\": 0.1863025426864624}, \"2.797029495239258\": {\"frequency\": 1, \"value\": 2.797029495239258}, \"0.8625633716583252\": {\"frequency\": 1, \"value\": 0.8625633716583252}, \"0.15647584199905396\": {\"frequency\": 1, \"value\": 0.15647584199905396}, \"0.12622767686843872\": {\"frequency\": 1, \"value\": 0.12622767686843872}, \"0.25898367166519165\": {\"frequency\": 1, \"value\": 0.25898367166519165}, \"0.8573621511459351\": {\"frequency\": 1, \"value\": 0.8573621511459351}, \"1.7035852670669556\": {\"frequency\": 1, \"value\": 1.7035852670669556}, \"0.7036081552505493\": {\"frequency\": 1, \"value\": 0.7036081552505493}, \"0.9572975635528564\": {\"frequency\": 1, \"value\": 0.9572975635528564}, \"0.3178812861442566\": {\"frequency\": 1, \"value\": 0.3178812861442566}, \"4.207497596740723\": {\"frequency\": 1, \"value\": 4.207497596740723}, \"0.9141325354576111\": {\"frequency\": 1, \"value\": 0.9141325354576111}, \"2.1606688499450684\": {\"frequency\": 1, \"value\": 2.1606688499450684}, \"0.465407133102417\": {\"frequency\": 1, \"value\": 0.465407133102417}, \"1.0948516130447388\": {\"frequency\": 1, \"value\": 1.0948516130447388}, \"2.955228805541992\": {\"frequency\": 1, \"value\": 2.955228805541992}, \"1.7351181507110596\": {\"frequency\": 1, \"value\": 1.7351181507110596}, \"0.5235977172851562\": {\"frequency\": 1, \"value\": 0.5235977172851562}, \"0.036991655826568604\": {\"frequency\": 1, \"value\": 0.036991655826568604}, \"2.516058921813965\": {\"frequency\": 1, \"value\": 2.516058921813965}, \"0.7469492554664612\": {\"frequency\": 1, \"value\": 0.7469492554664612}, \"0.40715205669403076\": {\"frequency\": 1, \"value\": 0.40715205669403076}, \"1.7968952655792236\": {\"frequency\": 1, \"value\": 1.7968952655792236}, \"1.7032277584075928\": {\"frequency\": 1, \"value\": 1.7032277584075928}, \"0.002628505229949951\": {\"frequency\": 1, \"value\": 0.002628505229949951}, \"0.9496740698814392\": {\"frequency\": 1, \"value\": 0.9496740698814392}, \"0.9425753951072693\": {\"frequency\": 1, \"value\": 0.9425753951072693}, \"0.06026923656463623\": {\"frequency\": 1, \"value\": 0.06026923656463623}, \"0.14085549116134644\": {\"frequency\": 1, \"value\": 0.14085549116134644}, \"2.535602569580078\": {\"frequency\": 1, \"value\": 2.535602569580078}, \"0.14499086141586304\": {\"frequency\": 1, \"value\": 0.14499086141586304}, \"0.5202847719192505\": {\"frequency\": 1, \"value\": 0.5202847719192505}, \"0.3282090425491333\": {\"frequency\": 1, \"value\": 0.3282090425491333}, \"0.3335535526275635\": {\"frequency\": 1, \"value\": 0.3335535526275635}, \"1.661541223526001\": {\"frequency\": 1, \"value\": 1.661541223526001}, \"0.21993213891983032\": {\"frequency\": 1, \"value\": 0.21993213891983032}, \"2.2619717121124268\": {\"frequency\": 1, \"value\": 2.2619717121124268}, \"0.646195113658905\": {\"frequency\": 1, \"value\": 0.646195113658905}, \"1.690016269683838\": {\"frequency\": 1, \"value\": 1.690016269683838}, \"3.2813963890075684\": {\"frequency\": 1, \"value\": 3.2813963890075684}, \"1.4745659828186035\": {\"frequency\": 1, \"value\": 1.4745659828186035}, \"1.24834144115448\": {\"frequency\": 1, \"value\": 1.24834144115448}, \"0.06813645362854004\": {\"frequency\": 1, \"value\": 0.06813645362854004}, \"0.1955573558807373\": {\"frequency\": 1, \"value\": 0.1955573558807373}, \"2.7225894927978516\": {\"frequency\": 1, \"value\": 2.7225894927978516}, \"1.5004544258117676\": {\"frequency\": 1, \"value\": 1.5004544258117676}, \"0.7734326124191284\": {\"frequency\": 1, \"value\": 0.7734326124191284}, \"1.189195990562439\": {\"frequency\": 1, \"value\": 1.189195990562439}, \"1.0376713275909424\": {\"frequency\": 1, \"value\": 1.0376713275909424}, \"0.3251866102218628\": {\"frequency\": 1, \"value\": 0.3251866102218628}, \"6.067117691040039\": {\"frequency\": 1, \"value\": 6.067117691040039}, \"0.46312403678894043\": {\"frequency\": 1, \"value\": 0.46312403678894043}, \"0.5527998208999634\": {\"frequency\": 1, \"value\": 0.5527998208999634}, \"0.9550464153289795\": {\"frequency\": 1, \"value\": 0.9550464153289795}, \"0.6231739521026611\": {\"frequency\": 1, \"value\": 0.6231739521026611}, \"1.3547722101211548\": {\"frequency\": 1, \"value\": 1.3547722101211548}, \"0.3470523953437805\": {\"frequency\": 1, \"value\": 0.3470523953437805}, \"0.3454393744468689\": {\"frequency\": 1, \"value\": 0.3454393744468689}, \"3.233572483062744\": {\"frequency\": 1, \"value\": 3.233572483062744}, \"1.0557154417037964\": {\"frequency\": 1, \"value\": 1.0557154417037964}, \"0.7788394093513489\": {\"frequency\": 1, \"value\": 0.7788394093513489}, \"2.1623713970184326\": {\"frequency\": 1, \"value\": 2.1623713970184326}, \"1.9703350067138672\": {\"frequency\": 1, \"value\": 1.9703350067138672}, \"0.24210214614868164\": {\"frequency\": 1, \"value\": 0.24210214614868164}, \"2.1607189178466797\": {\"frequency\": 1, \"value\": 2.1607189178466797}, \"0.908841609954834\": {\"frequency\": 1, \"value\": 0.908841609954834}, \"1.4451429843902588\": {\"frequency\": 1, \"value\": 1.4451429843902588}, \"0.01226508617401123\": {\"frequency\": 1, \"value\": 0.01226508617401123}, \"1.4615691900253296\": {\"frequency\": 1, \"value\": 1.4615691900253296}, \"1.0067412853240967\": {\"frequency\": 1, \"value\": 1.0067412853240967}, \"0.7274773120880127\": {\"frequency\": 1, \"value\": 0.7274773120880127}, \"0.8034982681274414\": {\"frequency\": 1, \"value\": 0.8034982681274414}, \"0.5959000587463379\": {\"frequency\": 1, \"value\": 0.5959000587463379}, \"0.6074808239936829\": {\"frequency\": 1, \"value\": 0.6074808239936829}, \"1.3096516132354736\": {\"frequency\": 1, \"value\": 1.3096516132354736}, \"2.2484092712402344\": {\"frequency\": 1, \"value\": 2.2484092712402344}, \"0.3168293833732605\": {\"frequency\": 1, \"value\": 0.3168293833732605}, \"0.9271959662437439\": {\"frequency\": 1, \"value\": 0.9271959662437439}, \"1.8645150661468506\": {\"frequency\": 1, \"value\": 1.8645150661468506}, \"0.10060113668441772\": {\"frequency\": 1, \"value\": 0.10060113668441772}, \"1.6757140159606934\": {\"frequency\": 1, \"value\": 1.6757140159606934}, \"2.083814859390259\": {\"frequency\": 1, \"value\": 2.083814859390259}, \"0.05972898006439209\": {\"frequency\": 1, \"value\": 0.05972898006439209}, \"0.12431991100311279\": {\"frequency\": 1, \"value\": 0.12431991100311279}, \"0.5038677453994751\": {\"frequency\": 1, \"value\": 0.5038677453994751}, \"0.8575347065925598\": {\"frequency\": 1, \"value\": 0.8575347065925598}, \"0.7135578989982605\": {\"frequency\": 1, \"value\": 0.7135578989982605}, \"0.24993890523910522\": {\"frequency\": 1, \"value\": 0.24993890523910522}, \"1.4372515678405762\": {\"frequency\": 1, \"value\": 1.4372515678405762}, \"0.44920313358306885\": {\"frequency\": 1, \"value\": 0.44920313358306885}, \"8.1138277053833\": {\"frequency\": 1, \"value\": 8.1138277053833}, \"4.924498558044434\": {\"frequency\": 1, \"value\": 4.924498558044434}, \"1.4791765213012695\": {\"frequency\": 1, \"value\": 1.4791765213012695}, \"0.777963399887085\": {\"frequency\": 1, \"value\": 0.777963399887085}, \"2.1987760066986084\": {\"frequency\": 1, \"value\": 2.1987760066986084}, \"0.13185131549835205\": {\"frequency\": 1, \"value\": 0.13185131549835205}, \"3.713101863861084\": {\"frequency\": 1, \"value\": 3.713101863861084}, \"0.454437255859375\": {\"frequency\": 1, \"value\": 0.454437255859375}, \"0.5305197834968567\": {\"frequency\": 1, \"value\": 0.5305197834968567}, \"0.8175207376480103\": {\"frequency\": 1, \"value\": 0.8175207376480103}, \"0.9837751984596252\": {\"frequency\": 1, \"value\": 0.9837751984596252}, \"0.7851041555404663\": {\"frequency\": 1, \"value\": 0.7851041555404663}, \"1.2454988956451416\": {\"frequency\": 1, \"value\": 1.2454988956451416}, \"1.691697120666504\": {\"frequency\": 1, \"value\": 1.691697120666504}, \"0.6429712176322937\": {\"frequency\": 1, \"value\": 0.6429712176322937}, \"0.959254264831543\": {\"frequency\": 1, \"value\": 0.959254264831543}, \"0.9090273380279541\": {\"frequency\": 1, \"value\": 0.9090273380279541}, \"1.8860573768615723\": {\"frequency\": 1, \"value\": 1.8860573768615723}, \"0.9380314946174622\": {\"frequency\": 1, \"value\": 0.9380314946174622}, \"1.4717872142791748\": {\"frequency\": 1, \"value\": 1.4717872142791748}, \"0.6381039023399353\": {\"frequency\": 1, \"value\": 0.6381039023399353}, \"1.0490812063217163\": {\"frequency\": 1, \"value\": 1.0490812063217163}, \"1.2687336206436157\": {\"frequency\": 1, \"value\": 1.2687336206436157}, \"1.6629648208618164\": {\"frequency\": 1, \"value\": 1.6629648208618164}, \"0.5614703893661499\": {\"frequency\": 1, \"value\": 0.5614703893661499}, \"0.6770520210266113\": {\"frequency\": 1, \"value\": 0.6770520210266113}, \"1.2064296007156372\": {\"frequency\": 1, \"value\": 1.2064296007156372}, \"0.6519874334335327\": {\"frequency\": 1, \"value\": 0.6519874334335327}, \"0.6292444467544556\": {\"frequency\": 1, \"value\": 0.6292444467544556}, \"1.7561111450195312\": {\"frequency\": 1, \"value\": 1.7561111450195312}, \"1.038285493850708\": {\"frequency\": 1, \"value\": 1.038285493850708}, \"0.21166998147964478\": {\"frequency\": 1, \"value\": 0.21166998147964478}, \"1.3613674640655518\": {\"frequency\": 1, \"value\": 1.3613674640655518}, \"0.22122406959533691\": {\"frequency\": 1, \"value\": 0.22122406959533691}, \"3.2518184185028076\": {\"frequency\": 1, \"value\": 3.2518184185028076}, \"1.9037184715270996\": {\"frequency\": 1, \"value\": 1.9037184715270996}, \"0.012324988842010498\": {\"frequency\": 1, \"value\": 0.012324988842010498}, \"2.9632177352905273\": {\"frequency\": 1, \"value\": 2.9632177352905273}, \"1.6273868083953857\": {\"frequency\": 1, \"value\": 1.6273868083953857}, \"0.2591976523399353\": {\"frequency\": 1, \"value\": 0.2591976523399353}, \"0.5439605712890625\": {\"frequency\": 1, \"value\": 0.5439605712890625}, \"0.127973735332489\": {\"frequency\": 1, \"value\": 0.127973735332489}, \"0.4759272336959839\": {\"frequency\": 1, \"value\": 0.4759272336959839}, \"1.1790730953216553\": {\"frequency\": 1, \"value\": 1.1790730953216553}, \"3.2181735038757324\": {\"frequency\": 1, \"value\": 3.2181735038757324}, \"3.7281076908111572\": {\"frequency\": 1, \"value\": 3.7281076908111572}, \"0.7570051550865173\": {\"frequency\": 1, \"value\": 0.7570051550865173}, \"0.5069209337234497\": {\"frequency\": 1, \"value\": 0.5069209337234497}, \"0.08530521392822266\": {\"frequency\": 1, \"value\": 0.08530521392822266}, \"0.13532280921936035\": {\"frequency\": 1, \"value\": 0.13532280921936035}, \"0.8151007890701294\": {\"frequency\": 1, \"value\": 0.8151007890701294}, \"0.413979172706604\": {\"frequency\": 1, \"value\": 0.413979172706604}, \"3.5182695388793945\": {\"frequency\": 1, \"value\": 3.5182695388793945}, \"1.3464151620864868\": {\"frequency\": 1, \"value\": 1.3464151620864868}, \"1.5441157817840576\": {\"frequency\": 1, \"value\": 1.5441157817840576}, \"3.584157705307007\": {\"frequency\": 1, \"value\": 3.584157705307007}, \"0.2173020839691162\": {\"frequency\": 1, \"value\": 0.2173020839691162}, \"0.6849226951599121\": {\"frequency\": 1, \"value\": 0.6849226951599121}, \"3.40767502784729\": {\"frequency\": 1, \"value\": 3.40767502784729}, \"1.2951843738555908\": {\"frequency\": 1, \"value\": 1.2951843738555908}, \"0.4064444303512573\": {\"frequency\": 1, \"value\": 0.4064444303512573}, \"0.6162763833999634\": {\"frequency\": 1, \"value\": 0.6162763833999634}, \"0.7386727333068848\": {\"frequency\": 1, \"value\": 0.7386727333068848}, \"1.1546156406402588\": {\"frequency\": 1, \"value\": 1.1546156406402588}, \"0.4104851484298706\": {\"frequency\": 1, \"value\": 0.4104851484298706}, \"0.0303572416305542\": {\"frequency\": 1, \"value\": 0.0303572416305542}, \"0.4146307110786438\": {\"frequency\": 1, \"value\": 0.4146307110786438}, \"0.12774783372879028\": {\"frequency\": 1, \"value\": 0.12774783372879028}, \"1.0192066431045532\": {\"frequency\": 1, \"value\": 1.0192066431045532}, \"0.492886483669281\": {\"frequency\": 1, \"value\": 0.492886483669281}, \"4.246494770050049\": {\"frequency\": 1, \"value\": 4.246494770050049}, \"0.9497203230857849\": {\"frequency\": 1, \"value\": 0.9497203230857849}, \"0.2649526596069336\": {\"frequency\": 1, \"value\": 0.2649526596069336}, \"1.0178338289260864\": {\"frequency\": 1, \"value\": 1.0178338289260864}, \"0.4501543641090393\": {\"frequency\": 1, \"value\": 0.4501543641090393}, \"5.280922889709473\": {\"frequency\": 1, \"value\": 5.280922889709473}, \"2.311150312423706\": {\"frequency\": 1, \"value\": 2.311150312423706}, \"0.13468235731124878\": {\"frequency\": 1, \"value\": 0.13468235731124878}, \"2.1427087783813477\": {\"frequency\": 1, \"value\": 2.1427087783813477}, \"0.11099004745483398\": {\"frequency\": 1, \"value\": 0.11099004745483398}, \"0.05505925416946411\": {\"frequency\": 1, \"value\": 0.05505925416946411}, \"0.5592406392097473\": {\"frequency\": 1, \"value\": 0.5592406392097473}, \"3.2727670669555664\": {\"frequency\": 1, \"value\": 3.2727670669555664}, \"0.1541650891304016\": {\"frequency\": 1, \"value\": 0.1541650891304016}, \"0.5748695135116577\": {\"frequency\": 1, \"value\": 0.5748695135116577}, \"1.6334198713302612\": {\"frequency\": 1, \"value\": 1.6334198713302612}, \"0.1591523289680481\": {\"frequency\": 1, \"value\": 0.1591523289680481}, \"0.4000256061553955\": {\"frequency\": 1, \"value\": 0.4000256061553955}, \"0.07526177167892456\": {\"frequency\": 1, \"value\": 0.07526177167892456}, \"1.6765916347503662\": {\"frequency\": 1, \"value\": 1.6765916347503662}, \"3.6029913425445557\": {\"frequency\": 1, \"value\": 3.6029913425445557}, \"0.41681957244873047\": {\"frequency\": 1, \"value\": 0.41681957244873047}, \"1.4531984329223633\": {\"frequency\": 1, \"value\": 1.4531984329223633}, \"0.5394185185432434\": {\"frequency\": 1, \"value\": 0.5394185185432434}, \"0.2509511113166809\": {\"frequency\": 1, \"value\": 0.2509511113166809}, \"0.7821947932243347\": {\"frequency\": 1, \"value\": 0.7821947932243347}, \"1.2112430334091187\": {\"frequency\": 1, \"value\": 1.2112430334091187}, \"0.15834110975265503\": {\"frequency\": 1, \"value\": 0.15834110975265503}, \"1.3216688632965088\": {\"frequency\": 1, \"value\": 1.3216688632965088}, \"1.9255545139312744\": {\"frequency\": 1, \"value\": 1.9255545139312744}, \"1.1130985021591187\": {\"frequency\": 1, \"value\": 1.1130985021591187}, \"1.2341058254241943\": {\"frequency\": 1, \"value\": 1.2341058254241943}, \"0.8075054883956909\": {\"frequency\": 1, \"value\": 0.8075054883956909}, \"1.724992275238037\": {\"frequency\": 1, \"value\": 1.724992275238037}, \"0.9117519855499268\": {\"frequency\": 1, \"value\": 0.9117519855499268}, \"0.4423421621322632\": {\"frequency\": 1, \"value\": 0.4423421621322632}, \"0.4170241355895996\": {\"frequency\": 1, \"value\": 0.4170241355895996}, \"0.688456654548645\": {\"frequency\": 1, \"value\": 0.688456654548645}, \"0.4463356137275696\": {\"frequency\": 1, \"value\": 0.4463356137275696}, \"8.55803108215332\": {\"frequency\": 1, \"value\": 8.55803108215332}, \"0.8248510956764221\": {\"frequency\": 1, \"value\": 0.8248510956764221}, \"1.0718063116073608\": {\"frequency\": 1, \"value\": 1.0718063116073608}, \"0.880721926689148\": {\"frequency\": 1, \"value\": 0.880721926689148}, \"0.6777211427688599\": {\"frequency\": 1, \"value\": 0.6777211427688599}, \"1.2864567041397095\": {\"frequency\": 1, \"value\": 1.2864567041397095}, \"0.8764691948890686\": {\"frequency\": 1, \"value\": 0.8764691948890686}, \"1.9891879558563232\": {\"frequency\": 1, \"value\": 1.9891879558563232}, \"1.6132822036743164\": {\"frequency\": 1, \"value\": 1.6132822036743164}, \"1.9539508819580078\": {\"frequency\": 1, \"value\": 1.9539508819580078}, \"1.624327540397644\": {\"frequency\": 1, \"value\": 1.624327540397644}, \"3.2569739818573\": {\"frequency\": 1, \"value\": 3.2569739818573}, \"0.42888516187667847\": {\"frequency\": 1, \"value\": 0.42888516187667847}, \"3.6522960662841797\": {\"frequency\": 1, \"value\": 3.6522960662841797}, \"0.9998353719711304\": {\"frequency\": 1, \"value\": 0.9998353719711304}, \"2.4863176345825195\": {\"frequency\": 1, \"value\": 2.4863176345825195}, \"0.6886211037635803\": {\"frequency\": 1, \"value\": 0.6886211037635803}, \"0.33922088146209717\": {\"frequency\": 1, \"value\": 0.33922088146209717}, \"0.6369316577911377\": {\"frequency\": 1, \"value\": 0.6369316577911377}, \"2.601179599761963\": {\"frequency\": 1, \"value\": 2.601179599761963}, \"1.4772186279296875\": {\"frequency\": 1, \"value\": 1.4772186279296875}, \"2.276679515838623\": {\"frequency\": 1, \"value\": 2.276679515838623}, \"0.7099911570549011\": {\"frequency\": 1, \"value\": 0.7099911570549011}, \"0.3606506586074829\": {\"frequency\": 1, \"value\": 0.3606506586074829}, \"3.918227195739746\": {\"frequency\": 1, \"value\": 3.918227195739746}, \"1.5080804824829102\": {\"frequency\": 1, \"value\": 1.5080804824829102}, \"3.4151909351348877\": {\"frequency\": 1, \"value\": 3.4151909351348877}, \"0.22911405563354492\": {\"frequency\": 1, \"value\": 0.22911405563354492}, \"1.4515278339385986\": {\"frequency\": 1, \"value\": 1.4515278339385986}, \"1.8434979915618896\": {\"frequency\": 1, \"value\": 1.8434979915618896}, \"0.01352238655090332\": {\"frequency\": 1, \"value\": 0.01352238655090332}, \"4.377385139465332\": {\"frequency\": 1, \"value\": 4.377385139465332}, \"0.5125789046287537\": {\"frequency\": 1, \"value\": 0.5125789046287537}, \"4.820830821990967\": {\"frequency\": 1, \"value\": 4.820830821990967}, \"3.525829315185547\": {\"frequency\": 1, \"value\": 3.525829315185547}, \"0.03249669075012207\": {\"frequency\": 1, \"value\": 0.03249669075012207}, \"1.3749253749847412\": {\"frequency\": 1, \"value\": 1.3749253749847412}, \"0.5557072162628174\": {\"frequency\": 1, \"value\": 0.5557072162628174}, \"0.8515549302101135\": {\"frequency\": 1, \"value\": 0.8515549302101135}, \"3.950051784515381\": {\"frequency\": 1, \"value\": 3.950051784515381}, \"0.31108635663986206\": {\"frequency\": 1, \"value\": 0.31108635663986206}, \"1.1823961734771729\": {\"frequency\": 1, \"value\": 1.1823961734771729}, \"2.1101911067962646\": {\"frequency\": 1, \"value\": 2.1101911067962646}, \"0.9573792219161987\": {\"frequency\": 1, \"value\": 0.9573792219161987}, \"0.5142213702201843\": {\"frequency\": 1, \"value\": 0.5142213702201843}, \"0.10590863227844238\": {\"frequency\": 1, \"value\": 0.10590863227844238}, \"1.1757097244262695\": {\"frequency\": 1, \"value\": 1.1757097244262695}, \"0.1850937008857727\": {\"frequency\": 1, \"value\": 0.1850937008857727}, \"0.17616373300552368\": {\"frequency\": 1, \"value\": 0.17616373300552368}, \"0.16325676441192627\": {\"frequency\": 1, \"value\": 0.16325676441192627}, \"0.7432527542114258\": {\"frequency\": 1, \"value\": 0.7432527542114258}, \"1.1518133878707886\": {\"frequency\": 1, \"value\": 1.1518133878707886}, \"0.5146907567977905\": {\"frequency\": 1, \"value\": 0.5146907567977905}, \"1.3982118368148804\": {\"frequency\": 1, \"value\": 1.3982118368148804}, \"1.1934233903884888\": {\"frequency\": 1, \"value\": 1.1934233903884888}, \"1.4421395063400269\": {\"frequency\": 1, \"value\": 1.4421395063400269}, \"1.2115651369094849\": {\"frequency\": 1, \"value\": 1.2115651369094849}, \"0.9227490425109863\": {\"frequency\": 1, \"value\": 0.9227490425109863}, \"0.1455233097076416\": {\"frequency\": 1, \"value\": 0.1455233097076416}, \"0.04564887285232544\": {\"frequency\": 1, \"value\": 0.04564887285232544}, \"1.766471028327942\": {\"frequency\": 1, \"value\": 1.766471028327942}, \"1.1438297033309937\": {\"frequency\": 1, \"value\": 1.1438297033309937}, \"2.2183709144592285\": {\"frequency\": 1, \"value\": 2.2183709144592285}, \"0.20758038759231567\": {\"frequency\": 1, \"value\": 0.20758038759231567}, \"1.08944833278656\": {\"frequency\": 1, \"value\": 1.08944833278656}, \"1.1388945579528809\": {\"frequency\": 1, \"value\": 1.1388945579528809}, \"1.2580111026763916\": {\"frequency\": 1, \"value\": 1.2580111026763916}, \"0.057038187980651855\": {\"frequency\": 1, \"value\": 0.057038187980651855}, \"0.4171280264854431\": {\"frequency\": 1, \"value\": 0.4171280264854431}, \"0.7898299098014832\": {\"frequency\": 1, \"value\": 0.7898299098014832}, \"0.45098280906677246\": {\"frequency\": 1, \"value\": 0.45098280906677246}, \"0.7332353591918945\": {\"frequency\": 1, \"value\": 0.7332353591918945}, \"0.8301517963409424\": {\"frequency\": 1, \"value\": 0.8301517963409424}, \"0.9577265381813049\": {\"frequency\": 1, \"value\": 0.9577265381813049}, \"1.6137893199920654\": {\"frequency\": 1, \"value\": 1.6137893199920654}, \"0.5581637620925903\": {\"frequency\": 1, \"value\": 0.5581637620925903}, \"1.249901533126831\": {\"frequency\": 1, \"value\": 1.249901533126831}, \"0.8637560606002808\": {\"frequency\": 1, \"value\": 0.8637560606002808}, \"0.8494312763214111\": {\"frequency\": 1, \"value\": 0.8494312763214111}, \"2.861485719680786\": {\"frequency\": 1, \"value\": 2.861485719680786}, \"1.5259897708892822\": {\"frequency\": 1, \"value\": 1.5259897708892822}, \"0.26229625940322876\": {\"frequency\": 1, \"value\": 0.26229625940322876}, \"2.7417502403259277\": {\"frequency\": 1, \"value\": 2.7417502403259277}, \"3.660341262817383\": {\"frequency\": 1, \"value\": 3.660341262817383}, \"1.1016262769699097\": {\"frequency\": 1, \"value\": 1.1016262769699097}, \"1.8783090114593506\": {\"frequency\": 1, \"value\": 1.8783090114593506}, \"0.35571038722991943\": {\"frequency\": 1, \"value\": 0.35571038722991943}, \"2.203939437866211\": {\"frequency\": 1, \"value\": 2.203939437866211}, \"0.08495199680328369\": {\"frequency\": 1, \"value\": 0.08495199680328369}, \"0.9977965950965881\": {\"frequency\": 1, \"value\": 0.9977965950965881}, \"0.047594428062438965\": {\"frequency\": 1, \"value\": 0.047594428062438965}, \"0.18098431825637817\": {\"frequency\": 1, \"value\": 0.18098431825637817}, \"0.5062510967254639\": {\"frequency\": 1, \"value\": 0.5062510967254639}, \"0.23817843198776245\": {\"frequency\": 1, \"value\": 0.23817843198776245}, \"0.5702989101409912\": {\"frequency\": 1, \"value\": 0.5702989101409912}, \"0.2886649966239929\": {\"frequency\": 1, \"value\": 0.2886649966239929}, \"3.689432144165039\": {\"frequency\": 1, \"value\": 3.689432144165039}, \"0.36491185426712036\": {\"frequency\": 1, \"value\": 0.36491185426712036}, \"6.607831954956055\": {\"frequency\": 1, \"value\": 6.607831954956055}, \"0.6434829235076904\": {\"frequency\": 1, \"value\": 0.6434829235076904}, \"1.1034719944000244\": {\"frequency\": 1, \"value\": 1.1034719944000244}, \"0.9683529734611511\": {\"frequency\": 1, \"value\": 0.9683529734611511}, \"2.041346549987793\": {\"frequency\": 1, \"value\": 2.041346549987793}, \"1.3670613765716553\": {\"frequency\": 1, \"value\": 1.3670613765716553}, \"1.0515702962875366\": {\"frequency\": 1, \"value\": 1.0515702962875366}, \"2.086372137069702\": {\"frequency\": 1, \"value\": 2.086372137069702}, \"2.8869218826293945\": {\"frequency\": 1, \"value\": 2.8869218826293945}, \"0.5554103851318359\": {\"frequency\": 1, \"value\": 0.5554103851318359}, \"4.191958427429199\": {\"frequency\": 1, \"value\": 4.191958427429199}, \"0.28082144260406494\": {\"frequency\": 1, \"value\": 0.28082144260406494}, \"2.009219169616699\": {\"frequency\": 1, \"value\": 2.009219169616699}, \"0.6360419988632202\": {\"frequency\": 1, \"value\": 0.6360419988632202}, \"0.3194342255592346\": {\"frequency\": 1, \"value\": 0.3194342255592346}, \"1.7195374965667725\": {\"frequency\": 1, \"value\": 1.7195374965667725}, \"1.0213465690612793\": {\"frequency\": 1, \"value\": 1.0213465690612793}, \"1.8900470733642578\": {\"frequency\": 1, \"value\": 1.8900470733642578}, \"0.6282930374145508\": {\"frequency\": 1, \"value\": 0.6282930374145508}, \"0.2869216203689575\": {\"frequency\": 1, \"value\": 0.2869216203689575}, \"2.1003894805908203\": {\"frequency\": 1, \"value\": 2.1003894805908203}, \"0.6338343620300293\": {\"frequency\": 1, \"value\": 0.6338343620300293}, \"0.47640037536621094\": {\"frequency\": 1, \"value\": 0.47640037536621094}, \"0.2734672427177429\": {\"frequency\": 1, \"value\": 0.2734672427177429}, \"2.31070876121521\": {\"frequency\": 1, \"value\": 2.31070876121521}, \"0.6006340384483337\": {\"frequency\": 1, \"value\": 0.6006340384483337}, \"0.8912777900695801\": {\"frequency\": 1, \"value\": 0.8912777900695801}, \"0.19123589992523193\": {\"frequency\": 1, \"value\": 0.19123589992523193}, \"0.8420785665512085\": {\"frequency\": 1, \"value\": 0.8420785665512085}, \"0.16250383853912354\": {\"frequency\": 1, \"value\": 0.16250383853912354}, \"1.7950210571289062\": {\"frequency\": 1, \"value\": 1.7950210571289062}, \"0.8069010972976685\": {\"frequency\": 1, \"value\": 0.8069010972976685}, \"1.035847783088684\": {\"frequency\": 1, \"value\": 1.035847783088684}, \"1.0005263090133667\": {\"frequency\": 1, \"value\": 1.0005263090133667}, \"3.176443338394165\": {\"frequency\": 1, \"value\": 3.176443338394165}, \"1.4969329833984375\": {\"frequency\": 1, \"value\": 1.4969329833984375}, \"0.11234581470489502\": {\"frequency\": 1, \"value\": 0.11234581470489502}, \"1.5524648427963257\": {\"frequency\": 1, \"value\": 1.5524648427963257}, \"0.7879397869110107\": {\"frequency\": 1, \"value\": 0.7879397869110107}, \"2.680267810821533\": {\"frequency\": 1, \"value\": 2.680267810821533}, \"1.0477806329727173\": {\"frequency\": 1, \"value\": 1.0477806329727173}, \"0.7331005334854126\": {\"frequency\": 1, \"value\": 0.7331005334854126}, \"2.425930976867676\": {\"frequency\": 1, \"value\": 2.425930976867676}, \"0.455901563167572\": {\"frequency\": 1, \"value\": 0.455901563167572}, \"0.6879372000694275\": {\"frequency\": 1, \"value\": 0.6879372000694275}, \"2.1206777095794678\": {\"frequency\": 1, \"value\": 2.1206777095794678}, \"0.05021423101425171\": {\"frequency\": 1, \"value\": 0.05021423101425171}, \"0.8558480143547058\": {\"frequency\": 1, \"value\": 0.8558480143547058}, \"0.17955517768859863\": {\"frequency\": 1, \"value\": 0.17955517768859863}, \"0.8828175663948059\": {\"frequency\": 1, \"value\": 0.8828175663948059}, \"0.4368053078651428\": {\"frequency\": 1, \"value\": 0.4368053078651428}, \"6.250177383422852\": {\"frequency\": 1, \"value\": 6.250177383422852}, \"1.575197696685791\": {\"frequency\": 1, \"value\": 1.575197696685791}, \"0.24161183834075928\": {\"frequency\": 1, \"value\": 0.24161183834075928}, \"1.7454243898391724\": {\"frequency\": 1, \"value\": 1.7454243898391724}, \"1.277937412261963\": {\"frequency\": 1, \"value\": 1.277937412261963}, \"0.9479447603225708\": {\"frequency\": 1, \"value\": 0.9479447603225708}, \"0.6328223943710327\": {\"frequency\": 1, \"value\": 0.6328223943710327}, \"1.5132399797439575\": {\"frequency\": 1, \"value\": 1.5132399797439575}, \"1.4113680124282837\": {\"frequency\": 1, \"value\": 1.4113680124282837}, \"5.135453224182129\": {\"frequency\": 1, \"value\": 5.135453224182129}, \"1.1905505657196045\": {\"frequency\": 1, \"value\": 1.1905505657196045}, \"0.4339849352836609\": {\"frequency\": 1, \"value\": 0.4339849352836609}, \"1.2003849744796753\": {\"frequency\": 1, \"value\": 1.2003849744796753}, \"0.3838549852371216\": {\"frequency\": 1, \"value\": 0.3838549852371216}, \"1.3527204990386963\": {\"frequency\": 1, \"value\": 1.3527204990386963}, \"1.752394676208496\": {\"frequency\": 1, \"value\": 1.752394676208496}, \"0.951564371585846\": {\"frequency\": 1, \"value\": 0.951564371585846}, \"0.5519882440567017\": {\"frequency\": 1, \"value\": 0.5519882440567017}, \"0.5303951501846313\": {\"frequency\": 1, \"value\": 0.5303951501846313}, \"0.031527042388916016\": {\"frequency\": 1, \"value\": 0.031527042388916016}, \"1.3327401876449585\": {\"frequency\": 1, \"value\": 1.3327401876449585}, \"3.158163070678711\": {\"frequency\": 1, \"value\": 3.158163070678711}, \"0.4197937250137329\": {\"frequency\": 1, \"value\": 0.4197937250137329}, \"0.2981222867965698\": {\"frequency\": 1, \"value\": 0.2981222867965698}, \"0.4395274221897125\": {\"frequency\": 1, \"value\": 0.4395274221897125}, \"1.8486900329589844\": {\"frequency\": 1, \"value\": 1.8486900329589844}, \"0.478887140750885\": {\"frequency\": 1, \"value\": 0.478887140750885}, \"1.123534917831421\": {\"frequency\": 1, \"value\": 1.123534917831421}, \"1.167680263519287\": {\"frequency\": 1, \"value\": 1.167680263519287}, \"1.581451654434204\": {\"frequency\": 1, \"value\": 1.581451654434204}, \"2.8718934059143066\": {\"frequency\": 1, \"value\": 2.8718934059143066}, \"1.0704516172409058\": {\"frequency\": 1, \"value\": 1.0704516172409058}, \"3.5690255165100098\": {\"frequency\": 1, \"value\": 3.5690255165100098}, \"2.176727294921875\": {\"frequency\": 1, \"value\": 2.176727294921875}, \"6.115326404571533\": {\"frequency\": 1, \"value\": 6.115326404571533}, \"0.037619948387145996\": {\"frequency\": 1, \"value\": 0.037619948387145996}, \"0.16246765851974487\": {\"frequency\": 1, \"value\": 0.16246765851974487}, \"0.286689817905426\": {\"frequency\": 1, \"value\": 0.286689817905426}, \"1.204323172569275\": {\"frequency\": 1, \"value\": 1.204323172569275}, \"2.940735101699829\": {\"frequency\": 1, \"value\": 2.940735101699829}, \"0.4358941316604614\": {\"frequency\": 1, \"value\": 0.4358941316604614}, \"0.7181358337402344\": {\"frequency\": 1, \"value\": 0.7181358337402344}, \"0.9578974843025208\": {\"frequency\": 1, \"value\": 0.9578974843025208}, \"1.3594532012939453\": {\"frequency\": 1, \"value\": 1.3594532012939453}, \"1.2894294261932373\": {\"frequency\": 1, \"value\": 1.2894294261932373}, \"1.9664524793624878\": {\"frequency\": 1, \"value\": 1.9664524793624878}, \"1.395638346672058\": {\"frequency\": 1, \"value\": 1.395638346672058}, \"0.8434076905250549\": {\"frequency\": 1, \"value\": 0.8434076905250549}, \"1.1991151571273804\": {\"frequency\": 1, \"value\": 1.1991151571273804}, \"0.4869425296783447\": {\"frequency\": 1, \"value\": 0.4869425296783447}, \"0.832944929599762\": {\"frequency\": 1, \"value\": 0.832944929599762}, \"0.07756870985031128\": {\"frequency\": 1, \"value\": 0.07756870985031128}, \"0.8048573732376099\": {\"frequency\": 1, \"value\": 0.8048573732376099}, \"0.7753797173500061\": {\"frequency\": 1, \"value\": 0.7753797173500061}, \"4.184507846832275\": {\"frequency\": 1, \"value\": 4.184507846832275}, \"0.5529922246932983\": {\"frequency\": 1, \"value\": 0.5529922246932983}, \"0.9112822413444519\": {\"frequency\": 1, \"value\": 0.9112822413444519}, \"0.9069133400917053\": {\"frequency\": 1, \"value\": 0.9069133400917053}, \"1.1437153816223145\": {\"frequency\": 1, \"value\": 1.1437153816223145}, \"0.35434043407440186\": {\"frequency\": 1, \"value\": 0.35434043407440186}, \"0.5371943712234497\": {\"frequency\": 1, \"value\": 0.5371943712234497}, \"0.6485012769699097\": {\"frequency\": 1, \"value\": 0.6485012769699097}, \"1.0736711025238037\": {\"frequency\": 1, \"value\": 1.0736711025238037}, \"0.7241891622543335\": {\"frequency\": 1, \"value\": 0.7241891622543335}, \"1.4446505308151245\": {\"frequency\": 1, \"value\": 1.4446505308151245}, \"1.3694136142730713\": {\"frequency\": 1, \"value\": 1.3694136142730713}, \"2.801264762878418\": {\"frequency\": 1, \"value\": 2.801264762878418}, \"0.023612141609191895\": {\"frequency\": 1, \"value\": 0.023612141609191895}, \"2.0661509037017822\": {\"frequency\": 1, \"value\": 2.0661509037017822}, \"0.15463018417358398\": {\"frequency\": 1, \"value\": 0.15463018417358398}, \"1.620023250579834\": {\"frequency\": 1, \"value\": 1.620023250579834}, \"0.11672675609588623\": {\"frequency\": 1, \"value\": 0.11672675609588623}, \"0.35326439142227173\": {\"frequency\": 1, \"value\": 0.35326439142227173}, \"0.049138545989990234\": {\"frequency\": 1, \"value\": 0.049138545989990234}, \"0.4175647497177124\": {\"frequency\": 1, \"value\": 0.4175647497177124}, \"1.5390334129333496\": {\"frequency\": 1, \"value\": 1.5390334129333496}, \"5.195962429046631\": {\"frequency\": 1, \"value\": 5.195962429046631}, \"0.37992388010025024\": {\"frequency\": 1, \"value\": 0.37992388010025024}, \"0.5176479816436768\": {\"frequency\": 1, \"value\": 0.5176479816436768}, \"2.9396839141845703\": {\"frequency\": 1, \"value\": 2.9396839141845703}, \"0.5988740921020508\": {\"frequency\": 1, \"value\": 0.5988740921020508}, \"0.9339726567268372\": {\"frequency\": 1, \"value\": 0.9339726567268372}, \"0.554131269454956\": {\"frequency\": 1, \"value\": 0.554131269454956}, \"0.17870306968688965\": {\"frequency\": 1, \"value\": 0.17870306968688965}, \"0.5234540700912476\": {\"frequency\": 1, \"value\": 0.5234540700912476}, \"2.985677480697632\": {\"frequency\": 1, \"value\": 2.985677480697632}, \"0.16036850214004517\": {\"frequency\": 1, \"value\": 0.16036850214004517}, \"0.1563171148300171\": {\"frequency\": 1, \"value\": 0.1563171148300171}, \"0.6070141792297363\": {\"frequency\": 1, \"value\": 0.6070141792297363}, \"2.247206926345825\": {\"frequency\": 1, \"value\": 2.247206926345825}, \"1.3656046390533447\": {\"frequency\": 1, \"value\": 1.3656046390533447}, \"0.7801384925842285\": {\"frequency\": 1, \"value\": 0.7801384925842285}, \"0.28411179780960083\": {\"frequency\": 1, \"value\": 0.28411179780960083}, \"0.46914181113243103\": {\"frequency\": 1, \"value\": 0.46914181113243103}, \"5.00190544128418\": {\"frequency\": 1, \"value\": 5.00190544128418}, \"0.8987046480178833\": {\"frequency\": 1, \"value\": 0.8987046480178833}, \"0.25837039947509766\": {\"frequency\": 1, \"value\": 0.25837039947509766}, \"4.119123935699463\": {\"frequency\": 1, \"value\": 4.119123935699463}, \"2.7210006713867188\": {\"frequency\": 1, \"value\": 2.7210006713867188}, \"1.0937769412994385\": {\"frequency\": 1, \"value\": 1.0937769412994385}, \"0.6066759824752808\": {\"frequency\": 1, \"value\": 0.6066759824752808}, \"0.015081644058227539\": {\"frequency\": 1, \"value\": 0.015081644058227539}, \"0.7172210812568665\": {\"frequency\": 1, \"value\": 0.7172210812568665}, \"0.5220851302146912\": {\"frequency\": 1, \"value\": 0.5220851302146912}, \"1.2597548961639404\": {\"frequency\": 1, \"value\": 1.2597548961639404}, \"0.6153514385223389\": {\"frequency\": 1, \"value\": 0.6153514385223389}, \"0.018871605396270752\": {\"frequency\": 1, \"value\": 0.018871605396270752}, \"2.091358184814453\": {\"frequency\": 1, \"value\": 2.091358184814453}, \"1.0977309942245483\": {\"frequency\": 1, \"value\": 1.0977309942245483}, \"1.825161099433899\": {\"frequency\": 1, \"value\": 1.825161099433899}, \"0.39293771982192993\": {\"frequency\": 1, \"value\": 0.39293771982192993}, \"2.1579670906066895\": {\"frequency\": 1, \"value\": 2.1579670906066895}, \"1.5101027488708496\": {\"frequency\": 1, \"value\": 1.5101027488708496}, \"1.0538702011108398\": {\"frequency\": 1, \"value\": 1.0538702011108398}, \"0.2609069347381592\": {\"frequency\": 1, \"value\": 0.2609069347381592}, \"1.0410948991775513\": {\"frequency\": 1, \"value\": 1.0410948991775513}, \"1.6315197944641113\": {\"frequency\": 1, \"value\": 1.6315197944641113}, \"3.8512508869171143\": {\"frequency\": 1, \"value\": 3.8512508869171143}, \"0.08742207288742065\": {\"frequency\": 1, \"value\": 0.08742207288742065}, \"1.8351495265960693\": {\"frequency\": 1, \"value\": 1.8351495265960693}, \"0.27830618619918823\": {\"frequency\": 1, \"value\": 0.27830618619918823}, \"0.3800458312034607\": {\"frequency\": 1, \"value\": 0.3800458312034607}, \"0.12499749660491943\": {\"frequency\": 1, \"value\": 0.12499749660491943}, \"0.8919014930725098\": {\"frequency\": 1, \"value\": 0.8919014930725098}, \"0.9353001117706299\": {\"frequency\": 1, \"value\": 0.9353001117706299}, \"0.7065415978431702\": {\"frequency\": 1, \"value\": 0.7065415978431702}, \"0.21764355897903442\": {\"frequency\": 1, \"value\": 0.21764355897903442}, \"0.48021823167800903\": {\"frequency\": 1, \"value\": 0.48021823167800903}, \"2.4819679260253906\": {\"frequency\": 1, \"value\": 2.4819679260253906}, \"1.210065245628357\": {\"frequency\": 1, \"value\": 1.210065245628357}, \"0.427304744720459\": {\"frequency\": 1, \"value\": 0.427304744720459}, \"0.7911784648895264\": {\"frequency\": 1, \"value\": 0.7911784648895264}, \"0.5255798697471619\": {\"frequency\": 1, \"value\": 0.5255798697471619}, \"3.176764965057373\": {\"frequency\": 1, \"value\": 3.176764965057373}, \"0.6435490846633911\": {\"frequency\": 1, \"value\": 0.6435490846633911}, \"0.857761025428772\": {\"frequency\": 1, \"value\": 0.857761025428772}, \"1.1857964992523193\": {\"frequency\": 1, \"value\": 1.1857964992523193}, \"0.3730736970901489\": {\"frequency\": 1, \"value\": 0.3730736970901489}, \"0.5886887311935425\": {\"frequency\": 1, \"value\": 0.5886887311935425}, \"0.6604191064834595\": {\"frequency\": 1, \"value\": 0.6604191064834595}, \"0.10579127073287964\": {\"frequency\": 1, \"value\": 0.10579127073287964}, \"1.4061673879623413\": {\"frequency\": 1, \"value\": 1.4061673879623413}, \"0.2470996379852295\": {\"frequency\": 1, \"value\": 0.2470996379852295}, \"1.2218366861343384\": {\"frequency\": 1, \"value\": 1.2218366861343384}, \"0.3170437812805176\": {\"frequency\": 1, \"value\": 0.3170437812805176}, \"5.822000503540039\": {\"frequency\": 1, \"value\": 5.822000503540039}, \"1.4853192567825317\": {\"frequency\": 1, \"value\": 1.4853192567825317}, \"1.3814303874969482\": {\"frequency\": 1, \"value\": 1.3814303874969482}, \"1.9336912631988525\": {\"frequency\": 1, \"value\": 1.9336912631988525}, \"1.4261306524276733\": {\"frequency\": 1, \"value\": 1.4261306524276733}, \"2.4493837356567383\": {\"frequency\": 1, \"value\": 2.4493837356567383}, \"4.55384635925293\": {\"frequency\": 1, \"value\": 4.55384635925293}, \"3.0287692546844482\": {\"frequency\": 1, \"value\": 3.0287692546844482}, \"0.23803937435150146\": {\"frequency\": 1, \"value\": 0.23803937435150146}, \"0.5305964946746826\": {\"frequency\": 1, \"value\": 0.5305964946746826}, \"1.6414861679077148\": {\"frequency\": 1, \"value\": 1.6414861679077148}, \"2.0302252769470215\": {\"frequency\": 1, \"value\": 2.0302252769470215}, \"0.6877818703651428\": {\"frequency\": 1, \"value\": 0.6877818703651428}, \"1.323623776435852\": {\"frequency\": 1, \"value\": 1.323623776435852}, \"0.8671441078186035\": {\"frequency\": 1, \"value\": 0.8671441078186035}, \"2.2603588104248047\": {\"frequency\": 1, \"value\": 2.2603588104248047}, \"0.12882721424102783\": {\"frequency\": 1, \"value\": 0.12882721424102783}, \"0.8936856985092163\": {\"frequency\": 1, \"value\": 0.8936856985092163}, \"1.3499442338943481\": {\"frequency\": 1, \"value\": 1.3499442338943481}, \"0.27249085903167725\": {\"frequency\": 1, \"value\": 0.27249085903167725}, \"0.6208562850952148\": {\"frequency\": 1, \"value\": 0.6208562850952148}, \"1.113257646560669\": {\"frequency\": 1, \"value\": 1.113257646560669}, \"0.2911759614944458\": {\"frequency\": 1, \"value\": 0.2911759614944458}, \"0.30330830812454224\": {\"frequency\": 1, \"value\": 0.30330830812454224}, \"0.1955322027206421\": {\"frequency\": 1, \"value\": 0.1955322027206421}, \"0.8148610591888428\": {\"frequency\": 1, \"value\": 0.8148610591888428}, \"1.9881701469421387\": {\"frequency\": 1, \"value\": 1.9881701469421387}, \"1.071720838546753\": {\"frequency\": 1, \"value\": 1.071720838546753}, \"0.18425697088241577\": {\"frequency\": 1, \"value\": 0.18425697088241577}, \"1.928144931793213\": {\"frequency\": 1, \"value\": 1.928144931793213}, \"0.6718634366989136\": {\"frequency\": 1, \"value\": 0.6718634366989136}, \"0.6820772886276245\": {\"frequency\": 1, \"value\": 0.6820772886276245}, \"0.8493645787239075\": {\"frequency\": 1, \"value\": 0.8493645787239075}, \"0.36237549781799316\": {\"frequency\": 1, \"value\": 0.36237549781799316}, \"0.2873796820640564\": {\"frequency\": 1, \"value\": 0.2873796820640564}, \"0.06710958480834961\": {\"frequency\": 1, \"value\": 0.06710958480834961}, \"2.4346208572387695\": {\"frequency\": 1, \"value\": 2.4346208572387695}, \"1.4167786836624146\": {\"frequency\": 1, \"value\": 1.4167786836624146}, \"0.3725348114967346\": {\"frequency\": 1, \"value\": 0.3725348114967346}, \"1.655890703201294\": {\"frequency\": 1, \"value\": 1.655890703201294}, \"1.1267080307006836\": {\"frequency\": 1, \"value\": 1.1267080307006836}, \"0.11251729726791382\": {\"frequency\": 1, \"value\": 0.11251729726791382}, \"0.007211506366729736\": {\"frequency\": 1, \"value\": 0.007211506366729736}, \"0.33633607625961304\": {\"frequency\": 1, \"value\": 0.33633607625961304}, \"0.9250503182411194\": {\"frequency\": 1, \"value\": 0.9250503182411194}, \"2.2400970458984375\": {\"frequency\": 1, \"value\": 2.2400970458984375}, \"0.3114912509918213\": {\"frequency\": 1, \"value\": 0.3114912509918213}, \"0.3634878993034363\": {\"frequency\": 1, \"value\": 0.3634878993034363}, \"1.0067754983901978\": {\"frequency\": 1, \"value\": 1.0067754983901978}, \"0.014281749725341797\": {\"frequency\": 1, \"value\": 0.014281749725341797}, \"2.0771689414978027\": {\"frequency\": 1, \"value\": 2.0771689414978027}, \"2.8903467655181885\": {\"frequency\": 1, \"value\": 2.8903467655181885}, \"0.561792254447937\": {\"frequency\": 1, \"value\": 0.561792254447937}, \"2.517362117767334\": {\"frequency\": 1, \"value\": 2.517362117767334}, \"5.915378570556641\": {\"frequency\": 1, \"value\": 5.915378570556641}, \"1.221559762954712\": {\"frequency\": 1, \"value\": 1.221559762954712}, \"0.863739550113678\": {\"frequency\": 1, \"value\": 0.863739550113678}, \"1.8127061128616333\": {\"frequency\": 1, \"value\": 1.8127061128616333}, \"0.47728967666625977\": {\"frequency\": 1, \"value\": 0.47728967666625977}, \"2.739675760269165\": {\"frequency\": 1, \"value\": 2.739675760269165}, \"0.3670547604560852\": {\"frequency\": 1, \"value\": 0.3670547604560852}, \"0.5288518667221069\": {\"frequency\": 1, \"value\": 0.5288518667221069}, \"0.5103623867034912\": {\"frequency\": 1, \"value\": 0.5103623867034912}, \"1.8545057773590088\": {\"frequency\": 1, \"value\": 1.8545057773590088}, \"3.3068113327026367\": {\"frequency\": 1, \"value\": 3.3068113327026367}, \"0.9163311123847961\": {\"frequency\": 1, \"value\": 0.9163311123847961}, \"0.6297426223754883\": {\"frequency\": 1, \"value\": 0.6297426223754883}, \"2.0974762439727783\": {\"frequency\": 1, \"value\": 2.0974762439727783}, \"0.06129580736160278\": {\"frequency\": 1, \"value\": 0.06129580736160278}, \"0.886272132396698\": {\"frequency\": 1, \"value\": 0.886272132396698}, \"0.30786365270614624\": {\"frequency\": 1, \"value\": 0.30786365270614624}, \"1.8352651596069336\": {\"frequency\": 1, \"value\": 1.8352651596069336}, \"5.856856346130371\": {\"frequency\": 1, \"value\": 5.856856346130371}, \"0.6425284147262573\": {\"frequency\": 1, \"value\": 0.6425284147262573}, \"0.1679069995880127\": {\"frequency\": 1, \"value\": 0.1679069995880127}, \"0.9251171946525574\": {\"frequency\": 1, \"value\": 0.9251171946525574}, \"1.2210474014282227\": {\"frequency\": 1, \"value\": 1.2210474014282227}, \"0.5183084011077881\": {\"frequency\": 1, \"value\": 0.5183084011077881}, \"1.7420313358306885\": {\"frequency\": 1, \"value\": 1.7420313358306885}, \"0.5074797868728638\": {\"frequency\": 1, \"value\": 0.5074797868728638}, \"0.2962605953216553\": {\"frequency\": 1, \"value\": 0.2962605953216553}, \"0.8851054906845093\": {\"frequency\": 1, \"value\": 0.8851054906845093}, \"0.652810275554657\": {\"frequency\": 1, \"value\": 0.652810275554657}, \"0.9291813373565674\": {\"frequency\": 1, \"value\": 0.9291813373565674}, \"0.9228301048278809\": {\"frequency\": 1, \"value\": 0.9228301048278809}, \"2.842595338821411\": {\"frequency\": 1, \"value\": 2.842595338821411}, \"0.10273092985153198\": {\"frequency\": 1, \"value\": 0.10273092985153198}, \"0.14594823122024536\": {\"frequency\": 1, \"value\": 0.14594823122024536}, \"0.29683125019073486\": {\"frequency\": 1, \"value\": 0.29683125019073486}, \"1.6481503248214722\": {\"frequency\": 1, \"value\": 1.6481503248214722}, \"2.045302629470825\": {\"frequency\": 1, \"value\": 2.045302629470825}, \"0.09539639949798584\": {\"frequency\": 1, \"value\": 0.09539639949798584}, \"2.581045150756836\": {\"frequency\": 1, \"value\": 2.581045150756836}, \"0.47002485394477844\": {\"frequency\": 1, \"value\": 0.47002485394477844}, \"0.4795852303504944\": {\"frequency\": 1, \"value\": 0.4795852303504944}, \"1.5173752307891846\": {\"frequency\": 1, \"value\": 1.5173752307891846}, \"4.978911876678467\": {\"frequency\": 1, \"value\": 4.978911876678467}, \"0.630099892616272\": {\"frequency\": 1, \"value\": 0.630099892616272}, \"4.185041427612305\": {\"frequency\": 1, \"value\": 4.185041427612305}, \"2.9274768829345703\": {\"frequency\": 1, \"value\": 2.9274768829345703}, \"1.9191620349884033\": {\"frequency\": 1, \"value\": 1.9191620349884033}, \"1.5055670738220215\": {\"frequency\": 1, \"value\": 1.5055670738220215}, \"0.9011930823326111\": {\"frequency\": 1, \"value\": 0.9011930823326111}, \"1.3059804439544678\": {\"frequency\": 1, \"value\": 1.3059804439544678}, \"0.5801658034324646\": {\"frequency\": 1, \"value\": 0.5801658034324646}, \"2.3765974044799805\": {\"frequency\": 1, \"value\": 2.3765974044799805}, \"1.4067572355270386\": {\"frequency\": 1, \"value\": 1.4067572355270386}, \"1.1215415000915527\": {\"frequency\": 1, \"value\": 1.1215415000915527}, \"0.018296658992767334\": {\"frequency\": 1, \"value\": 0.018296658992767334}, \"0.2055720090866089\": {\"frequency\": 1, \"value\": 0.2055720090866089}, \"3.771629810333252\": {\"frequency\": 1, \"value\": 3.771629810333252}, \"0.9699020385742188\": {\"frequency\": 1, \"value\": 0.9699020385742188}, \"3.3381736278533936\": {\"frequency\": 1, \"value\": 3.3381736278533936}, \"3.086160898208618\": {\"frequency\": 1, \"value\": 3.086160898208618}, \"3.224149227142334\": {\"frequency\": 1, \"value\": 3.224149227142334}, \"1.840980052947998\": {\"frequency\": 1, \"value\": 1.840980052947998}, \"0.42184364795684814\": {\"frequency\": 1, \"value\": 0.42184364795684814}, \"1.3929880857467651\": {\"frequency\": 1, \"value\": 1.3929880857467651}, \"0.5981805324554443\": {\"frequency\": 1, \"value\": 0.5981805324554443}, \"0.01767963171005249\": {\"frequency\": 1, \"value\": 0.01767963171005249}, \"2.1626529693603516\": {\"frequency\": 1, \"value\": 2.1626529693603516}, \"9.264543533325195\": {\"frequency\": 1, \"value\": 9.264543533325195}, \"0.43416136503219604\": {\"frequency\": 1, \"value\": 0.43416136503219604}, \"1.2257113456726074\": {\"frequency\": 1, \"value\": 1.2257113456726074}, \"1.026671051979065\": {\"frequency\": 1, \"value\": 1.026671051979065}, \"0.584955632686615\": {\"frequency\": 1, \"value\": 0.584955632686615}, \"1.2804044485092163\": {\"frequency\": 1, \"value\": 1.2804044485092163}, \"0.7107688188552856\": {\"frequency\": 1, \"value\": 0.7107688188552856}, \"0.08095723390579224\": {\"frequency\": 1, \"value\": 0.08095723390579224}, \"3.7511138916015625\": {\"frequency\": 1, \"value\": 3.7511138916015625}, \"1.4588977098464966\": {\"frequency\": 1, \"value\": 1.4588977098464966}, \"0.21185261011123657\": {\"frequency\": 1, \"value\": 0.21185261011123657}, \"1.373288631439209\": {\"frequency\": 1, \"value\": 1.373288631439209}, \"0.8449435234069824\": {\"frequency\": 1, \"value\": 0.8449435234069824}, \"2.0088143348693848\": {\"frequency\": 1, \"value\": 2.0088143348693848}, \"0.5566445589065552\": {\"frequency\": 1, \"value\": 0.5566445589065552}, \"4.606893062591553\": {\"frequency\": 1, \"value\": 4.606893062591553}, \"0.05154097080230713\": {\"frequency\": 1, \"value\": 0.05154097080230713}, \"2.067441463470459\": {\"frequency\": 1, \"value\": 2.067441463470459}, \"0.45991456508636475\": {\"frequency\": 1, \"value\": 0.45991456508636475}, \"3.782806873321533\": {\"frequency\": 1, \"value\": 3.782806873321533}, \"0.12290966510772705\": {\"frequency\": 1, \"value\": 0.12290966510772705}, \"1.1324948072433472\": {\"frequency\": 1, \"value\": 1.1324948072433472}, \"0.49934715032577515\": {\"frequency\": 1, \"value\": 0.49934715032577515}, \"1.6538927555084229\": {\"frequency\": 1, \"value\": 1.6538927555084229}, \"0.4158540368080139\": {\"frequency\": 1, \"value\": 0.4158540368080139}, \"0.5643262267112732\": {\"frequency\": 1, \"value\": 0.5643262267112732}, \"0.42327606678009033\": {\"frequency\": 1, \"value\": 0.42327606678009033}, \"3.4444162845611572\": {\"frequency\": 1, \"value\": 3.4444162845611572}, \"2.4700889587402344\": {\"frequency\": 1, \"value\": 2.4700889587402344}, \"0.9099500775337219\": {\"frequency\": 1, \"value\": 0.9099500775337219}, \"1.6271162033081055\": {\"frequency\": 1, \"value\": 1.6271162033081055}, \"4.471367835998535\": {\"frequency\": 1, \"value\": 4.471367835998535}, \"2.656951904296875\": {\"frequency\": 1, \"value\": 2.656951904296875}, \"2.7689125537872314\": {\"frequency\": 1, \"value\": 2.7689125537872314}, \"3.2788281440734863\": {\"frequency\": 1, \"value\": 3.2788281440734863}, \"0.7555953860282898\": {\"frequency\": 1, \"value\": 0.7555953860282898}, \"0.14210575819015503\": {\"frequency\": 1, \"value\": 0.14210575819015503}, \"0.21747469902038574\": {\"frequency\": 1, \"value\": 0.21747469902038574}, \"0.23850613832473755\": {\"frequency\": 1, \"value\": 0.23850613832473755}, \"2.4255340099334717\": {\"frequency\": 1, \"value\": 2.4255340099334717}, \"1.4564882516860962\": {\"frequency\": 1, \"value\": 1.4564882516860962}, \"0.8899211883544922\": {\"frequency\": 1, \"value\": 0.8899211883544922}, \"0.6648129224777222\": {\"frequency\": 1, \"value\": 0.6648129224777222}, \"1.237928867340088\": {\"frequency\": 1, \"value\": 1.237928867340088}, \"0.34938400983810425\": {\"frequency\": 1, \"value\": 0.34938400983810425}, \"1.3269052505493164\": {\"frequency\": 1, \"value\": 1.3269052505493164}, \"0.061943113803863525\": {\"frequency\": 1, \"value\": 0.061943113803863525}, \"2.1695382595062256\": {\"frequency\": 1, \"value\": 2.1695382595062256}, \"1.158406138420105\": {\"frequency\": 1, \"value\": 1.158406138420105}, \"0.411179780960083\": {\"frequency\": 1, \"value\": 0.411179780960083}, \"2.724759578704834\": {\"frequency\": 1, \"value\": 2.724759578704834}, \"0.8693232536315918\": {\"frequency\": 1, \"value\": 0.8693232536315918}, \"0.4512109160423279\": {\"frequency\": 1, \"value\": 0.4512109160423279}, \"0.18193936347961426\": {\"frequency\": 1, \"value\": 0.18193936347961426}, \"2.530393600463867\": {\"frequency\": 1, \"value\": 2.530393600463867}, \"0.26476651430130005\": {\"frequency\": 1, \"value\": 0.26476651430130005}, \"0.3263932466506958\": {\"frequency\": 1, \"value\": 0.3263932466506958}, \"1.441214919090271\": {\"frequency\": 1, \"value\": 1.441214919090271}, \"1.7059905529022217\": {\"frequency\": 1, \"value\": 1.7059905529022217}, \"1.9540016651153564\": {\"frequency\": 1, \"value\": 1.9540016651153564}, \"0.014758288860321045\": {\"frequency\": 1, \"value\": 0.014758288860321045}, \"0.073844313621521\": {\"frequency\": 1, \"value\": 0.073844313621521}, \"0.0259971022605896\": {\"frequency\": 1, \"value\": 0.0259971022605896}, \"2.82312273979187\": {\"frequency\": 1, \"value\": 2.82312273979187}, \"0.6034025549888611\": {\"frequency\": 1, \"value\": 0.6034025549888611}, \"1.8737943172454834\": {\"frequency\": 1, \"value\": 1.8737943172454834}}, \"mean\": 0.33733607921749337}, \"image\": {\"progress\": 1.0, \"num_undefined\": 0, \"complete\": true, \"samples\": [{\"format\": \"raw\", \"value\": [16, 17, 11, 18, 19, 13, 20, 21, 15, 24, 25, 19, 26, 27, 21, 22, 23, 17, 19, 20, 14, 19, 20, 15, 16, 17, 12, 12, 13, 8, 11, 12, 8, 28, 17, 6, 88, 44, 8, 84, 41, 13, 84, 46, 31, 91, 51, 34, 97, 56, 36, 101, 61, 40, 85, 51, 33, 74, 45, 28, 79, 47, 29, 92, 54, 35, 96, 53, 33, 103, 58, 34, 86, 48, 27, 86, 52, 34, 107, 68, 51, 90, 61, 48, 101, 93, 92, 116, 130, 145, 103, 110, 123, 98, 94, 100, 12, 13, 9, 15, 16, 12, 20, 21, 17, 23, 24, 19, 27, 28, 22, 24, 25, 19, 20, 21, 15, 21, 22, 16, 16, 17, 12, 13, 14, 9, 12, 13, 9, 25, 15, 5, 81, 41, 10, 80, 41, 14, 83, 45, 25, 100, 55, 33, 108, 61, 39, 100, 57, 36, 67, 31, 16, 62, 30, 19, 75, 39, 25, 99, 57, 37, 112, 65, 43, 99, 55, 31, 74, 38, 19, 80, 45, 29, 102, 62, 43, 98, 66, 53, 105, 95, 95, 114, 126, 142, 102, 108, 123, 97, 92, 99, 19, 19, 17, 22, 22, 20, 20, 20, 17, 23, 25, 19, 28, 29, 23, 26, 27, 21, 21, 22, 16, 21, 22, 16, 16, 17, 12, 16, 16, 11, 14, 16, 12, 23, 18, 13, 78, 45, 25, 102, 68, 50, 94, 59, 39, 102, 57, 34, 108, 61, 37, 112, 67, 43, 100, 61, 40, 105, 64, 45, 111, 66, 47, 114, 67, 46, 124, 75, 52, 103, 61, 36, 81, 46, 29, 78, 43, 28, 102, 61, 40, 99, 72, 61, 108, 103, 105, 118, 133, 149, 103, 109, 123, 96, 94, 100, 23, 23, 21, 70, 70, 69, 64, 63, 60, 29, 29, 24, 25, 26, 21, 26, 27, 22, 22, 23, 17, 22, 23, 18, 18, 19, 14, 16, 16, 12, 15, 17, 15, 46, 44, 46, 112, 84, 75, 106, 78, 70, 96, 65, 52, 105, 64, 42, 107, 64, 38, 118, 73, 46, 121, 80, 52, 123, 82, 55, 122, 80, 53, 120, 80, 53, 121, 82, 54, 107, 67, 41, 87, 52, 37, 82, 45, 30, 101, 59, 37, 83, 63, 54, 84, 85, 88, 108, 123, 135, 88, 93, 102, 77, 77, 82, 29, 28, 28, 78, 77, 81, 116, 104, 102, 104, 94, 91, 37, 35, 32, 25, 25, 21, 24, 23, 20, 23, 23, 20, 19, 19, 17, 16, 15, 14, 22, 23, 24, 97, 90, 89, 151, 118, 108, 111, 87, 81, 111, 85, 77, 111, 70, 48, 110, 66, 40, 114, 70, 43, 115, 72, 45, 119, 80, 51, 123, 78, 50, 114, 71, 46, 113, 72, 43, 110, 66, 40, 86, 49, 34, 81, 41, 24, 97, 54, 32, 70, 49, 41, 49, 44, 44, 61, 62, 66, 56, 54, 60, 52, 49, 51, 29, 28, 28, 49, 48, 52, 108, 92, 88, 156, 139, 128, 90, 83, 72, 31, 30, 21, 23, 23, 18, 40, 39, 34, 60, 57, 53, 68, 63, 60, 66, 61, 58, 130, 111, 102, 135, 95, 80, 122, 95, 86, 126, 105, 100, 103, 70, 55, 94, 60, 40, 92, 58, 39, 94, 59, 40, 99, 61, 38, 101, 57, 33, 93, 51, 28, 91, 51, 29, 87, 47, 25, 74, 40, 25, 73, 41, 28, 88, 53, 40, 63, 45, 40, 51, 44, 43, 52, 49, 49, 53, 49, 52, 53, 48, 49, 27, 26, 24, 56, 56, 59, 105, 88, 82, 137, 105, 88, 139, 114, 97, 109, 95, 84, 98, 87, 81, 117, 110, 105, 162, 153, 146, 158, 144, 136, 117, 100, 89, 127, 96, 79, 128, 84, 67, 123, 93, 80, 129, 113, 109, 92, 75, 69, 55, 38, 29, 55, 38, 30, 63, 44, 34, 83, 53, 38, 94, 61, 42, 101, 63, 38, 92, 59, 37, 103, 71, 49, 89, 59, 37, 63, 44, 36, 67, 47, 46, 55, 41, 40, 52, 48, 46, 55, 53, 53, 58, 54, 55, 58, 54, 54, 26, 25, 22, 64, 64, 65, 99, 82, 75, 130, 92, 76, 161, 127, 112, 164, 140, 131, 168, 149, 144, 173, 160, 154, 211, 196, 186, 172, 149, 136, 122, 93, 75, 144, 106, 87, 143, 101, 87, 135, 104, 89, 120, 108, 106, 90, 85, 87, 38, 33, 34, 31, 26, 28, 46, 38, 38, 86, 67, 59, 106, 87, 72, 140, 105, 73, 129, 99, 69, 138, 113, 82, 147, 118, 81, 65, 57, 45, 49, 42, 45, 50, 41, 41, 54, 53, 51, 60, 60, 58, 63, 58, 58, 64, 59, 58, 31, 31, 27, 67, 66, 66, 116, 99, 93, 143, 114, 102, 181, 158, 147, 194, 179, 171, 196, 182, 177, 198, 185, 177, 206, 187, 174, 156, 127, 109, 131, 97, 75, 162, 126, 108, 152, 115, 104, 151, 120, 104, 125, 115, 112, 79, 79, 84, 37, 37, 41, 21, 22, 26, 24, 23, 26, 58, 49, 44, 103, 93, 77, 160, 127, 88, 149, 121, 83, 144, 120, 79, 177, 149, 99, 85, 82, 64, 41, 40, 45, 51, 47, 49, 56, 56, 56, 63, 62, 61, 66, 61, 61, 68, 64, 63, 29, 29, 29, 70, 66, 66, 118, 103, 100, 160, 141, 133, 180, 168, 159, 185, 172, 167, 206, 195, 192, 196, 183, 172, 174, 153, 133, 141, 112, 90, 148, 123, 105, 175, 150, 137, 172, 139, 123, 178, 150, 133, 142, 130, 126, 65, 65, 67, 29, 30, 32, 19, 20, 23, 18, 18, 21, 57, 52, 45, 142, 124, 100, 186, 156, 120, 166, 145, 104, 175, 158, 118, 185, 168, 126, 87, 81, 67, 42, 44, 50, 47, 49, 57, 46, 46, 52, 60, 59, 62, 69, 65, 67, 70, 67, 66, 51, 51, 52, 77, 72, 74, 117, 103, 102, 156, 142, 135, 156, 147, 137, 138, 123, 114, 154, 140, 131, 159, 141, 132, 136, 110, 98, 126, 99, 87, 166, 147, 140, 201, 184, 176, 183, 158, 143, 201, 177, 163, 142, 130, 126, 46, 46, 47, 18, 19, 21, 17, 18, 20, 22, 22, 25, 43, 38, 34, 138, 119, 97, 166, 136, 107, 185, 162, 122, 157, 147, 114, 173, 168, 135, 98, 94, 82, 46, 47, 49, 50, 53, 62, 45, 45, 53, 51, 49, 54, 70, 66, 69, 76, 72, 72, 60, 58, 59, 79, 74, 77, 127, 115, 116, 143, 132, 126, 143, 136, 124, 143, 125, 112, 128, 110, 94, 105, 86, 72, 127, 100, 88, 142, 123, 110, 167, 151, 144, 209, 197, 190, 176, 159, 148, 195, 175, 165, 149, 137, 134, 44, 42, 45, 23, 24, 28, 30, 31, 34, 33, 33, 38, 42, 37, 39, 74, 60, 50, 121, 95, 74, 177, 144, 103, 173, 147, 109, 193, 179, 144, 124, 119, 108, 46, 50, 52, 52, 55, 63, 45, 45, 53, 43, 42, 46, 68, 64, 67, 80, 76, 75, 59, 56, 56, 71, 68, 70, 131, 121, 123, 147, 135, 130, 137, 128, 117, 150, 130, 119, 128, 110, 95, 94, 77, 63, 140, 112, 103, 156, 143, 129, 162, 146, 136, 196, 181, 173, 182, 167, 156, 175, 158, 148, 132, 120, 114, 50, 49, 51, 32, 34, 38, 39, 40, 44, 44, 44, 50, 48, 46, 53, 44, 41, 40, 98, 80, 65, 176, 139, 97, 150, 117, 83, 145, 128, 101, 101, 98, 94, 45, 50, 56, 48, 52, 61, 42, 42, 50, 39, 38, 42, 68, 64, 67, 87, 80, 81, 65, 61, 60, 73, 69, 71, 135, 125, 127, 149, 134, 128, 113, 101, 92, 111, 92, 85, 129, 114, 105, 116, 105, 101, 128, 103, 105, 112, 99, 95, 134, 111, 105, 195, 174, 167, 193, 177, 167, 167, 151, 140, 118, 108, 99, 51, 50, 52, 40, 41, 47, 42, 43, 49, 50, 51, 56, 47, 50, 58, 52, 56, 60, 114, 101, 90, 180, 144, 101, 126, 103, 83, 94, 89, 82, 69, 70, 75, 55, 57, 65, 53, 55, 64, 40, 41, 48, 37, 36, 40, 69, 65, 66, 90, 82, 83, 71, 66, 67, 88, 80, 81, 119, 107, 106, 130, 115, 104, 135, 119, 112, 128, 114, 108, 152, 144, 142, 158, 152, 152, 140, 124, 124, 114, 93, 91, 159, 125, 110, 200, 176, 164, 198, 182, 173, 170, 156, 149, 114, 107, 104, 53, 53, 58, 46, 49, 56, 44, 47, 54, 46, 49, 55, 39, 40, 46, 57, 58, 65, 132, 119, 107, 190, 152, 106, 178, 140, 102, 133, 115, 102, 68, 67, 68, 54, 58, 68, 46, 50, 60, 31, 36, 40, 37, 38, 39, 69, 63, 63, 92, 83, 83, 78, 73, 74, 89, 80, 80, 87, 76, 74, 94, 81, 71, 121, 103, 98, 141, 126, 119, 146, 138, 137, 160, 150, 152, 164, 144, 143, 168, 141, 138, 179, 140, 125, 200, 172, 156, 197, 177, 164, 167, 152, 145, 106, 101, 102, 54, 56, 62, 53, 57, 64, 49, 52, 59, 43, 46, 53, 42, 45, 51, 63, 64, 72, 105, 93, 84, 156, 126, 89, 152, 121, 90, 123, 108, 101, 71, 73, 75, 73, 79, 91, 50, 54, 66, 34, 39, 45, 36, 37, 39, 70, 64, 64, 98, 89, 90, 85, 79, 81, 89, 81, 80, 65, 57, 54, 72, 61, 55, 130, 111, 108, 167, 149, 140, 132, 122, 119, 128, 121, 124, 170, 154, 149, 199, 178, 172, 205, 175, 163, 207, 177, 161, 192, 169, 152, 154, 141, 132, 86, 84, 88, 53, 56, 63, 57, 60, 67, 51, 54, 61, 47, 51, 57, 49, 53, 60, 54, 55, 61, 75, 66, 60, 114, 96, 74, 139, 124, 111, 136, 130, 134, 95, 99, 105, 90, 96, 108, 64, 69, 81, 43, 49, 56, 40, 41, 44, 71, 65, 66, 106, 96, 97, 90, 83, 84, 90, 82, 82, 73, 66, 63, 97, 87, 84, 164, 142, 141, 165, 144, 132, 97, 87, 82, 88, 83, 87, 181, 166, 159, 206, 189, 180, 201, 179, 170, 218, 194, 183, 193, 174, 159, 137, 127, 119, 67, 67, 74, 51, 54, 62, 55, 58, 65, 52, 55, 62, 50, 53, 60, 46, 49, 53, 47, 44, 44, 93, 83, 77, 130, 118, 109, 140, 129, 123, 152, 145, 150, 144, 145, 148, 103, 106, 115, 71, 74, 87, 47, 53, 61, 45, 46, 51, 78, 72, 75, 116, 107, 108, 88, 79, 81, 90, 84, 83, 93, 88, 85, 105, 97, 96, 148, 127, 125, 152, 128, 116, 81, 66, 61, 77, 65, 70, 164, 141, 136, 186, 162, 155, 191, 166, 161, 211, 190, 185, 184, 169, 158, 117, 110, 103, 57, 58, 66, 52, 55, 65, 55, 58, 65, 54, 57, 64, 49, 52, 59, 42, 42, 45, 69, 61, 56, 129, 116, 109, 162, 150, 146, 124, 112, 108, 142, 129, 129, 161, 155, 153, 107, 107, 113, 67, 71, 83, 50, 56, 65, 45, 46, 52, 89, 83, 85, 122, 112, 114, 96, 87, 88, 99, 90, 91, 105, 98, 97, 107, 100, 98, 115, 99, 96, 121, 96, 90, 98, 74, 67, 102, 83, 79, 132, 107, 103, 153, 126, 121, 175, 148, 142, 189, 163, 156, 158, 142, 137, 89, 86, 84, 50, 52, 58, 47, 50, 60, 47, 50, 59, 47, 49, 57, 43, 43, 50, 46, 45, 49, 85, 77, 75, 151, 136, 132, 162, 148, 144, 125, 114, 112, 145, 129, 122, 151, 138, 131, 115, 115, 120, 77, 84, 94, 62, 70, 79, 51, 53, 59, 94, 88, 88, 121, 110, 112, 106, 97, 98, 108, 99, 100, 111, 102, 103, 95, 89, 86, 72, 59, 56, 115, 95, 91, 139, 118, 112, 152, 131, 121, 186, 162, 153, 178, 154, 147, 165, 146, 138, 158, 140, 137, 107, 98, 98, 53, 54, 57, 43, 47, 54, 42, 46, 55, 41, 44, 53, 36, 37, 44, 36, 36, 42, 46, 46, 49, 87, 81, 81, 158, 146, 145, 171, 159, 158, 131, 121, 118, 165, 148, 140, 171, 155, 147, 131, 127, 129, 83, 86, 92, 63, 67, 74, 60, 60, 65, 104, 97, 97, 120, 110, 112, 104, 95, 96, 107, 98, 99, 111, 103, 103, 107, 102, 99, 100, 89, 86, 136, 122, 120, 149, 135, 131, 181, 162, 152, 228, 206, 197, 194, 176, 169, 157, 147, 141, 101, 95, 96, 56, 56, 60, 44, 50, 54, 43, 47, 54, 44, 46, 54, 44, 45, 52, 37, 36, 42, 38, 37, 42, 46, 45, 48, 77, 72, 71, 146, 136, 134, 182, 173, 173, 143, 133, 129, 168, 151, 142, 185, 168, 160, 143, 134, 131, 92, 87, 89, 61, 59, 63, 73, 70, 75, 114, 106, 108, 123, 112, 115, 104, 95, 96, 108, 99, 100, 115, 106, 107, 114, 108, 106, 113, 104, 102, 84, 74, 74, 76, 70, 68, 149, 139, 138, 168, 155, 156, 136, 126, 126, 96, 93, 92, 48, 48, 51, 44, 48, 52, 44, 49, 53, 44, 46, 51, 49, 50, 57, 46, 46, 53, 44, 42, 48, 41, 39, 43, 54, 51, 49, 79, 71, 66, 115, 104, 99, 150, 141, 139, 163, 151, 146, 174, 156, 146, 174, 157, 146, 166, 151, 145, 132, 120, 118, 85, 77, 79, 94, 89, 93, 125, 116, 118, 126, 115, 118, 108, 99, 100, 111, 102, 103, 113, 104, 105, 115, 109, 107, 114, 106, 105, 86, 78, 78, 81, 78, 78, 76, 73, 79, 59, 55, 63, 73, 69, 75, 64, 65, 67, 42, 45, 48, 48, 52, 56, 49, 51, 53, 52, 50, 52, 59, 57, 62, 55, 54, 60, 47, 46, 51, 42, 39, 41, 64, 56, 50, 107, 95, 86, 130, 116, 108, 128, 117, 111, 168, 155, 148, 189, 173, 164, 171, 153, 143, 169, 151, 142, 170, 155, 149, 117, 107, 107, 104, 97, 102, 127, 118, 122, 129, 118, 122, 107, 98, 99, 110, 101, 102, 111, 102, 103, 115, 107, 105, 118, 110, 108, 119, 111, 109, 120, 114, 112, 79, 76, 77, 40, 38, 44, 64, 62, 68, 48, 49, 50, 42, 43, 47, 53, 52, 57, 71, 68, 69, 93, 87, 87, 70, 64, 66, 59, 57, 62, 57, 56, 61, 57, 51, 51, 93, 79, 73, 134, 117, 109, 151, 134, 126, 135, 118, 111, 152, 138, 131, 188, 176, 170, 182, 167, 160, 169, 150, 138, 178, 163, 154, 137, 128, 127, 118, 111, 115, 131, 121, 127, 131, 122, 125, 109, 100, 101, 112, 103, 104, 112, 103, 104, 117, 109, 107, 120, 112, 110, 121, 113, 110, 123, 115, 113, 108, 103, 102, 64, 60, 63, 61, 58, 61, 50, 50, 50, 63, 62, 64, 95, 92, 94, 97, 90, 89, 125, 116, 113, 103, 94, 93, 86, 80, 81, 79, 73, 75, 83, 74, 73, 126, 111, 109, 155, 137, 135, 164, 147, 145, 148, 131, 129, 147, 132, 126, 171, 158, 151, 177, 161, 152, 166, 144, 131, 172, 150, 140, 153, 138, 134, 130, 120, 120, 132, 122, 123, 135, 125, 128, 111, 102, 103, 110, 101, 103, 114, 105, 106, 119, 111, 110, 120, 112, 110, 122, 114, 112, 125, 117, 115, 125, 117, 117, 97, 90, 90, 58, 53, 52, 64, 61, 60, 87, 82, 82, 131, 124, 123, 112, 102, 98, 125, 113, 107, 133, 119, 114, 137, 123, 118, 100, 88, 85, 103, 92, 91, 139, 125, 127, 154, 138, 141, 155, 139, 142, 154, 138, 140, 156, 140, 136, 180, 162, 154, 176, 155, 144, 150, 126, 114, 144, 118, 107, 139, 120, 114, 128, 116, 114, 131, 121, 119, 133, 123, 125, 111, 102, 103, 111, 102, 104, 116, 107, 108, 119, 111, 109, 121, 113, 111, 125, 117, 115, 129, 121, 119, 130, 120, 120, 115, 106, 103, 93, 86, 81, 102, 96, 94, 118, 110, 108, 152, 141, 138, 142, 128, 122, 139, 123, 114, 136, 117, 108, 141, 120, 111, 116, 98, 90, 117, 104, 101, 144, 130, 131, 152, 137, 138, 152, 137, 139, 144, 129, 130, 145, 129, 124, 152, 130, 121, 135, 108, 96, 117, 92, 80, 125, 104, 93, 124, 108, 102, 131, 119, 119, 137, 124, 124, 133, 123, 125, 112, 103, 104, 112, 103, 104, 117, 108, 109, 119, 111, 110, 124, 116, 114, 126, 118, 117, 127, 119, 117, 129, 116, 115, 139, 128, 122, 127, 118, 111, 119, 111, 106, 133, 121, 115, 154, 139, 131, 154, 137, 128, 148, 130, 119, 140, 118, 105, 129, 104, 92, 124, 103, 93, 131, 117, 113, 147, 134, 133, 147, 134, 133, 146, 134, 133, 148, 135, 134, 145, 130, 127, 142, 120, 113, 129, 104, 95, 127, 105, 97, 137, 122, 115, 136, 124, 121, 136, 125, 127, 138, 125, 127, 133, 123, 126, 111, 101, 102, 112, 103, 104, 117, 108, 109, 121, 112, 113, 124, 115, 116, 123, 114, 115, 126, 117, 117, 126, 113, 109, 131, 118, 111, 131, 119, 110, 121, 110, 99, 141, 123, 111, 150, 129, 116, 158, 138, 125, 156, 134, 121, 148, 123, 108, 131, 107, 94, 119, 101, 92, 144, 130, 125, 147, 136, 135, 143, 133, 132, 143, 133, 131, 144, 133, 132, 144, 130, 130, 147, 132, 131, 145, 130, 129, 142, 127, 127, 139, 128, 128, 138, 129, 129, 137, 127, 128, 132, 122, 123, 133, 123, 126, 109, 100, 101, 110, 101, 102, 114, 105, 106, 116, 107, 109, 119, 110, 111, 121, 112, 113, 122, 113, 113, 124, 115, 113, 125, 113, 108, 128, 114, 105, 122, 105, 93, 129, 107, 94, 134, 111, 97, 149, 126, 112, 155, 132, 118, 144, 120, 108, 135, 114, 104, 136, 119, 112, 145, 131, 128, 144, 134, 133, 143, 133, 133, 141, 131, 131, 141, 131, 130, 143, 130, 131, 142, 129, 130, 140, 127, 128, 138, 125, 126, 136, 125, 127, 133, 123, 124, 133, 123, 123, 129, 119, 120, 128, 119, 121, 105, 96, 97, 107, 98, 99, 111, 102, 103, 114, 105, 106, 119, 110, 111, 120, 111, 112, 118, 109, 110, 119, 113, 113, 126, 117, 114, 123, 108, 100, 123, 103, 92, 121, 98, 86, 124, 101, 89, 130, 107, 95, 129, 106, 94, 131, 111, 103, 139, 121, 115, 146, 131, 128, 142, 129, 128, 142, 132, 133, 143, 133, 134, 141, 131, 132, 141, 131, 132, 138, 127, 129, 138, 126, 128, 135, 123, 126, 132, 121, 123, 133, 122, 124, 130, 120, 121, 128, 118, 119, 127, 117, 118, 127, 117, 120], \"height\": 32, \"channels\": 3, \"width\": 32, \"type\": \"image\", \"id\": 5258333712}]}, \"id\": {\"std\": 0.0, \"complete\": true, \"min\": 16976.0, \"max\": 16976.0, \"quantile\": [16976.0, 16976.0, 16976.0, 16976.0, 16976.0, 16976.0, 16976.0, 16976.0, 16976.0, 16976.0, 16976.0, 16976.0, 16976.0, 16976.0, 16976.0, 16976.0, 16976.0, 16976.0, 16976.0, 16976.0, 16976.0, 16976.0, 16976.0, 16976.0, 16976.0, 16976.0, 16976.0, 16976.0, 16976.0, 16976.0, 16976.0, 16976.0, 16976.0, 16976.0, 16976.0, 16976.0, 16976.0, 16976.0, 16976.0, 16976.0, 16976.0, 16976.0, 16976.0, 16976.0, 16976.0, 16976.0, 16976.0, 16976.0, 16976.0, 16976.0, 16976.0, 16976.0, 16976.0, 16976.0, 16976.0, 16976.0, 16976.0, 16976.0, 16976.0, 16976.0, 16976.0, 16976.0, 16976.0, 16976.0, 16976.0, 16976.0, 16976.0, 16976.0, 16976.0, 16976.0, 16976.0, 16976.0, 16976.0, 16976.0, 16976.0, 16976.0, 16976.0, 16976.0, 16976.0, 16976.0, 16976.0, 16976.0, 16976.0, 16976.0, 16976.0, 16976.0, 16976.0, 16976.0, 16976.0, 16976.0, 16976.0, 16976.0, 16976.0, 16976.0, 16976.0, 16976.0, 16976.0, 16976.0, 16976.0, 16976.0, 16976.0], \"median\": 16976.0, \"numeric\": true, \"num_unique\": 1, \"num_undefined\": 0, \"var\": 0.0, \"progress\": 1.0, \"size\": 1, \"frequent_items\": {\"16976\": {\"frequency\": 1, \"value\": 16976}}, \"mean\": 16976.0}, \"image_array\": {\"std\": 43.6779138383148, \"complete\": true, \"min\": 5.0, \"max\": 228.0, \"quantile\": [5.0, 14.0, 17.0, 19.0, 21.0, 23.0, 26.0, 29.0, 33.0, 37.0, 38.0, 40.0, 42.0, 43.0, 44.0, 46.0, 46.0, 48.0, 49.0, 50.0, 51.0, 52.0, 53.0, 54.0, 56.0, 57.0, 58.0, 60.0, 61.0, 62.0, 64.0, 65.0, 67.0, 68.0, 70.0, 73.0, 74.0, 77.0, 79.0, 81.0, 83.0, 84.0, 87.0, 88.0, 90.0, 92.0, 94.0, 95.0, 97.0, 98.0, 99.0, 101.0, 102.0, 103.0, 104.0, 105.0, 106.0, 107.0, 108.0, 109.0, 111.0, 111.0, 112.0, 114.0, 114.0, 116.0, 117.0, 118.0, 119.0, 120.0, 121.0, 123.0, 123.0, 125.0, 126.0, 127.0, 128.0, 129.0, 130.0, 131.0, 132.0, 134.0, 135.0, 137.0, 139.0, 140.0, 142.0, 144.0, 145.0, 148.0, 150.0, 152.0, 155.0, 158.0, 162.0, 167.0, 172.0, 176.0, 182.0, 194.0, 228.0], \"median\": 99.0, \"numeric\": true, \"num_unique\": 203, \"num_undefined\": 0, \"var\": 1907.7601572672518, \"progress\": 1.0, \"size\": 3072, \"frequent_items\": {\"5.0\": {\"frequency\": 1, \"value\": 5.0}, \"6.0\": {\"frequency\": 1, \"value\": 6.0}, \"8.0\": {\"frequency\": 3, \"value\": 8.0}, \"9.0\": {\"frequency\": 3, \"value\": 9.0}, \"10.0\": {\"frequency\": 1, \"value\": 10.0}, \"11.0\": {\"frequency\": 3, \"value\": 11.0}, \"12.0\": {\"frequency\": 10, \"value\": 12.0}, \"13.0\": {\"frequency\": 7, \"value\": 13.0}, \"14.0\": {\"frequency\": 6, \"value\": 14.0}, \"15.0\": {\"frequency\": 8, \"value\": 15.0}, \"16.0\": {\"frequency\": 15, \"value\": 16.0}, \"17.0\": {\"frequency\": 13, \"value\": 17.0}, \"18.0\": {\"frequency\": 9, \"value\": 18.0}, \"19.0\": {\"frequency\": 16, \"value\": 19.0}, \"20.0\": {\"frequency\": 12, \"value\": 20.0}, \"21.0\": {\"frequency\": 15, \"value\": 21.0}, \"22.0\": {\"frequency\": 15, \"value\": 22.0}, \"23.0\": {\"frequency\": 18, \"value\": 23.0}, \"24.0\": {\"frequency\": 10, \"value\": 24.0}, \"25.0\": {\"frequency\": 14, \"value\": 25.0}, \"26.0\": {\"frequency\": 9, \"value\": 26.0}, \"27.0\": {\"frequency\": 7, \"value\": 27.0}, \"28.0\": {\"frequency\": 13, \"value\": 28.0}, \"29.0\": {\"frequency\": 14, \"value\": 29.0}, \"30.0\": {\"frequency\": 6, \"value\": 30.0}, \"31.0\": {\"frequency\": 9, \"value\": 31.0}, \"32.0\": {\"frequency\": 4, \"value\": 32.0}, \"33.0\": {\"frequency\": 7, \"value\": 33.0}, \"34.0\": {\"frequency\": 12, \"value\": 34.0}, \"35.0\": {\"frequency\": 2, \"value\": 35.0}, \"36.0\": {\"frequency\": 11, \"value\": 36.0}, \"37.0\": {\"frequency\": 16, \"value\": 37.0}, \"38.0\": {\"frequency\": 17, \"value\": 38.0}, \"39.0\": {\"frequency\": 14, \"value\": 39.0}, \"40.0\": {\"frequency\": 22, \"value\": 40.0}, \"41.0\": {\"frequency\": 19, \"value\": 41.0}, \"42.0\": {\"frequency\": 22, \"value\": 42.0}, \"43.0\": {\"frequency\": 18, \"value\": 43.0}, \"44.0\": {\"frequency\": 28, \"value\": 44.0}, \"45.0\": {\"frequency\": 27, \"value\": 45.0}, \"46.0\": {\"frequency\": 36, \"value\": 46.0}, \"47.0\": {\"frequency\": 21, \"value\": 47.0}, \"48.0\": {\"frequency\": 17, \"value\": 48.0}, \"49.0\": {\"frequency\": 33, \"value\": 49.0}, \"50.0\": {\"frequency\": 30, \"value\": 50.0}, \"51.0\": {\"frequency\": 29, \"value\": 51.0}, \"52.0\": {\"frequency\": 31, \"value\": 52.0}, \"53.0\": {\"frequency\": 34, \"value\": 53.0}, \"54.0\": {\"frequency\": 26, \"value\": 54.0}, \"55.0\": {\"frequency\": 22, \"value\": 55.0}, \"56.0\": {\"frequency\": 24, \"value\": 56.0}, \"57.0\": {\"frequency\": 24, \"value\": 57.0}, \"58.0\": {\"frequency\": 21, \"value\": 58.0}, \"59.0\": {\"frequency\": 20, \"value\": 59.0}, \"60.0\": {\"frequency\": 24, \"value\": 60.0}, \"61.0\": {\"frequency\": 28, \"value\": 61.0}, \"62.0\": {\"frequency\": 14, \"value\": 62.0}, \"63.0\": {\"frequency\": 22, \"value\": 63.0}, \"64.0\": {\"frequency\": 25, \"value\": 64.0}, \"65.0\": {\"frequency\": 21, \"value\": 65.0}, \"66.0\": {\"frequency\": 23, \"value\": 66.0}, \"67.0\": {\"frequency\": 23, \"value\": 67.0}, \"68.0\": {\"frequency\": 13, \"value\": 68.0}, \"69.0\": {\"frequency\": 13, \"value\": 69.0}, \"70.0\": {\"frequency\": 18, \"value\": 70.0}, \"71.0\": {\"frequency\": 13, \"value\": 71.0}, \"72.0\": {\"frequency\": 14, \"value\": 72.0}, \"73.0\": {\"frequency\": 14, \"value\": 73.0}, \"74.0\": {\"frequency\": 17, \"value\": 74.0}, \"75.0\": {\"frequency\": 16, \"value\": 75.0}, \"76.0\": {\"frequency\": 7, \"value\": 76.0}, \"77.0\": {\"frequency\": 15, \"value\": 77.0}, \"78.0\": {\"frequency\": 11, \"value\": 78.0}, \"79.0\": {\"frequency\": 17, \"value\": 79.0}, \"80.0\": {\"frequency\": 17, \"value\": 80.0}, \"81.0\": {\"frequency\": 21, \"value\": 81.0}, \"82.0\": {\"frequency\": 16, \"value\": 82.0}, \"83.0\": {\"frequency\": 19, \"value\": 83.0}, \"84.0\": {\"frequency\": 15, \"value\": 84.0}, \"85.0\": {\"frequency\": 12, \"value\": 85.0}, \"86.0\": {\"frequency\": 16, \"value\": 86.0}, \"87.0\": {\"frequency\": 22, \"value\": 87.0}, \"88.0\": {\"frequency\": 18, \"value\": 88.0}, \"89.0\": {\"frequency\": 17, \"value\": 89.0}, \"90.0\": {\"frequency\": 19, \"value\": 90.0}, \"91.0\": {\"frequency\": 8, \"value\": 91.0}, \"92.0\": {\"frequency\": 20, \"value\": 92.0}, \"93.0\": {\"frequency\": 20, \"value\": 93.0}, \"94.0\": {\"frequency\": 22, \"value\": 94.0}, \"95.0\": {\"frequency\": 18, \"value\": 95.0}, \"96.0\": {\"frequency\": 18, \"value\": 96.0}, \"97.0\": {\"frequency\": 22, \"value\": 97.0}, \"98.0\": {\"frequency\": 21, \"value\": 98.0}, \"99.0\": {\"frequency\": 24, \"value\": 99.0}, \"100.0\": {\"frequency\": 19, \"value\": 100.0}, \"101.0\": {\"frequency\": 24, \"value\": 101.0}, \"102.0\": {\"frequency\": 31, \"value\": 102.0}, \"103.0\": {\"frequency\": 39, \"value\": 103.0}, \"104.0\": {\"frequency\": 26, \"value\": 104.0}, \"105.0\": {\"frequency\": 30, \"value\": 105.0}, \"106.0\": {\"frequency\": 20, \"value\": 106.0}, \"107.0\": {\"frequency\": 31, \"value\": 107.0}, \"108.0\": {\"frequency\": 36, \"value\": 108.0}, \"109.0\": {\"frequency\": 20, \"value\": 109.0}, \"110.0\": {\"frequency\": 27, \"value\": 110.0}, \"111.0\": {\"frequency\": 37, \"value\": 111.0}, \"112.0\": {\"frequency\": 32, \"value\": 112.0}, \"113.0\": {\"frequency\": 23, \"value\": 113.0}, \"114.0\": {\"frequency\": 35, \"value\": 114.0}, \"115.0\": {\"frequency\": 29, \"value\": 115.0}, \"116.0\": {\"frequency\": 19, \"value\": 116.0}, \"117.0\": {\"frequency\": 27, \"value\": 117.0}, \"118.0\": {\"frequency\": 29, \"value\": 118.0}, \"119.0\": {\"frequency\": 31, \"value\": 119.0}, \"120.0\": {\"frequency\": 25, \"value\": 120.0}, \"121.0\": {\"frequency\": 30, \"value\": 121.0}, \"122.0\": {\"frequency\": 20, \"value\": 122.0}, \"123.0\": {\"frequency\": 35, \"value\": 123.0}, \"124.0\": {\"frequency\": 22, \"value\": 124.0}, \"125.0\": {\"frequency\": 26, \"value\": 125.0}, \"126.0\": {\"frequency\": 29, \"value\": 126.0}, \"127.0\": {\"frequency\": 28, \"value\": 127.0}, \"128.0\": {\"frequency\": 29, \"value\": 128.0}, \"129.0\": {\"frequency\": 29, \"value\": 129.0}, \"130.0\": {\"frequency\": 28, \"value\": 130.0}, \"131.0\": {\"frequency\": 35, \"value\": 131.0}, \"132.0\": {\"frequency\": 21, \"value\": 132.0}, \"133.0\": {\"frequency\": 26, \"value\": 133.0}, \"134.0\": {\"frequency\": 17, \"value\": 134.0}, \"135.0\": {\"frequency\": 17, \"value\": 135.0}, \"136.0\": {\"frequency\": 19, \"value\": 136.0}, \"137.0\": {\"frequency\": 18, \"value\": 137.0}, \"138.0\": {\"frequency\": 21, \"value\": 138.0}, \"139.0\": {\"frequency\": 17, \"value\": 139.0}, \"140.0\": {\"frequency\": 18, \"value\": 140.0}, \"141.0\": {\"frequency\": 18, \"value\": 141.0}, \"142.0\": {\"frequency\": 20, \"value\": 142.0}, \"143.0\": {\"frequency\": 16, \"value\": 143.0}, \"144.0\": {\"frequency\": 23, \"value\": 144.0}, \"145.0\": {\"frequency\": 14, \"value\": 145.0}, \"146.0\": {\"frequency\": 12, \"value\": 146.0}, \"147.0\": {\"frequency\": 16, \"value\": 147.0}, \"148.0\": {\"frequency\": 13, \"value\": 148.0}, \"149.0\": {\"frequency\": 14, \"value\": 149.0}, \"150.0\": {\"frequency\": 12, \"value\": 150.0}, \"151.0\": {\"frequency\": 12, \"value\": 151.0}, \"152.0\": {\"frequency\": 19, \"value\": 152.0}, \"153.0\": {\"frequency\": 7, \"value\": 153.0}, \"154.0\": {\"frequency\": 11, \"value\": 154.0}, \"155.0\": {\"frequency\": 10, \"value\": 155.0}, \"156.0\": {\"frequency\": 15, \"value\": 156.0}, \"157.0\": {\"frequency\": 3, \"value\": 157.0}, \"158.0\": {\"frequency\": 13, \"value\": 158.0}, \"159.0\": {\"frequency\": 7, \"value\": 159.0}, \"160.0\": {\"frequency\": 6, \"value\": 160.0}, \"161.0\": {\"frequency\": 5, \"value\": 161.0}, \"162.0\": {\"frequency\": 10, \"value\": 162.0}, \"163.0\": {\"frequency\": 5, \"value\": 163.0}, \"164.0\": {\"frequency\": 8, \"value\": 164.0}, \"165.0\": {\"frequency\": 4, \"value\": 165.0}, \"166.0\": {\"frequency\": 7, \"value\": 166.0}, \"167.0\": {\"frequency\": 9, \"value\": 167.0}, \"168.0\": {\"frequency\": 9, \"value\": 168.0}, \"169.0\": {\"frequency\": 5, \"value\": 169.0}, \"170.0\": {\"frequency\": 5, \"value\": 170.0}, \"171.0\": {\"frequency\": 5, \"value\": 171.0}, \"172.0\": {\"frequency\": 7, \"value\": 172.0}, \"173.0\": {\"frequency\": 8, \"value\": 173.0}, \"174.0\": {\"frequency\": 6, \"value\": 174.0}, \"175.0\": {\"frequency\": 6, \"value\": 175.0}, \"176.0\": {\"frequency\": 7, \"value\": 176.0}, \"177.0\": {\"frequency\": 9, \"value\": 177.0}, \"178.0\": {\"frequency\": 5, \"value\": 178.0}, \"179.0\": {\"frequency\": 4, \"value\": 179.0}, \"180.0\": {\"frequency\": 4, \"value\": 180.0}, \"181.0\": {\"frequency\": 4, \"value\": 181.0}, \"182.0\": {\"frequency\": 5, \"value\": 182.0}, \"183.0\": {\"frequency\": 3, \"value\": 183.0}, \"184.0\": {\"frequency\": 2, \"value\": 184.0}, \"185.0\": {\"frequency\": 6, \"value\": 185.0}, \"186.0\": {\"frequency\": 4, \"value\": 186.0}, \"187.0\": {\"frequency\": 1, \"value\": 187.0}, \"188.0\": {\"frequency\": 1, \"value\": 188.0}, \"189.0\": {\"frequency\": 3, \"value\": 189.0}, \"190.0\": {\"frequency\": 3, \"value\": 190.0}, \"191.0\": {\"frequency\": 1, \"value\": 191.0}, \"192.0\": {\"frequency\": 2, \"value\": 192.0}, \"193.0\": {\"frequency\": 3, \"value\": 193.0}, \"194.0\": {\"frequency\": 3, \"value\": 194.0}, \"195.0\": {\"frequency\": 3, \"value\": 195.0}, \"196.0\": {\"frequency\": 4, \"value\": 196.0}, \"197.0\": {\"frequency\": 3, \"value\": 197.0}, \"198.0\": {\"frequency\": 2, \"value\": 198.0}, \"199.0\": {\"frequency\": 1, \"value\": 199.0}, \"200.0\": {\"frequency\": 2, \"value\": 200.0}, \"201.0\": {\"frequency\": 3, \"value\": 201.0}, \"205.0\": {\"frequency\": 1, \"value\": 205.0}, \"206.0\": {\"frequency\": 4, \"value\": 206.0}, \"207.0\": {\"frequency\": 1, \"value\": 207.0}, \"209.0\": {\"frequency\": 1, \"value\": 209.0}, \"211.0\": {\"frequency\": 2, \"value\": 211.0}, \"218.0\": {\"frequency\": 1, \"value\": 218.0}, \"228.0\": {\"frequency\": 1, \"value\": 228.0}}, \"mean\": 94.91015625000011}, \"label\": {\"complete\": true, \"numeric\": false, \"num_unique\": 1, \"num_undefined\": 0, \"progress\": 1.0, \"frequent_items\": {\"dog\": {\"frequency\": 1, \"value\": \"dog\"}}, \"size\": 1}}, \"selected_variable\": {\"name\": [\"<SFrame>\"], \"descriptives\": {\"rows\": 1, \"columns\": 5}, \"view_component\": \"Summary\", \"view_file\": \"sframe\", \"view_params\": {\"y\": null, \"x\": null, \"columns\": [\"id\", \"image\", \"label\", \"deep_features\", \"image_array\"], \"view\": null}, \"view_components\": [\"Summary\", \"Table\", \"Bar Chart\", \"BoxWhisker Plot\", \"Line Chart\", \"Scatter Plot\", \"Heat Map\", \"Plots\"], \"type\": \"SFrame\", \"columns\": [{\"dtype\": \"int\", \"name\": \"id\"}, {\"dtype\": \"Image\", \"name\": \"image\"}, {\"dtype\": \"str\", \"name\": \"label\"}, {\"dtype\": \"array\", \"name\": \"deep_features\"}, {\"dtype\": \"array\", \"name\": \"image_array\"}], \"column_identifiers\": [\"deep_features\", \"image\", \"id\", \"image_array\", \"label\"]}, \"columns\": [{\"dtype\": \"int\", \"name\": \"id\"}, {\"dtype\": \"Image\", \"name\": \"image\"}, {\"dtype\": \"str\", \"name\": \"label\"}, {\"dtype\": \"array\", \"name\": \"deep_features\"}, {\"dtype\": \"array\", \"name\": \"image_array\"}]}, e);\n",
       "                });\n",
       "            })();\n",
       "        "
      ]
     },
     "metadata": {},
     "output_type": "display_data"
    }
   ],
   "source": [
    "image_train[image_train['id']==16976].show()"
   ]
  },
  {
   "cell_type": "markdown",
   "metadata": {},
   "source": [
    "# Question 2 answer: nearest neighbor of the the_cat: \n",
    "# automobile model: 49314, bird_model: 49573, cat_model: 16289, dog_model: 16976"
   ]
  },
  {
   "cell_type": "markdown",
   "metadata": {},
   "source": [
    "## Question 3"
   ]
  },
  {
   "cell_type": "code",
   "execution_count": 8,
   "metadata": {
    "collapsed": false
   },
   "outputs": [
    {
     "data": {
      "text/html": [
       "<div style=\"max-height:1000px;max-width:1500px;overflow:auto;\"><table frame=\"box\" rules=\"cols\">\n",
       "    <tr>\n",
       "        <th style=\"padding-left: 1em; padding-right: 1em; text-align: center\">query_label</th>\n",
       "        <th style=\"padding-left: 1em; padding-right: 1em; text-align: center\">reference_label</th>\n",
       "        <th style=\"padding-left: 1em; padding-right: 1em; text-align: center\">distance</th>\n",
       "        <th style=\"padding-left: 1em; padding-right: 1em; text-align: center\">rank</th>\n",
       "    </tr>\n",
       "    <tr>\n",
       "        <td style=\"padding-left: 1em; padding-right: 1em; text-align: center; vertical-align: top\">0</td>\n",
       "        <td style=\"padding-left: 1em; padding-right: 1em; text-align: center; vertical-align: top\">49314</td>\n",
       "        <td style=\"padding-left: 1em; padding-right: 1em; text-align: center; vertical-align: top\">39.6710582792</td>\n",
       "        <td style=\"padding-left: 1em; padding-right: 1em; text-align: center; vertical-align: top\">1</td>\n",
       "    </tr>\n",
       "    <tr>\n",
       "        <td style=\"padding-left: 1em; padding-right: 1em; text-align: center; vertical-align: top\">0</td>\n",
       "        <td style=\"padding-left: 1em; padding-right: 1em; text-align: center; vertical-align: top\">12389</td>\n",
       "        <td style=\"padding-left: 1em; padding-right: 1em; text-align: center; vertical-align: top\">40.2107393099</td>\n",
       "        <td style=\"padding-left: 1em; padding-right: 1em; text-align: center; vertical-align: top\">2</td>\n",
       "    </tr>\n",
       "    <tr>\n",
       "        <td style=\"padding-left: 1em; padding-right: 1em; text-align: center; vertical-align: top\">0</td>\n",
       "        <td style=\"padding-left: 1em; padding-right: 1em; text-align: center; vertical-align: top\">15299</td>\n",
       "        <td style=\"padding-left: 1em; padding-right: 1em; text-align: center; vertical-align: top\">41.2103305258</td>\n",
       "        <td style=\"padding-left: 1em; padding-right: 1em; text-align: center; vertical-align: top\">3</td>\n",
       "    </tr>\n",
       "    <tr>\n",
       "        <td style=\"padding-left: 1em; padding-right: 1em; text-align: center; vertical-align: top\">0</td>\n",
       "        <td style=\"padding-left: 1em; padding-right: 1em; text-align: center; vertical-align: top\">40118</td>\n",
       "        <td style=\"padding-left: 1em; padding-right: 1em; text-align: center; vertical-align: top\">41.3292164653</td>\n",
       "        <td style=\"padding-left: 1em; padding-right: 1em; text-align: center; vertical-align: top\">4</td>\n",
       "    </tr>\n",
       "    <tr>\n",
       "        <td style=\"padding-left: 1em; padding-right: 1em; text-align: center; vertical-align: top\">0</td>\n",
       "        <td style=\"padding-left: 1em; padding-right: 1em; text-align: center; vertical-align: top\">17111</td>\n",
       "        <td style=\"padding-left: 1em; padding-right: 1em; text-align: center; vertical-align: top\">41.352687775</td>\n",
       "        <td style=\"padding-left: 1em; padding-right: 1em; text-align: center; vertical-align: top\">5</td>\n",
       "    </tr>\n",
       "</table>\n",
       "[5 rows x 4 columns]<br/>\n",
       "</div>"
      ],
      "text/plain": [
       "Columns:\n",
       "\tquery_label\tint\n",
       "\treference_label\tint\n",
       "\tdistance\tfloat\n",
       "\trank\tint\n",
       "\n",
       "Rows: 5\n",
       "\n",
       "Data:\n",
       "+-------------+-----------------+---------------+------+\n",
       "| query_label | reference_label |    distance   | rank |\n",
       "+-------------+-----------------+---------------+------+\n",
       "|      0      |      49314      | 39.6710582792 |  1   |\n",
       "|      0      |      12389      | 40.2107393099 |  2   |\n",
       "|      0      |      15299      | 41.2103305258 |  3   |\n",
       "|      0      |      40118      | 41.3292164653 |  4   |\n",
       "|      0      |      17111      |  41.352687775 |  5   |\n",
       "+-------------+-----------------+---------------+------+\n",
       "[5 rows x 4 columns]"
      ]
     },
     "execution_count": 8,
     "metadata": {},
     "output_type": "execute_result"
    }
   ],
   "source": [
    "q2_nearest['automobile']"
   ]
  },
  {
   "cell_type": "code",
   "execution_count": 9,
   "metadata": {
    "collapsed": false
   },
   "outputs": [
    {
     "name": "stdout",
     "output_type": "stream",
     "text": [
      "automobile :  avg distance =  40.754806471\n",
      "cat :  avg distance =  36.1557307098\n",
      "bird :  avg distance =  39.2939524591\n",
      "dog :  avg distance =  37.7707113618\n"
     ]
    }
   ],
   "source": [
    "for i in q2_nearest.keys():\n",
    "    print i, ': ', 'avg distance = ', sum(q2_nearest[i]['distance'])/len(q2_nearest[i]['distance'])"
   ]
  },
  {
   "cell_type": "markdown",
   "metadata": {},
   "source": [
    "# Question 3: avg distance from each model: \n",
    "# automobile: 40.7548, cat: 36.155, bird: 39.2939, dog: 37.77"
   ]
  },
  {
   "cell_type": "markdown",
   "metadata": {},
   "source": [
    "## Question 4"
   ]
  },
  {
   "cell_type": "code",
   "execution_count": 10,
   "metadata": {
    "collapsed": true
   },
   "outputs": [],
   "source": [
    "## split the image test data based on the label"
   ]
  },
  {
   "cell_type": "code",
   "execution_count": 11,
   "metadata": {
    "collapsed": false
   },
   "outputs": [],
   "source": [
    "test_data_group = {}\n",
    "for i in range(len(i_label)):\n",
    "    test_data_group[i_label[i]] = image_test.filter_by(i_label[i], 'label')"
   ]
  },
  {
   "cell_type": "code",
   "execution_count": 12,
   "metadata": {
    "collapsed": false
   },
   "outputs": [],
   "source": [
    "def test_group(which_test_group):\n",
    "    neighbors = {}\n",
    "    for i in range(len(i_label)):\n",
    "        neighbors[i_label[i]] = data_model[i_label[i]].query(test_data_group[which_test_group], k=1)\n",
    "        print i_label[i]\n",
    "        print neighbors[i_label[i]].head()\n",
    "    return neighbors"
   ]
  },
  {
   "cell_type": "code",
   "execution_count": 13,
   "metadata": {
    "collapsed": true
   },
   "outputs": [],
   "source": [
    "def build_distance(which_test_group):\n",
    "    group_distance = graphlab.SFrame()\n",
    "    for i in range(len(i_label)):\n",
    "        col_name = which_test_group + '-' + i_label[i]\n",
    "        group_distance[col_name] = neighbors[i_label[i]]['distance']\n",
    "    return group_distance"
   ]
  },
  {
   "cell_type": "code",
   "execution_count": 14,
   "metadata": {
    "collapsed": false
   },
   "outputs": [],
   "source": [
    "def is_group_correct(row):\n",
    "    same_group_name = test_group_name + '-' + test_group_name\n",
    "    if min(row, key=row.get) == same_group_name:\n",
    "        return 1\n",
    "    else:\n",
    "        return 0\n",
    "#cat_distance.apply(is_cat_correct).sum()"
   ]
  },
  {
   "cell_type": "code",
   "execution_count": 15,
   "metadata": {
    "collapsed": false
   },
   "outputs": [
    {
     "data": {
      "text/html": [
       "<pre>Starting blockwise querying.</pre>"
      ],
      "text/plain": [
       "Starting blockwise querying."
      ]
     },
     "metadata": {},
     "output_type": "display_data"
    },
    {
     "data": {
      "text/html": [
       "<pre>max rows per data block: 4348</pre>"
      ],
      "text/plain": [
       "max rows per data block: 4348"
      ]
     },
     "metadata": {},
     "output_type": "display_data"
    },
    {
     "data": {
      "text/html": [
       "<pre>number of reference data blocks: 4</pre>"
      ],
      "text/plain": [
       "number of reference data blocks: 4"
      ]
     },
     "metadata": {},
     "output_type": "display_data"
    },
    {
     "data": {
      "text/html": [
       "<pre>number of query data blocks: 1</pre>"
      ],
      "text/plain": [
       "number of query data blocks: 1"
      ]
     },
     "metadata": {},
     "output_type": "display_data"
    },
    {
     "data": {
      "text/html": [
       "<pre>+--------------+---------+-------------+--------------+</pre>"
      ],
      "text/plain": [
       "+--------------+---------+-------------+--------------+"
      ]
     },
     "metadata": {},
     "output_type": "display_data"
    },
    {
     "data": {
      "text/html": [
       "<pre>| Query points | # Pairs | % Complete. | Elapsed Time |</pre>"
      ],
      "text/plain": [
       "| Query points | # Pairs | % Complete. | Elapsed Time |"
      ]
     },
     "metadata": {},
     "output_type": "display_data"
    },
    {
     "data": {
      "text/html": [
       "<pre>+--------------+---------+-------------+--------------+</pre>"
      ],
      "text/plain": [
       "+--------------+---------+-------------+--------------+"
      ]
     },
     "metadata": {},
     "output_type": "display_data"
    },
    {
     "data": {
      "text/html": [
       "<pre>| 1000         | 120000  | 25.1046     | 300.576ms    |</pre>"
      ],
      "text/plain": [
       "| 1000         | 120000  | 25.1046     | 300.576ms    |"
      ]
     },
     "metadata": {},
     "output_type": "display_data"
    },
    {
     "data": {
      "text/html": [
       "<pre>| Done         | 478000  | 100         | 323.398ms    |</pre>"
      ],
      "text/plain": [
       "| Done         | 478000  | 100         | 323.398ms    |"
      ]
     },
     "metadata": {},
     "output_type": "display_data"
    },
    {
     "data": {
      "text/html": [
       "<pre>+--------------+---------+-------------+--------------+</pre>"
      ],
      "text/plain": [
       "+--------------+---------+-------------+--------------+"
      ]
     },
     "metadata": {},
     "output_type": "display_data"
    },
    {
     "name": "stdout",
     "output_type": "stream",
     "text": [
      "bird\n",
      "+-------------+-----------------+---------------+------+\n",
      "| query_label | reference_label |    distance   | rank |\n",
      "+-------------+-----------------+---------------+------+\n",
      "|      0      |      44658      | 41.7538647304 |  1   |\n",
      "|      1      |       9215      | 41.3382958925 |  1   |\n",
      "|      2      |      36675      | 38.6157590853 |  1   |\n",
      "|      3      |      12582      | 37.0892269954 |  1   |\n",
      "|      4      |      36122      |  38.272288694 |  1   |\n",
      "|      5      |       8736      | 39.1462089236 |  1   |\n",
      "|      6      |      38991      |  40.523040106 |  1   |\n",
      "|      7      |      44177      | 38.1947918393 |  1   |\n",
      "|      8      |       4549      | 40.1567131661 |  1   |\n",
      "|      9      |      40225      | 45.5597962603 |  1   |\n",
      "+-------------+-----------------+---------------+------+\n",
      "[10 rows x 4 columns]\n",
      "\n"
     ]
    },
    {
     "data": {
      "text/html": [
       "<pre>Starting blockwise querying.</pre>"
      ],
      "text/plain": [
       "Starting blockwise querying."
      ]
     },
     "metadata": {},
     "output_type": "display_data"
    },
    {
     "data": {
      "text/html": [
       "<pre>max rows per data block: 4348</pre>"
      ],
      "text/plain": [
       "max rows per data block: 4348"
      ]
     },
     "metadata": {},
     "output_type": "display_data"
    },
    {
     "data": {
      "text/html": [
       "<pre>number of reference data blocks: 4</pre>"
      ],
      "text/plain": [
       "number of reference data blocks: 4"
      ]
     },
     "metadata": {},
     "output_type": "display_data"
    },
    {
     "data": {
      "text/html": [
       "<pre>number of query data blocks: 1</pre>"
      ],
      "text/plain": [
       "number of query data blocks: 1"
      ]
     },
     "metadata": {},
     "output_type": "display_data"
    },
    {
     "data": {
      "text/html": [
       "<pre>+--------------+---------+-------------+--------------+</pre>"
      ],
      "text/plain": [
       "+--------------+---------+-------------+--------------+"
      ]
     },
     "metadata": {},
     "output_type": "display_data"
    },
    {
     "data": {
      "text/html": [
       "<pre>| Query points | # Pairs | % Complete. | Elapsed Time |</pre>"
      ],
      "text/plain": [
       "| Query points | # Pairs | % Complete. | Elapsed Time |"
      ]
     },
     "metadata": {},
     "output_type": "display_data"
    },
    {
     "data": {
      "text/html": [
       "<pre>+--------------+---------+-------------+--------------+</pre>"
      ],
      "text/plain": [
       "+--------------+---------+-------------+--------------+"
      ]
     },
     "metadata": {},
     "output_type": "display_data"
    },
    {
     "data": {
      "text/html": [
       "<pre>| 1000         | 127000  | 24.9509     | 277.336ms    |</pre>"
      ],
      "text/plain": [
       "| 1000         | 127000  | 24.9509     | 277.336ms    |"
      ]
     },
     "metadata": {},
     "output_type": "display_data"
    },
    {
     "data": {
      "text/html": [
       "<pre>| Done         | 509000  | 100         | 306.781ms    |</pre>"
      ],
      "text/plain": [
       "| Done         | 509000  | 100         | 306.781ms    |"
      ]
     },
     "metadata": {},
     "output_type": "display_data"
    },
    {
     "data": {
      "text/html": [
       "<pre>+--------------+---------+-------------+--------------+</pre>"
      ],
      "text/plain": [
       "+--------------+---------+-------------+--------------+"
      ]
     },
     "metadata": {},
     "output_type": "display_data"
    },
    {
     "name": "stdout",
     "output_type": "stream",
     "text": [
      "dog\n",
      "+-------------+-----------------+---------------+------+\n",
      "| query_label | reference_label |    distance   | rank |\n",
      "+-------------+-----------------+---------------+------+\n",
      "|      0      |      49803      | 33.4773590373 |  1   |\n",
      "|      1      |       5755      | 32.8458495684 |  1   |\n",
      "|      2      |      20715      | 35.0397073189 |  1   |\n",
      "|      3      |      13387      | 33.9010327697 |  1   |\n",
      "|      4      |      12089      | 37.4849250909 |  1   |\n",
      "|      5      |       6094      |  34.945165344 |  1   |\n",
      "|      6      |       3431      | 39.0957278345 |  1   |\n",
      "|      7      |       6184      | 37.7696131032 |  1   |\n",
      "|      8      |       2167      | 35.1089144603 |  1   |\n",
      "|      9      |       7776      | 43.2422832585 |  1   |\n",
      "+-------------+-----------------+---------------+------+\n",
      "[10 rows x 4 columns]\n",
      "\n"
     ]
    },
    {
     "data": {
      "text/html": [
       "<pre>Starting blockwise querying.</pre>"
      ],
      "text/plain": [
       "Starting blockwise querying."
      ]
     },
     "metadata": {},
     "output_type": "display_data"
    },
    {
     "data": {
      "text/html": [
       "<pre>max rows per data block: 4348</pre>"
      ],
      "text/plain": [
       "max rows per data block: 4348"
      ]
     },
     "metadata": {},
     "output_type": "display_data"
    },
    {
     "data": {
      "text/html": [
       "<pre>number of reference data blocks: 4</pre>"
      ],
      "text/plain": [
       "number of reference data blocks: 4"
      ]
     },
     "metadata": {},
     "output_type": "display_data"
    },
    {
     "data": {
      "text/html": [
       "<pre>number of query data blocks: 1</pre>"
      ],
      "text/plain": [
       "number of query data blocks: 1"
      ]
     },
     "metadata": {},
     "output_type": "display_data"
    },
    {
     "data": {
      "text/html": [
       "<pre>+--------------+---------+-------------+--------------+</pre>"
      ],
      "text/plain": [
       "+--------------+---------+-------------+--------------+"
      ]
     },
     "metadata": {},
     "output_type": "display_data"
    },
    {
     "data": {
      "text/html": [
       "<pre>| Query points | # Pairs | % Complete. | Elapsed Time |</pre>"
      ],
      "text/plain": [
       "| Query points | # Pairs | % Complete. | Elapsed Time |"
      ]
     },
     "metadata": {},
     "output_type": "display_data"
    },
    {
     "data": {
      "text/html": [
       "<pre>+--------------+---------+-------------+--------------+</pre>"
      ],
      "text/plain": [
       "+--------------+---------+-------------+--------------+"
      ]
     },
     "metadata": {},
     "output_type": "display_data"
    },
    {
     "data": {
      "text/html": [
       "<pre>| 1000         | 127000  | 24.9509     | 269.533ms    |</pre>"
      ],
      "text/plain": [
       "| 1000         | 127000  | 24.9509     | 269.533ms    |"
      ]
     },
     "metadata": {},
     "output_type": "display_data"
    },
    {
     "data": {
      "text/html": [
       "<pre>| Done         | 509000  | 100         | 297.448ms    |</pre>"
      ],
      "text/plain": [
       "| Done         | 509000  | 100         | 297.448ms    |"
      ]
     },
     "metadata": {},
     "output_type": "display_data"
    },
    {
     "data": {
      "text/html": [
       "<pre>+--------------+---------+-------------+--------------+</pre>"
      ],
      "text/plain": [
       "+--------------+---------+-------------+--------------+"
      ]
     },
     "metadata": {},
     "output_type": "display_data"
    },
    {
     "name": "stdout",
     "output_type": "stream",
     "text": [
      "cat\n",
      "+-------------+-----------------+---------------+------+\n",
      "| query_label | reference_label |    distance   | rank |\n",
      "+-------------+-----------------+---------------+------+\n",
      "|      0      |        33       | 36.4196077068 |  1   |\n",
      "|      1      |      30606      | 38.8353268874 |  1   |\n",
      "|      2      |       5545      | 36.9763410854 |  1   |\n",
      "|      3      |      19631      | 34.5750072914 |  1   |\n",
      "|      4      |       7493      |  34.778824791 |  1   |\n",
      "|      5      |      47044      | 35.1171578292 |  1   |\n",
      "|      6      |      13918      | 40.6095830913 |  1   |\n",
      "|      7      |      10981      | 39.9036867306 |  1   |\n",
      "|      8      |      45456      | 38.0674700168 |  1   |\n",
      "|      9      |      44673      | 42.7258732951 |  1   |\n",
      "+-------------+-----------------+---------------+------+\n",
      "[10 rows x 4 columns]\n",
      "\n"
     ]
    },
    {
     "data": {
      "text/html": [
       "<pre>Starting blockwise querying.</pre>"
      ],
      "text/plain": [
       "Starting blockwise querying."
      ]
     },
     "metadata": {},
     "output_type": "display_data"
    },
    {
     "data": {
      "text/html": [
       "<pre>max rows per data block: 4348</pre>"
      ],
      "text/plain": [
       "max rows per data block: 4348"
      ]
     },
     "metadata": {},
     "output_type": "display_data"
    },
    {
     "data": {
      "text/html": [
       "<pre>number of reference data blocks: 4</pre>"
      ],
      "text/plain": [
       "number of reference data blocks: 4"
      ]
     },
     "metadata": {},
     "output_type": "display_data"
    },
    {
     "data": {
      "text/html": [
       "<pre>number of query data blocks: 1</pre>"
      ],
      "text/plain": [
       "number of query data blocks: 1"
      ]
     },
     "metadata": {},
     "output_type": "display_data"
    },
    {
     "data": {
      "text/html": [
       "<pre>+--------------+---------+-------------+--------------+</pre>"
      ],
      "text/plain": [
       "+--------------+---------+-------------+--------------+"
      ]
     },
     "metadata": {},
     "output_type": "display_data"
    },
    {
     "data": {
      "text/html": [
       "<pre>| Query points | # Pairs | % Complete. | Elapsed Time |</pre>"
      ],
      "text/plain": [
       "| Query points | # Pairs | % Complete. | Elapsed Time |"
      ]
     },
     "metadata": {},
     "output_type": "display_data"
    },
    {
     "data": {
      "text/html": [
       "<pre>+--------------+---------+-------------+--------------+</pre>"
      ],
      "text/plain": [
       "+--------------+---------+-------------+--------------+"
      ]
     },
     "metadata": {},
     "output_type": "display_data"
    },
    {
     "data": {
      "text/html": [
       "<pre>| 1000         | 127000  | 24.9509     | 309.077ms    |</pre>"
      ],
      "text/plain": [
       "| 1000         | 127000  | 24.9509     | 309.077ms    |"
      ]
     },
     "metadata": {},
     "output_type": "display_data"
    },
    {
     "data": {
      "text/html": [
       "<pre>| Done         | 509000  | 100         | 338.811ms    |</pre>"
      ],
      "text/plain": [
       "| Done         | 509000  | 100         | 338.811ms    |"
      ]
     },
     "metadata": {},
     "output_type": "display_data"
    },
    {
     "data": {
      "text/html": [
       "<pre>+--------------+---------+-------------+--------------+</pre>"
      ],
      "text/plain": [
       "+--------------+---------+-------------+--------------+"
      ]
     },
     "metadata": {},
     "output_type": "display_data"
    },
    {
     "name": "stdout",
     "output_type": "stream",
     "text": [
      "automobile\n",
      "+-------------+-----------------+---------------+------+\n",
      "| query_label | reference_label |    distance   | rank |\n",
      "+-------------+-----------------+---------------+------+\n",
      "|      0      |      33859      | 41.9579761457 |  1   |\n",
      "|      1      |       2046      | 46.0021331807 |  1   |\n",
      "|      2      |      19594      | 42.9462290692 |  1   |\n",
      "|      3      |      11000      | 41.6866060048 |  1   |\n",
      "|      4      |      19594      | 39.2269664935 |  1   |\n",
      "|      5      |      49314      | 40.5845117698 |  1   |\n",
      "|      6      |      40822      | 45.1067352961 |  1   |\n",
      "|      7      |      44997      | 41.3221140974 |  1   |\n",
      "|      8      |      33859      | 41.8244654995 |  1   |\n",
      "|      9      |      33859      | 45.4976929401 |  1   |\n",
      "+-------------+-----------------+---------------+------+\n",
      "[10 rows x 4 columns]\n",
      "\n",
      "test image group = dog:matches 678 in the same image train group\n"
     ]
    }
   ],
   "source": [
    "test_group_name = 'dog'\n",
    "neighbors = test_group(test_group_name)\n",
    "group_distance = build_distance(test_group_name)\n",
    "ans = group_distance.apply(is_group_correct).sum()\n",
    "print \"test image group = \" + test_group_name + \":\" + \"matches \" + str(ans) + \" in the same image train group\""
   ]
  },
  {
   "cell_type": "code",
   "execution_count": 16,
   "metadata": {
    "collapsed": false
   },
   "outputs": [
    {
     "data": {
      "text/html": [
       "<pre>Starting blockwise querying.</pre>"
      ],
      "text/plain": [
       "Starting blockwise querying."
      ]
     },
     "metadata": {},
     "output_type": "display_data"
    },
    {
     "data": {
      "text/html": [
       "<pre>max rows per data block: 4348</pre>"
      ],
      "text/plain": [
       "max rows per data block: 4348"
      ]
     },
     "metadata": {},
     "output_type": "display_data"
    },
    {
     "data": {
      "text/html": [
       "<pre>number of reference data blocks: 4</pre>"
      ],
      "text/plain": [
       "number of reference data blocks: 4"
      ]
     },
     "metadata": {},
     "output_type": "display_data"
    },
    {
     "data": {
      "text/html": [
       "<pre>number of query data blocks: 1</pre>"
      ],
      "text/plain": [
       "number of query data blocks: 1"
      ]
     },
     "metadata": {},
     "output_type": "display_data"
    },
    {
     "data": {
      "text/html": [
       "<pre>+--------------+---------+-------------+--------------+</pre>"
      ],
      "text/plain": [
       "+--------------+---------+-------------+--------------+"
      ]
     },
     "metadata": {},
     "output_type": "display_data"
    },
    {
     "data": {
      "text/html": [
       "<pre>| Query points | # Pairs | % Complete. | Elapsed Time |</pre>"
      ],
      "text/plain": [
       "| Query points | # Pairs | % Complete. | Elapsed Time |"
      ]
     },
     "metadata": {},
     "output_type": "display_data"
    },
    {
     "data": {
      "text/html": [
       "<pre>+--------------+---------+-------------+--------------+</pre>"
      ],
      "text/plain": [
       "+--------------+---------+-------------+--------------+"
      ]
     },
     "metadata": {},
     "output_type": "display_data"
    },
    {
     "data": {
      "text/html": [
       "<pre>| 1000         | 120000  | 25.1046     | 273.096ms    |</pre>"
      ],
      "text/plain": [
       "| 1000         | 120000  | 25.1046     | 273.096ms    |"
      ]
     },
     "metadata": {},
     "output_type": "display_data"
    },
    {
     "data": {
      "text/html": [
       "<pre>| Done         | 478000  | 100         | 311.112ms    |</pre>"
      ],
      "text/plain": [
       "| Done         | 478000  | 100         | 311.112ms    |"
      ]
     },
     "metadata": {},
     "output_type": "display_data"
    },
    {
     "data": {
      "text/html": [
       "<pre>+--------------+---------+-------------+--------------+</pre>"
      ],
      "text/plain": [
       "+--------------+---------+-------------+--------------+"
      ]
     },
     "metadata": {},
     "output_type": "display_data"
    },
    {
     "name": "stdout",
     "output_type": "stream",
     "text": [
      "bird\n",
      "+-------------+-----------------+---------------+------+\n",
      "| query_label | reference_label |    distance   | rank |\n",
      "+-------------+-----------------+---------------+------+\n",
      "|      0      |      49573      |  38.074265869 |  1   |\n",
      "|      1      |       4242      | 36.3674024138 |  1   |\n",
      "|      2      |      44658      | 35.3039394947 |  1   |\n",
      "|      3      |      12533      | 38.8944029601 |  1   |\n",
      "|      4      |       6944      | 34.2820409875 |  1   |\n",
      "|      5      |      37315      | 44.5352170178 |  1   |\n",
      "|      6      |      15910      | 34.0290595084 |  1   |\n",
      "|      7      |      49573      | 39.0236924983 |  1   |\n",
      "|      8      |       3517      | 40.8334054297 |  1   |\n",
      "|      9      |      19224      | 40.1258835601 |  1   |\n",
      "+-------------+-----------------+---------------+------+\n",
      "[10 rows x 4 columns]\n",
      "\n"
     ]
    },
    {
     "data": {
      "text/html": [
       "<pre>Starting blockwise querying.</pre>"
      ],
      "text/plain": [
       "Starting blockwise querying."
      ]
     },
     "metadata": {},
     "output_type": "display_data"
    },
    {
     "data": {
      "text/html": [
       "<pre>max rows per data block: 4348</pre>"
      ],
      "text/plain": [
       "max rows per data block: 4348"
      ]
     },
     "metadata": {},
     "output_type": "display_data"
    },
    {
     "data": {
      "text/html": [
       "<pre>number of reference data blocks: 4</pre>"
      ],
      "text/plain": [
       "number of reference data blocks: 4"
      ]
     },
     "metadata": {},
     "output_type": "display_data"
    },
    {
     "data": {
      "text/html": [
       "<pre>number of query data blocks: 1</pre>"
      ],
      "text/plain": [
       "number of query data blocks: 1"
      ]
     },
     "metadata": {},
     "output_type": "display_data"
    },
    {
     "data": {
      "text/html": [
       "<pre>+--------------+---------+-------------+--------------+</pre>"
      ],
      "text/plain": [
       "+--------------+---------+-------------+--------------+"
      ]
     },
     "metadata": {},
     "output_type": "display_data"
    },
    {
     "data": {
      "text/html": [
       "<pre>| Query points | # Pairs | % Complete. | Elapsed Time |</pre>"
      ],
      "text/plain": [
       "| Query points | # Pairs | % Complete. | Elapsed Time |"
      ]
     },
     "metadata": {},
     "output_type": "display_data"
    },
    {
     "data": {
      "text/html": [
       "<pre>+--------------+---------+-------------+--------------+</pre>"
      ],
      "text/plain": [
       "+--------------+---------+-------------+--------------+"
      ]
     },
     "metadata": {},
     "output_type": "display_data"
    },
    {
     "data": {
      "text/html": [
       "<pre>| 1000         | 127000  | 24.9509     | 299.701ms    |</pre>"
      ],
      "text/plain": [
       "| 1000         | 127000  | 24.9509     | 299.701ms    |"
      ]
     },
     "metadata": {},
     "output_type": "display_data"
    },
    {
     "data": {
      "text/html": [
       "<pre>| Done         | 509000  | 100         | 317.377ms    |</pre>"
      ],
      "text/plain": [
       "| Done         | 509000  | 100         | 317.377ms    |"
      ]
     },
     "metadata": {},
     "output_type": "display_data"
    },
    {
     "data": {
      "text/html": [
       "<pre>+--------------+---------+-------------+--------------+</pre>"
      ],
      "text/plain": [
       "+--------------+---------+-------------+--------------+"
      ]
     },
     "metadata": {},
     "output_type": "display_data"
    },
    {
     "name": "stdout",
     "output_type": "stream",
     "text": [
      "dog\n",
      "+-------------+-----------------+---------------+------+\n",
      "| query_label | reference_label |    distance   | rank |\n",
      "+-------------+-----------------+---------------+------+\n",
      "|      0      |      16976      | 37.4642628784 |  1   |\n",
      "|      1      |      40938      | 29.3472319585 |  1   |\n",
      "|      2      |      15549      | 32.2599640475 |  1   |\n",
      "|      3      |      35905      | 35.3852085188 |  1   |\n",
      "|      4      |       5755      | 30.0442985088 |  1   |\n",
      "|      5      |      42054      | 35.4741000424 |  1   |\n",
      "|      6      |      24663      | 32.5845275226 |  1   |\n",
      "|      7      |      16560      | 37.6502852614 |  1   |\n",
      "|      8      |      19683      | 36.9801353512 |  1   |\n",
      "|      9      |       5755      | 41.1259410707 |  1   |\n",
      "+-------------+-----------------+---------------+------+\n",
      "[10 rows x 4 columns]\n",
      "\n"
     ]
    },
    {
     "data": {
      "text/html": [
       "<pre>Starting blockwise querying.</pre>"
      ],
      "text/plain": [
       "Starting blockwise querying."
      ]
     },
     "metadata": {},
     "output_type": "display_data"
    },
    {
     "data": {
      "text/html": [
       "<pre>max rows per data block: 4348</pre>"
      ],
      "text/plain": [
       "max rows per data block: 4348"
      ]
     },
     "metadata": {},
     "output_type": "display_data"
    },
    {
     "data": {
      "text/html": [
       "<pre>number of reference data blocks: 4</pre>"
      ],
      "text/plain": [
       "number of reference data blocks: 4"
      ]
     },
     "metadata": {},
     "output_type": "display_data"
    },
    {
     "data": {
      "text/html": [
       "<pre>number of query data blocks: 1</pre>"
      ],
      "text/plain": [
       "number of query data blocks: 1"
      ]
     },
     "metadata": {},
     "output_type": "display_data"
    },
    {
     "data": {
      "text/html": [
       "<pre>+--------------+---------+-------------+--------------+</pre>"
      ],
      "text/plain": [
       "+--------------+---------+-------------+--------------+"
      ]
     },
     "metadata": {},
     "output_type": "display_data"
    },
    {
     "data": {
      "text/html": [
       "<pre>| Query points | # Pairs | % Complete. | Elapsed Time |</pre>"
      ],
      "text/plain": [
       "| Query points | # Pairs | % Complete. | Elapsed Time |"
      ]
     },
     "metadata": {},
     "output_type": "display_data"
    },
    {
     "data": {
      "text/html": [
       "<pre>+--------------+---------+-------------+--------------+</pre>"
      ],
      "text/plain": [
       "+--------------+---------+-------------+--------------+"
      ]
     },
     "metadata": {},
     "output_type": "display_data"
    },
    {
     "data": {
      "text/html": [
       "<pre>| 1000         | 127000  | 24.9509     | 280.291ms    |</pre>"
      ],
      "text/plain": [
       "| 1000         | 127000  | 24.9509     | 280.291ms    |"
      ]
     },
     "metadata": {},
     "output_type": "display_data"
    },
    {
     "data": {
      "text/html": [
       "<pre>| Done         | 509000  | 100         | 302.427ms    |</pre>"
      ],
      "text/plain": [
       "| Done         | 509000  | 100         | 302.427ms    |"
      ]
     },
     "metadata": {},
     "output_type": "display_data"
    },
    {
     "data": {
      "text/html": [
       "<pre>+--------------+---------+-------------+--------------+</pre>"
      ],
      "text/plain": [
       "+--------------+---------+-------------+--------------+"
      ]
     },
     "metadata": {},
     "output_type": "display_data"
    },
    {
     "name": "stdout",
     "output_type": "stream",
     "text": [
      "cat\n",
      "+-------------+-----------------+---------------+------+\n",
      "| query_label | reference_label |    distance   | rank |\n",
      "+-------------+-----------------+---------------+------+\n",
      "|      0      |      16289      |  34.623719208 |  1   |\n",
      "|      1      |      13094      | 33.8680579302 |  1   |\n",
      "|      2      |      18188      | 32.4615168902 |  1   |\n",
      "|      3      |       9846      | 35.7708210254 |  1   |\n",
      "|      4      |      16904      | 31.1577686417 |  1   |\n",
      "|      5      |      16018      | 41.3986035847 |  1   |\n",
      "|      6      |      29793      | 30.9894594959 |  1   |\n",
      "|      7      |      39130      | 37.0814607387 |  1   |\n",
      "|      8      |      42646      | 39.9883863688 |  1   |\n",
      "|      9      |      39777      | 39.7076633097 |  1   |\n",
      "+-------------+-----------------+---------------+------+\n",
      "[10 rows x 4 columns]\n",
      "\n"
     ]
    },
    {
     "data": {
      "text/html": [
       "<pre>Starting blockwise querying.</pre>"
      ],
      "text/plain": [
       "Starting blockwise querying."
      ]
     },
     "metadata": {},
     "output_type": "display_data"
    },
    {
     "data": {
      "text/html": [
       "<pre>max rows per data block: 4348</pre>"
      ],
      "text/plain": [
       "max rows per data block: 4348"
      ]
     },
     "metadata": {},
     "output_type": "display_data"
    },
    {
     "data": {
      "text/html": [
       "<pre>number of reference data blocks: 4</pre>"
      ],
      "text/plain": [
       "number of reference data blocks: 4"
      ]
     },
     "metadata": {},
     "output_type": "display_data"
    },
    {
     "data": {
      "text/html": [
       "<pre>number of query data blocks: 1</pre>"
      ],
      "text/plain": [
       "number of query data blocks: 1"
      ]
     },
     "metadata": {},
     "output_type": "display_data"
    },
    {
     "data": {
      "text/html": [
       "<pre>+--------------+---------+-------------+--------------+</pre>"
      ],
      "text/plain": [
       "+--------------+---------+-------------+--------------+"
      ]
     },
     "metadata": {},
     "output_type": "display_data"
    },
    {
     "data": {
      "text/html": [
       "<pre>| Query points | # Pairs | % Complete. | Elapsed Time |</pre>"
      ],
      "text/plain": [
       "| Query points | # Pairs | % Complete. | Elapsed Time |"
      ]
     },
     "metadata": {},
     "output_type": "display_data"
    },
    {
     "data": {
      "text/html": [
       "<pre>+--------------+---------+-------------+--------------+</pre>"
      ],
      "text/plain": [
       "+--------------+---------+-------------+--------------+"
      ]
     },
     "metadata": {},
     "output_type": "display_data"
    },
    {
     "data": {
      "text/html": [
       "<pre>| 1000         | 127000  | 24.9509     | 287.875ms    |</pre>"
      ],
      "text/plain": [
       "| 1000         | 127000  | 24.9509     | 287.875ms    |"
      ]
     },
     "metadata": {},
     "output_type": "display_data"
    },
    {
     "data": {
      "text/html": [
       "<pre>| Done         | 509000  | 100         | 314.343ms    |</pre>"
      ],
      "text/plain": [
       "| Done         | 509000  | 100         | 314.343ms    |"
      ]
     },
     "metadata": {},
     "output_type": "display_data"
    },
    {
     "data": {
      "text/html": [
       "<pre>+--------------+---------+-------------+--------------+</pre>"
      ],
      "text/plain": [
       "+--------------+---------+-------------+--------------+"
      ]
     },
     "metadata": {},
     "output_type": "display_data"
    },
    {
     "name": "stdout",
     "output_type": "stream",
     "text": [
      "automobile\n",
      "+-------------+-----------------+---------------+------+\n",
      "| query_label | reference_label |    distance   | rank |\n",
      "+-------------+-----------------+---------------+------+\n",
      "|      0      |      49314      | 39.6710582792 |  1   |\n",
      "|      1      |      46858      | 43.0089056688 |  1   |\n",
      "|      2      |      19594      | 38.6010006604 |  1   |\n",
      "|      3      |       302       | 39.3566307091 |  1   |\n",
      "|      4      |      20750      | 38.3572372618 |  1   |\n",
      "|      5      |       9118      | 42.0904793181 |  1   |\n",
      "|      6      |      44997      | 39.0520251253 |  1   |\n",
      "|      7      |       302       | 39.3058645069 |  1   |\n",
      "|      8      |      46858      | 43.0248129799 |  1   |\n",
      "|      9      |      20750      | 45.6749176426 |  1   |\n",
      "+-------------+-----------------+---------------+------+\n",
      "[10 rows x 4 columns]\n",
      "\n"
     ]
    }
   ],
   "source": [
    "cat_neighbors = {}\n",
    "test_group_name = 'cat'\n",
    "for i in range(len(i_label)):\n",
    "    cat_neighbors[i_label[i]] = data_model[i_label[i]].query(test_data_group[test_group_name], k=1)\n",
    "    print i_label[i]\n",
    "    print cat_neighbors[i_label[i]].head()"
   ]
  },
  {
   "cell_type": "code",
   "execution_count": 17,
   "metadata": {
    "collapsed": true
   },
   "outputs": [],
   "source": [
    "## build the SFrame"
   ]
  },
  {
   "cell_type": "code",
   "execution_count": 18,
   "metadata": {
    "collapsed": false
   },
   "outputs": [
    {
     "data": {
      "text/html": [
       "<div style=\"max-height:1000px;max-width:1500px;overflow:auto;\"><table frame=\"box\" rules=\"cols\">\n",
       "    <tr>\n",
       "        <th style=\"padding-left: 1em; padding-right: 1em; text-align: center\">cat-bird</th>\n",
       "        <th style=\"padding-left: 1em; padding-right: 1em; text-align: center\">cat-dog</th>\n",
       "        <th style=\"padding-left: 1em; padding-right: 1em; text-align: center\">cat-cat</th>\n",
       "        <th style=\"padding-left: 1em; padding-right: 1em; text-align: center\">cat-automobile</th>\n",
       "    </tr>\n",
       "    <tr>\n",
       "        <td style=\"padding-left: 1em; padding-right: 1em; text-align: center; vertical-align: top\">38.074265869</td>\n",
       "        <td style=\"padding-left: 1em; padding-right: 1em; text-align: center; vertical-align: top\">37.4642628784</td>\n",
       "        <td style=\"padding-left: 1em; padding-right: 1em; text-align: center; vertical-align: top\">34.623719208</td>\n",
       "        <td style=\"padding-left: 1em; padding-right: 1em; text-align: center; vertical-align: top\">39.6710582792</td>\n",
       "    </tr>\n",
       "    <tr>\n",
       "        <td style=\"padding-left: 1em; padding-right: 1em; text-align: center; vertical-align: top\">36.3674024138</td>\n",
       "        <td style=\"padding-left: 1em; padding-right: 1em; text-align: center; vertical-align: top\">29.3472319585</td>\n",
       "        <td style=\"padding-left: 1em; padding-right: 1em; text-align: center; vertical-align: top\">33.8680579302</td>\n",
       "        <td style=\"padding-left: 1em; padding-right: 1em; text-align: center; vertical-align: top\">43.0089056688</td>\n",
       "    </tr>\n",
       "    <tr>\n",
       "        <td style=\"padding-left: 1em; padding-right: 1em; text-align: center; vertical-align: top\">35.3039394947</td>\n",
       "        <td style=\"padding-left: 1em; padding-right: 1em; text-align: center; vertical-align: top\">32.2599640475</td>\n",
       "        <td style=\"padding-left: 1em; padding-right: 1em; text-align: center; vertical-align: top\">32.4615168902</td>\n",
       "        <td style=\"padding-left: 1em; padding-right: 1em; text-align: center; vertical-align: top\">38.6010006604</td>\n",
       "    </tr>\n",
       "    <tr>\n",
       "        <td style=\"padding-left: 1em; padding-right: 1em; text-align: center; vertical-align: top\">38.8944029601</td>\n",
       "        <td style=\"padding-left: 1em; padding-right: 1em; text-align: center; vertical-align: top\">35.3852085188</td>\n",
       "        <td style=\"padding-left: 1em; padding-right: 1em; text-align: center; vertical-align: top\">35.7708210254</td>\n",
       "        <td style=\"padding-left: 1em; padding-right: 1em; text-align: center; vertical-align: top\">39.3566307091</td>\n",
       "    </tr>\n",
       "    <tr>\n",
       "        <td style=\"padding-left: 1em; padding-right: 1em; text-align: center; vertical-align: top\">34.2820409875</td>\n",
       "        <td style=\"padding-left: 1em; padding-right: 1em; text-align: center; vertical-align: top\">30.0442985088</td>\n",
       "        <td style=\"padding-left: 1em; padding-right: 1em; text-align: center; vertical-align: top\">31.1577686417</td>\n",
       "        <td style=\"padding-left: 1em; padding-right: 1em; text-align: center; vertical-align: top\">38.3572372618</td>\n",
       "    </tr>\n",
       "    <tr>\n",
       "        <td style=\"padding-left: 1em; padding-right: 1em; text-align: center; vertical-align: top\">44.5352170178</td>\n",
       "        <td style=\"padding-left: 1em; padding-right: 1em; text-align: center; vertical-align: top\">35.4741000424</td>\n",
       "        <td style=\"padding-left: 1em; padding-right: 1em; text-align: center; vertical-align: top\">41.3986035847</td>\n",
       "        <td style=\"padding-left: 1em; padding-right: 1em; text-align: center; vertical-align: top\">42.0904793181</td>\n",
       "    </tr>\n",
       "    <tr>\n",
       "        <td style=\"padding-left: 1em; padding-right: 1em; text-align: center; vertical-align: top\">34.0290595084</td>\n",
       "        <td style=\"padding-left: 1em; padding-right: 1em; text-align: center; vertical-align: top\">32.5845275226</td>\n",
       "        <td style=\"padding-left: 1em; padding-right: 1em; text-align: center; vertical-align: top\">30.9894594959</td>\n",
       "        <td style=\"padding-left: 1em; padding-right: 1em; text-align: center; vertical-align: top\">39.0520251253</td>\n",
       "    </tr>\n",
       "    <tr>\n",
       "        <td style=\"padding-left: 1em; padding-right: 1em; text-align: center; vertical-align: top\">39.0236924983</td>\n",
       "        <td style=\"padding-left: 1em; padding-right: 1em; text-align: center; vertical-align: top\">37.6502852614</td>\n",
       "        <td style=\"padding-left: 1em; padding-right: 1em; text-align: center; vertical-align: top\">37.0814607387</td>\n",
       "        <td style=\"padding-left: 1em; padding-right: 1em; text-align: center; vertical-align: top\">39.3058645069</td>\n",
       "    </tr>\n",
       "    <tr>\n",
       "        <td style=\"padding-left: 1em; padding-right: 1em; text-align: center; vertical-align: top\">40.8334054297</td>\n",
       "        <td style=\"padding-left: 1em; padding-right: 1em; text-align: center; vertical-align: top\">36.9801353512</td>\n",
       "        <td style=\"padding-left: 1em; padding-right: 1em; text-align: center; vertical-align: top\">39.9883863688</td>\n",
       "        <td style=\"padding-left: 1em; padding-right: 1em; text-align: center; vertical-align: top\">43.0248129799</td>\n",
       "    </tr>\n",
       "    <tr>\n",
       "        <td style=\"padding-left: 1em; padding-right: 1em; text-align: center; vertical-align: top\">40.1258835601</td>\n",
       "        <td style=\"padding-left: 1em; padding-right: 1em; text-align: center; vertical-align: top\">41.1259410707</td>\n",
       "        <td style=\"padding-left: 1em; padding-right: 1em; text-align: center; vertical-align: top\">39.7076633097</td>\n",
       "        <td style=\"padding-left: 1em; padding-right: 1em; text-align: center; vertical-align: top\">45.6749176426</td>\n",
       "    </tr>\n",
       "</table>\n",
       "[10 rows x 4 columns]<br/>\n",
       "</div>"
      ],
      "text/plain": [
       "Columns:\n",
       "\tcat-bird\tfloat\n",
       "\tcat-dog\tfloat\n",
       "\tcat-cat\tfloat\n",
       "\tcat-automobile\tfloat\n",
       "\n",
       "Rows: 10\n",
       "\n",
       "Data:\n",
       "+---------------+---------------+---------------+----------------+\n",
       "|    cat-bird   |    cat-dog    |    cat-cat    | cat-automobile |\n",
       "+---------------+---------------+---------------+----------------+\n",
       "|  38.074265869 | 37.4642628784 |  34.623719208 | 39.6710582792  |\n",
       "| 36.3674024138 | 29.3472319585 | 33.8680579302 | 43.0089056688  |\n",
       "| 35.3039394947 | 32.2599640475 | 32.4615168902 | 38.6010006604  |\n",
       "| 38.8944029601 | 35.3852085188 | 35.7708210254 | 39.3566307091  |\n",
       "| 34.2820409875 | 30.0442985088 | 31.1577686417 | 38.3572372618  |\n",
       "| 44.5352170178 | 35.4741000424 | 41.3986035847 | 42.0904793181  |\n",
       "| 34.0290595084 | 32.5845275226 | 30.9894594959 | 39.0520251253  |\n",
       "| 39.0236924983 | 37.6502852614 | 37.0814607387 | 39.3058645069  |\n",
       "| 40.8334054297 | 36.9801353512 | 39.9883863688 | 43.0248129799  |\n",
       "| 40.1258835601 | 41.1259410707 | 39.7076633097 | 45.6749176426  |\n",
       "+---------------+---------------+---------------+----------------+\n",
       "[10 rows x 4 columns]"
      ]
     },
     "execution_count": 18,
     "metadata": {},
     "output_type": "execute_result"
    }
   ],
   "source": [
    "cat_distance = graphlab.SFrame()\n",
    "for i in range(len(i_label)):\n",
    "    col_name = test_group_name + '-' + i_label[i]\n",
    "    cat_distance[col_name] = cat_neighbors[i_label[i]]['distance']\n",
    "cat_distance.head()"
   ]
  },
  {
   "cell_type": "code",
   "execution_count": 19,
   "metadata": {
    "collapsed": false
   },
   "outputs": [],
   "source": [
    "## now compute how many of them dog-dog is min distance"
   ]
  },
  {
   "cell_type": "code",
   "execution_count": 20,
   "metadata": {
    "collapsed": false
   },
   "outputs": [
    {
     "data": {
      "text/plain": [
       "548"
      ]
     },
     "execution_count": 20,
     "metadata": {},
     "output_type": "execute_result"
    }
   ],
   "source": [
    "def is_cat_correct(row):\n",
    "    if min(row, key=row.get) == \"cat-cat\":\n",
    "        return 1\n",
    "    else:\n",
    "        return 0\n",
    "cat_distance.apply(is_cat_correct).sum()"
   ]
  },
  {
   "cell_type": "code",
   "execution_count": null,
   "metadata": {
    "collapsed": true
   },
   "outputs": [],
   "source": []
  }
 ],
 "metadata": {
  "kernelspec": {
   "display_name": "Python 2",
   "language": "python",
   "name": "python2"
  },
  "language_info": {
   "codemirror_mode": {
    "name": "ipython",
    "version": 2
   },
   "file_extension": ".py",
   "mimetype": "text/x-python",
   "name": "python",
   "nbconvert_exporter": "python",
   "pygments_lexer": "ipython2",
   "version": "2.7.11"
  }
 },
 "nbformat": 4,
 "nbformat_minor": 0
}
