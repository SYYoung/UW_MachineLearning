{
 "cells": [
  {
   "cell_type": "code",
   "execution_count": 2,
   "metadata": {
    "collapsed": false
   },
   "outputs": [],
   "source": [
    "import graphlab"
   ]
  },
  {
   "cell_type": "code",
   "execution_count": 3,
   "metadata": {
    "collapsed": false
   },
   "outputs": [
    {
     "name": "stderr",
     "output_type": "stream",
     "text": [
      "[INFO] graphlab.cython.cy_server: GraphLab Create v2.1 started. Logging: /tmp/graphlab_server_1538730685.log\n"
     ]
    },
    {
     "name": "stdout",
     "output_type": "stream",
     "text": [
      "This non-commercial license of GraphLab Create for academic use is assigned to r38411@yahoo.com and will expire on August 31, 2019.\n"
     ]
    }
   ],
   "source": [
    "train_data = graphlab.SFrame('image_train_data/')\n",
    "test_data = graphlab.SFrame('image_test_data/')"
   ]
  },
  {
   "cell_type": "code",
   "execution_count": 4,
   "metadata": {
    "collapsed": false
   },
   "outputs": [
    {
     "name": "stdout",
     "output_type": "stream",
     "text": [
      "+----+----------------------+-------+-------------------------------+\n",
      "| id |        image         | label |         deep_features         |\n",
      "+----+----------------------+-------+-------------------------------+\n",
      "| 24 | Height: 32 Width: 32 |  bird | [0.242871761322, 1.0954537... |\n",
      "| 33 | Height: 32 Width: 32 |  cat  | [0.525087952614, 0.0, 0.0,... |\n",
      "+----+----------------------+-------+-------------------------------+\n",
      "+-------------------------------+\n",
      "|          image_array          |\n",
      "+-------------------------------+\n",
      "| [73.0, 77.0, 58.0, 71.0, 6... |\n",
      "| [7.0, 5.0, 8.0, 7.0, 5.0, ... |\n",
      "+-------------------------------+\n",
      "[2005 rows x 5 columns]\n",
      "\n"
     ]
    }
   ],
   "source": [
    "train_data.print_rows(num_rows=2)"
   ]
  },
  {
   "cell_type": "code",
   "execution_count": 6,
   "metadata": {
    "collapsed": false
   },
   "outputs": [
    {
     "data": {
      "text/plain": [
       "\n",
       "+------------------+-------+----------+\n",
       "|       item       | value | is exact |\n",
       "+------------------+-------+----------+\n",
       "|      Length      |  2005 |   Yes    |\n",
       "| # Missing Values |   0   |   Yes    |\n",
       "| # unique values  |   4   |    No    |\n",
       "+------------------+-------+----------+\n",
       "\n",
       "Most frequent items:\n",
       "+-------+------------+-----+-----+------+\n",
       "| value | automobile | cat | dog | bird |\n",
       "+-------+------------+-----+-----+------+\n",
       "| count |    509     | 509 | 509 | 478  |\n",
       "+-------+------------+-----+-----+------+\n"
      ]
     },
     "execution_count": 6,
     "metadata": {},
     "output_type": "execute_result"
    }
   ],
   "source": [
    "train_data['label'].sketch_summary()"
   ]
  },
  {
   "cell_type": "markdown",
   "metadata": {},
   "source": [
    "# Question 1:\n",
    "# in label, there are 4 unique labels:\n",
    "# automobile: 509, cat:509, dog:509, bird:478, total=2005"
   ]
  },
  {
   "cell_type": "code",
   "execution_count": 11,
   "metadata": {
    "collapsed": false
   },
   "outputs": [
    {
     "data": {
      "text/plain": [
       "dtype: str\n",
       "Rows: 4\n",
       "['bird', 'dog', 'cat', 'automobile']"
      ]
     },
     "execution_count": 11,
     "metadata": {},
     "output_type": "execute_result"
    }
   ],
   "source": [
    "image_label = train_data['label'].unique()\n",
    "image_label"
   ]
  },
  {
   "cell_type": "code",
   "execution_count": 12,
   "metadata": {
    "collapsed": true
   },
   "outputs": [],
   "source": [
    "## split the data into 4 categories"
   ]
  },
  {
   "cell_type": "code",
   "execution_count": 13,
   "metadata": {
    "collapsed": true
   },
   "outputs": [],
   "source": [
    "image_group = {}\n",
    "for i in image_label:\n",
    "    key_name = i + '_model'\n",
    "    image_group[key_name] = train_data.filter_by(i, 'label')"
   ]
  },
  {
   "cell_type": "code",
   "execution_count": 14,
   "metadata": {
    "collapsed": false
   },
   "outputs": [
    {
     "data": {
      "text/plain": [
       "{'automobile_model': Columns:\n",
       " \tid\tint\n",
       " \timage\tImage\n",
       " \tlabel\tstr\n",
       " \tdeep_features\tarray\n",
       " \timage_array\tarray\n",
       " \n",
       " Rows: 509\n",
       " \n",
       " Data:\n",
       " +------+----------------------+------------+-------------------------------+\n",
       " |  id  |        image         |   label    |         deep_features         |\n",
       " +------+----------------------+------------+-------------------------------+\n",
       " |  97  | Height: 32 Width: 32 | automobile | [1.57818555832, 0.0, 0.0, ... |\n",
       " | 136  | Height: 32 Width: 32 | automobile | [0.0, 0.0, 0.0, 0.0, 0.0, ... |\n",
       " | 302  | Height: 32 Width: 32 | automobile | [0.583938002586, 0.0, 0.0,... |\n",
       " | 312  | Height: 32 Width: 32 | automobile | [0.0, 0.0, 0.0, 0.39282339... |\n",
       " | 323  | Height: 32 Width: 32 | automobile | [0.0, 0.0, 0.0, 4.42310428... |\n",
       " | 536  | Height: 32 Width: 32 | automobile | [0.0, 0.0, 0.0, 0.0, 0.0, ... |\n",
       " | 593  | Height: 32 Width: 32 | automobile | [1.65033948421, 0.0, 0.0, ... |\n",
       " | 962  | Height: 32 Width: 32 | automobile | [0.0, 0.0, 0.0, 0.39552795... |\n",
       " | 997  | Height: 32 Width: 32 | automobile | [0.0, 0.0, 0.0, 0.0, 0.0, ... |\n",
       " | 1421 | Height: 32 Width: 32 | automobile | [0.0, 0.0, 0.0, 0.0, 0.0, ... |\n",
       " +------+----------------------+------------+-------------------------------+\n",
       " +-------------------------------+\n",
       " |          image_array          |\n",
       " +-------------------------------+\n",
       " | [33.0, 44.0, 27.0, 29.0, 4... |\n",
       " | [35.0, 59.0, 53.0, 36.0, 5... |\n",
       " | [64.0, 52.0, 37.0, 85.0, 6... |\n",
       " | [124.0, 126.0, 113.0, 124.... |\n",
       " | [241.0, 241.0, 241.0, 238.... |\n",
       " | [164.0, 154.0, 154.0, 128.... |\n",
       " | [231.0, 222.0, 227.0, 232.... |\n",
       " | [255.0, 255.0, 255.0, 255.... |\n",
       " | [145.0, 148.0, 157.0, 131.... |\n",
       " | [114.0, 95.0, 33.0, 118.0,... |\n",
       " +-------------------------------+\n",
       " [509 rows x 5 columns]\n",
       " Note: Only the head of the SFrame is printed.\n",
       " You can use print_rows(num_rows=m, num_columns=n) to print more rows and columns.,\n",
       " 'bird_model': Columns:\n",
       " \tid\tint\n",
       " \timage\tImage\n",
       " \tlabel\tstr\n",
       " \tdeep_features\tarray\n",
       " \timage_array\tarray\n",
       " \n",
       " Rows: 478\n",
       " \n",
       " Data:\n",
       " +-----+----------------------+-------+-------------------------------+\n",
       " |  id |        image         | label |         deep_features         |\n",
       " +-----+----------------------+-------+-------------------------------+\n",
       " |  24 | Height: 32 Width: 32 |  bird | [0.242871761322, 1.0954537... |\n",
       " |  90 | Height: 32 Width: 32 |  bird | [1.71786928177, 0.0, 0.0, ... |\n",
       " | 121 | Height: 32 Width: 32 |  bird | [0.0, 0.23753464222, 0.0, ... |\n",
       " | 138 | Height: 32 Width: 32 |  bird | [0.658935725689, 0.0, 0.0,... |\n",
       " | 335 | Height: 32 Width: 32 |  bird | [0.0, 0.0, 0.0, 0.0, 0.0, ... |\n",
       " | 560 | Height: 32 Width: 32 |  bird | [1.69159495831, 0.0, 0.0, ... |\n",
       " | 649 | Height: 32 Width: 32 |  bird | [0.511156201363, 0.3241650... |\n",
       " | 775 | Height: 32 Width: 32 |  bird | [0.0, 0.0, 0.0, 0.0, 0.0, ... |\n",
       " | 802 | Height: 32 Width: 32 |  bird | [0.277166724205, 0.0, 0.0,... |\n",
       " | 975 | Height: 32 Width: 32 |  bird | [0.0, 0.0336718559265, 0.0... |\n",
       " +-----+----------------------+-------+-------------------------------+\n",
       " +-------------------------------+\n",
       " |          image_array          |\n",
       " +-------------------------------+\n",
       " | [73.0, 77.0, 58.0, 71.0, 6... |\n",
       " | [216.0, 195.0, 180.0, 201.... |\n",
       " | [93.0, 96.0, 88.0, 102.0, ... |\n",
       " | [205.0, 193.0, 195.0, 200.... |\n",
       " | [160.0, 159.0, 154.0, 162.... |\n",
       " | [147.0, 138.0, 88.0, 151.0... |\n",
       " | [65.0, 127.0, 9.0, 127.0, ... |\n",
       " | [29.0, 41.0, 25.0, 29.0, 4... |\n",
       " | [233.0, 230.0, 173.0, 222.... |\n",
       " | [59.0, 180.0, 110.0, 88.0,... |\n",
       " +-------------------------------+\n",
       " [478 rows x 5 columns]\n",
       " Note: Only the head of the SFrame is printed.\n",
       " You can use print_rows(num_rows=m, num_columns=n) to print more rows and columns.,\n",
       " 'cat_model': Columns:\n",
       " \tid\tint\n",
       " \timage\tImage\n",
       " \tlabel\tstr\n",
       " \tdeep_features\tarray\n",
       " \timage_array\tarray\n",
       " \n",
       " Rows: 509\n",
       " \n",
       " Data:\n",
       " +-----+----------------------+-------+-------------------------------+\n",
       " |  id |        image         | label |         deep_features         |\n",
       " +-----+----------------------+-------+-------------------------------+\n",
       " |  33 | Height: 32 Width: 32 |  cat  | [0.525087952614, 0.0, 0.0,... |\n",
       " |  36 | Height: 32 Width: 32 |  cat  | [0.566015958786, 0.0, 0.0,... |\n",
       " | 159 | Height: 32 Width: 32 |  cat  | [0.0, 0.0, 0.0, 0.64327532... |\n",
       " | 331 | Height: 32 Width: 32 |  cat  | [0.0, 0.0, 0.510963916779,... |\n",
       " | 367 | Height: 32 Width: 32 |  cat  | [1.38658058643, 0.0, 0.0, ... |\n",
       " | 384 | Height: 32 Width: 32 |  cat  | [1.04403531551, 0.0, 0.0, ... |\n",
       " | 494 | Height: 32 Width: 32 |  cat  | [0.0, 0.0539512038231, 1.9... |\n",
       " | 597 | Height: 32 Width: 32 |  cat  | [0.0, 0.0, 0.0470637083054... |\n",
       " | 788 | Height: 32 Width: 32 |  cat  | [0.505841910839, 0.0, 0.0,... |\n",
       " | 882 | Height: 32 Width: 32 |  cat  | [0.0, 0.0, 0.156200289726,... |\n",
       " +-----+----------------------+-------+-------------------------------+\n",
       " +-------------------------------+\n",
       " |          image_array          |\n",
       " +-------------------------------+\n",
       " | [7.0, 5.0, 8.0, 7.0, 5.0, ... |\n",
       " | [169.0, 122.0, 65.0, 131.0... |\n",
       " | [154.0, 145.0, 135.0, 152.... |\n",
       " | [45.0, 65.0, 92.0, 72.0, 9... |\n",
       " | [168.0, 151.0, 143.0, 145.... |\n",
       " | [46.0, 45.0, 50.0, 47.0, 4... |\n",
       " | [26.0, 34.0, 29.0, 24.0, 2... |\n",
       " | [133.0, 153.0, 138.0, 126.... |\n",
       " | [184.0, 200.0, 197.0, 189.... |\n",
       " | [141.0, 133.0, 112.0, 143.... |\n",
       " +-------------------------------+\n",
       " [509 rows x 5 columns]\n",
       " Note: Only the head of the SFrame is printed.\n",
       " You can use print_rows(num_rows=m, num_columns=n) to print more rows and columns.,\n",
       " 'dog_model': Columns:\n",
       " \tid\tint\n",
       " \timage\tImage\n",
       " \tlabel\tstr\n",
       " \tdeep_features\tarray\n",
       " \timage_array\tarray\n",
       " \n",
       " Rows: 509\n",
       " \n",
       " Data:\n",
       " +------+----------------------+-------+-------------------------------+\n",
       " |  id  |        image         | label |         deep_features         |\n",
       " +------+----------------------+-------+-------------------------------+\n",
       " |  70  | Height: 32 Width: 32 |  dog  | [1.12979578972, 0.0, 0.0, ... |\n",
       " | 107  | Height: 32 Width: 32 |  dog  | [0.0, 0.0, 0.220677852631,... |\n",
       " | 177  | Height: 32 Width: 32 |  dog  | [0.0, 1.45965671539, 0.0, ... |\n",
       " | 424  | Height: 32 Width: 32 |  dog  | [0.942399680614, 0.0, 0.22... |\n",
       " | 462  | Height: 32 Width: 32 |  dog  | [1.43462562561, 0.0, 0.0, ... |\n",
       " | 542  | Height: 32 Width: 32 |  dog  | [0.451547086239, 0.0, 0.0,... |\n",
       " | 573  | Height: 32 Width: 32 |  dog  | [0.592360973358, 0.0, 0.0,... |\n",
       " | 851  | Height: 32 Width: 32 |  dog  | [0.690123438835, 0.0, 0.0,... |\n",
       " | 919  | Height: 32 Width: 32 |  dog  | [0.0, 0.177558660507, 0.13... |\n",
       " | 1172 | Height: 32 Width: 32 |  dog  | [0.517601490021, 0.0, 1.96... |\n",
       " +------+----------------------+-------+-------------------------------+\n",
       " +-------------------------------+\n",
       " |          image_array          |\n",
       " +-------------------------------+\n",
       " | [154.0, 179.0, 152.0, 159.... |\n",
       " | [97.0, 51.0, 31.0, 104.0, ... |\n",
       " | [55.0, 75.0, 42.0, 51.0, 7... |\n",
       " | [60.0, 35.0, 18.0, 63.0, 4... |\n",
       " | [86.0, 69.0, 75.0, 57.0, 4... |\n",
       " | [196.0, 174.0, 113.0, 140.... |\n",
       " | [153.0, 103.0, 52.0, 151.0... |\n",
       " | [39.0, 6.0, 4.0, 53.0, 23.... |\n",
       " | [29.0, 43.0, 4.0, 24.0, 35... |\n",
       " | [182.0, 180.0, 197.0, 196.... |\n",
       " +-------------------------------+\n",
       " [509 rows x 5 columns]\n",
       " Note: Only the head of the SFrame is printed.\n",
       " You can use print_rows(num_rows=m, num_columns=n) to print more rows and columns.}"
      ]
     },
     "execution_count": 14,
     "metadata": {},
     "output_type": "execute_result"
    }
   ],
   "source": [
    "image_group"
   ]
  },
  {
   "cell_type": "code",
   "execution_count": 15,
   "metadata": {
    "collapsed": false
   },
   "outputs": [
    {
     "data": {
      "text/plain": [
       "['bird_model', 'cat_model', 'dog_model', 'automobile_model']"
      ]
     },
     "execution_count": 15,
     "metadata": {},
     "output_type": "execute_result"
    }
   ],
   "source": [
    "image_group.keys()"
   ]
  },
  {
   "cell_type": "code",
   "execution_count": null,
   "metadata": {
    "collapsed": true
   },
   "outputs": [],
   "source": []
  }
 ],
 "metadata": {
  "kernelspec": {
   "display_name": "Python 2",
   "language": "python",
   "name": "python2"
  },
  "language_info": {
   "codemirror_mode": {
    "name": "ipython",
    "version": 2
   },
   "file_extension": ".py",
   "mimetype": "text/x-python",
   "name": "python",
   "nbconvert_exporter": "python",
   "pygments_lexer": "ipython2",
   "version": "2.7.11"
  }
 },
 "nbformat": 4,
 "nbformat_minor": 0
}
