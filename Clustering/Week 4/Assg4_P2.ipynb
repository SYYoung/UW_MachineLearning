{
 "cells": [
  {
   "cell_type": "markdown",
   "metadata": {},
   "source": [
    "## Fitting a diagonal covariance Gaussian mixture model to text data\n",
    "\n",
    "In a previous assignment, we explored k-means clustering for a high-dimensional Wikipedia dataset. We can also model this data with a mixture of Gaussians, though with increasing dimension we run into two important issues associated with using a full covariance matrix for each component.\n",
    " * Computational cost becomes prohibitive in high dimensions: score calculations have complexity cubic in the number of dimensions M if the Gaussian has a full covariance matrix.\n",
    " * A model with many parameters require more data: observe that a full covariance matrix for an M-dimensional Gaussian will have M(M+1)/2 parameters to fit. With the number of parameters growing roughly as the square of the dimension, it may quickly become impossible to find a sufficient amount of data to make good inferences.\n",
    "\n",
    "Both of these issues are avoided if we require the covariance matrix of each component to be diagonal, as then it has only M parameters to fit and the score computation decomposes into M univariate score calculations. Recall from the lecture that the M-step for the full covariance is:\n",
    "\n",
    "\\begin{align*}\n",
    "\\hat{\\Sigma}_k &= \\frac{1}{N_k^{soft}} \\sum_{i=1}^N r_{ik} (x_i-\\hat{\\mu}_k)(x_i - \\hat{\\mu}_k)^T\n",
    "\\end{align*}\n",
    "\n",
    "Note that this is a square matrix with M rows and M columns, and the above equation implies that the (v, w) element is computed by\n",
    "\n",
    "\\begin{align*}\n",
    "\\hat{\\Sigma}_{k, v, w} &= \\frac{1}{N_k^{soft}} \\sum_{i=1}^N r_{ik} (x_{iv}-\\hat{\\mu}_{kv})(x_{iw} - \\hat{\\mu}_{kw})\n",
    "\\end{align*}\n",
    "\n",
    "When we assume that this is a diagonal matrix, then non-diagonal elements are assumed to be zero and we only need to compute each of the M elements along the diagonal independently using the following equation. \n",
    "\n",
    "\\begin{align*}\n",
    "\\hat{\\sigma}^2_{k, v} &= \\hat{\\Sigma}_{k, v, v}  \\\\\n",
    "&= \\frac{1}{N_k^{soft}} \\sum_{i=1}^N r_{ik} (x_{iv}-\\hat{\\mu}_{kv})^2\n",
    "\\end{align*}\n",
    "\n",
    "In this section, we will use an EM implementation to fit a Gaussian mixture model with **diagonal** covariances to a subset of the Wikipedia dataset. The implementation uses the above equation to compute each variance term. \n",
    "\n",
    "We'll begin by importing the dataset and coming up with a useful representation for each article. After running our algorithm on the data, we will explore the output to see whether we can give a meaningful interpretation to the fitted parameters in our model."
   ]
  },
  {
   "cell_type": "markdown",
   "metadata": {},
   "source": [
    "**Note to Amazon EC2 users**: To conserve memory, make sure to stop all the other notebooks before running this notebook."
   ]
  },
  {
   "cell_type": "markdown",
   "metadata": {},
   "source": [
    "## Import necessary packages"
   ]
  },
  {
   "cell_type": "markdown",
   "metadata": {},
   "source": [
    "The following code block will check if you have the correct version of GraphLab Create. Any version later than 1.8.5 will do. To upgrade, read [this page](https://turi.com/download/upgrade-graphlab-create.html)."
   ]
  },
  {
   "cell_type": "code",
   "execution_count": 1,
   "metadata": {
    "collapsed": false
   },
   "outputs": [],
   "source": [
    "import graphlab\n",
    "\n",
    "'''Check GraphLab Create version'''\n",
    "from distutils.version import StrictVersion\n",
    "assert (StrictVersion(graphlab.version) >= StrictVersion('1.8.5')), 'GraphLab Create must be version 1.8.5 or later.'"
   ]
  },
  {
   "cell_type": "markdown",
   "metadata": {},
   "source": [
    "We also have a Python file containing implementations for several functions that will be used during the course of this assignment."
   ]
  },
  {
   "cell_type": "code",
   "execution_count": 2,
   "metadata": {
    "collapsed": false
   },
   "outputs": [],
   "source": [
    "from em_utilities import *"
   ]
  },
  {
   "cell_type": "markdown",
   "metadata": {},
   "source": [
    "## Load Wikipedia data and extract TF-IDF features"
   ]
  },
  {
   "cell_type": "markdown",
   "metadata": {},
   "source": [
    "Load Wikipedia data and transform each of the first 5000 document into a TF-IDF representation."
   ]
  },
  {
   "cell_type": "code",
   "execution_count": 3,
   "metadata": {
    "collapsed": false
   },
   "outputs": [
    {
     "name": "stderr",
     "output_type": "stream",
     "text": [
      "[INFO] graphlab.cython.cy_server: GraphLab Create v2.1 started. Logging: /tmp/graphlab_server_1551852587.log\n"
     ]
    },
    {
     "name": "stdout",
     "output_type": "stream",
     "text": [
      "This non-commercial license of GraphLab Create for academic use is assigned to r38411@yahoo.com and will expire on August 31, 2019.\n"
     ]
    }
   ],
   "source": [
    "wiki = graphlab.SFrame('people_wiki.gl/').head(5000)\n",
    "wiki['tf_idf'] = graphlab.text_analytics.tf_idf(wiki['text'])"
   ]
  },
  {
   "cell_type": "code",
   "execution_count": 4,
   "metadata": {
    "collapsed": false
   },
   "outputs": [
    {
     "data": {
      "text/plain": [
       "5000"
      ]
     },
     "execution_count": 4,
     "metadata": {},
     "output_type": "execute_result"
    }
   ],
   "source": [
    "len(wiki)"
   ]
  },
  {
   "cell_type": "markdown",
   "metadata": {},
   "source": [
    "Using a utility we provide, we will create a sparse matrix representation of the documents. This is the same utility function you used during the previous assignment on k-means with text data."
   ]
  },
  {
   "cell_type": "code",
   "execution_count": 5,
   "metadata": {
    "collapsed": false
   },
   "outputs": [],
   "source": [
    "tf_idf, map_index_to_word = sframe_to_scipy(wiki, 'tf_idf')"
   ]
  },
  {
   "cell_type": "markdown",
   "metadata": {},
   "source": [
    "As in the previous assignment, we will normalize each document's TF-IDF vector to be a unit vector. "
   ]
  },
  {
   "cell_type": "code",
   "execution_count": 6,
   "metadata": {
    "collapsed": false
   },
   "outputs": [],
   "source": [
    "tf_idf = normalize(tf_idf)"
   ]
  },
  {
   "cell_type": "markdown",
   "metadata": {},
   "source": [
    "We can check that the length (Euclidean norm) of each row is now 1.0, as expected."
   ]
  },
  {
   "cell_type": "code",
   "execution_count": 6,
   "metadata": {
    "collapsed": false,
    "scrolled": true
   },
   "outputs": [
    {
     "name": "stdout",
     "output_type": "stream",
     "text": [
      "72.7418569932\n",
      "91.8286816083\n",
      "66.8178209498\n",
      "96.0479068429\n",
      "92.059547202\n"
     ]
    }
   ],
   "source": [
    "for i in range(5):\n",
    "    doc = tf_idf[i]\n",
    "    print(np.linalg.norm(doc.todense()))"
   ]
  },
  {
   "cell_type": "markdown",
   "metadata": {},
   "source": [
    "## EM in high dimensions\n",
    "\n",
    "EM for high-dimensional data requires some special treatment:\n",
    " * E step and M step must be vectorized as much as possible, as explicit loops are dreadfully slow in Python.\n",
    " * All operations must be cast in terms of sparse matrix operations, to take advantage of computational savings enabled by sparsity of data.\n",
    " * Initially, some words may be entirely absent from a cluster, causing the M step to produce zero mean and variance for those words.  This means any data point with one of those words will have 0 probability of being assigned to that cluster since the cluster allows for no variability (0 variance) around that count being 0 (0 mean). Since there is a small chance for those words to later appear in the cluster, we instead assign a small positive variance (~1e-10). Doing so also prevents numerical overflow.\n",
    " \n",
    "We provide the complete implementation for you in the file `em_utilities.py`. For those who are interested, you can read through the code to see how the sparse matrix implementation differs from the previous assignment. \n",
    "\n",
    "You are expected to answer some quiz questions using the results of clustering."
   ]
  },
  {
   "cell_type": "markdown",
   "metadata": {},
   "source": [
    "**Initializing mean parameters using k-means**\n",
    "\n",
    "Recall from the lectures that EM for Gaussian mixtures is very sensitive to the choice of initial means. With a bad initial set of means, EM may produce clusters that span a large area and are mostly overlapping. To eliminate such bad outcomes, we first produce a suitable set of initial means by using the cluster centers from running k-means.  That is, we first run k-means and then take the final set of means from the converged solution as the initial means in our EM algorithm."
   ]
  },
  {
   "cell_type": "code",
   "execution_count": 7,
   "metadata": {
    "collapsed": false
   },
   "outputs": [],
   "source": [
    "from sklearn.cluster import KMeans\n",
    "\n",
    "np.random.seed(5)\n",
    "num_clusters = 25\n",
    "\n",
    "# Use scikit-learn's k-means to simplify workflow\n",
    "#kmeans_model = KMeans(n_clusters=num_clusters, n_init=5, max_iter=400, random_state=1, n_jobs=-1) # uncomment to use parallelism -- may break on your installation\n",
    "kmeans_model = KMeans(n_clusters=num_clusters, n_init=5, max_iter=400, random_state=1, n_jobs=1)\n",
    "kmeans_model.fit(tf_idf)\n",
    "centroids, cluster_assignment = kmeans_model.cluster_centers_, kmeans_model.labels_\n",
    "\n",
    "means = [centroid for centroid in centroids]"
   ]
  },
  {
   "cell_type": "markdown",
   "metadata": {},
   "source": [
    "**Initializing cluster weights**\n",
    "\n",
    "We will initialize each cluster weight to be the proportion of documents assigned to that cluster by k-means above."
   ]
  },
  {
   "cell_type": "code",
   "execution_count": 8,
   "metadata": {
    "collapsed": false
   },
   "outputs": [
    {
     "name": "stdout",
     "output_type": "stream",
     "text": [
      "[0.1576, 0.0002, 0.0002, 0.0338, 0.0002, 0.0002, 0.0002, 0.0002, 0.0002, 0.1582, 0.0002, 0.0002, 0.0002, 0.0002, 0.0002, 0.0002, 0.0002, 0.0012, 0.0002, 0.0002, 0.4894, 0.0002, 0.138, 0.0002, 0.0182]\n"
     ]
    }
   ],
   "source": [
    "num_docs = tf_idf.shape[0]\n",
    "weights = []\n",
    "for i in xrange(num_clusters):\n",
    "    # Compute the number of data points assigned to cluster i:\n",
    "    num_assigned = sum(kmeans_model.labels_==i)\n",
    "    w = float(num_assigned) / num_docs\n",
    "    weights.append(w)\n",
    "print weights"
   ]
  },
  {
   "cell_type": "markdown",
   "metadata": {},
   "source": [
    "**Initializing covariances**\n",
    "\n",
    "To initialize our covariance parameters, we compute $\\hat{\\sigma}_{k, j}^2 = \\sum_{i=1}^{N}(x_{i,j} - \\hat{\\mu}_{k, j})^2$ for each feature $j$.  For features with really tiny variances, we assign 1e-8 instead to prevent numerical instability. We do this computation in a vectorized fashion in the following code block."
   ]
  },
  {
   "cell_type": "code",
   "execution_count": 9,
   "metadata": {
    "collapsed": false
   },
   "outputs": [],
   "source": [
    "covs = []\n",
    "for i in xrange(num_clusters):\n",
    "    member_rows = tf_idf[cluster_assignment==i]\n",
    "    cov = (member_rows.multiply(member_rows) - 2*member_rows.dot(diag(means[i]))).sum(axis=0).A1 / member_rows.shape[0] \\\n",
    "          + means[i]**2\n",
    "    cov[cov < 1e-8] = 1e-8\n",
    "    covs.append(cov)"
   ]
  },
  {
   "cell_type": "markdown",
   "metadata": {},
   "source": [
    "**Running EM**\n",
    "\n",
    "Now that we have initialized all of our parameters, run EM."
   ]
  },
  {
   "cell_type": "code",
   "execution_count": 10,
   "metadata": {
    "collapsed": false,
    "scrolled": true
   },
   "outputs": [],
   "source": [
    "out = EM_for_high_dimension(tf_idf, means, covs, weights, cov_smoothing=1e-10)"
   ]
  },
  {
   "cell_type": "code",
   "execution_count": 11,
   "metadata": {
    "collapsed": false
   },
   "outputs": [
    {
     "data": {
      "text/plain": [
       "[2414299901.3534198, 3075979231.293294, 3075979231.293294]"
      ]
     },
     "execution_count": 11,
     "metadata": {},
     "output_type": "execute_result"
    }
   ],
   "source": [
    "out['loglik']"
   ]
  },
  {
   "cell_type": "code",
   "execution_count": 13,
   "metadata": {
    "collapsed": false
   },
   "outputs": [
    {
     "data": {
      "text/plain": [
       "25"
      ]
     },
     "execution_count": 13,
     "metadata": {},
     "output_type": "execute_result"
    }
   ],
   "source": [
    "len(out['means'])"
   ]
  },
  {
   "cell_type": "markdown",
   "metadata": {},
   "source": [
    "## Interpret clustering results"
   ]
  },
  {
   "cell_type": "markdown",
   "metadata": {},
   "source": [
    "In contrast to k-means, EM is able to explicitly model clusters of varying sizes and proportions. The relative magnitude of variances in the word dimensions tell us much about the nature of the clusters.\n",
    "\n",
    "Write yourself a cluster visualizer as follows.  Examining each cluster's mean vector, list the 5 words with the largest mean values (5 most common words in the cluster). For each word, also include the associated variance parameter (diagonal element of the covariance matrix). \n",
    "\n",
    "A sample output may be:\n",
    "```\n",
    "==========================================================\n",
    "Cluster 0: Largest mean parameters in cluster \n",
    "\n",
    "Word        Mean        Variance    \n",
    "football    1.08e-01    8.64e-03\n",
    "season      5.80e-02    2.93e-03\n",
    "club        4.48e-02    1.99e-03\n",
    "league      3.94e-02    1.08e-03\n",
    "played      3.83e-02    8.45e-04\n",
    "...\n",
    "```"
   ]
  },
  {
   "cell_type": "code",
   "execution_count": 18,
   "metadata": {
    "collapsed": true
   },
   "outputs": [],
   "source": [
    "# Fill in the blanks\n",
    "def visualize_EM_clusters(tf_idf, means, covs, map_index_to_word):\n",
    "    print('')\n",
    "    print('==========================================================')\n",
    "\n",
    "    num_clusters = len(means)\n",
    "    for c in xrange(num_clusters):\n",
    "        print('Cluster {0:d}: Largest mean parameters in cluster '.format(c))\n",
    "        print('\\n{0: <12}{1: <12}{2: <12}'.format('Word', 'Mean', 'Variance'))\n",
    "        \n",
    "        # The k'th element of sorted_word_ids should be the index of the word \n",
    "        # that has the k'th-largest value in the cluster mean. Hint: Use np.argsort().\n",
    "        sorted_word_ids = means[c].argsort()[::-1]\n",
    "\n",
    "        for i in sorted_word_ids[:5]:\n",
    "            print '{0: <12}{1:<10.2e}{2:10.2e}'.format(map_index_to_word['category'][i], \n",
    "                                                       means[c][i],\n",
    "                                                       covs[c][i])\n",
    "        print '\\n=========================================================='"
   ]
  },
  {
   "cell_type": "code",
   "execution_count": 19,
   "metadata": {
    "collapsed": false
   },
   "outputs": [
    {
     "name": "stdout",
     "output_type": "stream",
     "text": [
      "\n",
      "==========================================================\n",
      "Cluster 0: Largest mean parameters in cluster \n",
      "\n",
      "Word        Mean        Variance    \n",
      "season      3.16e+00    1.38e+01\n",
      "football    3.14e+00    2.46e+01\n",
      "team        2.88e+00    1.08e+01\n",
      "league      2.61e+00    1.35e+01\n",
      "played      2.48e+00    6.71e+00\n",
      "\n",
      "==========================================================\n",
      "Cluster 1: Largest mean parameters in cluster \n",
      "\n",
      "Word        Mean        Variance    \n",
      "plaintiff   6.66e+02    1.00e-10\n",
      "plaintiffs  3.09e+02    1.00e-10\n",
      "student     2.98e+02    1.00e-10\n",
      "morrison    2.27e+02    1.00e-10\n",
      "evidence    2.23e+02    1.00e-10\n",
      "\n",
      "==========================================================\n",
      "Cluster 2: Largest mean parameters in cluster \n",
      "\n",
      "Word        Mean        Variance    \n",
      "errol       5.19e+01    1.00e-10\n",
      "fabien      4.69e+01    1.00e-10\n",
      "tobago      3.62e+01    1.00e-10\n",
      "trinidad    3.49e+01    1.00e-10\n",
      "addict      1.70e+01    1.00e-10\n",
      "\n",
      "==========================================================\n",
      "Cluster 3: Largest mean parameters in cluster \n",
      "\n",
      "Word        Mean        Variance    \n",
      "baseball    9.80e+00    4.52e+01\n",
      "league      8.73e+00    3.13e+01\n",
      "games       4.17e+00    1.73e+01\n",
      "sox         4.16e+00    5.61e+01\n",
      "major       4.12e+00    7.48e+00\n",
      "\n",
      "==========================================================\n",
      "Cluster 4: Largest mean parameters in cluster \n",
      "\n",
      "Word        Mean        Variance    \n",
      "donalds     8.52e+01    1.00e-10\n",
      "jewellery   8.52e+01    1.00e-10\n",
      "donald      6.45e+01    1.00e-10\n",
      "jeweller    5.96e+01    1.00e-10\n",
      "john        3.75e+01    1.00e-10\n",
      "\n",
      "==========================================================\n",
      "Cluster 5: Largest mean parameters in cluster \n",
      "\n",
      "Word        Mean        Variance    \n",
      "gaffey      1.53e+02    1.00e-10\n",
      "meriden     3.41e+01    1.00e-10\n",
      "connecticut 3.20e+01    1.00e-10\n",
      "districts   2.05e+01    1.00e-10\n",
      "state       1.90e+01    1.00e-10\n",
      "\n",
      "==========================================================\n",
      "Cluster 6: Largest mean parameters in cluster \n",
      "\n",
      "Word        Mean        Variance    \n",
      "castell     4.26e+01    1.00e-10\n",
      "abril       3.71e+01    1.00e-10\n",
      "papal       3.45e+01    1.00e-10\n",
      "cardinal    3.38e+01    1.00e-10\n",
      "y           3.12e+01    1.00e-10\n",
      "\n",
      "==========================================================\n",
      "Cluster 7: Largest mean parameters in cluster \n",
      "\n",
      "Word        Mean        Variance    \n",
      "np          6.26e+01    1.00e-10\n",
      "dria        4.26e+01    1.00e-10\n",
      "theory      3.96e+01    1.00e-10\n",
      "p           3.47e+01    1.00e-10\n",
      "ufrj        3.41e+01    1.00e-10\n",
      "\n",
      "==========================================================\n",
      "Cluster 8: Largest mean parameters in cluster \n",
      "\n",
      "Word        Mean        Variance    \n",
      "hagans      1.33e+02    1.00e-10\n",
      "jazz        4.15e+01    1.00e-10\n",
      "norrbotten  2.35e+01    1.00e-10\n",
      "thad        2.35e+01    1.00e-10\n",
      "trumpet     2.15e+01    1.00e-10\n",
      "\n",
      "==========================================================\n",
      "Cluster 9: Largest mean parameters in cluster \n",
      "\n",
      "Word        Mean        Variance    \n",
      "research    2.64e+00    1.56e+01\n",
      "university  2.42e+00    4.70e+00\n",
      "professor   1.97e+00    7.45e+00\n",
      "science     1.75e+00    1.31e+01\n",
      "institute   1.38e+00    5.23e+00\n",
      "\n",
      "==========================================================\n",
      "Cluster 10: Largest mean parameters in cluster \n",
      "\n",
      "Word        Mean        Variance    \n",
      "elkhosht    1.53e+02    1.00e-10\n",
      "osman       5.48e+01    1.00e-10\n",
      "elkhoshts   5.11e+01    1.00e-10\n",
      "muhammad    4.97e+01    1.00e-10\n",
      "rationality 4.45e+01    1.00e-10\n",
      "\n",
      "==========================================================\n",
      "Cluster 11: Largest mean parameters in cluster \n",
      "\n",
      "Word        Mean        Variance    \n",
      "kirk        1.37e+02    1.00e-10\n",
      "assists     8.44e+01    1.00e-10\n",
      "rebounds    8.14e+01    1.00e-10\n",
      "steals      8.08e+01    1.00e-10\n",
      "averaged    6.36e+01    1.00e-10\n",
      "\n",
      "==========================================================\n",
      "Cluster 12: Largest mean parameters in cluster \n",
      "\n",
      "Word        Mean        Variance    \n",
      "hemingway   5.38e+01    1.00e-10\n",
      "stoneback   3.41e+01    1.00e-10\n",
      "paris       2.50e+01    1.00e-10\n",
      "ernest      1.72e+01    1.00e-10\n",
      "hemingways  1.70e+01    1.00e-10\n",
      "\n",
      "==========================================================\n",
      "Cluster 13: Largest mean parameters in cluster \n",
      "\n",
      "Word        Mean        Variance    \n",
      "hellstrm    5.96e+01    1.00e-10\n",
      "bagatelle   2.35e+01    1.00e-10\n",
      "restaurant  2.09e+01    1.00e-10\n",
      "inger       1.70e+01    1.00e-10\n",
      "fru         1.70e+01    1.00e-10\n",
      "\n",
      "==========================================================\n",
      "Cluster 14: Largest mean parameters in cluster \n",
      "\n",
      "Word        Mean        Variance    \n",
      "yoel        7.04e+01    1.00e-10\n",
      "levi        6.32e+01    1.00e-10\n",
      "orchestra   5.43e+01    1.00e-10\n",
      "philharmonic3.43e+01    1.00e-10\n",
      "orchestras  2.70e+01    1.00e-10\n",
      "\n",
      "==========================================================\n",
      "Cluster 15: Largest mean parameters in cluster \n",
      "\n",
      "Word        Mean        Variance    \n",
      "kelly       7.36e+01    1.00e-10\n",
      "semi        3.73e+01    1.00e-10\n",
      "uefa        3.72e+01    1.00e-10\n",
      "ireland     3.60e+01    1.00e-10\n",
      "aggregate   3.29e+01    1.00e-10\n",
      "\n",
      "==========================================================\n",
      "Cluster 16: Largest mean parameters in cluster \n",
      "\n",
      "Word        Mean        Variance    \n",
      "sharpe      1.64e+02    1.00e-10\n",
      "bros        5.47e+01    1.00e-10\n",
      "gosford     3.41e+01    1.00e-10\n",
      "australian  1.92e+01    1.00e-10\n",
      "hunternet   1.70e+01    1.00e-10\n",
      "\n",
      "==========================================================\n",
      "Cluster 17: Largest mean parameters in cluster \n",
      "\n",
      "Word        Mean        Variance    \n",
      "braithwaite 2.22e+01    2.46e+03\n",
      "fight       1.71e+01    9.17e+01\n",
      "wbc         1.35e+01    1.21e+02\n",
      "cruiserweight1.31e+01    5.49e+02\n",
      "round       1.18e+01    6.21e+01\n",
      "\n",
      "==========================================================\n",
      "Cluster 18: Largest mean parameters in cluster \n",
      "\n",
      "Word        Mean        Variance    \n",
      "flyweight   8.98e+01    1.00e-10\n",
      "gonzalez    8.70e+01    1.00e-10\n",
      "round       6.20e+01    1.00e-10\n",
      "title       4.83e+01    1.00e-10\n",
      "champion    4.83e+01    1.00e-10\n",
      "\n",
      "==========================================================\n",
      "Cluster 19: Largest mean parameters in cluster \n",
      "\n",
      "Word        Mean        Variance    \n",
      "cambern     6.81e+01    1.00e-10\n",
      "editing     3.54e+01    1.00e-10\n",
      "picture     2.56e+01    1.00e-10\n",
      "bogdanovich 2.56e+01    1.00e-10\n",
      "editors     2.00e+01    1.00e-10\n",
      "\n",
      "==========================================================\n",
      "Cluster 20: Largest mean parameters in cluster \n",
      "\n",
      "Word        Mean        Variance    \n",
      "music       1.59e+00    1.49e+01\n",
      "film        1.28e+00    1.63e+01\n",
      "he          1.08e+00    5.60e-01\n",
      "album       1.01e+00    1.22e+01\n",
      "band        9.86e-01    1.12e+01\n",
      "\n",
      "==========================================================\n",
      "Cluster 21: Largest mean parameters in cluster \n",
      "\n",
      "Word        Mean        Variance    \n",
      "axial       1.02e+02    1.00e-10\n",
      "quasha      4.26e+01    1.00e-10\n",
      "preverbs    3.41e+01    1.00e-10\n",
      "precarious  3.41e+01    1.00e-10\n",
      "art         3.19e+01    1.00e-10\n",
      "\n",
      "==========================================================\n",
      "Cluster 22: Largest mean parameters in cluster \n",
      "\n",
      "Word        Mean        Variance    \n",
      "she         1.24e+01    3.84e+01\n",
      "her         8.01e+00    2.67e+01\n",
      "miss        1.34e+00    4.69e+01\n",
      "music       1.21e+00    1.09e+01\n",
      "women       1.06e+00    1.03e+01\n",
      "\n",
      "==========================================================\n",
      "Cluster 23: Largest mean parameters in cluster \n",
      "\n",
      "Word        Mean        Variance    \n",
      "kitabeppu   8.52e+01    1.00e-10\n",
      "era         3.63e+01    1.00e-10\n",
      "carp        2.76e+01    1.00e-10\n",
      "allstar     2.06e+01    1.00e-10\n",
      "243         1.70e+01    1.00e-10\n",
      "\n",
      "==========================================================\n",
      "Cluster 24: Largest mean parameters in cluster \n",
      "\n",
      "Word        Mean        Variance    \n",
      "law         8.28e+00    1.13e+02\n",
      "district    6.87e+00    3.98e+01\n",
      "court       6.53e+00    5.70e+01\n",
      "judge       5.25e+00    1.01e+02\n",
      "attorney    5.22e+00    5.35e+01\n",
      "\n",
      "==========================================================\n"
     ]
    }
   ],
   "source": [
    "'''By EM'''\n",
    "visualize_EM_clusters(tf_idf, out['means'], out['covs'], map_index_to_word)"
   ]
  },
  {
   "cell_type": "markdown",
   "metadata": {},
   "source": [
    "**Quiz Question**. Select all the topics that have a cluster in the model created above. [multiple choice]"
   ]
  },
  {
   "cell_type": "markdown",
   "metadata": {},
   "source": [
    "## Comparing to random initialization"
   ]
  },
  {
   "cell_type": "markdown",
   "metadata": {
    "collapsed": false
   },
   "source": [
    "Create variables for randomly initializing the EM algorithm. Complete the following code block."
   ]
  },
  {
   "cell_type": "code",
   "execution_count": 25,
   "metadata": {
    "collapsed": true
   },
   "outputs": [],
   "source": [
    "np.random.seed(5) # See the note below to see why we set seed=5.\n",
    "num_clusters = len(means)\n",
    "num_docs, num_words = tf_idf.shape\n",
    "\n",
    "random_means = []\n",
    "random_covs = []\n",
    "random_weights = []\n",
    "\n",
    "for k in range(num_clusters):\n",
    "    \n",
    "    # Create a numpy array of length num_words with random normally distributed values.\n",
    "    # Use the standard univariate normal distribution (mean 0, variance 1).\n",
    "    # YOUR CODE HERE\n",
    "    mean = np.random.normal(0, 1, num_words)\n",
    "    \n",
    "    # Create a numpy array of length num_words with random values uniformly distributed between 1 and 5.\n",
    "    # YOUR CODE HERE\n",
    "    cov = np.random.uniform(1, 5, num_words)\n",
    "\n",
    "    # Initially give each cluster equal weight.\n",
    "    # YOUR CODE HERE\n",
    "    weight = 1.0/num_clusters\n",
    "    \n",
    "    random_means.append(mean)\n",
    "    random_covs.append(cov)\n",
    "    random_weights.append(weight)"
   ]
  },
  {
   "cell_type": "markdown",
   "metadata": {},
   "source": [
    "**Quiz Question**: Try fitting EM with the random initial parameters you created above. (Use `cov_smoothing=1e-5`.) Store the result to `out_random_init`. What is the final loglikelihood that the algorithm converges to? "
   ]
  },
  {
   "cell_type": "code",
   "execution_count": 26,
   "metadata": {
    "collapsed": false
   },
   "outputs": [],
   "source": [
    "out_random_init = EM_for_high_dimension(tf_idf, random_means, random_covs, \n",
    "                                        random_weights, cov_smoothing=1e-5)"
   ]
  },
  {
   "cell_type": "markdown",
   "metadata": {},
   "source": [
    "**Quiz Question:** Is the final loglikelihood larger or smaller than the final loglikelihood we obtained above when initializing EM with the results from running k-means?"
   ]
  },
  {
   "cell_type": "code",
   "execution_count": 31,
   "metadata": {
    "collapsed": false
   },
   "outputs": [
    {
     "name": "stdout",
     "output_type": "stream",
     "text": [
      "[2414299901.3534198, 3075979231.293294, 3075979231.293294]\n",
      "[-768078342.47269034, 1647324823.7563128, 1692184172.410275, 1692184172.410275]\n",
      "out\n"
     ]
    }
   ],
   "source": [
    "print out['loglik']\n",
    "print out_random_init['loglik']\n",
    "which_out = 'out' if out['loglik'][-1] > out_random_init['loglik'][-1] else 'out_random_init'\n",
    "print which_out"
   ]
  },
  {
   "cell_type": "markdown",
   "metadata": {},
   "source": [
    "## Quiz:\n",
    "## the final loglikelihood we obtained from random is much smaller than the one with \n",
    "## initializing with k-means"
   ]
  },
  {
   "cell_type": "markdown",
   "metadata": {},
   "source": [
    "**Quiz Question**: For the above model, `out_random_init`, use the `visualize_EM_clusters` method you created above. Are the clusters more or less interpretable than the ones found after initializing using k-means?"
   ]
  },
  {
   "cell_type": "code",
   "execution_count": 32,
   "metadata": {
    "collapsed": false
   },
   "outputs": [
    {
     "name": "stdout",
     "output_type": "stream",
     "text": [
      "\n",
      "==========================================================\n",
      "Cluster 0: Largest mean parameters in cluster \n",
      "\n",
      "Word        Mean        Variance    \n",
      "squires     2.72e+01    3.70e+03\n",
      "holman      2.70e+01    3.64e+03\n",
      "elkhosht    2.56e+01    3.26e+03\n",
      "maltese     1.46e+01    1.06e+03\n",
      "malta       1.33e+01    8.79e+02\n",
      "\n",
      "==========================================================\n",
      "Cluster 1: Largest mean parameters in cluster \n",
      "\n",
      "Word        Mean        Variance    \n",
      "she         1.87e+00    2.58e+01\n",
      "her         1.23e+00    1.24e+01\n",
      "he          1.14e+00    7.49e-01\n",
      "music       9.70e-01    9.09e+00\n",
      "league      9.42e-01    9.55e+00\n",
      "\n",
      "==========================================================\n",
      "Cluster 2: Largest mean parameters in cluster \n",
      "\n",
      "Word        Mean        Variance    \n",
      "plaintiff   1.96e+01    1.27e+04\n",
      "plaintiffs  9.09e+00    2.73e+03\n",
      "student     9.04e+00    2.54e+03\n",
      "morrison    6.85e+00    1.47e+03\n",
      "evidence    6.56e+00    1.42e+03\n",
      "\n",
      "==========================================================\n",
      "Cluster 3: Largest mean parameters in cluster \n",
      "\n",
      "Word        Mean        Variance    \n",
      "yards       2.83e+01    1.60e+03\n",
      "td          2.74e+01    1.50e+03\n",
      "niculescuduvz2.56e+01    1.31e+03\n",
      "emirate     2.27e+01    1.03e+03\n",
      "caucasus    2.14e+01    9.15e+02\n",
      "\n",
      "==========================================================\n",
      "Cluster 4: Largest mean parameters in cluster \n",
      "\n",
      "Word        Mean        Variance    \n",
      "she         2.13e+00    2.61e+01\n",
      "music       1.59e+00    1.61e+01\n",
      "her         1.37e+00    1.21e+01\n",
      "film        1.09e+00    2.15e+01\n",
      "he          1.07e+00    7.06e-01\n",
      "\n",
      "==========================================================\n",
      "Cluster 5: Largest mean parameters in cluster \n",
      "\n",
      "Word        Mean        Variance    \n",
      "saraste     3.57e+00    3.83e+02\n",
      "lampkin     3.30e+00    3.26e+02\n",
      "ghurair     3.02e+00    2.74e+02\n",
      "wayne       2.96e+00    2.63e+02\n",
      "charlton    2.91e+00    2.54e+02\n",
      "\n",
      "==========================================================\n",
      "Cluster 6: Largest mean parameters in cluster \n",
      "\n",
      "Word        Mean        Variance    \n",
      "montes      3.27e+00    5.78e+02\n",
      "she         2.29e+00    2.55e+01\n",
      "luthi       2.17e+00    2.54e+02\n",
      "isoiec      2.17e+00    2.54e+02\n",
      "rfid        2.17e+00    2.54e+02\n",
      "\n",
      "==========================================================\n",
      "Cluster 7: Largest mean parameters in cluster \n",
      "\n",
      "Word        Mean        Variance    \n",
      "she         2.04e+00    2.57e+01\n",
      "her         1.31e+00    9.89e+00\n",
      "he          1.01e+00    6.32e-01\n",
      "league      9.62e-01    1.09e+01\n",
      "art         9.28e-01    1.34e+01\n",
      "\n",
      "==========================================================\n",
      "Cluster 8: Largest mean parameters in cluster \n",
      "\n",
      "Word        Mean        Variance    \n",
      "cusimano    3.62e+00    5.11e+02\n",
      "babitsky    2.98e+00    3.47e+02\n",
      "jones       2.92e+00    1.65e+02\n",
      "opande      2.34e+00    2.14e+02\n",
      "chechen     2.23e+00    1.93e+02\n",
      "\n",
      "==========================================================\n",
      "Cluster 9: Largest mean parameters in cluster \n",
      "\n",
      "Word        Mean        Variance    \n",
      "yanomami    4.99e+00    9.94e+02\n",
      "sharpe      4.01e+00    6.42e+02\n",
      "gk          3.95e+00    6.23e+02\n",
      "braithwaite 3.24e+00    4.21e+02\n",
      "levine      3.05e+00    3.71e+02\n",
      "\n",
      "==========================================================\n",
      "Cluster 10: Largest mean parameters in cluster \n",
      "\n",
      "Word        Mean        Variance    \n",
      "rakotoniaina5.78e+00    9.02e+02\n",
      "symphony    5.46e+00    8.06e+02\n",
      "minister    5.41e+00    1.53e+02\n",
      "bisexual    5.04e+00    6.87e+02\n",
      "kaahumanu   4.56e+00    5.62e+02\n",
      "\n",
      "==========================================================\n",
      "Cluster 11: Largest mean parameters in cluster \n",
      "\n",
      "Word        Mean        Variance    \n",
      "she         1.92e+00    2.45e+01\n",
      "her         1.57e+00    1.41e+01\n",
      "miss        1.22e+00    7.14e+01\n",
      "russian     1.07e+00    8.20e+01\n",
      "he          1.04e+00    6.55e-01\n",
      "\n",
      "==========================================================\n",
      "Cluster 12: Largest mean parameters in cluster \n",
      "\n",
      "Word        Mean        Variance    \n",
      "she         1.55e+00    1.57e+01\n",
      "her         1.19e+00    1.00e+01\n",
      "he          1.05e+00    6.74e-01\n",
      "film        9.27e-01    1.01e+01\n",
      "university  8.94e-01    2.36e+00\n",
      "\n",
      "==========================================================\n",
      "Cluster 13: Largest mean parameters in cluster \n",
      "\n",
      "Word        Mean        Variance    \n",
      "sandoval    3.83e+01    1.47e+03\n",
      "motocross   2.30e+01    5.29e+02\n",
      "weinert     1.96e+01    3.83e+02\n",
      "ama         1.93e+01    3.73e+02\n",
      "giants      1.57e+01    2.47e+02\n",
      "\n",
      "==========================================================\n",
      "Cluster 14: Largest mean parameters in cluster \n",
      "\n",
      "Word        Mean        Variance    \n",
      "meegeren    1.42e+01    1.01e+03\n",
      "bandoneon   1.42e+01    1.01e+03\n",
      "jacksons    1.29e+01    8.32e+02\n",
      "varvello    9.94e+00    4.94e+02\n",
      "frisch      9.94e+00    4.94e+02\n",
      "\n",
      "==========================================================\n",
      "Cluster 15: Largest mean parameters in cluster \n",
      "\n",
      "Word        Mean        Variance    \n",
      "she         2.77e+00    3.45e+01\n",
      "her         1.86e+00    2.02e+01\n",
      "he          1.08e+00    9.57e-01\n",
      "season      1.03e+00    7.90e+00\n",
      "music       1.02e+00    1.10e+01\n",
      "\n",
      "==========================================================\n",
      "Cluster 16: Largest mean parameters in cluster \n",
      "\n",
      "Word        Mean        Variance    \n",
      "blackjack   5.63e+00    8.87e+02\n",
      "bonsai      4.59e+00    5.89e+02\n",
      "hemp        3.82e+00    4.08e+02\n",
      "kessel      3.52e+00    3.48e+02\n",
      "coote       3.52e+00    3.48e+02\n",
      "\n",
      "==========================================================\n",
      "Cluster 17: Largest mean parameters in cluster \n",
      "\n",
      "Word        Mean        Variance    \n",
      "chatigny    1.36e+01    1.67e+03\n",
      "tania       9.64e+00    8.37e+02\n",
      "nolan       8.85e+00    7.05e+02\n",
      "beveridge   8.61e+00    6.67e+02\n",
      "karpidas    8.52e+00    6.53e+02\n",
      "\n",
      "==========================================================\n",
      "Cluster 18: Largest mean parameters in cluster \n",
      "\n",
      "Word        Mean        Variance    \n",
      "heine       2.37e+01    2.25e+03\n",
      "air         2.03e+01    1.38e+03\n",
      "force       1.79e+01    1.16e+03\n",
      "donalds     1.70e+01    1.16e+03\n",
      "jewellery   1.70e+01    1.16e+03\n",
      "\n",
      "==========================================================\n",
      "Cluster 19: Largest mean parameters in cluster \n",
      "\n",
      "Word        Mean        Variance    \n",
      "she         4.91e+00    7.13e+01\n",
      "her         3.65e+00    3.31e+01\n",
      "bulger      2.85e+00    3.09e+02\n",
      "flores      2.43e+00    2.25e+02\n",
      "theile      2.40e+00    2.19e+02\n",
      "\n",
      "==========================================================\n",
      "Cluster 20: Largest mean parameters in cluster \n",
      "\n",
      "Word        Mean        Variance    \n",
      "andrianarivo6.51e+00    6.79e+02\n",
      "stakes      6.30e+00    6.36e+02\n",
      "beamer      5.51e+00    4.86e+02\n",
      "flyweight   5.28e+00    4.46e+02\n",
      "gonzalez    5.12e+00    4.19e+02\n",
      "\n",
      "==========================================================\n",
      "Cluster 21: Largest mean parameters in cluster \n",
      "\n",
      "Word        Mean        Variance    \n",
      "she         1.91e+00    3.76e+01\n",
      "reilly      1.48e+00    1.96e+02\n",
      "league      1.37e+00    9.80e+00\n",
      "played      1.29e+00    6.13e+00\n",
      "he          1.26e+00    6.58e-01\n",
      "\n",
      "==========================================================\n",
      "Cluster 22: Largest mean parameters in cluster \n",
      "\n",
      "Word        Mean        Variance    \n",
      "molesworth  7.57e+00    9.74e+02\n",
      "garrett     6.12e+00    6.37e+02\n",
      "culinary    4.20e+00    2.99e+02\n",
      "iio         3.79e+00    2.44e+02\n",
      "law         3.55e+00    4.19e+01\n",
      "\n",
      "==========================================================\n",
      "Cluster 23: Largest mean parameters in cluster \n",
      "\n",
      "Word        Mean        Variance    \n",
      "health      8.32e+00    7.12e+02\n",
      "oki         4.38e+00    4.61e+02\n",
      "fn          4.07e+00    3.97e+02\n",
      "v           3.99e+00    3.83e+02\n",
      "public      3.89e+00    9.41e+01\n",
      "\n",
      "==========================================================\n",
      "Cluster 24: Largest mean parameters in cluster \n",
      "\n",
      "Word        Mean        Variance    \n",
      "she         2.79e+00    3.79e+01\n",
      "her         1.56e+00    1.28e+01\n",
      "he          9.32e-01    7.15e-01\n",
      "music       9.06e-01    6.35e+00\n",
      "band        8.25e-01    1.06e+01\n",
      "\n",
      "==========================================================\n"
     ]
    }
   ],
   "source": [
    "# YOUR CODE HERE. Use visualize_EM_clusters, which will require you to pass in tf_idf and map_index_to_word.\n",
    "visualize_EM_clusters(tf_idf, out_random_init['means'], out_random_init['covs'], map_index_to_word)"
   ]
  },
  {
   "cell_type": "markdown",
   "metadata": {
    "collapsed": true
   },
   "source": [
    "**Note**: Random initialization may sometimes produce a superior fit than k-means initialization. We do not claim that random initialization is always worse. However, this section does illustrate that random initialization often produces much worse clustering than k-means counterpart. This is the reason why we provide the particular random seed (`np.random.seed(5)`)."
   ]
  },
  {
   "cell_type": "markdown",
   "metadata": {
    "collapsed": true
   },
   "source": [
    "## Takeaway\n",
    "\n",
    "In this assignment we were able to apply the EM algorithm to a mixture of Gaussians model of text data. This was made possible by modifying the model to assume a diagonal covariance for each cluster, and by modifying the implementation to use a sparse matrix representation. In the second part you explored the role of k-means initialization on the convergence of the model as well as the interpretability of the clusters."
   ]
  },
  {
   "cell_type": "markdown",
   "metadata": {},
   "source": [
    "## Quiz:\n",
    "## with the random initializations, the clusters are less interpretable than the one from k-means"
   ]
  },
  {
   "cell_type": "code",
   "execution_count": null,
   "metadata": {
    "collapsed": true
   },
   "outputs": [],
   "source": []
  }
 ],
 "metadata": {
  "anaconda-cloud": {},
  "kernelspec": {
   "display_name": "Python 2",
   "language": "python",
   "name": "python2"
  },
  "language_info": {
   "codemirror_mode": {
    "name": "ipython",
    "version": 2
   },
   "file_extension": ".py",
   "mimetype": "text/x-python",
   "name": "python",
   "nbconvert_exporter": "python",
   "pygments_lexer": "ipython2",
   "version": "2.7.11"
  }
 },
 "nbformat": 4,
 "nbformat_minor": 0
}
