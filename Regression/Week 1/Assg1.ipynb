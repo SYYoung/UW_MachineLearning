{
 "cells": [
  {
   "cell_type": "code",
   "execution_count": 2,
   "metadata": {
    "collapsed": true
   },
   "outputs": [],
   "source": [
    "import graphlab"
   ]
  },
  {
   "cell_type": "code",
   "execution_count": 3,
   "metadata": {
    "collapsed": false
   },
   "outputs": [
    {
     "name": "stderr",
     "output_type": "stream",
     "text": [
      "[INFO] graphlab.cython.cy_server: GraphLab Create v2.1 started. Logging: /tmp/graphlab_server_1539268125.log\n"
     ]
    },
    {
     "name": "stdout",
     "output_type": "stream",
     "text": [
      "This non-commercial license of GraphLab Create for academic use is assigned to r38411@yahoo.com and will expire on August 31, 2019.\n"
     ]
    }
   ],
   "source": [
    "sales = graphlab.SFrame('kc_house_data.gl')"
   ]
  },
  {
   "cell_type": "code",
   "execution_count": 4,
   "metadata": {
    "collapsed": false
   },
   "outputs": [
    {
     "name": "stdout",
     "output_type": "stream",
     "text": [
      "+------------+---------------------------+----------+----------+-----------+\n",
      "|     id     |            date           |  price   | bedrooms | bathrooms |\n",
      "+------------+---------------------------+----------+----------+-----------+\n",
      "| 7129300520 | 2014-10-13 00:00:00+00:00 | 221900.0 |   3.0    |    1.0    |\n",
      "| 6414100192 | 2014-12-09 00:00:00+00:00 | 538000.0 |   3.0    |    2.25   |\n",
      "| 5631500400 | 2015-02-25 00:00:00+00:00 | 180000.0 |   2.0    |    1.0    |\n",
      "+------------+---------------------------+----------+----------+-----------+\n",
      "+-------------+----------+--------+------------+------+-----------+-------+------------+\n",
      "| sqft_living | sqft_lot | floors | waterfront | view | condition | grade | sqft_above |\n",
      "+-------------+----------+--------+------------+------+-----------+-------+------------+\n",
      "|    1180.0   |   5650   |   1    |     0      |  0   |     3     |   7   |    1180    |\n",
      "|    2570.0   |   7242   |   2    |     0      |  0   |     3     |   7   |    2170    |\n",
      "|    770.0    |  10000   |   1    |     0      |  0   |     3     |   6   |    770     |\n",
      "+-------------+----------+--------+------------+------+-----------+-------+------------+\n",
      "+---------------+----------+--------------+---------+-------------+\n",
      "| sqft_basement | yr_built | yr_renovated | zipcode |     lat     |\n",
      "+---------------+----------+--------------+---------+-------------+\n",
      "|       0       |   1955   |      0       |  98178  | 47.51123398 |\n",
      "|      400      |   1951   |     1991     |  98125  | 47.72102274 |\n",
      "|       0       |   1933   |      0       |  98028  | 47.73792661 |\n",
      "+---------------+----------+--------------+---------+-------------+\n",
      "+---------------+---------------+------------+\n",
      "|      long     | sqft_living15 | sqft_lot15 |\n",
      "+---------------+---------------+------------+\n",
      "| -122.25677536 |     1340.0    |   5650.0   |\n",
      "|  -122.3188624 |     1690.0    |   7639.0   |\n",
      "| -122.23319601 |     2720.0    |   8062.0   |\n",
      "+---------------+---------------+------------+\n",
      "[21613 rows x 21 columns]\n",
      "\n"
     ]
    }
   ],
   "source": [
    "graphlab.canvas.set_target('ipynb')\n",
    "sales.print_rows(num_rows=3)"
   ]
  },
  {
   "cell_type": "code",
   "execution_count": 5,
   "metadata": {
    "collapsed": true
   },
   "outputs": [],
   "source": [
    "train_data, test_data = sales.random_split(.8, seed=0)"
   ]
  },
  {
   "cell_type": "code",
   "execution_count": 33,
   "metadata": {
    "collapsed": false,
    "scrolled": true
   },
   "outputs": [
    {
     "name": "stdout",
     "output_type": "stream",
     "text": [
      "-1.0 5.0\n"
     ]
    }
   ],
   "source": [
    "def simple_linear_regression(input_feature, output):\n",
    "    x = graphlab.SArray(input_feature)\n",
    "    y = graphlab.SArray(output)\n",
    "    N = len(x)\n",
    "    sum_y = sum(y)\n",
    "    sum_x = sum(x)\n",
    "    sum_xy = sum(x * y)\n",
    "    sum_x_sq = sum(x * x)\n",
    "    slope = 1.0 * (sum_xy - sum_x*sum_y*1.0/N)/(sum_x_sq - sum_x*sum_x*1.0/N)\n",
    "    intercept = 1.0*sum_y/N - slope * sum_x*1.0/N\n",
    "    return (intercept, slope)\n",
    "\n",
    "i_feature = [0,1,2,3,4]\n",
    "out = [1,3,7,13,21]\n",
    "(w0, w1) = simple_linear_regression(i_feature, out)\n",
    "print w0, w1"
   ]
  },
  {
   "cell_type": "code",
   "execution_count": 30,
   "metadata": {
    "collapsed": false,
    "scrolled": true
   },
   "outputs": [
    {
     "name": "stdout",
     "output_type": "stream",
     "text": [
      "-1.0 5.0\n"
     ]
    }
   ],
   "source": [
    "def simple_linear_regression1(input_feature, output):\n",
    "    N = len(input_feature)\n",
    "    sum_y = sum(output)\n",
    "    sum_x = sum(input_feature)\n",
    "    sum_xy = sum(map(lambda x,y: x*y, input_feature, output))\n",
    "    sum_x_sq = sum(map(lambda x:x*x, input_feature))\n",
    "    slope = 1.0 * (sum_xy - sum_x*sum_y*1.0/N)/(sum_x_sq - sum_x*sum_x*1.0/N)\n",
    "    intercept = 1.0*sum_y/N - slope * sum_x*1.0/N\n",
    "    return (intercept, slope)\n",
    "\n",
    "i_feature = [0,1,2,3,4]\n",
    "out = [1,3,7,13,21]\n",
    "(w0, w1) = simple_linear_regression(i_feature, out)\n",
    "print w0, w1"
   ]
  },
  {
   "cell_type": "code",
   "execution_count": 17,
   "metadata": {
    "collapsed": false
   },
   "outputs": [
    {
     "name": "stdout",
     "output_type": "stream",
     "text": [
      "-47116.0765749 281.958838568\n"
     ]
    }
   ],
   "source": [
    "input_feature = train_data['sqft_living']\n",
    "output = train_data['price']\n",
    "(squarefeet_intercept, squarefeet_slope) = simple_linear_regression(input_feature, output)\n",
    "print squarefeet_intercept, squarefeet_slope"
   ]
  },
  {
   "cell_type": "markdown",
   "metadata": {},
   "source": [
    "# Question 3:\n",
    "# squarefeet_intercept = -47116.07, squarefeet_slope = 281.958"
   ]
  },
  {
   "cell_type": "code",
   "execution_count": 21,
   "metadata": {
    "collapsed": false
   },
   "outputs": [
    {
     "ename": "TypeError",
     "evalue": "argument 3 to map() must support iteration",
     "output_type": "error",
     "traceback": [
      "\u001b[0;31m---------------------------------------------------------------------------\u001b[0m",
      "\u001b[0;31mTypeError\u001b[0m                                 Traceback (most recent call last)",
      "\u001b[0;32m<ipython-input-21-5816b06f42fb>\u001b[0m in \u001b[0;36m<module>\u001b[0;34m()\u001b[0m\n\u001b[1;32m      4\u001b[0m \u001b[0;34m\u001b[0m\u001b[0m\n\u001b[1;32m      5\u001b[0m \u001b[0minput\u001b[0m \u001b[0;34m=\u001b[0m \u001b[0;34m[\u001b[0m\u001b[0;36m2650\u001b[0m\u001b[0;34m]\u001b[0m\u001b[0;34m\u001b[0m\u001b[0m\n\u001b[0;32m----> 6\u001b[0;31m \u001b[0;32mprint\u001b[0m \u001b[0mget_regression_predictions\u001b[0m\u001b[0;34m(\u001b[0m\u001b[0minput\u001b[0m\u001b[0;34m,\u001b[0m \u001b[0msquarefeet_intercept\u001b[0m\u001b[0;34m,\u001b[0m \u001b[0msquarefeet_slope\u001b[0m\u001b[0;34m)\u001b[0m\u001b[0;34m\u001b[0m\u001b[0m\n\u001b[0m",
      "\u001b[0;32m<ipython-input-21-5816b06f42fb>\u001b[0m in \u001b[0;36mget_regression_predictions\u001b[0;34m(input_feature, intercept, slope)\u001b[0m\n\u001b[1;32m      1\u001b[0m \u001b[0;32mdef\u001b[0m \u001b[0mget_regression_predictions\u001b[0m\u001b[0;34m(\u001b[0m\u001b[0minput_feature\u001b[0m\u001b[0;34m,\u001b[0m \u001b[0mintercept\u001b[0m\u001b[0;34m,\u001b[0m \u001b[0mslope\u001b[0m\u001b[0;34m)\u001b[0m\u001b[0;34m:\u001b[0m\u001b[0;34m\u001b[0m\u001b[0m\n\u001b[0;32m----> 2\u001b[0;31m     \u001b[0mpredicted_output\u001b[0m \u001b[0;34m=\u001b[0m \u001b[0mintercept\u001b[0m \u001b[0;34m+\u001b[0m \u001b[0mmap\u001b[0m\u001b[0;34m(\u001b[0m\u001b[0;32mlambda\u001b[0m \u001b[0mx\u001b[0m\u001b[0;34m,\u001b[0m\u001b[0mnum\u001b[0m\u001b[0;34m:\u001b[0m \u001b[0mx\u001b[0m\u001b[0;34m*\u001b[0m\u001b[0mnum\u001b[0m\u001b[0;34m,\u001b[0m \u001b[0minput_feature\u001b[0m\u001b[0;34m,\u001b[0m \u001b[0mslope\u001b[0m\u001b[0;34m)\u001b[0m\u001b[0;34m\u001b[0m\u001b[0m\n\u001b[0m\u001b[1;32m      3\u001b[0m     \u001b[0;32mreturn\u001b[0m \u001b[0mpredicted_output\u001b[0m\u001b[0;34m\u001b[0m\u001b[0m\n\u001b[1;32m      4\u001b[0m \u001b[0;34m\u001b[0m\u001b[0m\n\u001b[1;32m      5\u001b[0m \u001b[0minput\u001b[0m \u001b[0;34m=\u001b[0m \u001b[0;34m[\u001b[0m\u001b[0;36m2650\u001b[0m\u001b[0;34m]\u001b[0m\u001b[0;34m\u001b[0m\u001b[0m\n",
      "\u001b[0;31mTypeError\u001b[0m: argument 3 to map() must support iteration"
     ]
    }
   ],
   "source": [
    "def get_regression_predictions(input_feature, intercept, slope):\n",
    "    mult = \n",
    "    predicted_output = intercept + map(lambda x,num: x*num, input_feature, slope)\n",
    "    return predicted_output\n",
    "\n",
    "input = [2650]\n",
    "print get_regression_predictions(input, squarefeet_intercept, squarefeet_slope)"
   ]
  },
  {
   "cell_type": "code",
   "execution_count": 25,
   "metadata": {
    "collapsed": false
   },
   "outputs": [
    {
     "ename": "SyntaxError",
     "evalue": "invalid syntax (<ipython-input-25-a7bfd6518f28>, line 1)",
     "output_type": "error",
     "traceback": [
      "\u001b[0;36m  File \u001b[0;32m\"<ipython-input-25-a7bfd6518f28>\"\u001b[0;36m, line \u001b[0;32m1\u001b[0m\n\u001b[0;31m    type sales['sqft_living']\u001b[0m\n\u001b[0m             ^\u001b[0m\n\u001b[0;31mSyntaxError\u001b[0m\u001b[0;31m:\u001b[0m invalid syntax\n"
     ]
    }
   ],
   "source": [
    "type sales['sqft_living']"
   ]
  },
  {
   "cell_type": "code",
   "execution_count": null,
   "metadata": {
    "collapsed": true
   },
   "outputs": [],
   "source": []
  }
 ],
 "metadata": {
  "kernelspec": {
   "display_name": "Python 2",
   "language": "python",
   "name": "python2"
  },
  "language_info": {
   "codemirror_mode": {
    "name": "ipython",
    "version": 2
   },
   "file_extension": ".py",
   "mimetype": "text/x-python",
   "name": "python",
   "nbconvert_exporter": "python",
   "pygments_lexer": "ipython2",
   "version": "2.7.11"
  }
 },
 "nbformat": 4,
 "nbformat_minor": 0
}
