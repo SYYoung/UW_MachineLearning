{
 "cells": [
  {
   "cell_type": "markdown",
   "metadata": {},
   "source": [
    "# Regression Week 5: LASSO (coordinate descent)"
   ]
  },
  {
   "cell_type": "markdown",
   "metadata": {},
   "source": [
    "In this notebook, you will implement your very own LASSO solver via coordinate descent. You will:\n",
    "* Write a function to normalize features\n",
    "* Implement coordinate descent for LASSO\n",
    "* Explore effects of L1 penalty"
   ]
  },
  {
   "cell_type": "markdown",
   "metadata": {},
   "source": [
    "# Fire up graphlab create"
   ]
  },
  {
   "cell_type": "markdown",
   "metadata": {},
   "source": [
    "Make sure you have the latest version of graphlab (>= 1.7)"
   ]
  },
  {
   "cell_type": "code",
   "execution_count": 1,
   "metadata": {
    "collapsed": false
   },
   "outputs": [],
   "source": [
    "import graphlab"
   ]
  },
  {
   "cell_type": "markdown",
   "metadata": {},
   "source": [
    "# Load in house sales data\n",
    "\n",
    "Dataset is from house sales in King County, the region where the city of Seattle, WA is located."
   ]
  },
  {
   "cell_type": "code",
   "execution_count": 2,
   "metadata": {
    "collapsed": false
   },
   "outputs": [
    {
     "name": "stdout",
     "output_type": "stream",
     "text": [
      "This non-commercial license of GraphLab Create for academic use is assigned to r38411@yahoo.com and will expire on August 31, 2019.\n"
     ]
    },
    {
     "name": "stderr",
     "output_type": "stream",
     "text": [
      "[INFO] graphlab.cython.cy_server: GraphLab Create v2.1 started. Logging: /tmp/graphlab_server_1542532215.log\n"
     ]
    }
   ],
   "source": [
    "sales = graphlab.SFrame('kc_house_data.gl/')\n",
    "# In the dataset, 'floors' was defined with type string, \n",
    "# so we'll convert them to int, before using it below\n",
    "sales['floors'] = sales['floors'].astype(int) "
   ]
  },
  {
   "cell_type": "markdown",
   "metadata": {},
   "source": [
    "If we want to do any \"feature engineering\" like creating new features or adjusting existing ones we should do this directly using the SFrames as seen in the first notebook of Week 2. For this notebook, however, we will work with the existing features."
   ]
  },
  {
   "cell_type": "markdown",
   "metadata": {},
   "source": [
    "# Import useful functions from previous notebook"
   ]
  },
  {
   "cell_type": "markdown",
   "metadata": {},
   "source": [
    "As in Week 2, we convert the SFrame into a 2D Numpy array. Copy and paste `get_num_data()` from the second notebook of Week 2."
   ]
  },
  {
   "cell_type": "code",
   "execution_count": 3,
   "metadata": {
    "collapsed": true
   },
   "outputs": [],
   "source": [
    "import numpy as np # note this allows us to refer to numpy as np instead "
   ]
  },
  {
   "cell_type": "code",
   "execution_count": 4,
   "metadata": {
    "collapsed": true
   },
   "outputs": [],
   "source": [
    "def get_numpy_data(data_sframe, features, output):\n",
    "    data_sframe['constant'] = 1 # this is how you add a constant column to an SFrame\n",
    "    # add the column 'constant' to the front of the features list so that we can extract it along with the others:\n",
    "    features = ['constant'] + features # this is how you combine two lists\n",
    "    # select the columns of data_SFrame given by the features list into the SFrame features_sframe (now including constant):\n",
    "    features_sframe = data_sframe.select_columns(features)\n",
    "    # the following line will convert the features_SFrame into a numpy matrix:\n",
    "    feature_matrix = features_sframe.to_numpy()\n",
    "    # assign the column of data_sframe associated with the output to the SArray output_sarray\n",
    "    output_sarray = data_sframe[output]\n",
    "    # the following will convert the SArray into a numpy array by first converting it to a list\n",
    "    output_array = output_sarray.to_numpy()\n",
    "    return(feature_matrix, output_array)"
   ]
  },
  {
   "cell_type": "markdown",
   "metadata": {},
   "source": [
    "Also, copy and paste the `predict_output()` function to compute the predictions for an entire matrix of features given the matrix and the weights:"
   ]
  },
  {
   "cell_type": "code",
   "execution_count": 5,
   "metadata": {
    "collapsed": true
   },
   "outputs": [],
   "source": [
    "def predict_output(feature_matrix, weights):\n",
    "    # assume feature_matrix is a numpy matrix containing the features as columns and weights is a corresponding numpy array\n",
    "    # create the predictions vector by using np.dot()\n",
    "    predictions = np.dot(feature_matrix, weights)\n",
    "    return(predictions)"
   ]
  },
  {
   "cell_type": "markdown",
   "metadata": {},
   "source": [
    "# Normalize features\n",
    "In the house dataset, features vary wildly in their relative magnitude: `sqft_living` is very large overall compared to `bedrooms`, for instance. As a result, weight for `sqft_living` would be much smaller than weight for `bedrooms`. This is problematic because \"small\" weights are dropped first as `l1_penalty` goes up. \n",
    "\n",
    "To give equal considerations for all features, we need to **normalize features** as discussed in the lectures: we divide each feature by its 2-norm so that the transformed feature has norm 1.\n",
    "\n",
    "Let's see how we can do this normalization easily with Numpy: let us first consider a small matrix."
   ]
  },
  {
   "cell_type": "code",
   "execution_count": 6,
   "metadata": {
    "collapsed": false
   },
   "outputs": [
    {
     "name": "stdout",
     "output_type": "stream",
     "text": [
      "[[  3.   5.   8.]\n",
      " [  4.  12.  15.]]\n"
     ]
    }
   ],
   "source": [
    "X = np.array([[3.,5.,8.],[4.,12.,15.]])\n",
    "print X"
   ]
  },
  {
   "cell_type": "markdown",
   "metadata": {},
   "source": [
    "Numpy provides a shorthand for computing 2-norms of each column:"
   ]
  },
  {
   "cell_type": "code",
   "execution_count": 7,
   "metadata": {
    "collapsed": false
   },
   "outputs": [
    {
     "name": "stdout",
     "output_type": "stream",
     "text": [
      "[  5.  13.  17.]\n"
     ]
    }
   ],
   "source": [
    "norms = np.linalg.norm(X, axis=0) # gives [norm(X[:,0]), norm(X[:,1]), norm(X[:,2])]\n",
    "print norms"
   ]
  },
  {
   "cell_type": "markdown",
   "metadata": {},
   "source": [
    "To normalize, apply element-wise division:"
   ]
  },
  {
   "cell_type": "code",
   "execution_count": 8,
   "metadata": {
    "collapsed": false
   },
   "outputs": [
    {
     "name": "stdout",
     "output_type": "stream",
     "text": [
      "[[ 0.6         0.38461538  0.47058824]\n",
      " [ 0.8         0.92307692  0.88235294]]\n"
     ]
    }
   ],
   "source": [
    "print X / norms # gives [X[:,0]/norm(X[:,0]), X[:,1]/norm(X[:,1]), X[:,2]/norm(X[:,2])]"
   ]
  },
  {
   "cell_type": "markdown",
   "metadata": {},
   "source": [
    "Using the shorthand we just covered, write a short function called `normalize_features(feature_matrix)`, which normalizes columns of a given feature matrix. The function should return a pair `(normalized_features, norms)`, where the second item contains the norms of original features. As discussed in the lectures, we will use these norms to normalize the test data in the same way as we normalized the training data. "
   ]
  },
  {
   "cell_type": "code",
   "execution_count": 9,
   "metadata": {
    "collapsed": true
   },
   "outputs": [],
   "source": [
    "def normalize_features(feature_matrix):\n",
    "    norms = np.linalg.norm(feature_matrix, axis=0)\n",
    "    norm_feature = feature_matrix/norms\n",
    "    return (norm_feature, norms)"
   ]
  },
  {
   "cell_type": "markdown",
   "metadata": {},
   "source": [
    "To test the function, run the following:"
   ]
  },
  {
   "cell_type": "code",
   "execution_count": 10,
   "metadata": {
    "collapsed": false
   },
   "outputs": [
    {
     "name": "stdout",
     "output_type": "stream",
     "text": [
      "[[ 0.6  0.6  0.6]\n",
      " [ 0.8  0.8  0.8]]\n",
      "[  5.  10.  15.]\n"
     ]
    }
   ],
   "source": [
    "features, norms = normalize_features(np.array([[3.,6.,9.],[4.,8.,12.]]))\n",
    "print features\n",
    "# should print\n",
    "# [[ 0.6  0.6  0.6]\n",
    "#  [ 0.8  0.8  0.8]]\n",
    "print norms\n",
    "# should print\n",
    "# [5.  10.  15.]"
   ]
  },
  {
   "cell_type": "markdown",
   "metadata": {},
   "source": [
    "# Implementing Coordinate Descent with normalized features"
   ]
  },
  {
   "cell_type": "markdown",
   "metadata": {},
   "source": [
    "We seek to obtain a sparse set of weights by minimizing the LASSO cost function\n",
    "```\n",
    "SUM[ (prediction - output)^2 ] + lambda*( |w[1]| + ... + |w[k]|).\n",
    "```\n",
    "(By convention, we do not include `w[0]` in the L1 penalty term. We never want to push the intercept to zero.)\n",
    "\n",
    "The absolute value sign makes the cost function non-differentiable, so simple gradient descent is not viable (you would need to implement a method called subgradient descent). Instead, we will use **coordinate descent**: at each iteration, we will fix all weights but weight `i` and find the value of weight `i` that minimizes the objective. That is, we look for\n",
    "```\n",
    "argmin_{w[i]} [ SUM[ (prediction - output)^2 ] + lambda*( |w[1]| + ... + |w[k]|) ]\n",
    "```\n",
    "where all weights other than `w[i]` are held to be constant. We will optimize one `w[i]` at a time, circling through the weights multiple times.  \n",
    "  1. Pick a coordinate `i`\n",
    "  2. Compute `w[i]` that minimizes the cost function `SUM[ (prediction - output)^2 ] + lambda*( |w[1]| + ... + |w[k]|)`\n",
    "  3. Repeat Steps 1 and 2 for all coordinates, multiple times"
   ]
  },
  {
   "cell_type": "markdown",
   "metadata": {},
   "source": [
    "For this notebook, we use **cyclical coordinate descent with normalized features**, where we cycle through coordinates 0 to (d-1) in order, and assume the features were normalized as discussed above. The formula for optimizing each coordinate is as follows:\n",
    "```\n",
    "       ┌ (ro[i] + lambda/2)     if ro[i] < -lambda/2\n",
    "w[i] = ├ 0                      if -lambda/2 <= ro[i] <= lambda/2\n",
    "       └ (ro[i] - lambda/2)     if ro[i] > lambda/2\n",
    "```\n",
    "where\n",
    "```\n",
    "ro[i] = SUM[ [feature_i]*(output - prediction + w[i]*[feature_i]) ].\n",
    "```\n",
    "\n",
    "Note that we do not regularize the weight of the constant feature (intercept) `w[0]`, so, for this weight, the update is simply:\n",
    "```\n",
    "w[0] = ro[i]\n",
    "```"
   ]
  },
  {
   "cell_type": "markdown",
   "metadata": {},
   "source": [
    "## Effect of L1 penalty"
   ]
  },
  {
   "cell_type": "markdown",
   "metadata": {},
   "source": [
    "Let us consider a simple model with 2 features:"
   ]
  },
  {
   "cell_type": "code",
   "execution_count": 11,
   "metadata": {
    "collapsed": true
   },
   "outputs": [],
   "source": [
    "simple_features = ['sqft_living', 'bedrooms']\n",
    "my_output = 'price'\n",
    "(simple_feature_matrix, output) = get_numpy_data(sales, simple_features, my_output)"
   ]
  },
  {
   "cell_type": "markdown",
   "metadata": {},
   "source": [
    "Don't forget to normalize features:"
   ]
  },
  {
   "cell_type": "code",
   "execution_count": 12,
   "metadata": {
    "collapsed": false
   },
   "outputs": [],
   "source": [
    "simple_feature_matrix, norms = normalize_features(simple_feature_matrix)"
   ]
  },
  {
   "cell_type": "markdown",
   "metadata": {},
   "source": [
    "We assign some random set of initial weights and inspect the values of `ro[i]`:"
   ]
  },
  {
   "cell_type": "code",
   "execution_count": 13,
   "metadata": {
    "collapsed": false
   },
   "outputs": [],
   "source": [
    "weights = np.array([1., 4., 1.])"
   ]
  },
  {
   "cell_type": "markdown",
   "metadata": {},
   "source": [
    "Use `predict_output()` to make predictions on this data."
   ]
  },
  {
   "cell_type": "code",
   "execution_count": 14,
   "metadata": {
    "collapsed": false
   },
   "outputs": [],
   "source": [
    "prediction = predict_output(simple_feature_matrix, weights)"
   ]
  },
  {
   "cell_type": "markdown",
   "metadata": {},
   "source": [
    "Compute the values of `ro[i]` for each feature in this simple model, using the formula given above, using the formula:\n",
    "```\n",
    "ro[i] = SUM[ [feature_i]*(output - prediction + w[i]*[feature_i]) ]\n",
    "```\n",
    "\n",
    "*Hint: You can get a Numpy vector for feature_i using:*\n",
    "```\n",
    "simple_feature_matrix[:,i]\n",
    "```"
   ]
  },
  {
   "cell_type": "code",
   "execution_count": 15,
   "metadata": {
    "collapsed": false
   },
   "outputs": [
    {
     "name": "stdout",
     "output_type": "stream",
     "text": [
      "8.794e+07 8.097e+07\n"
     ]
    }
   ],
   "source": [
    "def get_ro(which_index, feature_matrix, weights, output, prediction):\n",
    "    pred_error = output - prediction + weights[which_index]*feature_matrix[:,which_index]\n",
    "    rho = np.dot(feature_matrix[:,which_index], pred_error).sum()\n",
    "\n",
    "rho_test = [1, 4, 1]\n",
    "for i in range(1,3):\n",
    "    pred_error = output - prediction + weights[i]*simple_feature_matrix[:,i]\n",
    "    rho_test[i] = np.dot(simple_feature_matrix[:,i], pred_error).sum()\n",
    "print \"%.4g\" %rho_test[1], \"%.4g\" %rho_test[2]"
   ]
  },
  {
   "cell_type": "markdown",
   "metadata": {},
   "source": [
    "***QUIZ QUESTION***\n",
    "\n",
    "Recall that, whenever `ro[i]` falls between `-l1_penalty/2` and `l1_penalty/2`, the corresponding weight `w[i]` is sent to zero. Now suppose we were to take one step of coordinate descent on either feature 1 or feature 2. What range of values of `l1_penalty` **would not** set `w[1]` zero, but **would** set `w[2]` to zero, if we were to take a step in that coordinate? "
   ]
  },
  {
   "cell_type": "code",
   "execution_count": 16,
   "metadata": {
    "collapsed": false
   },
   "outputs": [
    {
     "name": "stdout",
     "output_type": "stream",
     "text": [
      "1.62e+08 1.76e+08\n"
     ]
    }
   ],
   "source": [
    "# in order for w_i to be set to 0, lambda > 2*ro_i\n",
    "# in order for w_i to be non-zero, lambda < 2*ro_i\n",
    "# if w_1 != 0 , w_2=0, lambda < 2*r1 and lambda > 2*r2, i.e. lambda = (2*r2, 2*r1)\n",
    "lambda_min = 2*rho_test[2]\n",
    "lambda_max = 2*rho_test[1] -1\n",
    "print \"%.3g\" %lambda_min, \"%.3g\" %lambda_max"
   ]
  },
  {
   "cell_type": "markdown",
   "metadata": {},
   "source": [
    "***QUIZ QUESTION***\n",
    "\n",
    "What range of values of `l1_penalty` would set **both** `w[1]` and `w[2]` to zero, if we were to take a step in that coordinate? "
   ]
  },
  {
   "cell_type": "code",
   "execution_count": 17,
   "metadata": {
    "collapsed": false
   },
   "outputs": [
    {
     "name": "stdout",
     "output_type": "stream",
     "text": [
      "1.76e+08\n"
     ]
    }
   ],
   "source": [
    "# in order for w1 and w2 to be set to 0, lambda > 2*r1 and lambda > 2*r2\n",
    "lambda_max = 2*max(rho_test[1], rho_test[2])\n",
    "print '%.3g' %lambda_max"
   ]
  },
  {
   "cell_type": "markdown",
   "metadata": {},
   "source": [
    "So we can say that `ro[i]` quantifies the significance of the i-th feature: the larger `ro[i]` is, the more likely it is for the i-th feature to be retained."
   ]
  },
  {
   "cell_type": "markdown",
   "metadata": {},
   "source": [
    "## Single Coordinate Descent Step"
   ]
  },
  {
   "cell_type": "markdown",
   "metadata": {},
   "source": [
    "Using the formula above, implement coordinate descent that minimizes the cost function over a single feature i. Note that the intercept (weight 0) is not regularized. The function should accept feature matrix, output, current weights, l1 penalty, and index of feature to optimize over. The function should return new weight for feature i."
   ]
  },
  {
   "cell_type": "code",
   "execution_count": 18,
   "metadata": {
    "collapsed": true
   },
   "outputs": [],
   "source": [
    "def lasso_coordinate_descent_step(i, feature_matrix, output, weights, l1_penalty):\n",
    "    # compute prediction\n",
    "    prediction = predict_output(feature_matrix, weights)\n",
    "    # compute ro[i] = SUM[ [feature_i]*(output - prediction + weight[i]*[feature_i]) ]\n",
    "    pred_error = output - prediction + weights[i]*feature_matrix[:,i]\n",
    "    ro_i = np.dot(feature_matrix[:,i], pred_error).sum()\n",
    "\n",
    "    if i == 0: # intercept -- do not regularize\n",
    "        new_weight_i = ro_i \n",
    "    elif ro_i < -l1_penalty/2.:\n",
    "        new_weight_i = ro_i + l1_penalty/2\n",
    "    elif ro_i > l1_penalty/2.:\n",
    "        new_weight_i = ro_i - l1_penalty/2\n",
    "    else:\n",
    "        new_weight_i = 0.\n",
    "    \n",
    "    return new_weight_i"
   ]
  },
  {
   "cell_type": "markdown",
   "metadata": {},
   "source": [
    "To test the function, run the following cell:"
   ]
  },
  {
   "cell_type": "code",
   "execution_count": 19,
   "metadata": {
    "collapsed": false
   },
   "outputs": [
    {
     "name": "stdout",
     "output_type": "stream",
     "text": [
      "0.425558846691\n"
     ]
    }
   ],
   "source": [
    "# should print 0.425558846691\n",
    "import math\n",
    "print lasso_coordinate_descent_step(1, np.array([[3./math.sqrt(13),1./math.sqrt(10)],[2./math.sqrt(13),3./math.sqrt(10)]]), \n",
    "                                   np.array([1., 1.]), np.array([1., 4.]), 0.1)"
   ]
  },
  {
   "cell_type": "markdown",
   "metadata": {
    "collapsed": true
   },
   "source": [
    "## Cyclical coordinate descent "
   ]
  },
  {
   "cell_type": "markdown",
   "metadata": {},
   "source": [
    "Now that we have a function that optimizes the cost function over a single coordinate, let us implement cyclical coordinate descent where we optimize coordinates 0, 1, ..., (d-1) in order and repeat.\n",
    "\n",
    "When do we know to stop? Each time we scan all the coordinates (features) once, we measure the change in weight for each coordinate. If no coordinate changes by more than a specified threshold, we stop."
   ]
  },
  {
   "cell_type": "markdown",
   "metadata": {},
   "source": [
    "For each iteration:\n",
    "1. As you loop over features in order and perform coordinate descent, measure how much each coordinate changes.\n",
    "2. After the loop, if the maximum change across all coordinates is falls below the tolerance, stop. Otherwise, go back to step 1.\n",
    "\n",
    "Return weights\n",
    "\n",
    "**IMPORTANT: when computing a new weight for coordinate i, make sure to incorporate the new weights for coordinates 0, 1, ..., i-1. One good way is to update your weights variable in-place. See following pseudocode for illustration.**\n",
    "```\n",
    "for i in range(len(weights)):\n",
    "    old_weights_i = weights[i] # remember old value of weight[i], as it will be overwritten\n",
    "    # the following line uses new values for weight[0], weight[1], ..., weight[i-1]\n",
    "    #     and old values for weight[i], ..., weight[d-1]\n",
    "    weights[i] = lasso_coordinate_descent_step(i, feature_matrix, output, weights, l1_penalty)\n",
    "    \n",
    "    # use old_weights_i to compute change in coordinate\n",
    "    ...\n",
    "```"
   ]
  },
  {
   "cell_type": "code",
   "execution_count": 24,
   "metadata": {
    "collapsed": false
   },
   "outputs": [],
   "source": [
    "def lasso_cyclical_coordinate_descent(feature_matrix, output, initial_weights, l1_penalty, tolerance):\n",
    "    max_change = 1000 * tolerance\n",
    "    weights = np.copy(initial_weights)\n",
    "    print 'before while loop, max_change = ', max_change\n",
    "    print weights\n",
    "    while (max_change > tolerance):\n",
    "        max_change = tolerance\n",
    "        for i in range(len(weights)):\n",
    "            old_weights_i = weights[i]\n",
    "            weights[i] = lasso_coordinate_descent_step(i, feature_matrix, output, weights, l1_penalty)\n",
    "            change_weight = abs(old_weights_i - weights[i])\n",
    "            max_change = max(max_change, change_weight)\n",
    "        print weights\n",
    "    return weights"
   ]
  },
  {
   "cell_type": "markdown",
   "metadata": {},
   "source": [
    "Using the following parameters, learn the weights on the sales dataset. "
   ]
  },
  {
   "cell_type": "code",
   "execution_count": 21,
   "metadata": {
    "collapsed": false
   },
   "outputs": [],
   "source": [
    "simple_features = ['sqft_living', 'bedrooms']\n",
    "my_output = 'price'\n",
    "initial_weights = np.zeros(3)\n",
    "l1_penalty = 1e7\n",
    "tolerance = 1.0"
   ]
  },
  {
   "cell_type": "markdown",
   "metadata": {},
   "source": [
    "First create a normalized version of the feature matrix, `normalized_simple_feature_matrix`."
   ]
  },
  {
   "cell_type": "code",
   "execution_count": 22,
   "metadata": {
    "collapsed": false
   },
   "outputs": [],
   "source": [
    "(simple_feature_matrix, output) = get_numpy_data(sales, simple_features, my_output)\n",
    "(normalized_simple_feature_matrix, simple_norms) = normalize_features(simple_feature_matrix) # normalize features"
   ]
  },
  {
   "cell_type": "markdown",
   "metadata": {},
   "source": [
    "Then, run your implementation of LASSO coordinate descent:"
   ]
  },
  {
   "cell_type": "code",
   "execution_count": null,
   "metadata": {
    "collapsed": false
   },
   "outputs": [],
   "source": [
    "weights = lasso_cyclical_coordinate_descent(normalized_simple_feature_matrix, output,\n",
    "                                            initial_weights, l1_penalty, tolerance)\n",
    "print weights"
   ]
  },
  {
   "cell_type": "code",
   "execution_count": 30,
   "metadata": {
    "collapsed": false
   },
   "outputs": [
    {
     "name": "stdout",
     "output_type": "stream",
     "text": [
      "1.63e+15\n"
     ]
    }
   ],
   "source": [
    "prediction = predict_output(normalized_simple_feature_matrix, weights)\n",
    "pred_error = output - prediction\n",
    "rss = (pred_error ** 2).sum()\n",
    "print \"%.4g\" %rss"
   ]
  },
  {
   "cell_type": "markdown",
   "metadata": {},
   "source": [
    "## Quiz questions:\n",
    "## rss of normalized_simple_feature_matrix, rss = 1.63e+15.\n",
    "## the feature: bedroom has been set to 0."
   ]
  },
  {
   "cell_type": "markdown",
   "metadata": {},
   "source": [
    "***QUIZ QUESTIONS***\n",
    "1. What is the RSS of the learned model on the normalized dataset? (Hint: use the normalized feature matrix when you make predictions.)\n",
    "2. Which features had weight zero at convergence?"
   ]
  },
  {
   "cell_type": "markdown",
   "metadata": {},
   "source": [
    "# Evaluating LASSO fit with more features"
   ]
  },
  {
   "cell_type": "markdown",
   "metadata": {},
   "source": [
    "Let us split the sales dataset into training and test sets."
   ]
  },
  {
   "cell_type": "code",
   "execution_count": 32,
   "metadata": {
    "collapsed": true
   },
   "outputs": [],
   "source": [
    "train_data,test_data = sales.random_split(.8,seed=0)"
   ]
  },
  {
   "cell_type": "markdown",
   "metadata": {},
   "source": [
    "Let us consider the following set of features."
   ]
  },
  {
   "cell_type": "code",
   "execution_count": 33,
   "metadata": {
    "collapsed": true
   },
   "outputs": [],
   "source": [
    "all_features = ['bedrooms',\n",
    "                'bathrooms',\n",
    "                'sqft_living',\n",
    "                'sqft_lot',\n",
    "                'floors',\n",
    "                'waterfront', \n",
    "                'view', \n",
    "                'condition', \n",
    "                'grade',\n",
    "                'sqft_above',\n",
    "                'sqft_basement',\n",
    "                'yr_built', \n",
    "                'yr_renovated']"
   ]
  },
  {
   "cell_type": "markdown",
   "metadata": {},
   "source": [
    "First, create a normalized feature matrix from the TRAINING data with these features.  (Make you store the norms for the normalization, since we'll use them later)"
   ]
  },
  {
   "cell_type": "code",
   "execution_count": 34,
   "metadata": {
    "collapsed": true
   },
   "outputs": [],
   "source": [
    "(all_train_feature_matrix, all_output) = get_numpy_data(train_data, all_features, my_output)\n",
    "(normalized_all_train_feature_matrix, all_train_norms) = normalize_features(all_train_feature_matrix) "
   ]
  },
  {
   "cell_type": "markdown",
   "metadata": {},
   "source": [
    "First, learn the weights with `l1_penalty=1e7`, on the training data. Initialize weights to all zeros, and set the `tolerance=1`.  Call resulting weights `weights1e7`, you will need them later."
   ]
  },
  {
   "cell_type": "code",
   "execution_count": 35,
   "metadata": {
    "collapsed": true
   },
   "outputs": [],
   "source": [
    "initial_weights = np.zeros(len(all_features)+1)\n",
    "l1_penalty = 1e7\n",
    "tolerance = 1.0"
   ]
  },
  {
   "cell_type": "markdown",
   "metadata": {},
   "source": [
    "***QUIZ QUESTION***\n",
    "\n",
    "What features had non-zero weight in this case?"
   ]
  },
  {
   "cell_type": "markdown",
   "metadata": {
    "collapsed": true
   },
   "source": [
    "Next, learn the weights with `l1_penalty=1e8`, on the training data. Initialize weights to all zeros, and set the `tolerance=1`.  Call resulting weights `weights1e8`, you will need them later."
   ]
  },
  {
   "cell_type": "code",
   "execution_count": 37,
   "metadata": {
    "collapsed": false
   },
   "outputs": [
    {
     "name": "stdout",
     "output_type": "stream",
     "text": [
      "before while loop, max_change =  1000.0\n",
      "[ 0.  0.  0.  0.  0.  0.  0.  0.  0.  0.  0.  0.  0.  0.]\n",
      "[ 71114625.75280938         0.           3743972.43191673\n",
      "   5271064.34696085         0.                 0.           7173100.28480826\n",
      "   7025132.06642577  -5530804.65691784         0.            394565.5843951\n",
      "   2242690.39485069  -2160960.47385677         0.        ]\n",
      "[ 66090269.38411944         0.           5640929.90486558\n",
      "   9576074.08584593         0.                 0.           4372018.67087034\n",
      "   8681306.06747757  -5916544.37101573         0.                 0.\n",
      "   2344289.56079889  -2427081.50004132         0.        ]\n",
      "[ 61077944.47016688         0.           6858126.86985249\n",
      "  13615612.28257743         0.                 0.           3592460.38136717\n",
      "   8827496.44124511  -5139390.82173171         0.                 0.\n",
      "   1473793.21583144  -2523078.87389485         0.        ]\n",
      "[ 56077268.04930486         0.           7597643.55215972\n",
      "  17477273.39390057         0.                 0.           3454915.18215362\n",
      "   8778283.91626904  -3739993.93385284         0.                 0.\n",
      "    553532.20275255  -2599789.5856098          0.        ]\n",
      "[ 51086024.87616502         0.           7940108.9597906   21166079.78641377\n",
      "         0.                 0.           3408675.87286224\n",
      "   8715945.98821977  -1827206.47373672         0.                 0.\n",
      "         0.          -2862294.95309065         0.        ]\n",
      "[ 46101663.532811           0.           7923070.30619179\n",
      "  24660952.87878784         0.                 0.           3357014.5067389\n",
      "   8609964.29727856         0.                 0.                 0.\n",
      "         0.          -2821325.28954632         0.        ]\n",
      "[ 41122158.60360589         0.           7564250.37938541\n",
      "  27935328.02331408         0.                 0.           3303237.80483547\n",
      "   8426877.62878147         0.                 0.                 0.\n",
      "    164424.74329385   -535700.94289839         0.        ]\n",
      "[ 36148352.03835092         0.           6897153.9464543   31000225.66654859\n",
      "         0.                 0.           3287534.55462106\n",
      "   8231044.69741986         0.                 0.                 0.\n",
      "    122579.09367796         0.                 0.        ]\n",
      "[ 33519131.51280316         0.           6001531.02429422\n",
      "  33879448.66593295         0.                 0.           3295337.93820763\n",
      "   8074870.24225422         0.                 0.                 0.\n",
      "         0.                 0.                 0.        ]\n",
      "[ 31840636.33389109         0.           4928867.266338    36585599.43215322\n",
      "         0.                 0.           3299752.5882407    7953234.05021375\n",
      "         0.                 0.                 0.                 0.\n",
      "         0.                 0.        ]\n",
      "[ 30409496.85243232         0.           3705897.13084735\n",
      "  39117895.08079505         0.                 0.           3291468.13866393\n",
      "   7833459.27138488         0.                 0.                 0.\n",
      "         0.                 0.                 0.        ]\n",
      "[ 29279072.8300789          0.           2368683.30339511\n",
      "  41486211.65861711         0.                 0.           3288420.79846091\n",
      "   7723380.69771029         0.                 0.                 0.\n",
      "         0.                 0.                 0.        ]\n",
      "[ 28402586.06414697         0.            947126.04373106\n",
      "  43699336.00928315         0.                 0.           3287240.84588382\n",
      "   7624767.90587166         0.                 0.                 0.\n",
      "         0.                 0.                 0.        ]\n",
      "[ 27743688.99918688         0.                 0.          45251779.60941455\n",
      "         0.                 0.           3293773.58945422\n",
      "   7548697.23422141         0.                 0.                 0.\n",
      "         0.                 0.                 0.        ]\n",
      "[ 27235850.96602788         0.                 0.          45743955.32843313\n",
      "         0.                 0.           3308697.42773068\n",
      "   7506238.67345057         0.                 0.                 0.\n",
      "         0.                 0.                 0.        ]\n",
      "[ 26797036.59543666         0.                 0.          46159317.16186339\n",
      "         0.                 0.           3313254.30640554\n",
      "   7476716.65571677         0.                 0.                 0.\n",
      "         0.                 0.                 0.        ]\n",
      "[ 26425556.97282853         0.                 0.          46509519.18337359\n",
      "         0.                 0.           3314649.10154074\n",
      "   7453273.45223347         0.                 0.                 0.\n",
      "         0.                 0.                 0.        ]\n",
      "[ 26112141.86724785         0.                 0.          46804732.86823682\n",
      "         0.                 0.           3315254.98875543\n",
      "   7433823.25768144         0.                 0.                 0.\n",
      "         0.                 0.                 0.        ]\n",
      "[ 25847897.03510908         0.                 0.          47053583.39546044\n",
      "         0.                 0.           3315642.31717273\n",
      "   7417493.51913731         0.                 0.                 0.\n",
      "         0.                 0.                 0.        ]\n",
      "[ 25625143.17430942         0.                 0.          47263350.30884484\n",
      "         0.                 0.           3315942.73826208\n",
      "   7403742.24942826         0.                 0.                 0.\n",
      "         0.                 0.                 0.        ]\n",
      "[ 25437372.50700296         0.                 0.          47440171.58817237\n",
      "         0.                 0.           3316190.514538     7392153.60601597\n",
      "         0.                 0.                 0.                 0.\n",
      "         0.                 0.        ]\n",
      "[ 25279092.41364577         0.                 0.          47589221.54446636\n",
      "         0.                 0.           3316398.23528126   7382385.6595507\n",
      "         0.                 0.                 0.                 0.\n",
      "         0.                 0.        ]\n",
      "[ 25145671.51203963         0.                 0.          47714861.89066111\n",
      "         0.                 0.           3316573.09391967   7374151.9801655\n",
      "         0.                 0.                 0.                 0.\n",
      "         0.                 0.        ]\n",
      "[ 25033205.52374352         0.                 0.          47820769.30926737\n",
      "         0.                 0.           3316720.43991409\n",
      "   7367211.49898669         0.                 0.                 0.\n",
      "         0.                 0.                 0.        ]\n",
      "[ 24938403.31029161         0.                 0.          47910043.03042248\n",
      "         0.                 0.           3316844.63359071\n",
      "   7361361.08723077         0.                 0.                 0.\n",
      "         0.                 0.                 0.        ]\n",
      "[ 24858490.62284108         0.                 0.          47985295.52339269\n",
      "         0.                 0.           3316949.31939949\n",
      "   7356429.53556118         0.                 0.                 0.\n",
      "         0.                 0.                 0.        ]\n",
      "[ 24791128.93022151         0.                 0.          48048728.94615556\n",
      "         0.                 0.           3317037.56292694\n",
      "   7352272.52797431         0.                 0.                 0.\n",
      "         0.                 0.                 0.        ]\n",
      "[ 24734346.98772946         0.                 0.          48102199.58831158\n",
      "         0.                 0.           3317111.94693379\n",
      "   7348768.41527911         0.                 0.                 0.\n",
      "         0.                 0.                 0.        ]\n",
      "[ 24686483.15197742         0.                 0.          48147272.19275206\n",
      "         0.                 0.           3317174.64825439\n",
      "   7345814.65451413         0.                 0.                 0.\n",
      "         0.                 0.                 0.        ]\n",
      "[ 24646136.75535793         0.                 0.          48185265.74564613\n",
      "         0.                 0.           3317227.50177345\n",
      "   7343324.80802849         0.                 0.                 0.\n",
      "         0.                 0.                 0.        ]\n",
      "[ 24612127.11750609         0.                 0.          48217292.07470857\n",
      "         0.                 0.           3317272.0541786    7341226.01397599\n",
      "         0.                 0.                 0.                 0.\n",
      "         0.                 0.        ]\n",
      "[ 24583458.9943596          0.                 0.          48244288.38526879\n",
      "         0.                 0.           3317309.60923393\n",
      "   7339456.85410976         0.                 0.                 0.\n",
      "         0.                 0.                 0.        ]\n",
      "[ 24559293.45374667         0.                 0.          48267044.68626238\n",
      "         0.                 0.           3317341.26593531\n",
      "   7337965.55646256         0.                 0.                 0.\n",
      "         0.                 0.                 0.        ]\n",
      "[ 24538923.32521988         0.                 0.          48286226.90872776\n",
      "         0.                 0.           3317367.95067149\n",
      "   7336708.48031304         0.                 0.                 0.\n",
      "         0.                 0.                 0.        ]\n",
      "[ 24521752.50571107         0.                 0.          48302396.39333841\n",
      "         0.                 0.           3317390.44433361\n",
      "   7335648.83910145         0.                 0.                 0.\n",
      "         0.                 0.                 0.        ]\n",
      "[ 24507278.51541609         0.                 0.          48316026.31724562\n",
      "         0.                 0.           3317409.40516696\n",
      "   7334755.62392295         0.                 0.                 0.\n",
      "         0.                 0.                 0.        ]\n",
      "[ 24495077.79343238         0.                 0.          48327515.54094011\n",
      "         0.                 0.           3317425.38803358\n",
      "   7334002.69609568         0.                 0.                 0.\n",
      "         0.                 0.                 0.        ]\n",
      "[ 24484793.30284686         0.                 0.          48337200.28034148\n",
      "         0.                 0.           3317438.8606495    7333368.02224923\n",
      "         0.                 0.                 0.                 0.\n",
      "         0.                 0.        ]\n",
      "[ 24476124.08255444         0.                 0.          48345363.94568271\n",
      "         0.                 0.           3317450.21727182   7332833.029549\n",
      "         0.                 0.                 0.                 0.\n",
      "         0.                 0.        ]\n",
      "[ 24468816.44005588         0.                 0.          48352245.43511075\n",
      "         0.                 0.           3317459.79023607\n",
      "   7332382.06218852         0.                 0.                 0.\n",
      "         0.                 0.                 0.        ]\n",
      "[ 24462656.52750488         0.                 0.          48358046.12570361\n",
      "         0.                 0.           3317467.85968154\n",
      "   7332001.92324434         0.                 0.                 0.\n",
      "         0.                 0.                 0.        ]\n",
      "[ 24457464.08375253         0.                 0.          48362935.76648645\n",
      "         0.                 0.           3317474.66174916\n",
      "   7331681.48848664         0.                 0.                 0.\n",
      "         0.                 0.                 0.        ]\n",
      "[ 24453087.1592592          0.                 0.          48367057.44589729\n",
      "         0.                 0.           3317480.39549184\n",
      "   7331411.38084439         0.                 0.                 0.\n",
      "         0.                 0.                 0.        ]\n",
      "[ 24449397.66950564         0.                 0.          48370531.77906822\n",
      "         0.                 0.           3317485.22869946\n",
      "   7331183.69599856         0.                 0.                 0.\n",
      "         0.                 0.                 0.        ]\n",
      "[ 24446287.6467802          0.                 0.          48373460.43745706\n",
      "         0.                 0.           3317489.30280905\n",
      "   7330991.77107342         0.                 0.                 0.\n",
      "         0.                 0.                 0.        ]\n",
      "[ 24443666.08065623         0.                 0.          48375929.12411907\n",
      "         0.                 0.           3317492.73704366\n",
      "   7330829.98965685         0.                 0.                 0.\n",
      "         0.                 0.                 0.        ]\n",
      "[ 24441456.25470026         0.                 0.          48378010.081686\n",
      "         0.                 0.           3317495.63190132\n",
      "   7330693.61744397         0.                 0.                 0.\n",
      "         0.                 0.                 0.        ]\n",
      "[ 24439593.50147384         0.                 0.          48379764.20644474\n",
      "         0.                 0.           3317498.07209596\n",
      "   7330578.66369439         0.                 0.                 0.\n",
      "         0.                 0.                 0.        ]\n",
      "[ 24438023.31013223         0.                 0.          48381242.83038118\n",
      "         0.                 0.           3317500.12903643\n",
      "   7330481.76444886         0.                 0.                 0.\n",
      "         0.                 0.                 0.        ]\n",
      "[ 24436699.73124141         0.                 0.          48382489.22333843\n",
      "         0.                 0.           3317501.86291619\n",
      "   7330400.08408766         0.                 0.                 0.\n",
      "         0.                 0.                 0.        ]\n",
      "[ 24435584.03213279         0.                 0.          48383539.85924765\n",
      "         0.                 0.           3317503.32447478   7330331.2323503\n",
      "         0.                 0.                 0.                 0.\n",
      "         0.                 0.        ]\n",
      "[ 24434643.56344625         0.                 0.          48384425.48348628\n",
      "         0.                 0.           3317504.55648265\n",
      "   7330273.19438781         0.                 0.                 0.\n",
      "         0.                 0.                 0.        ]\n",
      "[ 24433850.80369271         0.                 0.          48385172.01259796\n",
      "         0.                 0.           3317505.59499279\n",
      "   7330224.27180113         0.                 0.                 0.\n",
      "         0.                 0.                 0.        ]\n",
      "[ 24433182.55387662         0.                 0.          48385801.29270377\n",
      "         0.                 0.           3317506.47039571   7330183.0329398\n",
      "         0.                 0.                 0.                 0.\n",
      "         0.                 0.        ]\n",
      "[ 24432619.25861003         0.                 0.          48386331.73879807\n",
      "         0.                 0.           3317507.20830885\n",
      "   7330148.27100671         0.                 0.                 0.\n",
      "         0.                 0.                 0.        ]\n",
      "[ 24432144.4338518          0.                 0.          48386778.87363733\n",
      "         0.                 0.           3317507.83032621\n",
      "   7330118.96874296         0.                 0.                 0.\n",
      "         0.                 0.                 0.        ]\n",
      "[ 24431744.18452539         0.                 0.          48387155.78199166\n",
      "         0.                 0.           3317508.35465023\n",
      "   7330094.26865914         0.                 0.                 0.\n",
      "         0.                 0.                 0.        ]\n",
      "[ 24431406.79789902         0.                 0.          48387473.49355227\n",
      "         0.                 0.           3317508.79662452\n",
      "   7330073.44794214         0.                 0.                 0.\n",
      "         0.                 0.                 0.        ]\n",
      "[ 24431122.40082915         0.                 0.          48387741.30569963\n",
      "         0.                 0.           3317509.16918283\n",
      "   7330055.89730307         0.                 0.                 0.\n",
      "         0.                 0.                 0.        ]\n",
      "[ 24430882.67083681         0.                 0.          48387967.05557835\n",
      "         0.                 0.           3317509.48322757\n",
      "   7330041.10314725         0.                 0.                 0.\n",
      "         0.                 0.                 0.        ]\n",
      "[ 24430680.59256205         0.                 0.          48388157.34944011\n",
      "         0.                 0.           3317509.74794879\n",
      "   7330028.63254456         0.                 0.                 0.\n",
      "         0.                 0.                 0.        ]\n",
      "[ 24430510.2524693          0.                 0.          48388317.75596626\n",
      "         0.                 0.           3317509.97109321\n",
      "   7330018.12056042         0.                 0.                 0.\n",
      "         0.                 0.                 0.        ]\n",
      "[ 24430366.66579609         0.                 0.          48388452.96922743\n",
      "         0.                 0.           3317510.15919082\n",
      "   7330009.25957645         0.                 0.                 0.\n",
      "         0.                 0.                 0.        ]\n",
      "[ 24430245.63068106         0.                 0.          48388566.94604892\n",
      "         0.                 0.           3317510.31774603\n",
      "   7330001.79028846         0.                 0.                 0.\n",
      "         0.                 0.                 0.        ]\n",
      "[ 24430143.60520234         0.                 0.          48388663.02180157\n",
      "         0.                 0.           3317510.45139875\n",
      "   7329995.49411828         0.                 0.                 0.\n",
      "         0.                 0.                 0.        ]\n",
      "[ 24430057.60372828         0.                 0.          48388744.00800672\n",
      "         0.                 0.           3317510.56406012\n",
      "   7329990.18681736         0.                 0.                 0.\n",
      "         0.                 0.                 0.        ]\n",
      "[ 24429985.10954707         0.                 0.          48388812.27461138\n",
      "         0.                 0.           3317510.65902703\n",
      "   7329985.71307503         0.                 0.                 0.\n",
      "         0.                 0.                 0.        ]\n",
      "[ 24429924.0012188          0.                 0.          48388869.81934146\n",
      "         0.                 0.           3317510.73907854\n",
      "   7329981.94197354         0.                 0.                 0.\n",
      "         0.                 0.                 0.        ]\n",
      "[ 24429872.49049446         0.                 0.          48388918.32616223\n",
      "         0.                 0.           3317510.80655726\n",
      "   7329978.76315693         0.                 0.                 0.\n",
      "         0.                 0.                 0.        ]\n",
      "[ 24429829.06998539         0.                 0.          48388959.21455737\n",
      "         0.                 0.           3317510.86343784\n",
      "   7329976.08360161         0.                 0.                 0.\n",
      "         0.                 0.                 0.        ]\n",
      "[ 24429792.46905168         0.                 0.          48388993.68106808\n",
      "         0.                 0.           3317510.91138483\n",
      "   7329973.82489417         0.                 0.                 0.\n",
      "         0.                 0.                 0.        ]\n",
      "[ 24429761.61661863         0.                 0.          48389022.73430815\n",
      "         0.                 0.           3317510.95180131\n",
      "   7329971.92093673         0.                 0.                 0.\n",
      "         0.                 0.                 0.        ]\n",
      "[ 24429735.60983331         0.                 0.          48389047.22447969\n",
      "         0.                 0.           3317510.98587003\n",
      "   7329970.31601266         0.                 0.                 0.\n",
      "         0.                 0.                 0.        ]\n",
      "[ 24429713.68764386         0.                 0.          48389067.86825297\n",
      "         0.                 0.           3317511.01458796\n",
      "   7329968.96315612         0.                 0.                 0.\n",
      "         0.                 0.                 0.        ]\n",
      "[ 24429695.20852832         0.                 0.          48389085.26973891\n",
      "         0.                 0.           3317511.03879548\n",
      "   7329967.82277768         0.                 0.                 0.\n",
      "         0.                 0.                 0.        ]\n",
      "[ 24429679.63172148         0.                 0.          48389099.93816742\n",
      "         0.                 0.           3317511.059201     7329966.86150577\n",
      "         0.                 0.                 0.                 0.\n",
      "         0.                 0.        ]\n",
      "[ 24429666.50139006         0.                 0.          48389112.30278939\n",
      "         0.                 0.           3317511.07640165\n",
      "   7329966.05121012         0.                 0.                 0.\n",
      "         0.                 0.                 0.        ]\n",
      "[ 24429655.43329341         0.                 0.          48389122.725438\n",
      "         0.                 0.           3317511.09090079\n",
      "   7329965.36817858         0.                 0.                 0.\n",
      "         0.                 0.                 0.        ]\n",
      "[ 24429646.10353934         0.                 0.          48389131.51111737\n",
      "         0.                 0.           3317511.1031227    7329964.79242319\n",
      "         0.                 0.                 0.                 0.\n",
      "         0.                 0.        ]\n",
      "[ 24429638.23910575         0.                 0.          48389138.91692804\n",
      "         0.                 0.           3317511.11342505\n",
      "   7329964.30709528         0.                 0.                 0.\n",
      "         0.                 0.                 0.        ]\n",
      "[ 24429631.60985106         0.                 0.          48389145.15959057\n",
      "         0.                 0.           3317511.12210934\n",
      "   7329963.89799241         0.                 0.                 0.\n",
      "         0.                 0.                 0.        ]\n",
      "[ 24429626.02177951         0.                 0.          48389150.42178769\n",
      "         0.                 0.           3317511.12942968\n",
      "   7329963.55314277         0.                 0.                 0.\n",
      "         0.                 0.                 0.        ]\n",
      "[ 24429621.31136407         0.                 0.          48389154.85751015\n",
      "         0.                 0.           3317511.13560029\n",
      "   7329963.26245483         0.                 0.                 0.\n",
      "         0.                 0.                 0.        ]\n",
      "[ 24429617.34076108         0.                 0.          48389158.59656315\n",
      "         0.                 0.           3317511.14080175\n",
      "   7329963.01742199         0.                 0.                 0.\n",
      "         0.                 0.                 0.        ]\n",
      "[ 24429613.99377643         0.                 0.          48389161.74836476\n",
      "         0.                 0.           3317511.14518628\n",
      "   7329962.81087374         0.                 0.                 0.\n",
      "         0.                 0.                 0.        ]\n",
      "[ 24429611.17246535         0.                 0.          48389164.40514803\n",
      "         0.                 0.           3317511.14888218\n",
      "   7329962.63676571         0.                 0.                 0.\n",
      "         0.                 0.                 0.        ]\n",
      "[ 24429608.79426616         0.                 0.          48389166.64465996\n",
      "         0.                 0.           3317511.1519976    7329962.49000289\n",
      "         0.                 0.                 0.                 0.\n",
      "         0.                 0.        ]\n",
      "[ 24429606.78958421         0.                 0.          48389168.53243672\n",
      "         0.                 0.           3317511.15462372\n",
      "   7329962.36629047         0.                 0.                 0.\n",
      "         0.                 0.                 0.        ]\n",
      "[ 24429605.0997553          0.                 0.          48389170.12372143\n",
      "         0.                 0.           3317511.15683739\n",
      "   7329962.26200818         0.                 0.                 0.\n",
      "         0.                 0.                 0.        ]\n",
      "[ 24429603.67532898         0.                 0.          48389171.46508078\n",
      "         0.                 0.           3317511.15870338\n",
      "   7329962.17410436         0.                 0.                 0.\n",
      "         0.                 0.                 0.        ]\n",
      "[ 24429602.47462144         0.                 0.          48389172.59576778\n",
      "         0.                 0.           3317511.1602763    7329962.10000659\n",
      "         0.                 0.                 0.                 0.\n",
      "         0.                 0.        ]\n",
      "[ 24429601.46249563         0.                 0.          48389173.54887038\n",
      "         0.                 0.           3317511.16160218\n",
      "   7329962.03754655         0.                 0.                 0.\n",
      "         0.                 0.                 0.        ]\n",
      "[ 24429600.60933314         0.                 0.          48389174.35227978\n",
      "         0.                 0.           3317511.16271981   7329961.9848964\n",
      "         0.                 0.                 0.                 0.\n",
      "         0.                 0.        ]\n",
      "[ 24429600.60933314         0.                 0.          48389174.35227978\n",
      "         0.                 0.           3317511.16271981   7329961.9848964\n",
      "         0.                 0.                 0.                 0.\n",
      "         0.                 0.        ]\n"
     ]
    }
   ],
   "source": [
    "weights = lasso_cyclical_coordinate_descent(normalized_all_train_feature_matrix, all_output,\n",
    "                                            initial_weights, l1_penalty, tolerance)\n",
    "print weights"
   ]
  },
  {
   "cell_type": "code",
   "execution_count": 38,
   "metadata": {
    "collapsed": false
   },
   "outputs": [
    {
     "name": "stdout",
     "output_type": "stream",
     "text": [
      "[ 24429600.60933314         0.                 0.          48389174.35227978\n",
      "         0.                 0.           3317511.16271981   7329961.9848964\n",
      "         0.                 0.                 0.                 0.\n",
      "         0.                 0.        ]\n"
     ]
    }
   ],
   "source": [
    "print 'intercept = ', weights[0]\n",
    "for i in range(len(all_features)):\n",
    "    "
   ]
  },
  {
   "cell_type": "markdown",
   "metadata": {},
   "source": [
    "***QUIZ QUESTION***\n",
    "\n",
    "What features had non-zero weight in this case?"
   ]
  },
  {
   "cell_type": "markdown",
   "metadata": {},
   "source": [
    "Finally, learn the weights with `l1_penalty=1e4`, on the training data. Initialize weights to all zeros, and set the `tolerance=5e5`.  Call resulting weights `weights1e4`, you will need them later.  (This case will take quite a bit longer to converge than the others above.)"
   ]
  },
  {
   "cell_type": "code",
   "execution_count": null,
   "metadata": {
    "collapsed": true
   },
   "outputs": [],
   "source": []
  },
  {
   "cell_type": "markdown",
   "metadata": {},
   "source": [
    "***QUIZ QUESTION***\n",
    "\n",
    "What features had non-zero weight in this case?"
   ]
  },
  {
   "cell_type": "markdown",
   "metadata": {},
   "source": [
    "## Rescaling learned weights"
   ]
  },
  {
   "cell_type": "markdown",
   "metadata": {},
   "source": [
    "Recall that we normalized our feature matrix, before learning the weights.  To use these weights on a test set, we must normalize the test data in the same way.\n",
    "\n",
    "Alternatively, we can rescale the learned weights to include the normalization, so we never have to worry about normalizing the test data: \n",
    "\n",
    "In this case, we must scale the resulting weights so that we can make predictions with *original* features:\n",
    " 1. Store the norms of the original features to a vector called `norms`:\n",
    "```\n",
    "features, norms = normalize_features(features)\n",
    "```\n",
    " 2. Run Lasso on the normalized features and obtain a `weights` vector\n",
    " 3. Compute the weights for the original features by performing element-wise division, i.e.\n",
    "```\n",
    "weights_normalized = weights / norms\n",
    "```\n",
    "Now, we can apply `weights_normalized` to the test data, without normalizing it!"
   ]
  },
  {
   "cell_type": "markdown",
   "metadata": {},
   "source": [
    "Create a normalized version of each of the weights learned above. (`weights1e4`, `weights1e7`, `weights1e8`)."
   ]
  },
  {
   "cell_type": "code",
   "execution_count": null,
   "metadata": {
    "collapsed": true
   },
   "outputs": [],
   "source": []
  },
  {
   "cell_type": "markdown",
   "metadata": {},
   "source": [
    "To check your results, if you call `normalized_weights1e7` the normalized version of `weights1e7`, then:\n",
    "```\n",
    "print normalized_weights1e7[3]\n",
    "```\n",
    "should return 161.31745624837794."
   ]
  },
  {
   "cell_type": "markdown",
   "metadata": {},
   "source": [
    "## Evaluating each of the learned models on the test data"
   ]
  },
  {
   "cell_type": "markdown",
   "metadata": {},
   "source": [
    "Let's now evaluate the three models on the test data:"
   ]
  },
  {
   "cell_type": "code",
   "execution_count": null,
   "metadata": {
    "collapsed": true
   },
   "outputs": [],
   "source": [
    "(test_feature_matrix, test_output) = get_numpy_data(test_data, all_features, 'price')"
   ]
  },
  {
   "cell_type": "markdown",
   "metadata": {},
   "source": [
    "Compute the RSS of each of the three normalized weights on the (unnormalized) `test_feature_matrix`:"
   ]
  },
  {
   "cell_type": "code",
   "execution_count": null,
   "metadata": {
    "collapsed": true
   },
   "outputs": [],
   "source": []
  },
  {
   "cell_type": "code",
   "execution_count": null,
   "metadata": {
    "collapsed": true
   },
   "outputs": [],
   "source": []
  },
  {
   "cell_type": "code",
   "execution_count": null,
   "metadata": {
    "collapsed": true
   },
   "outputs": [],
   "source": []
  },
  {
   "cell_type": "markdown",
   "metadata": {},
   "source": [
    "***QUIZ QUESTION***\n",
    "\n",
    "Which model performed best on the test data?"
   ]
  }
 ],
 "metadata": {
  "kernelspec": {
   "display_name": "Python 2",
   "language": "python",
   "name": "python2"
  },
  "language_info": {
   "codemirror_mode": {
    "name": "ipython",
    "version": 2
   },
   "file_extension": ".py",
   "mimetype": "text/x-python",
   "name": "python",
   "nbconvert_exporter": "python",
   "pygments_lexer": "ipython2",
   "version": "2.7.11"
  }
 },
 "nbformat": 4,
 "nbformat_minor": 0
}
