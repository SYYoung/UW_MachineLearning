{
 "cells": [
  {
   "cell_type": "code",
   "execution_count": 2,
   "metadata": {
    "collapsed": true
   },
   "outputs": [],
   "source": [
    "import graphlab"
   ]
  },
  {
   "cell_type": "code",
   "execution_count": 3,
   "metadata": {
    "collapsed": false
   },
   "outputs": [
    {
     "name": "stderr",
     "output_type": "stream",
     "text": [
      "[INFO] graphlab.cython.cy_server: GraphLab Create v2.1 started. Logging: /tmp/graphlab_server_1539313465.log\n"
     ]
    },
    {
     "name": "stdout",
     "output_type": "stream",
     "text": [
      "This non-commercial license of GraphLab Create for academic use is assigned to r38411@yahoo.com and will expire on August 31, 2019.\n"
     ]
    }
   ],
   "source": [
    "sales = graphlab.SFrame('kc_house_data.gl')"
   ]
  },
  {
   "cell_type": "code",
   "execution_count": 4,
   "metadata": {
    "collapsed": false
   },
   "outputs": [
    {
     "name": "stdout",
     "output_type": "stream",
     "text": [
      "+------------+---------------------------+----------+----------+-----------+\n",
      "|     id     |            date           |  price   | bedrooms | bathrooms |\n",
      "+------------+---------------------------+----------+----------+-----------+\n",
      "| 7129300520 | 2014-10-13 00:00:00+00:00 | 221900.0 |   3.0    |    1.0    |\n",
      "| 6414100192 | 2014-12-09 00:00:00+00:00 | 538000.0 |   3.0    |    2.25   |\n",
      "| 5631500400 | 2015-02-25 00:00:00+00:00 | 180000.0 |   2.0    |    1.0    |\n",
      "+------------+---------------------------+----------+----------+-----------+\n",
      "+-------------+----------+--------+------------+------+-----------+-------+------------+\n",
      "| sqft_living | sqft_lot | floors | waterfront | view | condition | grade | sqft_above |\n",
      "+-------------+----------+--------+------------+------+-----------+-------+------------+\n",
      "|    1180.0   |   5650   |   1    |     0      |  0   |     3     |   7   |    1180    |\n",
      "|    2570.0   |   7242   |   2    |     0      |  0   |     3     |   7   |    2170    |\n",
      "|    770.0    |  10000   |   1    |     0      |  0   |     3     |   6   |    770     |\n",
      "+-------------+----------+--------+------------+------+-----------+-------+------------+\n",
      "+---------------+----------+--------------+---------+-------------+\n",
      "| sqft_basement | yr_built | yr_renovated | zipcode |     lat     |\n",
      "+---------------+----------+--------------+---------+-------------+\n",
      "|       0       |   1955   |      0       |  98178  | 47.51123398 |\n",
      "|      400      |   1951   |     1991     |  98125  | 47.72102274 |\n",
      "|       0       |   1933   |      0       |  98028  | 47.73792661 |\n",
      "+---------------+----------+--------------+---------+-------------+\n",
      "+---------------+---------------+------------+\n",
      "|      long     | sqft_living15 | sqft_lot15 |\n",
      "+---------------+---------------+------------+\n",
      "| -122.25677536 |     1340.0    |   5650.0   |\n",
      "|  -122.3188624 |     1690.0    |   7639.0   |\n",
      "| -122.23319601 |     2720.0    |   8062.0   |\n",
      "+---------------+---------------+------------+\n",
      "[21613 rows x 21 columns]\n",
      "\n"
     ]
    }
   ],
   "source": [
    "graphlab.canvas.set_target('ipynb')\n",
    "sales.print_rows(num_rows=3)"
   ]
  },
  {
   "cell_type": "code",
   "execution_count": 6,
   "metadata": {
    "collapsed": true
   },
   "outputs": [],
   "source": [
    "train_data, test_data = sales.random_split(.8, seed=0)"
   ]
  },
  {
   "cell_type": "code",
   "execution_count": 21,
   "metadata": {
    "collapsed": false,
    "scrolled": true
   },
   "outputs": [],
   "source": [
    "def simple_linear_regression(input_feature, output):\n",
    "    x = graphlab.SArray(input_feature)\n",
    "    y = graphlab.SArray(output)\n",
    "    N = len(x)\n",
    "    slope = 1.0 * (sum(x*y)-sum(x)*sum(y)*1.0/N)/(sum(x*x)-sum(x)*sum(x)*1.0/N)\n",
    "    intercept = y.mean() - slope*x.mean()\n",
    "    return (intercept, slope)"
   ]
  },
  {
   "cell_type": "code",
   "execution_count": 9,
   "metadata": {
    "collapsed": false
   },
   "outputs": [
    {
     "name": "stdout",
     "output_type": "stream",
     "text": [
      "-47116.0765749 281.958838568\n"
     ]
    }
   ],
   "source": [
    "input_feature = train_data['sqft_living']\n",
    "output = train_data['price']\n",
    "(squarefeet_intercept, squarefeet_slope) = simple_linear_regression(input_feature, output)\n",
    "print squarefeet_intercept, squarefeet_slope"
   ]
  },
  {
   "cell_type": "markdown",
   "metadata": {},
   "source": [
    "# Question 3:\n",
    "# squarefeet_intercept = -47116.07, squarefeet_slope = 281.958"
   ]
  },
  {
   "cell_type": "code",
   "execution_count": 10,
   "metadata": {
    "collapsed": true
   },
   "outputs": [],
   "source": [
    "## Question 5:"
   ]
  },
  {
   "cell_type": "code",
   "execution_count": 48,
   "metadata": {
    "collapsed": true
   },
   "outputs": [],
   "source": [
    "def get_regression_predictions(input_feature, intercept, slope):\n",
    "    x = graphlab.SArray(input_feature)\n",
    "    y = intercept + slope * x\n",
    "    return y"
   ]
  },
  {
   "cell_type": "code",
   "execution_count": 24,
   "metadata": {
    "collapsed": true
   },
   "outputs": [],
   "source": [
    "## Question 6"
   ]
  },
  {
   "cell_type": "code",
   "execution_count": 49,
   "metadata": {
    "collapsed": false
   },
   "outputs": [
    {
     "name": "stdout",
     "output_type": "stream",
     "text": [
      "[700074.8456294581]\n"
     ]
    }
   ],
   "source": [
    "input_feature = [2650]\n",
    "print get_regression_predictions(input_feature, squarefeet_intercept, squarefeet_slope)"
   ]
  },
  {
   "cell_type": "markdown",
   "metadata": {},
   "source": [
    "# Question 6: \n",
    "# for 2650 sqft, the predicted price is: 700074.8456"
   ]
  },
  {
   "cell_type": "code",
   "execution_count": 72,
   "metadata": {
    "collapsed": false
   },
   "outputs": [],
   "source": [
    "def get_residual_sum_of_squares(input_feature, output, intercept, slope):\n",
    "    actual_output = graphlab.SArray(output)\n",
    "    predicted_output = get_regression_predictions(input_feature, intercept, slope)\n",
    "    #print 'my predicted_output = ', predicted_output\n",
    "    RSS = sum((actual_output-predicted_output)**2)\n",
    "    return RSS"
   ]
  },
  {
   "cell_type": "code",
   "execution_count": 73,
   "metadata": {
    "collapsed": false,
    "scrolled": true
   },
   "outputs": [
    {
     "name": "stdout",
     "output_type": "stream",
     "text": [
      "-1.0 5.0\n",
      "the actual output inside test_funct =  [1, 3, 7, 13, 21]\n",
      "the predicted output =  [-1.0, 4.0, 9.0, 14.0, 19.0]\n",
      "the RSS =  14.0\n",
      "test inverse regression\n",
      "predict_input =  [0.4, 0.8, 1.6, 2.8, 4.4]\n"
     ]
    }
   ],
   "source": [
    "def test_func():\n",
    "    i_feature = [0,1,2,3,4]\n",
    "    out = [1,3,7,13,21]\n",
    "    (w0, w1) = simple_linear_regression(i_feature, out)\n",
    "    print w0, w1\n",
    "    print 'the actual output inside test_funct = ', out\n",
    "    print 'the predicted output = ', get_regression_predictions(i_feature, w0, w1)\n",
    "    print 'the RSS = ', get_residual_sum_of_squares(i_feature, out, w0, w1)\n",
    "    print 'test inverse regression'\n",
    "    predict_input = inverse_regression_predictions(out, w0, w1)\n",
    "    print 'predict_input = ', predict_input\n",
    "test_func()"
   ]
  },
  {
   "cell_type": "code",
   "execution_count": 63,
   "metadata": {
    "collapsed": true
   },
   "outputs": [],
   "source": [
    "## Question 8: get the RSS for training data"
   ]
  },
  {
   "cell_type": "code",
   "execution_count": 75,
   "metadata": {
    "collapsed": false
   },
   "outputs": [
    {
     "name": "stdout",
     "output_type": "stream",
     "text": [
      "RSS of the training data =  1.20191835632e+15\n"
     ]
    }
   ],
   "source": [
    "input_feature = train_data['sqft_living']\n",
    "output = train_data['price']\n",
    "RSS = get_residual_sum_of_squares(input_feature, output, squarefeet_intercept, squarefeet_slope)\n",
    "print 'RSS of the training data = ', RSS"
   ]
  },
  {
   "cell_type": "markdown",
   "metadata": {},
   "source": [
    "# Question 8:\n",
    "# RSS of the training data = 1.2019e+15"
   ]
  },
  {
   "cell_type": "code",
   "execution_count": 68,
   "metadata": {
    "collapsed": true
   },
   "outputs": [],
   "source": [
    "## question 9: inverse function"
   ]
  },
  {
   "cell_type": "code",
   "execution_count": 69,
   "metadata": {
    "collapsed": true
   },
   "outputs": [],
   "source": [
    "def inverse_regression_predictions(output, intercept, slope):\n",
    "    output_val = graphlab.SArray(output)\n",
    "    predicted_input = (output_val - intercept)/slope\n",
    "    return predicted_input"
   ]
  },
  {
   "cell_type": "code",
   "execution_count": 74,
   "metadata": {
    "collapsed": true
   },
   "outputs": [],
   "source": [
    "## Question 10:"
   ]
  },
  {
   "cell_type": "code",
   "execution_count": 76,
   "metadata": {
    "collapsed": false
   },
   "outputs": [
    {
     "name": "stdout",
     "output_type": "stream",
     "text": [
      "the predicted_input of 800K =  [3004.396247615945]\n"
     ]
    }
   ],
   "source": [
    "out1 = [800000]\n",
    "print 'the predicted_input of 800K = ', inverse_regression_predictions(out1, squarefeet_intercept,\n",
    "                                                                      squarefeet_slope)"
   ]
  },
  {
   "cell_type": "markdown",
   "metadata": {},
   "source": [
    "# Question 10: \n",
    "# the predicted sqft of the housing of 800K = 3004.39 sqft"
   ]
  },
  {
   "cell_type": "code",
   "execution_count": 78,
   "metadata": {
    "collapsed": false
   },
   "outputs": [
    {
     "name": "stdout",
     "output_type": "stream",
     "text": [
      "109473.180469 127588.952175\n"
     ]
    }
   ],
   "source": [
    "input_feature = train_data['bedrooms']\n",
    "output = train_data['price']\n",
    "(bedroom_intercept, bedroom_slope) = simple_linear_regression(input_feature, output)\n",
    "print bedroom_intercept, bedroom_slope"
   ]
  },
  {
   "cell_type": "markdown",
   "metadata": {},
   "source": [
    "# Question 11: bedroom model\n",
    "# bedroom_intercept = 109473.18, bedroom_slope = 127588.95"
   ]
  },
  {
   "cell_type": "code",
   "execution_count": 81,
   "metadata": {
    "collapsed": false
   },
   "outputs": [
    {
     "name": "stdout",
     "output_type": "stream",
     "text": [
      "RSS of sqft model =  1.20191835632e+15\n",
      "RSS of bedroom model =  2.14324449423e+15\n"
     ]
    }
   ],
   "source": [
    "input_feature = train_data['sqft_living']\n",
    "output = train_data['price']\n",
    "RSS_sqft = get_residual_sum_of_squares(input_feature, output, \n",
    "                                       squarefeet_intercept, squarefeet_slope)\n",
    "input_feature = train_data['bedrooms']\n",
    "RSS_bedroom = get_residual_sum_of_squares(input_feature, output,\n",
    "                                          bedroom_intercept, bedroom_slope)\n",
    "print 'RSS of sqft model = ', RSS_sqft\n",
    "print 'RSS of bedroom model = ', RSS_bedroom"
   ]
  },
  {
   "cell_type": "code",
   "execution_count": 82,
   "metadata": {
    "collapsed": true
   },
   "outputs": [],
   "source": [
    "# Question 13: RSS\n",
    "# RSS of sqft model = 1.2019e15\n",
    "# RSS of bedroom model = 2.1432e15\n",
    "# therefore, RSS of sqft model has a smaller RSS"
   ]
  },
  {
   "cell_type": "code",
   "execution_count": null,
   "metadata": {
    "collapsed": true
   },
   "outputs": [],
   "source": []
  }
 ],
 "metadata": {
  "kernelspec": {
   "display_name": "Python 2",
   "language": "python",
   "name": "python2"
  },
  "language_info": {
   "codemirror_mode": {
    "name": "ipython",
    "version": 2
   },
   "file_extension": ".py",
   "mimetype": "text/x-python",
   "name": "python",
   "nbconvert_exporter": "python",
   "pygments_lexer": "ipython2",
   "version": "2.7.11"
  }
 },
 "nbformat": 4,
 "nbformat_minor": 0
}
