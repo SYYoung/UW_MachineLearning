{
 "cells": [
  {
   "cell_type": "code",
   "execution_count": 1,
   "metadata": {
    "collapsed": true
   },
   "outputs": [],
   "source": [
    "import graphlab"
   ]
  },
  {
   "cell_type": "code",
   "execution_count": 5,
   "metadata": {
    "collapsed": false
   },
   "outputs": [
    {
     "name": "stdout",
     "output_type": "stream",
     "text": [
      "+-------------------------------+--------------------+--------------+\n",
      "|            user_id            |      song_id       | listen_count |\n",
      "+-------------------------------+--------------------+--------------+\n",
      "| b80344d063b5ccb3212f76538f... | SOAKIMP12A8C130995 |      1       |\n",
      "| b80344d063b5ccb3212f76538f... | SOBBMDR12A8C13253B |      2       |\n",
      "| b80344d063b5ccb3212f76538f... | SOBXHDL12A81C204C0 |      1       |\n",
      "+-------------------------------+--------------------+--------------+\n",
      "+-----------------+---------------+-------------------------------+\n",
      "|      title      |     artist    |              song             |\n",
      "+-----------------+---------------+-------------------------------+\n",
      "|     The Cove    |  Jack Johnson |    The Cove - Jack Johnson    |\n",
      "| Entre Dos Aguas | Paco De Lucia | Entre Dos Aguas - Paco De ... |\n",
      "|     Stronger    |   Kanye West  |     Stronger - Kanye West     |\n",
      "+-----------------+---------------+-------------------------------+\n",
      "[1116609 rows x 6 columns]\n",
      "\n",
      "len of song_data =  1116609\n",
      "len of unique user id=  66346\n",
      "len of unique song =  9952\n"
     ]
    }
   ],
   "source": [
    "song_data = graphlab.SFrame('song_data.gl/')\n",
    "graphlab.canvas.set_target('ipynb')\n",
    "song_data.print_rows(num_rows=3)\n",
    "print 'len of song_data = ', len(song_data)\n",
    "print 'len of unique user id= ', len(song_data['user_id'].unique())\n",
    "print 'len of unique song = ', len(song_data['song'].unique())"
   ]
  },
  {
   "cell_type": "code",
   "execution_count": 6,
   "metadata": {
    "collapsed": true
   },
   "outputs": [],
   "source": [
    "## question 1: find out the # of unique users for each of the artist: Kanye West, Foo FIghters, Taylor Swift, Lady GaGa"
   ]
  },
  {
   "cell_type": "code",
   "execution_count": 7,
   "metadata": {
    "collapsed": true
   },
   "outputs": [],
   "source": [
    "artist = ['Kanye West', 'Foo Fighters', 'Taylor Swift', 'Lady GaGa']"
   ]
  },
  {
   "cell_type": "code",
   "execution_count": 8,
   "metadata": {
    "collapsed": false
   },
   "outputs": [
    {
     "name": "stdout",
     "output_type": "stream",
     "text": [
      "for  Kanye West  , # of unique users are =  2522\n",
      "for  Foo Fighters  , # of unique users are =  2055\n",
      "for  Taylor Swift  , # of unique users are =  3246\n",
      "for  Lady GaGa  , # of unique users are =  2928\n"
     ]
    }
   ],
   "source": [
    "for i in artist:\n",
    "    user_artist = song_data[song_data['artist'] == i]\n",
    "    print 'for ', i, ' , # of unique users are = ', len(user_artist['user_id'].unique())"
   ]
  },
  {
   "cell_type": "markdown",
   "metadata": {},
   "source": [
    "# Question 1:\n",
    "# Kayne West, num of unique users are: 2522\n",
    "# Foo Fighters, 2055\n",
    "# Taylor Swift: 3246\n",
    "# Lady Gaga: 2928"
   ]
  },
  {
   "cell_type": "code",
   "execution_count": 10,
   "metadata": {
    "collapsed": true
   },
   "outputs": [],
   "source": [
    "## Question 2: find out the most popular and least popular artist"
   ]
  },
  {
   "cell_type": "code",
   "execution_count": 15,
   "metadata": {
    "collapsed": false
   },
   "outputs": [
    {
     "name": "stdout",
     "output_type": "stream",
     "text": [
      "+------------------------+-------------+\n",
      "|         artist         | total_count |\n",
      "+------------------------+-------------+\n",
      "|     Kings Of Leon      |    43218    |\n",
      "|     Dwight Yoakam      |    40619    |\n",
      "|         Björk          |    38889    |\n",
      "|        Coldplay        |    35362    |\n",
      "| Florence + The Machine |    33387    |\n",
      "+------------------------+-------------+\n",
      "[5 rows x 2 columns]\n",
      "\n"
     ]
    },
    {
     "data": {
      "text/html": [
       "<div style=\"max-height:1000px;max-width:1500px;overflow:auto;\"><table frame=\"box\" rules=\"cols\">\n",
       "    <tr>\n",
       "        <th style=\"padding-left: 1em; padding-right: 1em; text-align: center\">artist</th>\n",
       "        <th style=\"padding-left: 1em; padding-right: 1em; text-align: center\">total_count</th>\n",
       "    </tr>\n",
       "    <tr>\n",
       "        <td style=\"padding-left: 1em; padding-right: 1em; text-align: center; vertical-align: top\">Jody Bernal</td>\n",
       "        <td style=\"padding-left: 1em; padding-right: 1em; text-align: center; vertical-align: top\">38</td>\n",
       "    </tr>\n",
       "    <tr>\n",
       "        <td style=\"padding-left: 1em; padding-right: 1em; text-align: center; vertical-align: top\">Aneta Langerova</td>\n",
       "        <td style=\"padding-left: 1em; padding-right: 1em; text-align: center; vertical-align: top\">38</td>\n",
       "    </tr>\n",
       "    <tr>\n",
       "        <td style=\"padding-left: 1em; padding-right: 1em; text-align: center; vertical-align: top\">Kanye West / Talib Kweli<br>/ Q-Tip / Common / ...</td>\n",
       "        <td style=\"padding-left: 1em; padding-right: 1em; text-align: center; vertical-align: top\">38</td>\n",
       "    </tr>\n",
       "    <tr>\n",
       "        <td style=\"padding-left: 1em; padding-right: 1em; text-align: center; vertical-align: top\">Nâdiya</td>\n",
       "        <td style=\"padding-left: 1em; padding-right: 1em; text-align: center; vertical-align: top\">36</td>\n",
       "    </tr>\n",
       "    <tr>\n",
       "        <td style=\"padding-left: 1em; padding-right: 1em; text-align: center; vertical-align: top\">harvey summers</td>\n",
       "        <td style=\"padding-left: 1em; padding-right: 1em; text-align: center; vertical-align: top\">31</td>\n",
       "    </tr>\n",
       "    <tr>\n",
       "        <td style=\"padding-left: 1em; padding-right: 1em; text-align: center; vertical-align: top\">Boggle Karaoke</td>\n",
       "        <td style=\"padding-left: 1em; padding-right: 1em; text-align: center; vertical-align: top\">30</td>\n",
       "    </tr>\n",
       "    <tr>\n",
       "        <td style=\"padding-left: 1em; padding-right: 1em; text-align: center; vertical-align: top\">Diplo</td>\n",
       "        <td style=\"padding-left: 1em; padding-right: 1em; text-align: center; vertical-align: top\">30</td>\n",
       "    </tr>\n",
       "    <tr>\n",
       "        <td style=\"padding-left: 1em; padding-right: 1em; text-align: center; vertical-align: top\">Beyoncé feat. Bun B and<br>Slim Thug ...</td>\n",
       "        <td style=\"padding-left: 1em; padding-right: 1em; text-align: center; vertical-align: top\">26</td>\n",
       "    </tr>\n",
       "    <tr>\n",
       "        <td style=\"padding-left: 1em; padding-right: 1em; text-align: center; vertical-align: top\">Reel Feelings</td>\n",
       "        <td style=\"padding-left: 1em; padding-right: 1em; text-align: center; vertical-align: top\">24</td>\n",
       "    </tr>\n",
       "    <tr>\n",
       "        <td style=\"padding-left: 1em; padding-right: 1em; text-align: center; vertical-align: top\">William Tabbert</td>\n",
       "        <td style=\"padding-left: 1em; padding-right: 1em; text-align: center; vertical-align: top\">14</td>\n",
       "    </tr>\n",
       "</table>\n",
       "[10 rows x 2 columns]<br/>\n",
       "</div>"
      ],
      "text/plain": [
       "Columns:\n",
       "\tartist\tstr\n",
       "\ttotal_count\tint\n",
       "\n",
       "Rows: 10\n",
       "\n",
       "Data:\n",
       "+-------------------------------+-------------+\n",
       "|             artist            | total_count |\n",
       "+-------------------------------+-------------+\n",
       "|          Jody Bernal          |      38     |\n",
       "|        Aneta Langerova        |      38     |\n",
       "| Kanye West / Talib Kweli /... |      38     |\n",
       "|             Nâdiya            |      36     |\n",
       "|         harvey summers        |      31     |\n",
       "|         Boggle Karaoke        |      30     |\n",
       "|             Diplo             |      30     |\n",
       "| Beyoncé feat. Bun B and Sl... |      26     |\n",
       "|         Reel Feelings         |      24     |\n",
       "|        William Tabbert        |      14     |\n",
       "+-------------------------------+-------------+\n",
       "[10 rows x 2 columns]"
      ]
     },
     "execution_count": 15,
     "metadata": {},
     "output_type": "execute_result"
    }
   ],
   "source": [
    "artist_count = song_data.groupby(key_columns='artist', \n",
    "                                 operations={'total_count': graphlab.aggregate.SUM('listen_count')})\n",
    "artist_count = artist_count.sort('total_count', ascending=False)\n",
    "print artist_count[0:5]\n",
    "artist_count.tail()"
   ]
  },
  {
   "cell_type": "markdown",
   "metadata": {},
   "source": [
    "# Question 2: \n",
    "# The most popular artist = Kings ofLeon: 43218\n",
    "# The least artist: William Tabbert: 14"
   ]
  },
  {
   "cell_type": "code",
   "execution_count": 17,
   "metadata": {
    "collapsed": true
   },
   "outputs": [],
   "source": [
    "## Question 3: build the recommender"
   ]
  },
  {
   "cell_type": "code",
   "execution_count": 18,
   "metadata": {
    "collapsed": true
   },
   "outputs": [],
   "source": [
    "train_data, test_data = song_data.random_split(.8, seed=0)"
   ]
  },
  {
   "cell_type": "code",
   "execution_count": 19,
   "metadata": {
    "collapsed": true
   },
   "outputs": [],
   "source": [
    "subset_test_users = test_data['user_id'].unique()[0:10000]"
   ]
  },
  {
   "cell_type": "code",
   "execution_count": null,
   "metadata": {
    "collapsed": true
   },
   "outputs": [],
   "source": [
    "personalized_model = graphlab."
   ]
  }
 ],
 "metadata": {
  "kernelspec": {
   "display_name": "Python 2",
   "language": "python",
   "name": "python2"
  },
  "language_info": {
   "codemirror_mode": {
    "name": "ipython",
    "version": 2
   },
   "file_extension": ".py",
   "mimetype": "text/x-python",
   "name": "python",
   "nbconvert_exporter": "python",
   "pygments_lexer": "ipython2",
   "version": "2.7.11"
  }
 },
 "nbformat": 4,
 "nbformat_minor": 0
}
