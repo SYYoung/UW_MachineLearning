{
 "cells": [
  {
   "cell_type": "code",
   "execution_count": 1,
   "metadata": {
    "collapsed": false
   },
   "outputs": [],
   "source": [
    "import graphlab"
   ]
  },
  {
   "cell_type": "code",
   "execution_count": 2,
   "metadata": {
    "collapsed": false
   },
   "outputs": [
    {
     "name": "stderr",
     "output_type": "stream",
     "text": [
      "[INFO] graphlab.cython.cy_server: GraphLab Create v2.1 started. Logging: /tmp/graphlab_server_1538731498.log\n"
     ]
    },
    {
     "name": "stdout",
     "output_type": "stream",
     "text": [
      "This non-commercial license of GraphLab Create for academic use is assigned to r38411@yahoo.com and will expire on August 31, 2019.\n"
     ]
    }
   ],
   "source": [
    "image_train = graphlab.SFrame('image_train_data/')\n",
    "image_test = graphlab.SFrame('image_test_data/')"
   ]
  },
  {
   "cell_type": "code",
   "execution_count": 3,
   "metadata": {
    "collapsed": false
   },
   "outputs": [
    {
     "name": "stdout",
     "output_type": "stream",
     "text": [
      "+----+----------------------+-------+-------------------------------+\n",
      "| id |        image         | label |         deep_features         |\n",
      "+----+----------------------+-------+-------------------------------+\n",
      "| 24 | Height: 32 Width: 32 |  bird | [0.242871761322, 1.0954537... |\n",
      "| 33 | Height: 32 Width: 32 |  cat  | [0.525087952614, 0.0, 0.0,... |\n",
      "+----+----------------------+-------+-------------------------------+\n",
      "+-------------------------------+\n",
      "|          image_array          |\n",
      "+-------------------------------+\n",
      "| [73.0, 77.0, 58.0, 71.0, 6... |\n",
      "| [7.0, 5.0, 8.0, 7.0, 5.0, ... |\n",
      "+-------------------------------+\n",
      "[2005 rows x 5 columns]\n",
      "\n"
     ]
    }
   ],
   "source": [
    "image_train.print_rows(num_rows=2)"
   ]
  },
  {
   "cell_type": "code",
   "execution_count": 4,
   "metadata": {
    "collapsed": false
   },
   "outputs": [
    {
     "data": {
      "text/plain": [
       "\n",
       "+------------------+-------+----------+\n",
       "|       item       | value | is exact |\n",
       "+------------------+-------+----------+\n",
       "|      Length      |  2005 |   Yes    |\n",
       "| # Missing Values |   0   |   Yes    |\n",
       "| # unique values  |   4   |    No    |\n",
       "+------------------+-------+----------+\n",
       "\n",
       "Most frequent items:\n",
       "+-------+------------+-----+-----+------+\n",
       "| value | automobile | cat | dog | bird |\n",
       "+-------+------------+-----+-----+------+\n",
       "| count |    509     | 509 | 509 | 478  |\n",
       "+-------+------------+-----+-----+------+\n"
      ]
     },
     "execution_count": 4,
     "metadata": {},
     "output_type": "execute_result"
    }
   ],
   "source": [
    "image_train['label'].sketch_summary()"
   ]
  },
  {
   "cell_type": "markdown",
   "metadata": {},
   "source": [
    "# Question 1:\n",
    "# in label, there are 4 unique labels:\n",
    "# automobile: 509, cat:509, dog:509, bird:478, total=2005"
   ]
  },
  {
   "cell_type": "code",
   "execution_count": 5,
   "metadata": {
    "collapsed": false
   },
   "outputs": [
    {
     "data": {
      "text/plain": [
       "dtype: str\n",
       "Rows: 4\n",
       "['bird', 'dog', 'cat', 'automobile']"
      ]
     },
     "execution_count": 5,
     "metadata": {},
     "output_type": "execute_result"
    }
   ],
   "source": [
    "image_label = image_train['label'].unique()\n",
    "image_label"
   ]
  },
  {
   "cell_type": "code",
   "execution_count": null,
   "metadata": {
    "collapsed": true
   },
   "outputs": [],
   "source": [
    "## split the data into 4 categories"
   ]
  },
  {
   "cell_type": "code",
   "execution_count": 6,
   "metadata": {
    "collapsed": true
   },
   "outputs": [],
   "source": [
    "image_group = {}\n",
    "for i in image_label:\n",
    "    key_name = i + '_model'\n",
    "    image_group[key_name] = image_train.filter_by(i, 'label')"
   ]
  },
  {
   "cell_type": "code",
   "execution_count": null,
   "metadata": {
    "collapsed": false
   },
   "outputs": [],
   "source": [
    "image_group"
   ]
  },
  {
   "cell_type": "code",
   "execution_count": 8,
   "metadata": {
    "collapsed": false
   },
   "outputs": [
    {
     "data": {
      "text/plain": [
       "['bird_model', 'cat_model', 'dog_model', 'automobile_model']"
      ]
     },
     "execution_count": 8,
     "metadata": {},
     "output_type": "execute_result"
    }
   ],
   "source": [
    "image_group.keys()"
   ]
  },
  {
   "cell_type": "code",
   "execution_count": 12,
   "metadata": {
    "collapsed": false
   },
   "outputs": [
    {
     "data": {
      "application/javascript": [
       "$(\"head\").append($(\"<link/>\").attr({\n",
       "  rel:  \"stylesheet\",\n",
       "  type: \"text/css\",\n",
       "  href: \"//cdnjs.cloudflare.com/ajax/libs/font-awesome/4.1.0/css/font-awesome.min.css\"\n",
       "}));\n",
       "$(\"head\").append($(\"<link/>\").attr({\n",
       "  rel:  \"stylesheet\",\n",
       "  type: \"text/css\",\n",
       "  href: \"https://static.turi.com/products/graphlab-create/2.1/canvas/css/canvas.css\"\n",
       "}));\n",
       "\n",
       "            (function(){\n",
       "\n",
       "                var e = null;\n",
       "                if (typeof element == 'undefined') {\n",
       "                    var scripts = document.getElementsByTagName('script');\n",
       "                    var thisScriptTag = scripts[scripts.length-1];\n",
       "                    var parentDiv = thisScriptTag.parentNode;\n",
       "                    e = document.createElement('div');\n",
       "                    parentDiv.appendChild(e);\n",
       "                } else {\n",
       "                    e = element[0];\n",
       "                }\n",
       "\n",
       "                if (typeof requirejs !== 'undefined') {\n",
       "                    // disable load timeout; ipython_app.js is large and can take a while to load.\n",
       "                    requirejs.config({waitSeconds: 0});\n",
       "                }\n",
       "\n",
       "                require(['https://static.turi.com/products/graphlab-create/2.1/canvas/js/ipython_app.js'], function(IPythonApp){\n",
       "                    var app = new IPythonApp();\n",
       "                    app.attachView('sarray','Images', {\"ipython\": true, \"rows\": [{\"format\": \"raw\", \"value\": [158, 112, 49, 159, 111, 47, 165, 116, 51, 166, 118, 53, 160, 112, 46, 156, 109, 41, 162, 115, 47, 159, 113, 45, 158, 111, 44, 159, 113, 41, 161, 116, 41, 160, 111, 52, 161, 111, 49, 166, 117, 41, 169, 117, 45, 170, 119, 44, 167, 117, 40, 162, 113, 38, 160, 111, 39, 160, 112, 43, 156, 109, 44, 149, 107, 45, 150, 107, 45, 148, 106, 43, 149, 107, 44, 143, 101, 39, 140, 98, 43, 141, 97, 41, 143, 97, 38, 137, 95, 36, 126, 91, 36, 116, 85, 33, 152, 112, 51, 151, 110, 40, 159, 114, 45, 166, 116, 56, 162, 112, 49, 160, 113, 43, 164, 117, 47, 162, 114, 45, 163, 116, 46, 156, 110, 38, 155, 111, 41, 159, 110, 54, 163, 113, 52, 170, 119, 41, 171, 117, 40, 171, 115, 33, 169, 115, 30, 160, 111, 33, 154, 112, 41, 151, 115, 50, 145, 110, 53, 139, 104, 55, 140, 102, 52, 141, 100, 48, 149, 105, 50, 147, 102, 46, 145, 102, 45, 142, 97, 38, 143, 98, 34, 136, 95, 31, 125, 91, 32, 119, 88, 34, 151, 110, 47, 151, 109, 33, 158, 111, 36, 167, 111, 48, 160, 106, 42, 163, 115, 44, 165, 117, 45, 165, 117, 45, 163, 115, 43, 162, 115, 43, 158, 114, 48, 157, 109, 57, 161, 111, 51, 166, 115, 38, 167, 114, 37, 169, 113, 35, 170, 116, 39, 159, 114, 47, 145, 111, 54, 121, 96, 49, 110, 90, 52, 98, 78, 50, 101, 77, 47, 114, 85, 50, 120, 86, 48, 134, 96, 55, 143, 103, 51, 140, 99, 39, 142, 99, 35, 139, 98, 34, 130, 95, 34, 120, 89, 33, 155, 107, 40, 155, 110, 32, 160, 109, 31, 174, 112, 44, 167, 110, 43, 167, 117, 46, 169, 120, 48, 169, 119, 48, 165, 115, 44, 165, 117, 45, 167, 123, 57, 191, 146, 95, 177, 130, 75, 157, 111, 41, 162, 115, 47, 164, 114, 54, 158, 112, 58, 149, 111, 67, 104, 80, 47, 103, 87, 65, 98, 90, 76, 92, 90, 84, 80, 75, 66, 74, 63, 50, 86, 70, 52, 83, 62, 39, 113, 85, 45, 132, 98, 46, 140, 102, 43, 140, 101, 39, 136, 99, 39, 127, 94, 36, 155, 107, 41, 156, 114, 48, 161, 115, 49, 170, 114, 47, 169, 114, 43, 163, 113, 40, 169, 120, 47, 166, 116, 44, 164, 113, 41, 164, 116, 42, 173, 128, 59, 246, 214, 164, 195, 156, 107, 151, 114, 56, 146, 111, 60, 142, 108, 71, 111, 80, 50, 78, 53, 31, 85, 69, 56, 113, 103, 98, 112, 110, 111, 106, 114, 118, 97, 102, 105, 93, 94, 93, 74, 72, 67, 84, 78, 70, 85, 73, 47, 105, 83, 45, 128, 96, 48, 138, 101, 46, 133, 94, 36, 129, 93, 36, 148, 109, 54, 133, 104, 64, 130, 100, 57, 147, 112, 53, 161, 115, 44, 165, 113, 39, 167, 116, 41, 167, 115, 41, 163, 111, 37, 165, 116, 39, 163, 118, 42, 180, 138, 85, 157, 122, 78, 128, 102, 58, 97, 75, 43, 66, 50, 31, 69, 58, 43, 66, 56, 45, 89, 83, 76, 118, 113, 110, 122, 121, 120, 119, 122, 122, 114, 116, 116, 94, 96, 96, 99, 100, 97, 91, 91, 86, 58, 58, 47, 67, 58, 37, 108, 84, 49, 140, 105, 58, 138, 98, 44, 134, 95, 40, 127, 100, 57, 109, 95, 80, 47, 37, 17, 88, 74, 28, 153, 117, 48, 170, 118, 43, 168, 115, 40, 170, 118, 43, 169, 117, 42, 166, 116, 37, 164, 120, 39, 147, 107, 52, 129, 98, 59, 127, 108, 75, 100, 87, 70, 68, 67, 57, 78, 83, 72, 72, 75, 64, 83, 84, 74, 132, 130, 121, 146, 142, 132, 124, 118, 108, 105, 99, 90, 107, 102, 94, 115, 111, 103, 85, 83, 77, 63, 71, 69, 46, 47, 39, 79, 61, 36, 132, 98, 58, 141, 99, 48, 134, 93, 39, 131, 115, 90, 99, 96, 92, 42, 43, 38, 70, 64, 41, 143, 111, 56, 167, 117, 42, 165, 114, 36, 168, 116, 39, 171, 119, 49, 161, 113, 51, 140, 109, 51, 120, 94, 49, 130, 110, 77, 144, 131, 107, 116, 106, 93, 88, 87, 79, 91, 95, 88, 85, 88, 82, 77, 77, 69, 124, 118, 107, 163, 153, 140, 136, 124, 112, 102, 93, 81, 106, 98, 88, 100, 93, 84, 85, 81, 74, 54, 60, 58, 49, 53, 49, 57, 47, 32, 107, 83, 50, 138, 103, 51, 136, 97, 39, 170, 161, 144, 103, 105, 105, 54, 58, 59, 124, 121, 113, 153, 124, 82, 161, 113, 43, 163, 117, 41, 166, 122, 50, 165, 121, 66, 174, 135, 95, 113, 89, 59, 125, 105, 78, 157, 141, 121, 156, 143, 128, 121, 111, 101, 86, 80, 74, 82, 81, 77, 84, 85, 82, 80, 78, 73, 81, 71, 61, 138, 125, 112, 146, 135, 123, 113, 103, 93, 87, 79, 70, 83, 77, 69, 86, 82, 76, 71, 73, 67, 56, 57, 53, 40, 35, 27, 74, 59, 35, 133, 106, 59, 137, 103, 45, 180, 176, 163, 134, 139, 143, 94, 100, 105, 154, 154, 149, 174, 149, 112, 158, 116, 51, 156, 116, 47, 153, 118, 60, 207, 180, 146, 237, 214, 198, 207, 180, 166, 156, 131, 119, 174, 153, 145, 148, 131, 125, 125, 110, 107, 93, 85, 79, 86, 84, 79, 74, 74, 71, 59, 57, 53, 76, 68, 58, 137, 125, 112, 143, 133, 122, 133, 124, 114, 106, 98, 89, 86, 81, 74, 87, 85, 78, 84, 85, 78, 75, 76, 71, 50, 49, 43, 40, 30, 15, 95, 75, 44, 132, 103, 57, 183, 183, 175, 108, 116, 122, 142, 151, 158, 165, 169, 168, 177, 156, 122, 155, 112, 50, 159, 118, 51, 122, 89, 47, 213, 197, 179, 237, 224, 226, 220, 191, 188, 164, 135, 131, 183, 159, 155, 156, 137, 132, 125, 108, 104, 120, 111, 104, 78, 76, 69, 80, 80, 77, 45, 44, 40, 91, 85, 77, 175, 165, 154, 157, 147, 137, 155, 147, 138, 107, 100, 92, 87, 83, 77, 103, 102, 96, 88, 88, 79, 78, 79, 73, 59, 59, 59, 41, 36, 33, 59, 46, 31, 104, 81, 46, 188, 191, 189, 100, 108, 116, 135, 144, 153, 170, 175, 178, 187, 167, 136, 166, 120, 59, 173, 123, 55, 134, 93, 44, 117, 95, 80, 194, 182, 188, 199, 171, 164, 170, 142, 133, 185, 161, 151, 189, 171, 159, 134, 119, 106, 117, 107, 95, 102, 98, 89, 84, 84, 79, 38, 38, 34, 125, 121, 113, 210, 201, 192, 160, 152, 142, 146, 139, 130, 93, 89, 82, 83, 80, 75, 94, 93, 88, 104, 104, 94, 85, 87, 81, 73, 75, 78, 55, 53, 55, 62, 55, 48, 76, 56, 26, 189, 194, 194, 90, 96, 105, 127, 134, 144, 175, 180, 185, 174, 156, 133, 166, 123, 68, 178, 123, 53, 159, 109, 47, 97, 68, 44, 168, 154, 152, 168, 144, 126, 137, 114, 94, 186, 166, 148, 216, 202, 183, 160, 149, 129, 123, 113, 98, 120, 114, 105, 115, 114, 109, 50, 50, 47, 150, 147, 140, 194, 187, 178, 155, 149, 140, 123, 118, 111, 91, 88, 83, 84, 83, 79, 84, 84, 80, 95, 95, 85, 86, 87, 81, 84, 87, 89, 73, 73, 73, 79, 74, 64, 73, 55, 24, 189, 192, 193, 93, 95, 103, 152, 154, 163, 185, 188, 192, 119, 110, 98, 136, 106, 66, 173, 124, 58, 167, 116, 50, 103, 72, 39, 147, 132, 120, 145, 125, 103, 167, 149, 127, 189, 174, 155, 226, 216, 200, 180, 172, 157, 141, 131, 117, 126, 117, 107, 117, 114, 109, 71, 71, 68, 154, 152, 147, 186, 181, 174, 149, 144, 136, 114, 110, 104, 87, 85, 80, 80, 80, 76, 72, 73, 70, 80, 80, 72, 99, 100, 94, 100, 101, 99, 90, 88, 81, 97, 89, 69, 94, 73, 34, 194, 196, 196, 108, 107, 112, 168, 167, 172, 186, 186, 188, 105, 109, 109, 99, 89, 67, 156, 119, 62, 167, 122, 55, 100, 74, 34, 115, 106, 88, 138, 123, 103, 198, 185, 169, 190, 180, 169, 172, 165, 159, 145, 140, 140, 154, 143, 134, 146, 136, 125, 103, 100, 95, 71, 71, 70, 152, 152, 149, 179, 175, 170, 137, 133, 127, 130, 128, 122, 110, 109, 105, 85, 86, 83, 91, 93, 91, 95, 96, 90, 109, 110, 104, 115, 116, 111, 100, 96, 80, 97, 85, 53, 117, 95, 47, 197, 197, 197, 132, 129, 136, 172, 167, 174, 184, 178, 181, 130, 137, 142, 78, 83, 77, 140, 120, 88, 155, 125, 77, 115, 94, 52, 130, 120, 93, 143, 131, 116, 230, 221, 211, 242, 236, 230, 145, 138, 137, 135, 130, 130, 131, 121, 112, 121, 112, 101, 108, 104, 95, 95, 88, 75, 144, 134, 118, 168, 159, 146, 152, 147, 138, 112, 108, 101, 87, 85, 80, 71, 72, 68, 87, 88, 87, 105, 104, 99, 112, 109, 99, 120, 110, 93, 103, 86, 54, 121, 96, 48, 136, 104, 48, 203, 203, 204, 146, 146, 160, 168, 164, 178, 191, 182, 188, 168, 170, 172, 78, 86, 90, 126, 125, 126, 138, 126, 113, 138, 121, 82, 96, 80, 37, 154, 143, 133, 173, 163, 155, 162, 152, 141, 140, 132, 117, 113, 106, 88, 113, 106, 90, 101, 101, 92, 105, 101, 87, 112, 90, 58, 171, 143, 104, 156, 138, 109, 148, 141, 126, 135, 130, 118, 109, 105, 97, 78, 76, 72, 79, 79, 77, 94, 93, 94, 101, 91, 82, 107, 83, 55, 125, 88, 45, 151, 108, 55, 144, 104, 46, 214, 215, 215, 163, 166, 180, 164, 167, 184, 183, 184, 194, 176, 182, 186, 94, 102, 105, 96, 96, 102, 156, 149, 145, 148, 137, 111, 106, 93, 61, 129, 116, 105, 118, 105, 95, 114, 102, 89, 116, 105, 89, 102, 91, 73, 115, 110, 98, 86, 91, 88, 101, 103, 95, 144, 128, 102, 118, 96, 64, 68, 56, 32, 128, 120, 105, 133, 126, 115, 75, 69, 61, 60, 56, 51, 58, 56, 53, 71, 70, 65, 102, 93, 78, 116, 94, 64, 143, 112, 68, 150, 116, 64, 140, 110, 54, 212, 211, 205, 178, 184, 192, 167, 175, 189, 173, 181, 193, 176, 184, 188, 124, 131, 133, 86, 88, 96, 141, 139, 143, 153, 148, 141, 135, 128, 111, 104, 90, 80, 77, 64, 55, 134, 121, 108, 124, 111, 96, 129, 117, 100, 147, 143, 133, 85, 92, 93, 92, 96, 93, 150, 139, 120, 132, 117, 93, 117, 109, 92, 107, 99, 86, 75, 68, 58, 64, 59, 52, 44, 41, 39, 65, 62, 60, 86, 69, 40, 133, 105, 59, 155, 119, 62, 160, 120, 54, 154, 115, 45, 151, 111, 46, 199, 192, 180, 187, 189, 187, 171, 176, 181, 174, 179, 185, 177, 182, 184, 144, 149, 152, 86, 90, 99, 119, 121, 132, 122, 124, 130, 137, 136, 135, 144, 134, 126, 70, 59, 51, 129, 118, 108, 108, 97, 86, 145, 134, 123, 184, 176, 168, 116, 118, 118, 73, 75, 73, 131, 119, 103, 137, 124, 105, 134, 129, 118, 89, 86, 78, 51, 49, 44, 52, 51, 50, 47, 49, 52, 90, 90, 93, 121, 91, 60, 163, 118, 68, 171, 121, 64, 164, 113, 52, 158, 111, 50, 149, 107, 46, 165, 156, 146, 195, 193, 187, 179, 178, 175, 177, 173, 172, 181, 181, 180, 152, 157, 160, 99, 103, 111, 131, 135, 146, 171, 175, 185, 103, 105, 111, 93, 90, 87, 80, 77, 73, 93, 90, 86, 122, 118, 116, 178, 173, 173, 191, 182, 177, 150, 148, 148, 100, 100, 101, 89, 78, 66, 87, 77, 63, 60, 61, 57, 46, 52, 54, 38, 46, 51, 24, 33, 41, 46, 57, 69, 60, 71, 83, 108, 100, 75, 144, 125, 82, 144, 123, 76, 128, 109, 61, 127, 113, 69, 120, 105, 63, 117, 120, 124, 195, 200, 200, 177, 178, 176, 178, 169, 168, 181, 179, 179, 138, 144, 147, 83, 87, 91, 150, 153, 159, 245, 247, 250, 219, 222, 225, 133, 140, 144, 134, 141, 147, 149, 156, 164, 176, 182, 192, 190, 196, 208, 194, 192, 197, 168, 172, 181, 125, 133, 143, 110, 109, 109, 61, 62, 62, 35, 49, 58, 34, 54, 68, 49, 70, 87, 58, 81, 102, 61, 85, 110, 58, 84, 111, 69, 99, 122, 72, 101, 119, 78, 104, 120, 69, 96, 112, 59, 92, 112, 55, 90, 115, 79, 105, 133, 175, 197, 213, 174, 183, 192, 176, 172, 177, 177, 177, 182, 140, 146, 150, 109, 112, 113, 211, 211, 209, 253, 252, 247, 252, 253, 252, 208, 224, 232, 124, 143, 157, 114, 132, 149, 124, 141, 162, 116, 133, 156, 122, 133, 152, 104, 124, 148, 68, 93, 119, 68, 87, 104, 60, 82, 101, 52, 84, 111, 50, 84, 110, 51, 85, 115, 56, 93, 125, 56, 94, 131, 51, 91, 130, 43, 96, 135, 51, 104, 141, 59, 108, 142, 48, 97, 132, 43, 97, 137, 42, 95, 132, 41, 89, 135, 96, 137, 168, 144, 168, 188, 168, 174, 188, 178, 182, 192, 165, 170, 174, 165, 166, 164, 246, 245, 237, 253, 251, 241, 227, 231, 228, 110, 136, 153, 60, 88, 111, 53, 80, 105, 49, 76, 105, 49, 75, 107, 48, 72, 101, 45, 79, 115, 42, 81, 120, 46, 81, 113, 42, 82, 116, 38, 86, 125, 46, 90, 125, 46, 89, 126, 43, 87, 128, 42, 89, 132, 46, 93, 139, 46, 94, 137, 50, 96, 137, 55, 96, 135, 53, 94, 134, 51, 95, 139, 45, 90, 133, 29, 91, 141, 29, 87, 130, 59, 102, 134, 131, 153, 176, 166, 179, 191, 132, 136, 137, 194, 189, 181, 254, 250, 242, 241, 245, 245, 141, 159, 175, 61, 94, 127, 50, 84, 118, 50, 84, 119, 51, 85, 121, 49, 83, 120, 50, 84, 116, 47, 86, 117, 42, 84, 117, 39, 82, 115, 34, 79, 113, 35, 83, 120, 39, 86, 125, 38, 85, 125, 42, 89, 130, 45, 92, 134, 56, 103, 145, 62, 103, 142, 59, 101, 142, 56, 102, 146, 50, 99, 144, 46, 94, 140, 51, 103, 149, 48, 111, 162, 30, 94, 140, 34, 85, 124, 73, 106, 136, 128, 148, 167, 128, 136, 143, 215, 213, 209, 255, 253, 249, 187, 198, 205, 66, 93, 118, 54, 91, 128, 50, 88, 125, 52, 90, 127, 52, 90, 127, 46, 83, 121, 45, 82, 115, 43, 82, 113, 41, 81, 112, 36, 80, 113, 39, 83, 117, 40, 86, 123, 40, 89, 131, 43, 92, 134, 46, 95, 138, 59, 108, 150, 62, 110, 152, 64, 109, 147, 59, 108, 149, 54, 108, 154, 50, 105, 152, 70, 123, 167, 83, 137, 182, 52, 114, 165, 35, 99, 147, 31, 86, 130, 41, 83, 122, 66, 95, 126, 128, 145, 164, 224, 229, 234, 240, 245, 247, 124, 143, 153, 58, 92, 114, 49, 87, 123, 56, 94, 131, 54, 92, 129, 44, 82, 119, 44, 82, 119, 47, 83, 119, 46, 84, 119, 43, 83, 119, 43, 86, 123, 44, 88, 127, 44, 90, 131, 45, 97, 141, 54, 106, 150, 58, 110, 154, 54, 105, 150, 46, 97, 141, 43, 95, 140, 36, 91, 138, 51, 108, 158, 73, 130, 178, 85, 138, 182, 76, 125, 169, 50, 110, 162, 35, 98, 149, 29, 89, 138, 35, 86, 133, 44, 83, 126, 78, 106, 138, 202, 219, 233, 211, 228, 234, 97, 126, 140, 65, 104, 126, 54, 94, 129, 48, 87, 124, 58, 97, 133, 48, 87, 123, 40, 80, 116, 45, 82, 119, 47, 84, 122, 48, 87, 126, 47, 89, 130, 46, 89, 132, 51, 97, 140, 39, 92, 138, 39, 93, 139, 48, 102, 148, 47, 101, 147, 39, 93, 139, 28, 85, 133, 40, 101, 153, 67, 129, 182, 67, 126, 176, 46, 98, 142, 51, 96, 139, 50, 108, 161, 35, 97, 147, 32, 92, 143, 33, 88, 141, 41, 88, 138, 46, 84, 125, 104, 133, 159, 170, 197, 211, 64, 100, 119, 54, 97, 121, 52, 94, 128, 53, 95, 130, 61, 103, 139, 58, 100, 135, 54, 96, 131, 45, 83, 120, 42, 79, 118, 41, 80, 120, 46, 88, 130, 49, 92, 135, 46, 92, 136, 42, 95, 139, 40, 93, 138, 39, 92, 136, 37, 90, 135, 40, 93, 138, 44, 102, 151, 63, 125, 178, 47, 110, 164, 31, 90, 140, 15, 60, 103, 51, 93, 136, 68, 124, 177, 42, 100, 148, 31, 88, 137, 38, 91, 146, 37, 87, 139, 43, 89, 132, 42, 79, 113, 71, 107, 133, 49, 89, 114, 31, 77, 105, 27, 71, 105, 38, 82, 117, 49, 93, 128, 56, 100, 135, 58, 102, 137, 53, 92, 128, 56, 94, 131, 60, 99, 137, 57, 99, 139, 53, 97, 138, 50, 95, 137, 45, 94, 136, 39, 88, 131, 33, 83, 125, 42, 91, 133, 62, 112, 154, 79, 132, 179, 73, 131, 181, 56, 116, 168, 38, 97, 146, 13, 64, 108, 40, 85, 127, 61, 116, 168, 49, 102, 148, 35, 85, 132, 43, 91, 143, 39, 90, 139, 42, 92, 134, 44, 88, 125, 40, 81, 112, 42, 85, 115, 27, 72, 104, 23, 67, 102, 30, 74, 109, 27, 71, 106, 29, 73, 108, 36, 80, 115, 47, 86, 120, 56, 95, 128, 62, 101, 135, 66, 109, 144, 75, 119, 156, 69, 113, 152, 49, 95, 134, 43, 88, 127, 43, 88, 127, 60, 105, 144, 85, 130, 170, 109, 156, 197, 93, 145, 190, 60, 115, 164, 26, 82, 130, 29, 82, 126, 20, 64, 107, 54, 107, 160, 56, 105, 149, 45, 89, 132, 43, 86, 134, 40, 89, 134, 40, 92, 132, 40, 87, 123, 38, 81, 115, 36, 79, 114, 26, 69, 105, 22, 66, 101, 29, 73, 108, 25, 69, 104, 29, 73, 108, 19, 63, 98, 18, 58, 89, 32, 70, 100, 47, 87, 118, 61, 104, 137, 74, 119, 152, 66, 111, 145, 53, 96, 131, 52, 95, 130, 45, 87, 123, 67, 109, 145, 89, 131, 167, 105, 146, 182, 89, 135, 175, 48, 99, 145, 24, 77, 124, 34, 84, 129, 21, 67, 110], \"height\": 32, \"channels\": 3, \"width\": 32, \"type\": \"image\", \"id\": 4760490768}], \"selected_variable\": {\"name\": [\"<SArray>\"], \"dtype\": \"Image\", \"view_component\": \"Images\", \"view_file\": \"sarray\", \"descriptives\": {\"rows\": 1}, \"type\": \"SArray\", \"view_components\": [\"Images\"]}}, e);\n",
       "                });\n",
       "            })();\n",
       "        "
      ]
     },
     "metadata": {},
     "output_type": "display_data"
    }
   ],
   "source": [
    "image_test[0:1]\n",
    "graphlab.canvas.set_target('ipynb')\n",
    "image_test[0:1]['image'].show()"
   ]
  },
  {
   "cell_type": "code",
   "execution_count": 13,
   "metadata": {
    "collapsed": true
   },
   "outputs": [],
   "source": [
    "cat_image = image_test[0:1]"
   ]
  },
  {
   "cell_type": "code",
   "execution_count": 14,
   "metadata": {
    "collapsed": true
   },
   "outputs": [],
   "source": [
    "## build 4 knn models"
   ]
  },
  {
   "cell_type": "code",
   "execution_count": 15,
   "metadata": {
    "collapsed": false
   },
   "outputs": [
    {
     "data": {
      "text/html": [
       "<pre>Starting brute force nearest neighbors model training.</pre>"
      ],
      "text/plain": [
       "Starting brute force nearest neighbors model training."
      ]
     },
     "metadata": {},
     "output_type": "display_data"
    },
    {
     "data": {
      "text/html": [
       "<pre>Starting brute force nearest neighbors model training.</pre>"
      ],
      "text/plain": [
       "Starting brute force nearest neighbors model training."
      ]
     },
     "metadata": {},
     "output_type": "display_data"
    },
    {
     "data": {
      "text/html": [
       "<pre>Starting brute force nearest neighbors model training.</pre>"
      ],
      "text/plain": [
       "Starting brute force nearest neighbors model training."
      ]
     },
     "metadata": {},
     "output_type": "display_data"
    },
    {
     "data": {
      "text/html": [
       "<pre>Starting brute force nearest neighbors model training.</pre>"
      ],
      "text/plain": [
       "Starting brute force nearest neighbors model training."
      ]
     },
     "metadata": {},
     "output_type": "display_data"
    }
   ],
   "source": [
    "knn_image_models = {}\n",
    "for i in image_label:\n",
    "    model_label = i + '_model'\n",
    "    knn_image_models[model_label] = graphlab.nearest_neighbors.create(image_group[model_label],\n",
    "                                                        features = ['deep_features'],\n",
    "                                                        label = 'id')"
   ]
  },
  {
   "cell_type": "code",
   "execution_count": 16,
   "metadata": {
    "collapsed": false
   },
   "outputs": [
    {
     "data": {
      "text/plain": [
       "['bird_model', 'cat_model', 'dog_model', 'automobile_model']"
      ]
     },
     "execution_count": 16,
     "metadata": {},
     "output_type": "execute_result"
    }
   ],
   "source": [
    "knn_image_models.keys()"
   ]
  },
  {
   "cell_type": "code",
   "execution_count": null,
   "metadata": {
    "collapsed": false
   },
   "outputs": [],
   "source": [
    "knn_image_models"
   ]
  },
  {
   "cell_type": "code",
   "execution_count": 18,
   "metadata": {
    "collapsed": false
   },
   "outputs": [
    {
     "data": {
      "text/html": [
       "<pre>Starting pairwise querying.</pre>"
      ],
      "text/plain": [
       "Starting pairwise querying."
      ]
     },
     "metadata": {},
     "output_type": "display_data"
    },
    {
     "data": {
      "text/html": [
       "<pre>+--------------+---------+-------------+--------------+</pre>"
      ],
      "text/plain": [
       "+--------------+---------+-------------+--------------+"
      ]
     },
     "metadata": {},
     "output_type": "display_data"
    },
    {
     "data": {
      "text/html": [
       "<pre>| Query points | # Pairs | % Complete. | Elapsed Time |</pre>"
      ],
      "text/plain": [
       "| Query points | # Pairs | % Complete. | Elapsed Time |"
      ]
     },
     "metadata": {},
     "output_type": "display_data"
    },
    {
     "data": {
      "text/html": [
       "<pre>+--------------+---------+-------------+--------------+</pre>"
      ],
      "text/plain": [
       "+--------------+---------+-------------+--------------+"
      ]
     },
     "metadata": {},
     "output_type": "display_data"
    },
    {
     "data": {
      "text/html": [
       "<pre>| 0            | 1       | 0.209205    | 9.483ms      |</pre>"
      ],
      "text/plain": [
       "| 0            | 1       | 0.209205    | 9.483ms      |"
      ]
     },
     "metadata": {},
     "output_type": "display_data"
    },
    {
     "data": {
      "text/html": [
       "<pre>| Done         |         | 100         | 66.912ms     |</pre>"
      ],
      "text/plain": [
       "| Done         |         | 100         | 66.912ms     |"
      ]
     },
     "metadata": {},
     "output_type": "display_data"
    },
    {
     "data": {
      "text/html": [
       "<pre>+--------------+---------+-------------+--------------+</pre>"
      ],
      "text/plain": [
       "+--------------+---------+-------------+--------------+"
      ]
     },
     "metadata": {},
     "output_type": "display_data"
    },
    {
     "data": {
      "text/html": [
       "<pre>Starting pairwise querying.</pre>"
      ],
      "text/plain": [
       "Starting pairwise querying."
      ]
     },
     "metadata": {},
     "output_type": "display_data"
    },
    {
     "data": {
      "text/html": [
       "<pre>+--------------+---------+-------------+--------------+</pre>"
      ],
      "text/plain": [
       "+--------------+---------+-------------+--------------+"
      ]
     },
     "metadata": {},
     "output_type": "display_data"
    },
    {
     "data": {
      "text/html": [
       "<pre>| Query points | # Pairs | % Complete. | Elapsed Time |</pre>"
      ],
      "text/plain": [
       "| Query points | # Pairs | % Complete. | Elapsed Time |"
      ]
     },
     "metadata": {},
     "output_type": "display_data"
    },
    {
     "data": {
      "text/html": [
       "<pre>+--------------+---------+-------------+--------------+</pre>"
      ],
      "text/plain": [
       "+--------------+---------+-------------+--------------+"
      ]
     },
     "metadata": {},
     "output_type": "display_data"
    },
    {
     "data": {
      "text/html": [
       "<pre>| 0            | 1       | 0.196464    | 7.463ms      |</pre>"
      ],
      "text/plain": [
       "| 0            | 1       | 0.196464    | 7.463ms      |"
      ]
     },
     "metadata": {},
     "output_type": "display_data"
    },
    {
     "data": {
      "text/html": [
       "<pre>| Done         |         | 100         | 67.712ms     |</pre>"
      ],
      "text/plain": [
       "| Done         |         | 100         | 67.712ms     |"
      ]
     },
     "metadata": {},
     "output_type": "display_data"
    },
    {
     "data": {
      "text/html": [
       "<pre>+--------------+---------+-------------+--------------+</pre>"
      ],
      "text/plain": [
       "+--------------+---------+-------------+--------------+"
      ]
     },
     "metadata": {},
     "output_type": "display_data"
    },
    {
     "data": {
      "text/html": [
       "<pre>Starting pairwise querying.</pre>"
      ],
      "text/plain": [
       "Starting pairwise querying."
      ]
     },
     "metadata": {},
     "output_type": "display_data"
    },
    {
     "data": {
      "text/html": [
       "<pre>+--------------+---------+-------------+--------------+</pre>"
      ],
      "text/plain": [
       "+--------------+---------+-------------+--------------+"
      ]
     },
     "metadata": {},
     "output_type": "display_data"
    },
    {
     "data": {
      "text/html": [
       "<pre>| Query points | # Pairs | % Complete. | Elapsed Time |</pre>"
      ],
      "text/plain": [
       "| Query points | # Pairs | % Complete. | Elapsed Time |"
      ]
     },
     "metadata": {},
     "output_type": "display_data"
    },
    {
     "data": {
      "text/html": [
       "<pre>+--------------+---------+-------------+--------------+</pre>"
      ],
      "text/plain": [
       "+--------------+---------+-------------+--------------+"
      ]
     },
     "metadata": {},
     "output_type": "display_data"
    },
    {
     "data": {
      "text/html": [
       "<pre>| 0            | 1       | 0.196464    | 12.687ms     |</pre>"
      ],
      "text/plain": [
       "| 0            | 1       | 0.196464    | 12.687ms     |"
      ]
     },
     "metadata": {},
     "output_type": "display_data"
    },
    {
     "data": {
      "text/html": [
       "<pre>| Done         |         | 100         | 59.505ms     |</pre>"
      ],
      "text/plain": [
       "| Done         |         | 100         | 59.505ms     |"
      ]
     },
     "metadata": {},
     "output_type": "display_data"
    },
    {
     "data": {
      "text/html": [
       "<pre>+--------------+---------+-------------+--------------+</pre>"
      ],
      "text/plain": [
       "+--------------+---------+-------------+--------------+"
      ]
     },
     "metadata": {},
     "output_type": "display_data"
    },
    {
     "data": {
      "text/html": [
       "<pre>Starting pairwise querying.</pre>"
      ],
      "text/plain": [
       "Starting pairwise querying."
      ]
     },
     "metadata": {},
     "output_type": "display_data"
    },
    {
     "data": {
      "text/html": [
       "<pre>+--------------+---------+-------------+--------------+</pre>"
      ],
      "text/plain": [
       "+--------------+---------+-------------+--------------+"
      ]
     },
     "metadata": {},
     "output_type": "display_data"
    },
    {
     "data": {
      "text/html": [
       "<pre>| Query points | # Pairs | % Complete. | Elapsed Time |</pre>"
      ],
      "text/plain": [
       "| Query points | # Pairs | % Complete. | Elapsed Time |"
      ]
     },
     "metadata": {},
     "output_type": "display_data"
    },
    {
     "data": {
      "text/html": [
       "<pre>+--------------+---------+-------------+--------------+</pre>"
      ],
      "text/plain": [
       "+--------------+---------+-------------+--------------+"
      ]
     },
     "metadata": {},
     "output_type": "display_data"
    },
    {
     "data": {
      "text/html": [
       "<pre>| 0            | 1       | 0.196464    | 9.622ms      |</pre>"
      ],
      "text/plain": [
       "| 0            | 1       | 0.196464    | 9.622ms      |"
      ]
     },
     "metadata": {},
     "output_type": "display_data"
    },
    {
     "data": {
      "text/html": [
       "<pre>| Done         |         | 100         | 64.644ms     |</pre>"
      ],
      "text/plain": [
       "| Done         |         | 100         | 64.644ms     |"
      ]
     },
     "metadata": {},
     "output_type": "display_data"
    },
    {
     "data": {
      "text/html": [
       "<pre>+--------------+---------+-------------+--------------+</pre>"
      ],
      "text/plain": [
       "+--------------+---------+-------------+--------------+"
      ]
     },
     "metadata": {},
     "output_type": "display_data"
    }
   ],
   "source": [
    "nearest_query = {}\n",
    "for i in image_label:\n",
    "    model_label = i + '_model'\n",
    "    nearest_query[model_label] = knn_image_models[model_label].query(cat_image)"
   ]
  },
  {
   "cell_type": "code",
   "execution_count": 19,
   "metadata": {
    "collapsed": false
   },
   "outputs": [
    {
     "data": {
      "text/plain": [
       "{'automobile_model': Columns:\n",
       " \tquery_label\tint\n",
       " \treference_label\tint\n",
       " \tdistance\tfloat\n",
       " \trank\tint\n",
       " \n",
       " Rows: 5\n",
       " \n",
       " Data:\n",
       " +-------------+-----------------+---------------+------+\n",
       " | query_label | reference_label |    distance   | rank |\n",
       " +-------------+-----------------+---------------+------+\n",
       " |      0      |      49314      | 39.6710582792 |  1   |\n",
       " |      0      |      12389      | 40.2107393099 |  2   |\n",
       " |      0      |      15299      | 41.2103305258 |  3   |\n",
       " |      0      |      40118      | 41.3292164653 |  4   |\n",
       " |      0      |      17111      |  41.352687775 |  5   |\n",
       " +-------------+-----------------+---------------+------+\n",
       " [5 rows x 4 columns], 'bird_model': Columns:\n",
       " \tquery_label\tint\n",
       " \treference_label\tint\n",
       " \tdistance\tfloat\n",
       " \trank\tint\n",
       " \n",
       " Rows: 5\n",
       " \n",
       " Data:\n",
       " +-------------+-----------------+---------------+------+\n",
       " | query_label | reference_label |    distance   | rank |\n",
       " +-------------+-----------------+---------------+------+\n",
       " |      0      |      49573      |  38.074265869 |  1   |\n",
       " |      0      |      47248      | 39.1015273477 |  2   |\n",
       " |      0      |      16041      | 39.6991023393 |  3   |\n",
       " |      0      |       4549      |  39.703981674 |  4   |\n",
       " |      0      |        90       | 39.8908850657 |  5   |\n",
       " +-------------+-----------------+---------------+------+\n",
       " [5 rows x 4 columns], 'cat_model': Columns:\n",
       " \tquery_label\tint\n",
       " \treference_label\tint\n",
       " \tdistance\tfloat\n",
       " \trank\tint\n",
       " \n",
       " Rows: 5\n",
       " \n",
       " Data:\n",
       " +-------------+-----------------+---------------+------+\n",
       " | query_label | reference_label |    distance   | rank |\n",
       " +-------------+-----------------+---------------+------+\n",
       " |      0      |      16289      |  34.623719208 |  1   |\n",
       " |      0      |      45646      | 36.0068799284 |  2   |\n",
       " |      0      |      32139      | 36.5200813436 |  3   |\n",
       " |      0      |      25713      | 36.7548502521 |  4   |\n",
       " |      0      |       331       | 36.8731228168 |  5   |\n",
       " +-------------+-----------------+---------------+------+\n",
       " [5 rows x 4 columns], 'dog_model': Columns:\n",
       " \tquery_label\tint\n",
       " \treference_label\tint\n",
       " \tdistance\tfloat\n",
       " \trank\tint\n",
       " \n",
       " Rows: 5\n",
       " \n",
       " Data:\n",
       " +-------------+-----------------+---------------+------+\n",
       " | query_label | reference_label |    distance   | rank |\n",
       " +-------------+-----------------+---------------+------+\n",
       " |      0      |      16976      | 37.4642628784 |  1   |\n",
       " |      0      |      13387      | 37.5666832169 |  2   |\n",
       " |      0      |      35867      | 37.6047267079 |  3   |\n",
       " |      0      |      44603      | 37.7065585153 |  4   |\n",
       " |      0      |       6094      | 38.5113254907 |  5   |\n",
       " +-------------+-----------------+---------------+------+\n",
       " [5 rows x 4 columns]}"
      ]
     },
     "execution_count": 19,
     "metadata": {},
     "output_type": "execute_result"
    }
   ],
   "source": [
    "nearest_query"
   ]
  },
  {
   "cell_type": "code",
   "execution_count": 20,
   "metadata": {
    "collapsed": false
   },
   "outputs": [
    {
     "data": {
      "text/html": [
       "<div style=\"max-height:1000px;max-width:1500px;overflow:auto;\"><table frame=\"box\" rules=\"cols\">\n",
       "    <tr>\n",
       "        <th style=\"padding-left: 1em; padding-right: 1em; text-align: center\">id</th>\n",
       "        <th style=\"padding-left: 1em; padding-right: 1em; text-align: center\">image</th>\n",
       "        <th style=\"padding-left: 1em; padding-right: 1em; text-align: center\">label</th>\n",
       "        <th style=\"padding-left: 1em; padding-right: 1em; text-align: center\">deep_features</th>\n",
       "        <th style=\"padding-left: 1em; padding-right: 1em; text-align: center\">image_array</th>\n",
       "    </tr>\n",
       "    <tr>\n",
       "        <td style=\"padding-left: 1em; padding-right: 1em; text-align: center; vertical-align: top\">0</td>\n",
       "        <td style=\"padding-left: 1em; padding-right: 1em; text-align: center; vertical-align: top\">Height: 32 Width: 32</td>\n",
       "        <td style=\"padding-left: 1em; padding-right: 1em; text-align: center; vertical-align: top\">cat</td>\n",
       "        <td style=\"padding-left: 1em; padding-right: 1em; text-align: center; vertical-align: top\">[1.13469004631, 0.0, 0.0,<br>0.0, 0.0366497635841, ...</td>\n",
       "        <td style=\"padding-left: 1em; padding-right: 1em; text-align: center; vertical-align: top\">[158.0, 112.0, 49.0,<br>159.0, 111.0, 47.0, ...</td>\n",
       "    </tr>\n",
       "</table>\n",
       "[1 rows x 5 columns]<br/>\n",
       "</div>"
      ],
      "text/plain": [
       "Columns:\n",
       "\tid\tint\n",
       "\timage\tImage\n",
       "\tlabel\tstr\n",
       "\tdeep_features\tarray\n",
       "\timage_array\tarray\n",
       "\n",
       "Rows: 1\n",
       "\n",
       "Data:\n",
       "+----+----------------------+-------+-------------------------------+\n",
       "| id |        image         | label |         deep_features         |\n",
       "+----+----------------------+-------+-------------------------------+\n",
       "| 0  | Height: 32 Width: 32 |  cat  | [1.13469004631, 0.0, 0.0, ... |\n",
       "+----+----------------------+-------+-------------------------------+\n",
       "+-------------------------------+\n",
       "|          image_array          |\n",
       "+-------------------------------+\n",
       "| [158.0, 112.0, 49.0, 159.0... |\n",
       "+-------------------------------+\n",
       "[1 rows x 5 columns]"
      ]
     },
     "execution_count": 20,
     "metadata": {},
     "output_type": "execute_result"
    }
   ],
   "source": [
    "cat_image"
   ]
  },
  {
   "cell_type": "markdown",
   "metadata": {},
   "source": [
    "# Question 2:\n",
    "# for image_test[0:1], \n",
    "# the nearest neighbors in the dog_model = 16976, distance = 37.4642\n",
    "# the nearest neighbors in the cat_model = 16289, distance = 34.6237"
   ]
  },
  {
   "cell_type": "code",
   "execution_count": 23,
   "metadata": {
    "collapsed": false
   },
   "outputs": [
    {
     "data": {
      "application/javascript": [
       "$(\"head\").append($(\"<link/>\").attr({\n",
       "  rel:  \"stylesheet\",\n",
       "  type: \"text/css\",\n",
       "  href: \"//cdnjs.cloudflare.com/ajax/libs/font-awesome/4.1.0/css/font-awesome.min.css\"\n",
       "}));\n",
       "$(\"head\").append($(\"<link/>\").attr({\n",
       "  rel:  \"stylesheet\",\n",
       "  type: \"text/css\",\n",
       "  href: \"https://static.turi.com/products/graphlab-create/2.1/canvas/css/canvas.css\"\n",
       "}));\n",
       "\n",
       "            (function(){\n",
       "\n",
       "                var e = null;\n",
       "                if (typeof element == 'undefined') {\n",
       "                    var scripts = document.getElementsByTagName('script');\n",
       "                    var thisScriptTag = scripts[scripts.length-1];\n",
       "                    var parentDiv = thisScriptTag.parentNode;\n",
       "                    e = document.createElement('div');\n",
       "                    parentDiv.appendChild(e);\n",
       "                } else {\n",
       "                    e = element[0];\n",
       "                }\n",
       "\n",
       "                if (typeof requirejs !== 'undefined') {\n",
       "                    // disable load timeout; ipython_app.js is large and can take a while to load.\n",
       "                    requirejs.config({waitSeconds: 0});\n",
       "                }\n",
       "\n",
       "                require(['https://static.turi.com/products/graphlab-create/2.1/canvas/js/ipython_app.js'], function(IPythonApp){\n",
       "                    var app = new IPythonApp();\n",
       "                    app.attachView('sarray','Images', {\"ipython\": true, \"rows\": [{\"format\": \"raw\", \"value\": [215, 219, 231, 215, 219, 232, 216, 219, 233, 214, 217, 230, 213, 216, 230, 209, 215, 226, 208, 217, 221, 206, 215, 219, 201, 208, 217, 197, 203, 218, 194, 200, 221, 199, 204, 221, 142, 128, 131, 76, 46, 46, 81, 55, 57, 147, 136, 139, 160, 149, 154, 152, 141, 144, 156, 147, 150, 159, 148, 154, 160, 153, 157, 164, 156, 160, 160, 154, 158, 158, 151, 156, 159, 149, 157, 159, 150, 156, 157, 147, 154, 156, 145, 153, 152, 142, 149, 147, 137, 143, 141, 131, 136, 142, 131, 136, 215, 219, 231, 215, 219, 232, 215, 219, 232, 213, 217, 229, 212, 216, 229, 212, 214, 217, 206, 215, 217, 203, 211, 219, 197, 205, 218, 194, 201, 218, 196, 201, 218, 178, 180, 192, 92, 56, 55, 77, 50, 49, 112, 98, 100, 173, 162, 169, 162, 153, 157, 160, 152, 154, 164, 157, 159, 164, 155, 160, 165, 158, 163, 165, 155, 162, 167, 160, 166, 164, 155, 162, 160, 148, 155, 153, 142, 149, 160, 150, 159, 162, 154, 162, 157, 151, 156, 152, 143, 148, 139, 129, 133, 135, 124, 128, 215, 219, 231, 215, 219, 231, 214, 218, 230, 214, 218, 229, 214, 217, 227, 216, 211, 207, 207, 213, 215, 200, 207, 218, 195, 202, 220, 193, 201, 216, 196, 202, 216, 125, 101, 101, 79, 49, 48, 88, 67, 67, 157, 147, 152, 168, 160, 166, 164, 155, 158, 170, 163, 168, 169, 164, 166, 169, 160, 165, 169, 162, 167, 167, 159, 167, 166, 156, 164, 166, 155, 163, 163, 153, 158, 160, 150, 157, 160, 151, 158, 159, 150, 156, 157, 148, 155, 155, 145, 152, 152, 141, 147, 143, 131, 135, 216, 220, 232, 215, 219, 231, 214, 218, 230, 214, 218, 230, 214, 217, 227, 216, 213, 207, 205, 210, 216, 199, 203, 219, 196, 202, 219, 194, 204, 220, 164, 155, 162, 89, 54, 48, 77, 52, 52, 126, 110, 113, 173, 162, 168, 167, 159, 163, 170, 162, 166, 172, 163, 168, 171, 164, 168, 171, 163, 168, 171, 162, 169, 169, 161, 167, 165, 153, 160, 165, 154, 160, 163, 153, 158, 166, 155, 162, 165, 154, 160, 155, 144, 149, 156, 144, 151, 153, 143, 151, 151, 140, 148, 143, 131, 137, 217, 221, 233, 215, 219, 231, 215, 219, 231, 215, 219, 231, 217, 219, 229, 221, 222, 219, 199, 203, 211, 195, 202, 217, 198, 202, 220, 190, 193, 206, 109, 80, 77, 78, 50, 49, 94, 72, 74, 163, 154, 155, 166, 157, 158, 169, 158, 158, 173, 163, 167, 170, 158, 161, 172, 161, 168, 173, 166, 170, 173, 163, 170, 171, 161, 164, 169, 155, 160, 170, 158, 162, 162, 151, 157, 162, 151, 157, 167, 156, 164, 164, 153, 160, 158, 147, 153, 157, 146, 151, 149, 138, 144, 143, 132, 137, 217, 221, 233, 215, 219, 231, 214, 218, 230, 213, 217, 229, 222, 224, 232, 228, 227, 233, 192, 196, 211, 196, 202, 220, 196, 209, 225, 150, 128, 133, 80, 48, 46, 76, 51, 56, 144, 129, 134, 167, 158, 161, 165, 155, 156, 173, 161, 163, 175, 164, 168, 173, 162, 168, 175, 167, 171, 175, 165, 167, 174, 162, 169, 168, 157, 159, 156, 145, 146, 171, 159, 162, 168, 157, 163, 167, 156, 163, 167, 155, 165, 168, 157, 165, 159, 147, 155, 151, 140, 144, 145, 133, 137, 149, 137, 141, 217, 221, 233, 216, 220, 232, 214, 218, 230, 215, 219, 231, 166, 167, 174, 200, 198, 206, 194, 201, 218, 194, 200, 219, 177, 173, 184, 93, 65, 61, 75, 53, 53, 120, 100, 97, 172, 162, 166, 169, 158, 161, 167, 154, 156, 177, 166, 169, 181, 171, 175, 174, 166, 173, 175, 166, 172, 171, 160, 164, 173, 163, 171, 136, 125, 129, 101, 91, 88, 155, 141, 141, 175, 164, 169, 174, 162, 170, 167, 156, 165, 165, 154, 162, 161, 150, 157, 150, 138, 143, 148, 136, 140, 147, 135, 139, 217, 221, 233, 216, 220, 232, 215, 219, 231, 217, 221, 234, 113, 108, 113, 140, 130, 127, 163, 161, 169, 144, 143, 149, 153, 139, 139, 139, 122, 116, 132, 114, 102, 164, 147, 139, 161, 150, 142, 150, 138, 130, 135, 122, 116, 152, 138, 134, 149, 132, 127, 175, 162, 161, 180, 168, 175, 176, 164, 170, 177, 171, 180, 136, 126, 130, 87, 76, 68, 137, 121, 119, 178, 168, 173, 173, 162, 169, 168, 157, 164, 163, 152, 158, 158, 146, 151, 160, 147, 155, 163, 150, 158, 160, 147, 154, 218, 220, 233, 216, 219, 232, 215, 219, 232, 208, 212, 224, 92, 82, 85, 96, 78, 69, 111, 99, 93, 129, 116, 110, 167, 156, 155, 179, 168, 171, 171, 161, 158, 157, 137, 124, 120, 103, 92, 117, 98, 86, 102, 86, 81, 127, 108, 96, 147, 122, 108, 139, 122, 116, 168, 157, 155, 155, 145, 145, 200, 199, 207, 157, 149, 147, 116, 102, 91, 150, 137, 137, 176, 166, 170, 173, 162, 168, 169, 156, 164, 159, 147, 153, 159, 146, 150, 164, 151, 158, 166, 153, 161, 159, 145, 153, 217, 219, 232, 216, 218, 231, 217, 218, 229, 193, 195, 207, 95, 79, 74, 110, 88, 80, 154, 138, 132, 181, 165, 159, 207, 200, 205, 205, 207, 219, 199, 200, 209, 159, 138, 131, 143, 118, 101, 137, 110, 93, 115, 98, 91, 118, 103, 92, 184, 166, 159, 125, 113, 114, 149, 132, 126, 117, 101, 102, 213, 214, 226, 172, 170, 179, 133, 121, 123, 157, 143, 143, 147, 131, 129, 174, 158, 166, 169, 156, 165, 162, 149, 157, 168, 156, 164, 166, 154, 162, 162, 151, 158, 158, 146, 154, 218, 220, 233, 216, 218, 232, 216, 220, 234, 174, 176, 187, 90, 73, 70, 148, 125, 109, 194, 169, 157, 215, 204, 208, 220, 221, 230, 220, 223, 231, 218, 216, 224, 174, 154, 152, 162, 140, 127, 127, 100, 84, 146, 120, 103, 147, 124, 116, 169, 145, 133, 138, 122, 113, 148, 134, 124, 123, 103, 97, 154, 143, 141, 153, 143, 144, 133, 124, 127, 151, 136, 137, 140, 119, 111, 156, 139, 134, 175, 164, 169, 175, 160, 169, 170, 156, 165, 164, 151, 158, 156, 144, 150, 158, 146, 152, 218, 220, 233, 214, 218, 231, 216, 219, 233, 173, 164, 169, 134, 106, 90, 184, 152, 131, 205, 184, 171, 218, 214, 222, 221, 222, 232, 225, 226, 235, 218, 220, 231, 187, 172, 169, 156, 136, 127, 140, 116, 102, 147, 115, 98, 126, 99, 84, 171, 135, 105, 105, 81, 71, 132, 112, 105, 95, 80, 75, 130, 118, 114, 140, 127, 123, 128, 115, 114, 140, 125, 124, 159, 143, 139, 126, 113, 112, 165, 156, 163, 159, 144, 150, 163, 147, 148, 161, 145, 149, 161, 145, 149, 163, 148, 151, 217, 219, 232, 214, 218, 230, 218, 216, 229, 152, 133, 128, 169, 146, 138, 194, 172, 157, 201, 173, 151, 210, 197, 193, 215, 213, 223, 216, 218, 226, 203, 201, 209, 157, 129, 111, 145, 112, 92, 141, 114, 99, 133, 104, 90, 114, 84, 72, 183, 145, 108, 135, 106, 86, 143, 110, 95, 110, 95, 93, 200, 199, 207, 153, 147, 148, 129, 112, 111, 119, 102, 100, 144, 131, 127, 152, 145, 156, 188, 186, 198, 108, 92, 95, 99, 83, 78, 160, 140, 141, 176, 157, 168, 153, 134, 136, 218, 220, 233, 217, 219, 232, 209, 210, 222, 141, 114, 104, 212, 201, 202, 212, 206, 208, 184, 150, 123, 193, 164, 138, 202, 187, 180, 209, 207, 215, 200, 193, 196, 146, 111, 92, 141, 107, 88, 120, 97, 84, 86, 68, 60, 117, 87, 74, 163, 126, 95, 140, 103, 84, 139, 102, 78, 169, 141, 129, 218, 219, 228, 131, 123, 125, 104, 88, 81, 98, 83, 76, 122, 105, 97, 143, 138, 161, 209, 208, 226, 154, 141, 139, 99, 80, 73, 153, 127, 129, 156, 139, 144, 135, 116, 116, 219, 221, 234, 216, 218, 232, 204, 204, 219, 154, 126, 110, 213, 204, 206, 217, 214, 217, 170, 136, 110, 157, 118, 88, 170, 135, 108, 197, 174, 168, 170, 142, 125, 143, 103, 83, 122, 90, 75, 98, 76, 68, 68, 55, 55, 76, 59, 56, 118, 84, 71, 111, 79, 63, 107, 76, 63, 158, 121, 101, 196, 192, 200, 115, 101, 104, 106, 90, 83, 103, 87, 77, 128, 107, 97, 111, 97, 127, 206, 205, 220, 206, 209, 220, 157, 142, 127, 113, 91, 76, 121, 105, 101, 164, 149, 152, 220, 221, 234, 215, 218, 232, 208, 209, 223, 159, 136, 126, 213, 211, 218, 204, 202, 208, 140, 115, 102, 132, 104, 88, 148, 112, 93, 160, 124, 97, 136, 92, 70, 122, 86, 69, 97, 73, 60, 101, 74, 64, 84, 63, 60, 67, 53, 52, 82, 62, 57, 92, 71, 60, 82, 59, 53, 145, 116, 103, 125, 116, 120, 105, 91, 87, 92, 77, 76, 94, 76, 73, 119, 96, 84, 131, 113, 124, 207, 209, 223, 217, 219, 236, 157, 150, 150, 127, 115, 114, 138, 122, 119, 173, 160, 166, 219, 221, 234, 218, 223, 235, 173, 164, 171, 129, 109, 105, 219, 218, 228, 186, 179, 188, 102, 86, 85, 96, 82, 77, 108, 88, 76, 136, 106, 91, 129, 93, 74, 105, 73, 61, 79, 60, 55, 76, 57, 54, 73, 55, 54, 74, 55, 53, 71, 57, 55, 88, 70, 68, 84, 66, 63, 79, 66, 70, 76, 65, 70, 99, 87, 86, 67, 53, 55, 102, 84, 78, 118, 94, 83, 150, 132, 131, 211, 204, 220, 213, 184, 201, 202, 191, 208, 177, 176, 188, 146, 130, 133, 170, 157, 160, 219, 221, 233, 211, 210, 220, 116, 88, 81, 132, 117, 117, 226, 229, 238, 171, 156, 160, 104, 84, 77, 96, 80, 77, 95, 83, 77, 105, 87, 80, 119, 94, 77, 95, 70, 60, 72, 56, 54, 68, 54, 55, 75, 56, 53, 77, 60, 55, 78, 65, 63, 95, 79, 77, 79, 65, 65, 51, 40, 52, 84, 74, 81, 94, 83, 86, 74, 60, 60, 127, 109, 101, 125, 102, 92, 140, 120, 118, 207, 199, 211, 216, 198, 214, 195, 188, 197, 183, 180, 187, 146, 132, 139, 169, 153, 163, 222, 227, 240, 167, 132, 134, 121, 81, 62, 101, 85, 78, 172, 167, 178, 163, 155, 154, 127, 115, 110, 130, 116, 114, 125, 113, 112, 111, 95, 90, 117, 98, 88, 79, 63, 58, 63, 51, 52, 71, 56, 55, 88, 69, 62, 90, 72, 69, 90, 75, 73, 101, 87, 79, 70, 58, 61, 55, 45, 56, 109, 100, 107, 68, 56, 59, 86, 72, 72, 133, 116, 110, 130, 109, 101, 113, 94, 92, 210, 210, 217, 221, 228, 244, 177, 167, 158, 122, 107, 95, 140, 123, 124, 168, 151, 161, 201, 189, 197, 125, 74, 57, 137, 92, 70, 99, 73, 63, 69, 58, 67, 117, 113, 124, 138, 134, 143, 123, 113, 115, 124, 112, 112, 152, 136, 134, 114, 97, 90, 76, 60, 57, 64, 52, 54, 82, 68, 66, 96, 80, 73, 104, 90, 85, 77, 66, 65, 68, 56, 58, 65, 55, 62, 63, 53, 64, 83, 74, 81, 78, 66, 67, 117, 104, 103, 120, 105, 102, 90, 71, 67, 113, 97, 98, 222, 223, 233, 211, 207, 217, 150, 131, 121, 127, 101, 90, 145, 122, 128, 165, 147, 150, 149, 103, 96, 116, 73, 57, 133, 95, 73, 122, 85, 68, 65, 55, 58, 73, 68, 72, 122, 118, 130, 121, 114, 121, 107, 95, 98, 136, 121, 117, 102, 87, 81, 75, 59, 57, 77, 64, 66, 92, 79, 77, 87, 74, 70, 100, 89, 86, 79, 69, 66, 66, 50, 55, 51, 39, 48, 63, 53, 60, 89, 78, 82, 104, 92, 93, 94, 83, 81, 93, 80, 81, 127, 110, 113, 162, 149, 155, 199, 193, 203, 141, 122, 124, 104, 83, 79, 151, 126, 128, 168, 146, 155, 160, 140, 144, 118, 60, 49, 113, 84, 73, 131, 92, 70, 126, 97, 72, 90, 77, 71, 70, 62, 64, 74, 67, 71, 91, 85, 89, 87, 77, 78, 103, 90, 86, 78, 66, 65, 74, 61, 61, 88, 75, 76, 98, 85, 83, 93, 82, 83, 87, 76, 78, 87, 73, 70, 83, 64, 58, 52, 39, 44, 60, 49, 53, 81, 69, 71, 93, 80, 80, 117, 104, 102, 164, 150, 155, 188, 172, 179, 188, 174, 182, 171, 157, 162, 134, 117, 120, 143, 124, 126, 172, 153, 156, 169, 151, 157, 167, 147, 154, 100, 62, 57, 106, 83, 73, 111, 83, 67, 118, 97, 89, 167, 154, 161, 153, 145, 150, 118, 109, 114, 78, 69, 74, 87, 78, 80, 86, 76, 76, 77, 65, 65, 76, 62, 60, 87, 72, 71, 125, 112, 111, 158, 149, 153, 174, 164, 169, 158, 145, 152, 119, 105, 106, 75, 62, 65, 86, 75, 79, 131, 117, 121, 169, 155, 157, 174, 158, 161, 180, 164, 168, 182, 165, 170, 185, 169, 172, 189, 174, 177, 190, 174, 181, 186, 169, 179, 178, 159, 165, 174, 158, 161, 178, 161, 167, 90, 71, 67, 84, 66, 64, 92, 73, 70, 163, 145, 150, 187, 175, 181, 191, 181, 188, 191, 179, 189, 181, 170, 178, 174, 165, 171, 159, 148, 153, 128, 117, 121, 139, 128, 129, 163, 151, 155, 189, 177, 183, 191, 179, 185, 191, 178, 186, 193, 180, 191, 191, 180, 188, 171, 160, 163, 175, 162, 165, 187, 170, 174, 188, 171, 177, 185, 168, 174, 186, 170, 175, 186, 169, 175, 187, 171, 175, 186, 169, 174, 186, 170, 176, 185, 170, 177, 180, 161, 167, 176, 159, 163, 176, 159, 166, 75, 61, 60, 70, 60, 54, 138, 124, 124, 195, 182, 186, 195, 183, 184, 195, 183, 187, 191, 179, 184, 186, 174, 175, 189, 177, 179, 195, 184, 188, 194, 183, 188, 194, 182, 185, 196, 184, 190, 195, 183, 191, 195, 182, 189, 191, 179, 184, 189, 178, 184, 191, 179, 185, 193, 180, 183, 186, 169, 172, 183, 165, 169, 186, 168, 174, 190, 173, 179, 188, 172, 177, 188, 171, 176, 192, 175, 181, 193, 177, 182, 191, 175, 181, 188, 173, 179, 181, 163, 167, 181, 164, 168, 182, 165, 173, 65, 57, 56, 126, 114, 115, 191, 176, 178, 195, 183, 184, 201, 187, 193, 202, 188, 197, 200, 186, 192, 192, 175, 177, 189, 172, 176, 196, 181, 188, 193, 179, 185, 193, 178, 182, 195, 180, 187, 199, 186, 194, 197, 185, 191, 193, 182, 188, 191, 178, 183, 190, 175, 180, 190, 173, 177, 187, 168, 172, 182, 165, 168, 183, 165, 168, 184, 167, 170, 186, 170, 173, 184, 168, 172, 186, 170, 176, 188, 173, 179, 186, 171, 176, 185, 168, 173, 180, 161, 165, 184, 167, 171, 185, 168, 177, 87, 78, 82, 186, 171, 175, 202, 186, 189, 203, 192, 196, 201, 188, 194, 199, 184, 191, 200, 188, 192, 203, 191, 194, 195, 180, 184, 199, 185, 192, 199, 186, 193, 198, 186, 193, 200, 186, 192, 199, 187, 193, 199, 188, 192, 195, 183, 187, 193, 176, 181, 191, 173, 178, 192, 174, 180, 188, 171, 175, 184, 168, 171, 180, 163, 166, 182, 163, 165, 187, 171, 172, 187, 170, 172, 186, 169, 174, 185, 169, 176, 186, 170, 176, 185, 168, 174, 182, 163, 167, 187, 170, 177, 185, 169, 178, 150, 139, 143, 195, 180, 182, 196, 182, 181, 203, 190, 191, 204, 189, 193, 204, 186, 191, 195, 178, 179, 198, 185, 186, 198, 183, 187, 203, 189, 196, 202, 190, 196, 199, 188, 194, 202, 188, 195, 196, 183, 189, 197, 184, 188, 191, 177, 181, 193, 176, 182, 194, 180, 185, 195, 180, 186, 195, 180, 184, 192, 177, 181, 186, 168, 171, 183, 164, 166, 186, 169, 172, 190, 172, 175, 191, 173, 176, 186, 170, 175, 187, 170, 176, 185, 168, 174, 186, 167, 171, 189, 171, 178, 189, 173, 181, 190, 177, 181, 200, 183, 186, 202, 187, 188, 204, 189, 194, 203, 190, 195, 203, 190, 193, 199, 183, 182, 197, 182, 181, 203, 189, 192, 204, 191, 197, 199, 186, 191, 196, 182, 186, 203, 189, 195, 198, 183, 188, 196, 181, 185, 195, 179, 184, 196, 182, 186, 198, 186, 190, 199, 184, 190, 193, 178, 183, 190, 175, 178, 187, 169, 170, 190, 171, 173, 190, 174, 178, 190, 172, 176, 184, 167, 169, 185, 169, 174, 189, 172, 178, 186, 168, 174, 187, 168, 171, 185, 166, 171, 191, 173, 180, 200, 186, 189, 201, 185, 187, 201, 184, 188, 206, 191, 198, 204, 192, 197, 203, 191, 195, 199, 185, 185, 197, 180, 179, 202, 188, 191, 204, 191, 196, 202, 187, 190, 195, 180, 181, 198, 184, 190, 198, 183, 187, 199, 184, 186, 194, 179, 181, 192, 180, 181, 193, 178, 181, 193, 176, 181, 190, 172, 176, 184, 167, 169, 185, 167, 167, 187, 170, 170, 190, 175, 178, 191, 172, 177, 192, 174, 179, 193, 176, 182, 193, 176, 182, 186, 168, 174, 181, 162, 164, 177, 157, 160, 183, 164, 168, 204, 190, 194, 198, 182, 182, 195, 177, 175, 203, 188, 188, 203, 189, 191, 203, 186, 190, 201, 181, 184, 195, 177, 174, 203, 189, 191, 204, 191, 197, 202, 188, 191, 193, 178, 178, 192, 177, 181, 197, 182, 186, 199, 185, 187, 192, 176, 176, 184, 168, 168, 189, 171, 172, 188, 168, 170, 187, 168, 169, 185, 166, 166, 185, 166, 166, 186, 169, 169, 190, 173, 176, 192, 174, 179, 195, 179, 185, 195, 179, 186, 194, 178, 184, 187, 169, 175, 182, 163, 165, 177, 158, 160, 187, 169, 173, 206, 192, 195, 203, 187, 187, 195, 176, 172, 196, 175, 172, 198, 182, 180, 195, 178, 175, 193, 172, 169, 191, 171, 166, 198, 182, 181, 201, 187, 194, 199, 185, 190, 190, 173, 174, 190, 175, 175, 194, 179, 185, 193, 179, 182, 186, 168, 167, 187, 167, 167, 187, 167, 168, 187, 167, 169, 186, 166, 164, 186, 166, 165, 183, 163, 163, 188, 169, 169, 191, 172, 174, 193, 177, 183, 196, 182, 188, 193, 178, 185, 192, 176, 184, 187, 170, 176, 188, 170, 173, 192, 173, 177, 194, 178, 187], \"height\": 32, \"channels\": 3, \"width\": 32, \"type\": \"image\", \"id\": 4767735568}], \"selected_variable\": {\"name\": [\"<SArray>\"], \"dtype\": \"Image\", \"view_component\": \"Images\", \"view_file\": \"sarray\", \"descriptives\": {\"rows\": 1}, \"type\": \"SArray\", \"view_components\": [\"Images\"]}}, e);\n",
       "                });\n",
       "            })();\n",
       "        "
      ]
     },
     "metadata": {},
     "output_type": "display_data"
    }
   ],
   "source": [
    "id = nearest_query['cat_model']['reference_label'][0]\n",
    "image_train[image_train['id']==id]['image'].show()"
   ]
  },
  {
   "cell_type": "code",
   "execution_count": null,
   "metadata": {
    "collapsed": false
   },
   "outputs": [],
   "source": [
    "## display those nearest neighbors\n",
    "for i in image_label:\n",
    "    model_label = i + '_model'\n",
    "    id = nearest_query[model_label]['reference_label'][0]\n",
    "    image_train[image_train['id']==id]['image'].show()"
   ]
  },
  {
   "cell_type": "code",
   "execution_count": null,
   "metadata": {
    "collapsed": true
   },
   "outputs": [],
   "source": []
  }
 ],
 "metadata": {
  "kernelspec": {
   "display_name": "Python 2",
   "language": "python",
   "name": "python2"
  },
  "language_info": {
   "codemirror_mode": {
    "name": "ipython",
    "version": 2
   },
   "file_extension": ".py",
   "mimetype": "text/x-python",
   "name": "python",
   "nbconvert_exporter": "python",
   "pygments_lexer": "ipython2",
   "version": "2.7.11"
  }
 },
 "nbformat": 4,
 "nbformat_minor": 0
}
