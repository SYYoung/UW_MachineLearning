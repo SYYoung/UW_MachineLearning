{
 "cells": [
  {
   "cell_type": "code",
   "execution_count": 13,
   "metadata": {
    "collapsed": true
   },
   "outputs": [],
   "source": [
    "import graphlab"
   ]
  },
  {
   "cell_type": "code",
   "execution_count": 14,
   "metadata": {
    "collapsed": true
   },
   "outputs": [],
   "source": [
    "import numpy as np"
   ]
  },
  {
   "cell_type": "code",
   "execution_count": 15,
   "metadata": {
    "collapsed": false
   },
   "outputs": [
    {
     "data": {
      "text/html": [
       "<div style=\"max-height:1000px;max-width:1500px;overflow:auto;\"><table frame=\"box\" rules=\"cols\">\n",
       "    <tr>\n",
       "        <th style=\"padding-left: 1em; padding-right: 1em; text-align: center\">X1</th>\n",
       "        <th style=\"padding-left: 1em; padding-right: 1em; text-align: center\">X2</th>\n",
       "    </tr>\n",
       "    <tr>\n",
       "        <td style=\"padding-left: 1em; padding-right: 1em; text-align: center; vertical-align: top\">-1.88</td>\n",
       "        <td style=\"padding-left: 1em; padding-right: 1em; text-align: center; vertical-align: top\">2.05</td>\n",
       "    </tr>\n",
       "    <tr>\n",
       "        <td style=\"padding-left: 1em; padding-right: 1em; text-align: center; vertical-align: top\">-0.71</td>\n",
       "        <td style=\"padding-left: 1em; padding-right: 1em; text-align: center; vertical-align: top\">0.42</td>\n",
       "    </tr>\n",
       "    <tr>\n",
       "        <td style=\"padding-left: 1em; padding-right: 1em; text-align: center; vertical-align: top\">2.41</td>\n",
       "        <td style=\"padding-left: 1em; padding-right: 1em; text-align: center; vertical-align: top\">-0.67</td>\n",
       "    </tr>\n",
       "    <tr>\n",
       "        <td style=\"padding-left: 1em; padding-right: 1em; text-align: center; vertical-align: top\">1.85</td>\n",
       "        <td style=\"padding-left: 1em; padding-right: 1em; text-align: center; vertical-align: top\">-3.8</td>\n",
       "    </tr>\n",
       "    <tr>\n",
       "        <td style=\"padding-left: 1em; padding-right: 1em; text-align: center; vertical-align: top\">-3.69</td>\n",
       "        <td style=\"padding-left: 1em; padding-right: 1em; text-align: center; vertical-align: top\">-1.33</td>\n",
       "    </tr>\n",
       "</table>\n",
       "[5 rows x 2 columns]<br/>\n",
       "</div>"
      ],
      "text/plain": [
       "Columns:\n",
       "\tX1\tfloat\n",
       "\tX2\tfloat\n",
       "\n",
       "Rows: 5\n",
       "\n",
       "Data:\n",
       "+-------+-------+\n",
       "|   X1  |   X2  |\n",
       "+-------+-------+\n",
       "| -1.88 |  2.05 |\n",
       "| -0.71 |  0.42 |\n",
       "|  2.41 | -0.67 |\n",
       "|  1.85 |  -3.8 |\n",
       "| -3.69 | -1.33 |\n",
       "+-------+-------+\n",
       "[5 rows x 2 columns]"
      ]
     },
     "execution_count": 15,
     "metadata": {},
     "output_type": "execute_result"
    }
   ],
   "source": [
    "newF = graphlab.SFrame({'X1':[-1.88,-0.71,2.41,1.85,-3.69]})\n",
    "newF['X2'] = [2.05,0.42,-0.67,-3.8,-1.33]\n",
    "newF"
   ]
  },
  {
   "cell_type": "code",
   "execution_count": 16,
   "metadata": {
    "collapsed": false
   },
   "outputs": [
    {
     "name": "stdout",
     "output_type": "stream",
     "text": [
      "0.265\n",
      "0.69\n",
      "-0.85\n",
      "-1.57\n",
      "final:  [0.2650000000000001, 0.69]\n",
      "final:  [-0.8499999999999999, -1.57]\n",
      "final2:  [[0.2650000000000001, 0.69], [-0.8499999999999999, -1.57]]\n",
      "[[0.2650000000000001, 0.69], [-0.8499999999999999, -1.57]]\n",
      "+-------+-------+---------+\n",
      "|   X1  |   X2  | Trial_1 |\n",
      "+-------+-------+---------+\n",
      "| -1.88 |  2.05 |    1    |\n",
      "| -0.71 |  0.42 |    2    |\n",
      "|  2.41 | -0.67 |    1    |\n",
      "|  1.85 |  -3.8 |    2    |\n",
      "| -3.69 | -1.33 |    2    |\n",
      "+-------+-------+---------+\n",
      "[5 rows x 3 columns]\n",
      "\n",
      "-0.06\n",
      "0.6\n",
      "-0.92\n",
      "-2.565\n",
      "final:  [-0.05999999999999994, 0.5999999999999999]\n",
      "final:  [-0.9199999999999999, -2.565]\n",
      "final2:  [[-0.05999999999999994, 0.5999999999999999], [-0.9199999999999999, -2.565]]\n",
      "[[-0.05999999999999994, 0.5999999999999999], [-0.9199999999999999, -2.565]]\n",
      "+-------+-------+---------+---------+\n",
      "|   X1  |   X2  | Trial_1 | Trial_2 |\n",
      "+-------+-------+---------+---------+\n",
      "| -1.88 |  2.05 |    1    |    1    |\n",
      "| -0.71 |  0.42 |    2    |    1    |\n",
      "|  2.41 | -0.67 |    1    |    1    |\n",
      "|  1.85 |  -3.8 |    2    |    2    |\n",
      "| -3.69 | -1.33 |    2    |    2    |\n",
      "+-------+-------+---------+---------+\n",
      "[5 rows x 4 columns]\n",
      "\n",
      "-0.06\n",
      "0.6\n",
      "-0.92\n",
      "-2.565\n",
      "final:  [-0.05999999999999994, 0.5999999999999999]\n",
      "final:  [-0.9199999999999999, -2.565]\n",
      "final2:  [[-0.05999999999999994, 0.5999999999999999], [-0.9199999999999999, -2.565]]\n",
      "[[-0.05999999999999994, 0.5999999999999999], [-0.9199999999999999, -2.565]]\n",
      "+-------+-------+---------+---------+---------+\n",
      "|   X1  |   X2  | Trial_1 | Trial_2 | Trial_3 |\n",
      "+-------+-------+---------+---------+---------+\n",
      "| -1.88 |  2.05 |    1    |    1    |    1    |\n",
      "| -0.71 |  0.42 |    2    |    1    |    1    |\n",
      "|  2.41 | -0.67 |    1    |    1    |    1    |\n",
      "|  1.85 |  -3.8 |    2    |    2    |    2    |\n",
      "| -3.69 | -1.33 |    2    |    2    |    2    |\n",
      "+-------+-------+---------+---------+---------+\n",
      "[5 rows x 5 columns]\n",
      "\n",
      "-0.06\n",
      "0.6\n",
      "-0.92\n",
      "-2.565\n",
      "final:  [-0.05999999999999994, 0.5999999999999999]\n",
      "final:  [-0.9199999999999999, -2.565]\n",
      "final2:  [[-0.05999999999999994, 0.5999999999999999], [-0.9199999999999999, -2.565]]\n",
      "[[-0.05999999999999994, 0.5999999999999999], [-0.9199999999999999, -2.565]]\n",
      "+-------+-------+---------+---------+---------+---------+\n",
      "|   X1  |   X2  | Trial_1 | Trial_2 | Trial_3 | Trial_4 |\n",
      "+-------+-------+---------+---------+---------+---------+\n",
      "| -1.88 |  2.05 |    1    |    1    |    1    |    1    |\n",
      "| -0.71 |  0.42 |    2    |    1    |    1    |    1    |\n",
      "|  2.41 | -0.67 |    1    |    1    |    1    |    1    |\n",
      "|  1.85 |  -3.8 |    2    |    2    |    2    |    2    |\n",
      "| -3.69 | -1.33 |    2    |    2    |    2    |    2    |\n",
      "+-------+-------+---------+---------+---------+---------+\n",
      "[5 rows x 6 columns]\n",
      "\n",
      "-0.06\n",
      "0.6\n",
      "-0.92\n",
      "-2.565\n",
      "final:  [-0.05999999999999994, 0.5999999999999999]\n",
      "final:  [-0.9199999999999999, -2.565]\n",
      "final2:  [[-0.05999999999999994, 0.5999999999999999], [-0.9199999999999999, -2.565]]\n",
      "[[-0.05999999999999994, 0.5999999999999999], [-0.9199999999999999, -2.565]]\n",
      "+-------+-------+---------+---------+---------+---------+---------+\n",
      "|   X1  |   X2  | Trial_1 | Trial_2 | Trial_3 | Trial_4 | Trial_5 |\n",
      "+-------+-------+---------+---------+---------+---------+---------+\n",
      "| -1.88 |  2.05 |    1    |    1    |    1    |    1    |    1    |\n",
      "| -0.71 |  0.42 |    2    |    1    |    1    |    1    |    1    |\n",
      "|  2.41 | -0.67 |    1    |    1    |    1    |    1    |    1    |\n",
      "|  1.85 |  -3.8 |    2    |    2    |    2    |    2    |    2    |\n",
      "| -3.69 | -1.33 |    2    |    2    |    2    |    2    |    2    |\n",
      "+-------+-------+---------+---------+---------+---------+---------+\n",
      "[5 rows x 7 columns]\n",
      "\n"
     ]
    }
   ],
   "source": [
    "graphlab.canvas.set_target('ipynb')\n",
    "center =[[2.0, 2.0], [-2.0, -2.0]]\n",
    "def whichGroup(x):\n",
    "    res1 = (x['X1']-center[0][0])**2 + (x['X2']-center[0][1])**2\n",
    "    res2 = (x['X1']-center[1][0])**2 + (x['X2']-center[1][1])**2\n",
    "    return 1 if res1<res2 else 2\n",
    "\n",
    "numTrial = 5\n",
    "def calCenter(i):\n",
    "    center[0][0] = newF[newF['Trial_'+str(i-1)]==1]['X1'].mean()\n",
    "    print center[0][0]\n",
    "    center[0][1] = newF[newF['Trial_'+str(i-1)]==1]['X2'].mean()\n",
    "    print center[0][1]\n",
    "    center[1][0] = newF[newF['Trial_'+str(i-1)]==2]['X1'].mean()\n",
    "    print center[1][0]\n",
    "    center[1][1] = newF[newF['Trial_'+str(i-1)]==2]['X2'].mean()\n",
    "    print center[1][1]\n",
    "    print 'final: ', center[0]\n",
    "    print 'final: ', center[1]\n",
    "    print 'final2: ', center\n",
    "    \n",
    "\n",
    "for num in range(1,6):\n",
    "    newIndex = 'Trial_'+str(num)\n",
    "    newF[newIndex] = newF.apply(whichGroup)\n",
    "    calCenter(num+1)\n",
    "    print center\n",
    "    print newF"
   ]
  },
  {
   "cell_type": "code",
   "execution_count": null,
   "metadata": {
    "collapsed": false
   },
   "outputs": [],
   "source": [
    "graphlab.canvas.set_target('ipynb')\n",
    "center = graphlab.SFrame({'X1':[2.0, -2.0], 'X2':[2.0, -2.0]})\n",
    "center.show()\n",
    "def whichGroup(x):\n",
    "    res1 = (x['X1']-center[0]['X1'])**2 + (x['X2']-center[0]['X2'])**2\n",
    "    res2 = (x['X1']-center[1]['X1'])**2 + (x['X2']-center[1]['X2'])**2\n",
    "    return 1 if res1<res2 else 2\n",
    "\n",
    "numTrial = 5\n",
    "def calCenter(i, center):\n",
    "    newC = graphlab.SFrame()\n",
    "    newC[0]['X1'] = newF[newF['Trial_'+str(i-1)]==1]['X1'].mean()\n",
    "    print newC[0]['X1']\n",
    "    newC[0]['X2'] = newF[newF['Trial_'+str(i-1)]==1]['X2'].mean()\n",
    "    print newC[0]['X2']\n",
    "    newC[1]['X1'] = newF[newF['Trial_'+str(i-1)]==2]['X1'].mean()\n",
    "    print newC[1]['X1']\n",
    "    newC[1]['X2'] = newF[newF['Trial_'+str(i-1)]==2]['X2'].mean()\n",
    "    print newC[1]['X2']\n",
    "    print 'final0:', newC[0]['X1'], ',', newC[0]['X2'], ',', newC[1]['X1'], ',', newC[1]['X2']\n",
    "    print 'final: ', newC[0]\n",
    "    print 'final: ', newC[1]\n",
    "    newC.show()\n",
    "    print 'final2: ', newC\n",
    "    return newC\n",
    "    \n",
    "    return newC\n",
    "\n",
    "for num in range(1,6):\n",
    "    newIndex = 'Trial_'+str(num)\n",
    "    newF[newIndex] = newF.apply(whichGroup)\n",
    "    center = calCenter(num+1, center)\n",
    "    print center\n",
    "    print newF"
   ]
  },
  {
   "cell_type": "code",
   "execution_count": null,
   "metadata": {
    "collapsed": true
   },
   "outputs": [],
   "source": []
  }
 ],
 "metadata": {
  "kernelspec": {
   "display_name": "Python 2",
   "language": "python",
   "name": "python2"
  },
  "language_info": {
   "codemirror_mode": {
    "name": "ipython",
    "version": 2
   },
   "file_extension": ".py",
   "mimetype": "text/x-python",
   "name": "python",
   "nbconvert_exporter": "python",
   "pygments_lexer": "ipython2",
   "version": "2.7.11"
  }
 },
 "nbformat": 4,
 "nbformat_minor": 0
}
